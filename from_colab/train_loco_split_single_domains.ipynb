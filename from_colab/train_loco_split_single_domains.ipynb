{
  "cells": [
    {
      "cell_type": "markdown",
      "source": [
        "# Install additional packages"
      ],
      "metadata": {
        "id": "EmgTbcD95emr"
      }
    },
    {
      "cell_type": "code",
      "execution_count": null,
      "metadata": {
        "colab": {
          "base_uri": "https://localhost:8080/"
        },
        "id": "DzD0j4tulWWH",
        "outputId": "e8180cf9-22c9-4804-a4ac-7cc4029b28ac"
      },
      "outputs": [
        {
          "name": "stdout",
          "output_type": "stream",
          "text": [
            "Collecting fair-esm\n",
            "  Downloading fair_esm-2.0.0-py3-none-any.whl (93 kB)\n",
            "\u001b[?25l     \u001b[90m━━━━━━━━━━━━━━━━━━━━━━━━━━━━━━━━━━━━━━━━\u001b[0m \u001b[32m0.0/93.1 kB\u001b[0m \u001b[31m?\u001b[0m eta \u001b[36m-:--:--\u001b[0m\r\u001b[2K     \u001b[90m━━━━━━━━━━━━━━━━━━━━━━━━━━━━━━━━━━━━━━━━\u001b[0m \u001b[32m93.1/93.1 kB\u001b[0m \u001b[31m2.6 MB/s\u001b[0m eta \u001b[36m0:00:00\u001b[0m\n",
            "\u001b[?25hInstalling collected packages: fair-esm\n",
            "Successfully installed fair-esm-2.0.0\n",
            "Collecting sentence-transformers\n",
            "  Downloading sentence-transformers-2.2.2.tar.gz (85 kB)\n",
            "\u001b[2K     \u001b[90m━━━━━━━━━━━━━━━━━━━━━━━━━━━━━━━━━━━━━━━━\u001b[0m \u001b[32m86.0/86.0 kB\u001b[0m \u001b[31m2.2 MB/s\u001b[0m eta \u001b[36m0:00:00\u001b[0m\n",
            "\u001b[?25h  Preparing metadata (setup.py) ... \u001b[?25l\u001b[?25hdone\n",
            "Requirement already satisfied: scikit-learn in /usr/local/lib/python3.10/dist-packages (1.2.2)\n",
            "Requirement already satisfied: numpy in /usr/local/lib/python3.10/dist-packages (1.23.5)\n",
            "Requirement already satisfied: pandas in /usr/local/lib/python3.10/dist-packages (1.5.3)\n",
            "Requirement already satisfied: transformers<5.0.0,>=4.6.0 in /usr/local/lib/python3.10/dist-packages (from sentence-transformers) (4.35.2)\n",
            "Requirement already satisfied: tqdm in /usr/local/lib/python3.10/dist-packages (from sentence-transformers) (4.66.1)\n",
            "Requirement already satisfied: torch>=1.6.0 in /usr/local/lib/python3.10/dist-packages (from sentence-transformers) (2.1.0+cu121)\n",
            "Requirement already satisfied: torchvision in /usr/local/lib/python3.10/dist-packages (from sentence-transformers) (0.16.0+cu121)\n",
            "Requirement already satisfied: scipy in /usr/local/lib/python3.10/dist-packages (from sentence-transformers) (1.11.4)\n",
            "Requirement already satisfied: nltk in /usr/local/lib/python3.10/dist-packages (from sentence-transformers) (3.8.1)\n",
            "Collecting sentencepiece (from sentence-transformers)\n",
            "  Downloading sentencepiece-0.1.99-cp310-cp310-manylinux_2_17_x86_64.manylinux2014_x86_64.whl (1.3 MB)\n",
            "\u001b[2K     \u001b[90m━━━━━━━━━━━━━━━━━━━━━━━━━━━━━━━━━━━━━━━━\u001b[0m \u001b[32m1.3/1.3 MB\u001b[0m \u001b[31m13.8 MB/s\u001b[0m eta \u001b[36m0:00:00\u001b[0m\n",
            "\u001b[?25hRequirement already satisfied: huggingface-hub>=0.4.0 in /usr/local/lib/python3.10/dist-packages (from sentence-transformers) (0.19.4)\n",
            "Requirement already satisfied: joblib>=1.1.1 in /usr/local/lib/python3.10/dist-packages (from scikit-learn) (1.3.2)\n",
            "Requirement already satisfied: threadpoolctl>=2.0.0 in /usr/local/lib/python3.10/dist-packages (from scikit-learn) (3.2.0)\n",
            "Requirement already satisfied: python-dateutil>=2.8.1 in /usr/local/lib/python3.10/dist-packages (from pandas) (2.8.2)\n",
            "Requirement already satisfied: pytz>=2020.1 in /usr/local/lib/python3.10/dist-packages (from pandas) (2023.3.post1)\n",
            "Requirement already satisfied: filelock in /usr/local/lib/python3.10/dist-packages (from huggingface-hub>=0.4.0->sentence-transformers) (3.13.1)\n",
            "Requirement already satisfied: fsspec>=2023.5.0 in /usr/local/lib/python3.10/dist-packages (from huggingface-hub>=0.4.0->sentence-transformers) (2023.6.0)\n",
            "Requirement already satisfied: requests in /usr/local/lib/python3.10/dist-packages (from huggingface-hub>=0.4.0->sentence-transformers) (2.31.0)\n",
            "Requirement already satisfied: pyyaml>=5.1 in /usr/local/lib/python3.10/dist-packages (from huggingface-hub>=0.4.0->sentence-transformers) (6.0.1)\n",
            "Requirement already satisfied: typing-extensions>=3.7.4.3 in /usr/local/lib/python3.10/dist-packages (from huggingface-hub>=0.4.0->sentence-transformers) (4.5.0)\n",
            "Requirement already satisfied: packaging>=20.9 in /usr/local/lib/python3.10/dist-packages (from huggingface-hub>=0.4.0->sentence-transformers) (23.2)\n",
            "Requirement already satisfied: six>=1.5 in /usr/local/lib/python3.10/dist-packages (from python-dateutil>=2.8.1->pandas) (1.16.0)\n",
            "Requirement already satisfied: sympy in /usr/local/lib/python3.10/dist-packages (from torch>=1.6.0->sentence-transformers) (1.12)\n",
            "Requirement already satisfied: networkx in /usr/local/lib/python3.10/dist-packages (from torch>=1.6.0->sentence-transformers) (3.2.1)\n",
            "Requirement already satisfied: jinja2 in /usr/local/lib/python3.10/dist-packages (from torch>=1.6.0->sentence-transformers) (3.1.2)\n",
            "Requirement already satisfied: triton==2.1.0 in /usr/local/lib/python3.10/dist-packages (from torch>=1.6.0->sentence-transformers) (2.1.0)\n",
            "Requirement already satisfied: regex!=2019.12.17 in /usr/local/lib/python3.10/dist-packages (from transformers<5.0.0,>=4.6.0->sentence-transformers) (2023.6.3)\n",
            "Requirement already satisfied: tokenizers<0.19,>=0.14 in /usr/local/lib/python3.10/dist-packages (from transformers<5.0.0,>=4.6.0->sentence-transformers) (0.15.0)\n",
            "Requirement already satisfied: safetensors>=0.3.1 in /usr/local/lib/python3.10/dist-packages (from transformers<5.0.0,>=4.6.0->sentence-transformers) (0.4.1)\n",
            "Requirement already satisfied: click in /usr/local/lib/python3.10/dist-packages (from nltk->sentence-transformers) (8.1.7)\n",
            "Requirement already satisfied: pillow!=8.3.*,>=5.3.0 in /usr/local/lib/python3.10/dist-packages (from torchvision->sentence-transformers) (9.4.0)\n",
            "Requirement already satisfied: MarkupSafe>=2.0 in /usr/local/lib/python3.10/dist-packages (from jinja2->torch>=1.6.0->sentence-transformers) (2.1.3)\n",
            "Requirement already satisfied: charset-normalizer<4,>=2 in /usr/local/lib/python3.10/dist-packages (from requests->huggingface-hub>=0.4.0->sentence-transformers) (3.3.2)\n",
            "Requirement already satisfied: idna<4,>=2.5 in /usr/local/lib/python3.10/dist-packages (from requests->huggingface-hub>=0.4.0->sentence-transformers) (3.6)\n",
            "Requirement already satisfied: urllib3<3,>=1.21.1 in /usr/local/lib/python3.10/dist-packages (from requests->huggingface-hub>=0.4.0->sentence-transformers) (2.0.7)\n",
            "Requirement already satisfied: certifi>=2017.4.17 in /usr/local/lib/python3.10/dist-packages (from requests->huggingface-hub>=0.4.0->sentence-transformers) (2023.11.17)\n",
            "Requirement already satisfied: mpmath>=0.19 in /usr/local/lib/python3.10/dist-packages (from sympy->torch>=1.6.0->sentence-transformers) (1.3.0)\n",
            "Building wheels for collected packages: sentence-transformers\n",
            "  Building wheel for sentence-transformers (setup.py) ... \u001b[?25l\u001b[?25hdone\n",
            "  Created wheel for sentence-transformers: filename=sentence_transformers-2.2.2-py3-none-any.whl size=125923 sha256=ff84376b67e2ff0ae01aa1ab769768daac1b9aeb884980716644edf709d6a977\n",
            "  Stored in directory: /root/.cache/pip/wheels/62/f2/10/1e606fd5f02395388f74e7462910fe851042f97238cbbd902f\n",
            "Successfully built sentence-transformers\n",
            "Installing collected packages: sentencepiece, sentence-transformers\n",
            "Successfully installed sentence-transformers-2.2.2 sentencepiece-0.1.99\n",
            "Collecting biopython\n",
            "  Downloading biopython-1.82-cp310-cp310-manylinux_2_17_x86_64.manylinux2014_x86_64.whl (3.1 MB)\n",
            "\u001b[2K     \u001b[90m━━━━━━━━━━━━━━━━━━━━━━━━━━━━━━━━━━━━━━━━\u001b[0m \u001b[32m3.1/3.1 MB\u001b[0m \u001b[31m16.0 MB/s\u001b[0m eta \u001b[36m0:00:00\u001b[0m\n",
            "\u001b[?25hRequirement already satisfied: numpy in /usr/local/lib/python3.10/dist-packages (from biopython) (1.23.5)\n",
            "Installing collected packages: biopython\n",
            "Successfully installed biopython-1.82\n",
            "Collecting wandb\n",
            "  Downloading wandb-0.16.1-py3-none-any.whl (2.1 MB)\n",
            "\u001b[2K     \u001b[90m━━━━━━━━━━━━━━━━━━━━━━━━━━━━━━━━━━━━━━━━\u001b[0m \u001b[32m2.1/2.1 MB\u001b[0m \u001b[31m14.2 MB/s\u001b[0m eta \u001b[36m0:00:00\u001b[0m\n",
            "\u001b[?25hRequirement already satisfied: Click!=8.0.0,>=7.1 in /usr/local/lib/python3.10/dist-packages (from wandb) (8.1.7)\n",
            "Collecting GitPython!=3.1.29,>=1.0.0 (from wandb)\n",
            "  Downloading GitPython-3.1.40-py3-none-any.whl (190 kB)\n",
            "\u001b[2K     \u001b[90m━━━━━━━━━━━━━━━━━━━━━━━━━━━━━━━━━━━━━━━━\u001b[0m \u001b[32m190.6/190.6 kB\u001b[0m \u001b[31m18.6 MB/s\u001b[0m eta \u001b[36m0:00:00\u001b[0m\n",
            "\u001b[?25hRequirement already satisfied: requests<3,>=2.0.0 in /usr/local/lib/python3.10/dist-packages (from wandb) (2.31.0)\n",
            "Requirement already satisfied: psutil>=5.0.0 in /usr/local/lib/python3.10/dist-packages (from wandb) (5.9.5)\n",
            "Collecting sentry-sdk>=1.0.0 (from wandb)\n",
            "  Downloading sentry_sdk-1.39.1-py2.py3-none-any.whl (254 kB)\n",
            "\u001b[2K     \u001b[90m━━━━━━━━━━━━━━━━━━━━━━━━━━━━━━━━━━━━━━━━\u001b[0m \u001b[32m254.1/254.1 kB\u001b[0m \u001b[31m22.8 MB/s\u001b[0m eta \u001b[36m0:00:00\u001b[0m\n",
            "\u001b[?25hCollecting docker-pycreds>=0.4.0 (from wandb)\n",
            "  Downloading docker_pycreds-0.4.0-py2.py3-none-any.whl (9.0 kB)\n",
            "Requirement already satisfied: PyYAML in /usr/local/lib/python3.10/dist-packages (from wandb) (6.0.1)\n",
            "Collecting setproctitle (from wandb)\n",
            "  Downloading setproctitle-1.3.3-cp310-cp310-manylinux_2_5_x86_64.manylinux1_x86_64.manylinux_2_17_x86_64.manylinux2014_x86_64.whl (30 kB)\n",
            "Requirement already satisfied: setuptools in /usr/local/lib/python3.10/dist-packages (from wandb) (67.7.2)\n",
            "Requirement already satisfied: appdirs>=1.4.3 in /usr/local/lib/python3.10/dist-packages (from wandb) (1.4.4)\n",
            "Requirement already satisfied: protobuf!=4.21.0,<5,>=3.19.0 in /usr/local/lib/python3.10/dist-packages (from wandb) (3.20.3)\n",
            "Requirement already satisfied: six>=1.4.0 in /usr/local/lib/python3.10/dist-packages (from docker-pycreds>=0.4.0->wandb) (1.16.0)\n",
            "Collecting gitdb<5,>=4.0.1 (from GitPython!=3.1.29,>=1.0.0->wandb)\n",
            "  Downloading gitdb-4.0.11-py3-none-any.whl (62 kB)\n",
            "\u001b[2K     \u001b[90m━━━━━━━━━━━━━━━━━━━━━━━━━━━━━━━━━━━━━━━━\u001b[0m \u001b[32m62.7/62.7 kB\u001b[0m \u001b[31m9.8 MB/s\u001b[0m eta \u001b[36m0:00:00\u001b[0m\n",
            "\u001b[?25hRequirement already satisfied: charset-normalizer<4,>=2 in /usr/local/lib/python3.10/dist-packages (from requests<3,>=2.0.0->wandb) (3.3.2)\n",
            "Requirement already satisfied: idna<4,>=2.5 in /usr/local/lib/python3.10/dist-packages (from requests<3,>=2.0.0->wandb) (3.6)\n",
            "Requirement already satisfied: urllib3<3,>=1.21.1 in /usr/local/lib/python3.10/dist-packages (from requests<3,>=2.0.0->wandb) (2.0.7)\n",
            "Requirement already satisfied: certifi>=2017.4.17 in /usr/local/lib/python3.10/dist-packages (from requests<3,>=2.0.0->wandb) (2023.11.17)\n",
            "Collecting smmap<6,>=3.0.1 (from gitdb<5,>=4.0.1->GitPython!=3.1.29,>=1.0.0->wandb)\n",
            "  Downloading smmap-5.0.1-py3-none-any.whl (24 kB)\n",
            "Installing collected packages: smmap, setproctitle, sentry-sdk, docker-pycreds, gitdb, GitPython, wandb\n",
            "Successfully installed GitPython-3.1.40 docker-pycreds-0.4.0 gitdb-4.0.11 sentry-sdk-1.39.1 setproctitle-1.3.3 smmap-5.0.1 wandb-0.16.1\n"
          ]
        }
      ],
      "source": [
        "!pip install fair-esm\n",
        "!pip install sentence-transformers scikit-learn numpy pandas\n",
        "!pip install biopython\n",
        "!pip install wandb"
      ]
    },
    {
      "cell_type": "code",
      "execution_count": null,
      "metadata": {
        "colab": {
          "base_uri": "https://localhost:8080/"
        },
        "id": "FtTrCXpcesnt",
        "outputId": "b8c39c73-8ca3-4d83-cbea-7c5ed21dfcc0"
      },
      "outputs": [
        {
          "name": "stdout",
          "output_type": "stream",
          "text": [
            "Mon Dec 25 23:39:53 2023       \n",
            "+---------------------------------------------------------------------------------------+\n",
            "| NVIDIA-SMI 535.104.05             Driver Version: 535.104.05   CUDA Version: 12.2     |\n",
            "|-----------------------------------------+----------------------+----------------------+\n",
            "| GPU  Name                 Persistence-M | Bus-Id        Disp.A | Volatile Uncorr. ECC |\n",
            "| Fan  Temp   Perf          Pwr:Usage/Cap |         Memory-Usage | GPU-Util  Compute M. |\n",
            "|                                         |                      |               MIG M. |\n",
            "|=========================================+======================+======================|\n",
            "|   0  Tesla T4                       Off | 00000000:00:04.0 Off |                    0 |\n",
            "| N/A   39C    P8               9W /  70W |      0MiB / 15360MiB |      0%      Default |\n",
            "|                                         |                      |                  N/A |\n",
            "+-----------------------------------------+----------------------+----------------------+\n",
            "                                                                                         \n",
            "+---------------------------------------------------------------------------------------+\n",
            "| Processes:                                                                            |\n",
            "|  GPU   GI   CI        PID   Type   Process name                            GPU Memory |\n",
            "|        ID   ID                                                             Usage      |\n",
            "|=======================================================================================|\n",
            "|  No running processes found                                                           |\n",
            "+---------------------------------------------------------------------------------------+\n"
          ]
        }
      ],
      "source": [
        "!nvidia-smi"
      ]
    },
    {
      "cell_type": "code",
      "execution_count": null,
      "metadata": {
        "id": "NMnZ8ZJOlXXy"
      },
      "outputs": [],
      "source": [
        "import pandas as pd\n",
        "import numpy as np\n",
        "import torch\n",
        "from tqdm.auto import tqdm\n",
        "import seaborn as sns\n",
        "import matplotlib.pyplot as plt\n",
        "%matplotlib inline\n",
        "import wandb\n",
        "from sklearn.decomposition import PCA\n",
        "from datetime import datetime\n",
        "import gc\n",
        "from pathlib import Path\n",
        "import json\n",
        "\n",
        "from collections import defaultdict\n",
        "\n",
        "\n",
        "def timestamp():\n",
        "    return datetime.now().strftime(\"%Y-%m-%d_%H:%M:%S\")\n",
        "\n",
        "current_timestamp = timestamp()"
      ]
    },
    {
      "cell_type": "code",
      "execution_count": null,
      "metadata": {
        "colab": {
          "base_uri": "https://localhost:8080/"
        },
        "id": "Smn0CU6yMbyA",
        "outputId": "b22b7c52-7030-41a9-b5e3-7d9c8c99117f"
      },
      "outputs": [
        {
          "name": "stdout",
          "output_type": "stream",
          "text": [
            "Random seed set as 3407\n"
          ]
        }
      ],
      "source": [
        "import os\n",
        "import random\n",
        "import numpy as np\n",
        "import torch\n",
        "\n",
        "\n",
        "def set_seed(seed: int = 42) -> None:\n",
        "    np.random.seed(seed)\n",
        "    random.seed(seed)\n",
        "    torch.manual_seed(seed)\n",
        "    torch.cuda.manual_seed(seed)\n",
        "    # When running on the CuDNN backend, two further options must be set\n",
        "    torch.backends.cudnn.deterministic = True\n",
        "    torch.backends.cudnn.benchmark = False\n",
        "    # Set a fixed value for the hash seed\n",
        "    os.environ[\"PYTHONHASHSEED\"] = str(seed)\n",
        "    print(f\"Random seed set as {seed}\")\n",
        "\n",
        "RANDOM_SEED = 3407  # 42  # 3407\n",
        "set_seed(RANDOM_SEED)\n"
      ]
    },
    {
      "cell_type": "markdown",
      "metadata": {
        "id": "ohM3GNihxjow"
      },
      "source": [
        "# Mount & locate data folders at Google Drive\n",
        "\n",
        "Mount Google Drive folder and define the directory where the model weights and additional csv files will be saved."
      ]
    },
    {
      "cell_type": "code",
      "execution_count": null,
      "metadata": {
        "colab": {
          "base_uri": "https://localhost:8080/"
        },
        "id": "_DtDUlqSxieW",
        "outputId": "92a2cbfb-1042-4532-e08b-e0609514b1cb"
      },
      "outputs": [
        {
          "name": "stdout",
          "output_type": "stream",
          "text": [
            "Mounted at /content/gdrive\n"
          ]
        }
      ],
      "source": [
        "from google.colab import drive\n",
        "drive.mount('/content/gdrive')"
      ]
    },
    {
      "cell_type": "code",
      "execution_count": null,
      "metadata": {
        "id": "TW1sjH-klmpA"
      },
      "outputs": [],
      "source": [
        "from sentence_transformers import SentenceTransformer\n",
        "# model = SentenceTransformer('facebook/esm2_t33_650M_UR50D')\n"
      ]
    },
    {
      "cell_type": "code",
      "execution_count": null,
      "metadata": {
        "id": "xaZrGG-Alt4X"
      },
      "outputs": [],
      "source": [
        "from pathlib import Path\n",
        "BASEDIR = Path(\"/content/gdrive/MyDrive/hips/bgc_embeddings_task1_loco_new_domains_single\") / (\"seed_\"+str(RANDOM_SEED)) / current_timestamp\n",
        "BASEDIR.mkdir(exist_ok=True, parents=True)"
      ]
    },
    {
      "cell_type": "markdown",
      "metadata": {
        "id": "HPzt59fQl_LG"
      },
      "source": [
        "# Data preparation\n",
        "\n"
      ]
    },
    {
      "cell_type": "markdown",
      "source": [
        "## Get MIBiG dataset"
      ],
      "metadata": {
        "id": "QA8sLoBVybv_"
      }
    },
    {
      "cell_type": "code",
      "execution_count": null,
      "metadata": {
        "id": "Irbtp-j_mCOC"
      },
      "outputs": [],
      "source": [
        "# todo\n",
        "# !ls /content/gdrive/MyDrive/MIBiG\n",
        "import os\n",
        "\n",
        "if not os.path.exists(\"data\"):\n",
        "  !cp -r /content/gdrive/MyDrive/hips/MIBiG data\n"
      ]
    },
    {
      "cell_type": "code",
      "execution_count": null,
      "metadata": {
        "colab": {
          "base_uri": "https://localhost:8080/"
        },
        "id": "QVZwDTFhMIiL",
        "outputId": "2ded149e-333c-4bef-abfe-d1a6a32d6545"
      },
      "outputs": [
        {
          "name": "stdout",
          "output_type": "stream",
          "text": [
            "domain_data.csv  dom_faa.zip  mibig_gbk.tar.gz\tmibig_json.tar.gz  mibig_prot_seqs.fasta\n"
          ]
        }
      ],
      "source": [
        "!ls data"
      ]
    },
    {
      "cell_type": "markdown",
      "source": [
        "In addition to pre-downloaded MIBiG files, I have `domain_data.csv`, which has the domain sequences annotated with Pfam. Later I'll add script to process MIBiG files and produce this file."
      ],
      "metadata": {
        "id": "GMKxF9-QxCxV"
      }
    },
    {
      "cell_type": "code",
      "execution_count": 1,
      "metadata": {
        "colab": {
          "base_uri": "https://localhost:8080/"
        },
        "id": "031szbt2mM8y",
        "outputId": "56a683cf-ac35-454e-99a2-f3b60cb452fe"
      },
      "outputs": [
        {
          "output_type": "stream",
          "name": "stdout",
          "text": [
            "--2024-07-17 12:58:16--  https://dl.secondarymetabolites.org/mibig/mibig_json_3.1.tar.gz\n",
            "Resolving dl.secondarymetabolites.org (dl.secondarymetabolites.org)... 130.226.55.167, 130.226.55.166\n",
            "Connecting to dl.secondarymetabolites.org (dl.secondarymetabolites.org)|130.226.55.167|:443... connected.\n",
            "HTTP request sent, awaiting response... 200 OK\n",
            "Length: 839183 (820K) [application/octet-stream]\n",
            "Saving to: ‘data/mibig_json.tar.gz’\n",
            "\n",
            "data/mibig_json.tar 100%[===================>] 819.51K  --.-KB/s    in 0.1s    \n",
            "\n",
            "2024-07-17 12:58:16 (6.11 MB/s) - ‘data/mibig_json.tar.gz’ saved [839183/839183]\n",
            "\n",
            "--2024-07-17 12:58:16--  https://dl.secondarymetabolites.org/mibig/mibig_prot_seqs_3.1.fasta\n",
            "Resolving dl.secondarymetabolites.org (dl.secondarymetabolites.org)... 130.226.55.167, 130.226.55.166\n",
            "Connecting to dl.secondarymetabolites.org (dl.secondarymetabolites.org)|130.226.55.167|:443... connected.\n",
            "HTTP request sent, awaiting response... 200 OK\n",
            "Length: 28583652 (27M) [application/octet-stream]\n",
            "Saving to: ‘data/mibig_prot_seqs.fasta’\n",
            "\n",
            "data/mibig_prot_seq 100%[===================>]  27.26M  13.3MB/s    in 2.1s    \n",
            "\n",
            "2024-07-17 12:58:18 (13.3 MB/s) - ‘data/mibig_prot_seqs.fasta’ saved [28583652/28583652]\n",
            "\n",
            "--2024-07-17 12:58:18--  https://dl.secondarymetabolites.org/mibig/mibig_gbk_3.1.tar.gz\n",
            "Resolving dl.secondarymetabolites.org (dl.secondarymetabolites.org)... 130.226.55.167, 130.226.55.166\n",
            "Connecting to dl.secondarymetabolites.org (dl.secondarymetabolites.org)|130.226.55.167|:443... connected.\n",
            "HTTP request sent, awaiting response... 200 OK\n",
            "Length: 76459061 (73M) [application/octet-stream]\n",
            "Saving to: ‘data/mibig_gbk.tar.gz’\n",
            "\n",
            "data/mibig_gbk.tar. 100%[===================>]  72.92M  14.1MB/s    in 5.6s    \n",
            "\n",
            "2024-07-17 12:58:24 (12.9 MB/s) - ‘data/mibig_gbk.tar.gz’ saved [76459061/76459061]\n",
            "\n",
            "total 103404\n",
            "-rw-r--r-- 1 root root 76459061 Oct  8  2022 mibig_gbk.tar.gz\n",
            "-rw-r--r-- 1 root root   839183 Oct  7  2022 mibig_json.tar.gz\n",
            "-rw-r--r-- 1 root root 28583652 Oct  8  2022 mibig_prot_seqs.fasta\n"
          ]
        }
      ],
      "source": [
        "import os\n",
        "\n",
        "VERSION = \"3.1\"\n",
        "\n",
        "if not os.path.exists(\"data\"):\n",
        "  !mkdir data\n",
        "if not os.path.exists(\"data/mibig_json.tar.gz\"):\n",
        "  !wget \"https://dl.secondarymetabolites.org/mibig/mibig_json_{VERSION}.tar.gz\" -O data/mibig_json.tar.gz\n",
        "  !wget \"https://dl.secondarymetabolites.org/mibig/mibig_prot_seqs_{VERSION}.fasta\" -O data/mibig_prot_seqs.fasta\n",
        "if not os.path.exists(\"data/mibig_gbk.tar.gz\"):\n",
        "  !wget \"https://dl.secondarymetabolites.org/mibig/mibig_gbk_{VERSION}.tar.gz\" -O data/mibig_gbk.tar.gz\n",
        "\n",
        "!ls -l data | head -n 10"
      ]
    },
    {
      "cell_type": "code",
      "execution_count": null,
      "metadata": {
        "id": "nNR8x-YZxsGt"
      },
      "outputs": [],
      "source": [
        "if not os.path.exists(f\"data/mibig_json\"):\n",
        "  !(cd data && tar -xzf mibig_json.tar.gz && mv \"mibig_json_{VERSION}\" \"mibig_json\")\n",
        "if not os.path.exists(f\"data/mibig_gbk\"):\n",
        "  !(cd data && tar -xzf mibig_gbk.tar.gz && mv \"mibig_gbk_{VERSION}\" \"mibig_gbk\")"
      ]
    },
    {
      "cell_type": "markdown",
      "source": [
        "## Read data"
      ],
      "metadata": {
        "id": "IBiL-2Fs60sS"
      }
    },
    {
      "cell_type": "code",
      "execution_count": null,
      "metadata": {
        "id": "QmjS4OmFx_pg"
      },
      "outputs": [],
      "source": [
        "JSONDIR = Path(\"data/mibig_json\")\n",
        "list(JSONDIR.iterdir())[:10]\n",
        "def read_mibig_file(path):\n",
        "  with open(path) as f:\n",
        "    data = json.load(f)\n",
        "  return data\n",
        "mibig_data = {file.stem: read_mibig_file(file) for file in JSONDIR.iterdir()}"
      ]
    },
    {
      "cell_type": "code",
      "execution_count": null,
      "metadata": {
        "id": "b_CJ8Xb3yKTH"
      },
      "outputs": [],
      "source": [
        "\n",
        "clusters_df = pd.DataFrame([{**entry['cluster'], 'cluster':entry['cluster']} for entry in mibig_data.values()])\n",
        "clusters_df[\"num_compounds\"] = clusters_df.compounds.apply(len)\n",
        "clusters_df['completeness'] = clusters_df['loci'].apply(lambda x: x['completeness'])"
      ]
    },
    {
      "cell_type": "code",
      "execution_count": null,
      "metadata": {
        "colab": {
          "base_uri": "https://localhost:8080/"
        },
        "id": "Fr3klW8Sjfqi",
        "outputId": "69d872b3-88bf-42a9-e573-cd8fe5726f2e"
      },
      "outputs": [
        {
          "data": {
            "text/html": [
              "\n",
              "  <div id=\"df-ddb51974-6b60-4105-a709-e84c3f9f0651\" class=\"colab-df-container\">\n",
              "    <div>\n",
              "<style scoped>\n",
              "    .dataframe tbody tr th:only-of-type {\n",
              "        vertical-align: middle;\n",
              "    }\n",
              "\n",
              "    .dataframe tbody tr th {\n",
              "        vertical-align: top;\n",
              "    }\n",
              "\n",
              "    .dataframe thead th {\n",
              "        text-align: right;\n",
              "    }\n",
              "</style>\n",
              "<table border=\"1\" class=\"dataframe\">\n",
              "  <thead>\n",
              "    <tr style=\"text-align: right;\">\n",
              "      <th></th>\n",
              "      <th>bgcid</th>\n",
              "      <th>desc</th>\n",
              "      <th>domain_sequence</th>\n",
              "      <th>query name</th>\n",
              "      <th>accession</th>\n",
              "      <th>env_coord_from</th>\n",
              "      <th>env_coord_to</th>\n",
              "      <th>coord_from</th>\n",
              "      <th>coord_to</th>\n",
              "    </tr>\n",
              "  </thead>\n",
              "  <tbody>\n",
              "    <tr>\n",
              "      <th>0</th>\n",
              "      <td>BGC0000001</td>\n",
              "      <td>BGC0000001|c1|1-1083|+|AEK75490.1|protein_meth...</td>\n",
              "      <td>LDRAFDAVPAPIYTHHERHGETVHRSAPESIRRELAALQVRAGDRV...</td>\n",
              "      <td>PCMT</td>\n",
              "      <td>PF01135.22</td>\n",
              "      <td>4</td>\n",
              "      <td>165</td>\n",
              "      <td>1</td>\n",
              "      <td>1083</td>\n",
              "    </tr>\n",
              "    <tr>\n",
              "      <th>1</th>\n",
              "      <td>BGC0000001</td>\n",
              "      <td>BGC0000001|c1|1887-2633|+|AEK75492.1|pathway-s...</td>\n",
              "      <td>RTITAPKVETLFATLLIRANHTVTTDELIAELWGENPPRHARTALH...</td>\n",
              "      <td>Trans_reg_C</td>\n",
              "      <td>PF00486.31</td>\n",
              "      <td>13</td>\n",
              "      <td>87</td>\n",
              "      <td>1887</td>\n",
              "      <td>2633</td>\n",
              "    </tr>\n",
              "    <tr>\n",
              "      <th>2</th>\n",
              "      <td>BGC0000001</td>\n",
              "      <td>BGC0000001|c1|1887-2633|+|AEK75492.1|pathway-s...</td>\n",
              "      <td>VDAVELQRMHALGRSLLVTDPEAALVPLRRAVGLFRGPVLAGIRNG...</td>\n",
              "      <td>BTAD</td>\n",
              "      <td>PF03704.20</td>\n",
              "      <td>94</td>\n",
              "      <td>238</td>\n",
              "      <td>1887</td>\n",
              "      <td>2633</td>\n",
              "    </tr>\n",
              "    <tr>\n",
              "      <th>3</th>\n",
              "      <td>BGC0000001</td>\n",
              "      <td>BGC0000001|c1|2646-3836|-|AEK75493.1|cytochrom...</td>\n",
              "      <td>TRTCPHQPPEGYAALRENGPLAQVRLVGDRTAWVVTDHDVARTLLV...</td>\n",
              "      <td>p450</td>\n",
              "      <td>PF00067.25</td>\n",
              "      <td>12</td>\n",
              "      <td>369</td>\n",
              "      <td>2646</td>\n",
              "      <td>3836</td>\n",
              "    </tr>\n",
              "    <tr>\n",
              "      <th>4</th>\n",
              "      <td>BGC0000001</td>\n",
              "      <td>BGC0000001|c1|3927-6596|-|AEK75494.1|LuxR_fami...</td>\n",
              "      <td>ATPADRLSQALARARSGRGGVVELVGEPGIGKTQALTELTRLARVA...</td>\n",
              "      <td>AAA_16</td>\n",
              "      <td>PF13191.9</td>\n",
              "      <td>21</td>\n",
              "      <td>95</td>\n",
              "      <td>3927</td>\n",
              "      <td>6596</td>\n",
              "    </tr>\n",
              "  </tbody>\n",
              "</table>\n",
              "</div>\n",
              "    <div class=\"colab-df-buttons\">\n",
              "\n",
              "  <div class=\"colab-df-container\">\n",
              "    <button class=\"colab-df-convert\" onclick=\"convertToInteractive('df-ddb51974-6b60-4105-a709-e84c3f9f0651')\"\n",
              "            title=\"Convert this dataframe to an interactive table.\"\n",
              "            style=\"display:none;\">\n",
              "\n",
              "  <svg xmlns=\"http://www.w3.org/2000/svg\" height=\"24px\" viewBox=\"0 -960 960 960\">\n",
              "    <path d=\"M120-120v-720h720v720H120Zm60-500h600v-160H180v160Zm220 220h160v-160H400v160Zm0 220h160v-160H400v160ZM180-400h160v-160H180v160Zm440 0h160v-160H620v160ZM180-180h160v-160H180v160Zm440 0h160v-160H620v160Z\"/>\n",
              "  </svg>\n",
              "    </button>\n",
              "\n",
              "  <style>\n",
              "    .colab-df-container {\n",
              "      display:flex;\n",
              "      gap: 12px;\n",
              "    }\n",
              "\n",
              "    .colab-df-convert {\n",
              "      background-color: #E8F0FE;\n",
              "      border: none;\n",
              "      border-radius: 50%;\n",
              "      cursor: pointer;\n",
              "      display: none;\n",
              "      fill: #1967D2;\n",
              "      height: 32px;\n",
              "      padding: 0 0 0 0;\n",
              "      width: 32px;\n",
              "    }\n",
              "\n",
              "    .colab-df-convert:hover {\n",
              "      background-color: #E2EBFA;\n",
              "      box-shadow: 0px 1px 2px rgba(60, 64, 67, 0.3), 0px 1px 3px 1px rgba(60, 64, 67, 0.15);\n",
              "      fill: #174EA6;\n",
              "    }\n",
              "\n",
              "    .colab-df-buttons div {\n",
              "      margin-bottom: 4px;\n",
              "    }\n",
              "\n",
              "    [theme=dark] .colab-df-convert {\n",
              "      background-color: #3B4455;\n",
              "      fill: #D2E3FC;\n",
              "    }\n",
              "\n",
              "    [theme=dark] .colab-df-convert:hover {\n",
              "      background-color: #434B5C;\n",
              "      box-shadow: 0px 1px 3px 1px rgba(0, 0, 0, 0.15);\n",
              "      filter: drop-shadow(0px 1px 2px rgba(0, 0, 0, 0.3));\n",
              "      fill: #FFFFFF;\n",
              "    }\n",
              "  </style>\n",
              "\n",
              "    <script>\n",
              "      const buttonEl =\n",
              "        document.querySelector('#df-ddb51974-6b60-4105-a709-e84c3f9f0651 button.colab-df-convert');\n",
              "      buttonEl.style.display =\n",
              "        google.colab.kernel.accessAllowed ? 'block' : 'none';\n",
              "\n",
              "      async function convertToInteractive(key) {\n",
              "        const element = document.querySelector('#df-ddb51974-6b60-4105-a709-e84c3f9f0651');\n",
              "        const dataTable =\n",
              "          await google.colab.kernel.invokeFunction('convertToInteractive',\n",
              "                                                    [key], {});\n",
              "        if (!dataTable) return;\n",
              "\n",
              "        const docLinkHtml = 'Like what you see? Visit the ' +\n",
              "          '<a target=\"_blank\" href=https://colab.research.google.com/notebooks/data_table.ipynb>data table notebook</a>'\n",
              "          + ' to learn more about interactive tables.';\n",
              "        element.innerHTML = '';\n",
              "        dataTable['output_type'] = 'display_data';\n",
              "        await google.colab.output.renderOutput(dataTable, element);\n",
              "        const docLink = document.createElement('div');\n",
              "        docLink.innerHTML = docLinkHtml;\n",
              "        element.appendChild(docLink);\n",
              "      }\n",
              "    </script>\n",
              "  </div>\n",
              "\n",
              "\n",
              "<div id=\"df-b8ea657a-aeee-4fd0-b65d-1bc04ababe7c\">\n",
              "  <button class=\"colab-df-quickchart\" onclick=\"quickchart('df-b8ea657a-aeee-4fd0-b65d-1bc04ababe7c')\"\n",
              "            title=\"Suggest charts\"\n",
              "            style=\"display:none;\">\n",
              "\n",
              "<svg xmlns=\"http://www.w3.org/2000/svg\" height=\"24px\"viewBox=\"0 0 24 24\"\n",
              "     width=\"24px\">\n",
              "    <g>\n",
              "        <path d=\"M19 3H5c-1.1 0-2 .9-2 2v14c0 1.1.9 2 2 2h14c1.1 0 2-.9 2-2V5c0-1.1-.9-2-2-2zM9 17H7v-7h2v7zm4 0h-2V7h2v10zm4 0h-2v-4h2v4z\"/>\n",
              "    </g>\n",
              "</svg>\n",
              "  </button>\n",
              "\n",
              "<style>\n",
              "  .colab-df-quickchart {\n",
              "      --bg-color: #E8F0FE;\n",
              "      --fill-color: #1967D2;\n",
              "      --hover-bg-color: #E2EBFA;\n",
              "      --hover-fill-color: #174EA6;\n",
              "      --disabled-fill-color: #AAA;\n",
              "      --disabled-bg-color: #DDD;\n",
              "  }\n",
              "\n",
              "  [theme=dark] .colab-df-quickchart {\n",
              "      --bg-color: #3B4455;\n",
              "      --fill-color: #D2E3FC;\n",
              "      --hover-bg-color: #434B5C;\n",
              "      --hover-fill-color: #FFFFFF;\n",
              "      --disabled-bg-color: #3B4455;\n",
              "      --disabled-fill-color: #666;\n",
              "  }\n",
              "\n",
              "  .colab-df-quickchart {\n",
              "    background-color: var(--bg-color);\n",
              "    border: none;\n",
              "    border-radius: 50%;\n",
              "    cursor: pointer;\n",
              "    display: none;\n",
              "    fill: var(--fill-color);\n",
              "    height: 32px;\n",
              "    padding: 0;\n",
              "    width: 32px;\n",
              "  }\n",
              "\n",
              "  .colab-df-quickchart:hover {\n",
              "    background-color: var(--hover-bg-color);\n",
              "    box-shadow: 0 1px 2px rgba(60, 64, 67, 0.3), 0 1px 3px 1px rgba(60, 64, 67, 0.15);\n",
              "    fill: var(--button-hover-fill-color);\n",
              "  }\n",
              "\n",
              "  .colab-df-quickchart-complete:disabled,\n",
              "  .colab-df-quickchart-complete:disabled:hover {\n",
              "    background-color: var(--disabled-bg-color);\n",
              "    fill: var(--disabled-fill-color);\n",
              "    box-shadow: none;\n",
              "  }\n",
              "\n",
              "  .colab-df-spinner {\n",
              "    border: 2px solid var(--fill-color);\n",
              "    border-color: transparent;\n",
              "    border-bottom-color: var(--fill-color);\n",
              "    animation:\n",
              "      spin 1s steps(1) infinite;\n",
              "  }\n",
              "\n",
              "  @keyframes spin {\n",
              "    0% {\n",
              "      border-color: transparent;\n",
              "      border-bottom-color: var(--fill-color);\n",
              "      border-left-color: var(--fill-color);\n",
              "    }\n",
              "    20% {\n",
              "      border-color: transparent;\n",
              "      border-left-color: var(--fill-color);\n",
              "      border-top-color: var(--fill-color);\n",
              "    }\n",
              "    30% {\n",
              "      border-color: transparent;\n",
              "      border-left-color: var(--fill-color);\n",
              "      border-top-color: var(--fill-color);\n",
              "      border-right-color: var(--fill-color);\n",
              "    }\n",
              "    40% {\n",
              "      border-color: transparent;\n",
              "      border-right-color: var(--fill-color);\n",
              "      border-top-color: var(--fill-color);\n",
              "    }\n",
              "    60% {\n",
              "      border-color: transparent;\n",
              "      border-right-color: var(--fill-color);\n",
              "    }\n",
              "    80% {\n",
              "      border-color: transparent;\n",
              "      border-right-color: var(--fill-color);\n",
              "      border-bottom-color: var(--fill-color);\n",
              "    }\n",
              "    90% {\n",
              "      border-color: transparent;\n",
              "      border-bottom-color: var(--fill-color);\n",
              "    }\n",
              "  }\n",
              "</style>\n",
              "\n",
              "  <script>\n",
              "    async function quickchart(key) {\n",
              "      const quickchartButtonEl =\n",
              "        document.querySelector('#' + key + ' button');\n",
              "      quickchartButtonEl.disabled = true;  // To prevent multiple clicks.\n",
              "      quickchartButtonEl.classList.add('colab-df-spinner');\n",
              "      try {\n",
              "        const charts = await google.colab.kernel.invokeFunction(\n",
              "            'suggestCharts', [key], {});\n",
              "      } catch (error) {\n",
              "        console.error('Error during call to suggestCharts:', error);\n",
              "      }\n",
              "      quickchartButtonEl.classList.remove('colab-df-spinner');\n",
              "      quickchartButtonEl.classList.add('colab-df-quickchart-complete');\n",
              "    }\n",
              "    (() => {\n",
              "      let quickchartButtonEl =\n",
              "        document.querySelector('#df-b8ea657a-aeee-4fd0-b65d-1bc04ababe7c button');\n",
              "      quickchartButtonEl.style.display =\n",
              "        google.colab.kernel.accessAllowed ? 'block' : 'none';\n",
              "    })();\n",
              "  </script>\n",
              "</div>\n",
              "    </div>\n",
              "  </div>\n"
            ],
            "text/plain": [
              "        bgcid                                               desc  \\\n",
              "0  BGC0000001  BGC0000001|c1|1-1083|+|AEK75490.1|protein_meth...   \n",
              "1  BGC0000001  BGC0000001|c1|1887-2633|+|AEK75492.1|pathway-s...   \n",
              "2  BGC0000001  BGC0000001|c1|1887-2633|+|AEK75492.1|pathway-s...   \n",
              "3  BGC0000001  BGC0000001|c1|2646-3836|-|AEK75493.1|cytochrom...   \n",
              "4  BGC0000001  BGC0000001|c1|3927-6596|-|AEK75494.1|LuxR_fami...   \n",
              "\n",
              "                                     domain_sequence   query name   accession  \\\n",
              "0  LDRAFDAVPAPIYTHHERHGETVHRSAPESIRRELAALQVRAGDRV...         PCMT  PF01135.22   \n",
              "1  RTITAPKVETLFATLLIRANHTVTTDELIAELWGENPPRHARTALH...  Trans_reg_C  PF00486.31   \n",
              "2  VDAVELQRMHALGRSLLVTDPEAALVPLRRAVGLFRGPVLAGIRNG...         BTAD  PF03704.20   \n",
              "3  TRTCPHQPPEGYAALRENGPLAQVRLVGDRTAWVVTDHDVARTLLV...         p450  PF00067.25   \n",
              "4  ATPADRLSQALARARSGRGGVVELVGEPGIGKTQALTELTRLARVA...       AAA_16   PF13191.9   \n",
              "\n",
              "   env_coord_from  env_coord_to  coord_from  coord_to  \n",
              "0               4           165           1      1083  \n",
              "1              13            87        1887      2633  \n",
              "2              94           238        1887      2633  \n",
              "3              12           369        2646      3836  \n",
              "4              21            95        3927      6596  "
            ]
          },
          "execution_count": 21,
          "metadata": {},
          "output_type": "execute_result"
        }
      ],
      "source": [
        "domains_df = pd.read_csv(\"data/domain_data.csv\")\n",
        "domains_df.head()"
      ]
    },
    {
      "cell_type": "code",
      "execution_count": null,
      "metadata": {
        "id": "q-XCjab3-38L"
      },
      "outputs": [],
      "source": [
        "ids = clusters_df.biosyn_class.apply(lambda x: len(x) == 1)\n",
        "clusters_one_class = clusters_df.loc[ids, [\"mibig_accession\", \"biosyn_class\"]]\n",
        "clusters_one_class[\"bgc\"] = clusters_one_class['biosyn_class'].apply(lambda x: x[0])\n",
        "\n",
        "bgc2class = {\n",
        "    bgc_id: bgc_class for bgc_id, bgc_class in clusters_one_class[['mibig_accession', \"bgc\"]].values\n",
        "}\n"
      ]
    },
    {
      "cell_type": "code",
      "execution_count": null,
      "metadata": {
        "colab": {
          "base_uri": "https://localhost:8080/"
        },
        "id": "d0OgLHeZfate",
        "outputId": "e32012bd-aa1e-435e-89e4-db191bc1376a"
      },
      "outputs": [
        {
          "data": {
            "text/plain": [
              "Polyketide    37193\n",
              "NRP           20218\n",
              "Other          5874\n",
              "RiPP           3977\n",
              "Saccharide     3486\n",
              "Terpene        1879\n",
              "Alkaloid       1192\n",
              "Name: bgc_class, dtype: int64"
            ]
          },
          "execution_count": 25,
          "metadata": {},
          "output_type": "execute_result"
        }
      ],
      "source": [
        "domains_df['bgc_class'] = domains_df.bgcid.apply(lambda x: bgc2class.get(x, None))\n",
        "domains_df['bgc_class'].value_counts()"
      ]
    },
    {
      "cell_type": "markdown",
      "source": [
        "## Prepare the data for the Siamese network"
      ],
      "metadata": {
        "id": "382gxyQR7Drr"
      }
    },
    {
      "cell_type": "code",
      "execution_count": null,
      "metadata": {
        "colab": {
          "base_uri": "https://localhost:8080/"
        },
        "id": "jvYkwPbSBVi4",
        "outputId": "5dd8d364-cd90-4691-9b68-ff749fdddea4"
      },
      "outputs": [
        {
          "name": "stdout",
          "output_type": "stream",
          "text": [
            "['Alkaloid', 'NRP', 'Other', 'Polyketide', 'RiPP', 'Saccharide', 'Terpene']\n"
          ]
        }
      ],
      "source": [
        "from sklearn.model_selection import StratifiedKFold, StratifiedGroupKFold\n",
        "NFOLDS = 5\n",
        "#skf = StratifiedKFold(n_splits=NFOLDS, shuffle=True, random_state=42)\n",
        "# skf = StratifiedGroupKFold(n_splits=NFOLDS, shuffle=True, random_state=42)\n",
        "\n",
        "# fasta_df['fold'] = 0\n",
        "# for ifold, (train_index, test_index) in enumerate(skf.split(fasta_df.index, fasta_df.bgc_class, fasta_df.cluster_group.values)):\n",
        "#   fasta_df.loc[test_index, \"fold\"] = ifold\n",
        "all_bgc_class_names = sorted(domains_df[~domains_df.bgc_class.isnull()].bgc_class.unique())\n",
        "print(all_bgc_class_names)\n",
        "for ifold, bgc_class in enumerate(all_bgc_class_names):\n",
        "  test_index = domains_df['bgc_class'] == bgc_class\n",
        "  domains_df.loc[test_index, 'fold'] = ifold\n",
        "# domains_df.groupby(\"fold\").first()\n",
        "\n",
        "\n",
        "def split_train_val(subset_df, nfolds=NFOLDS, random_state=42, target_column=\"bgc_class\", group_column=\"cluster_group\"):\n",
        "  skf = StratifiedGroupKFold(n_splits=nfolds, shuffle=True, random_state=random_state)\n",
        "  for ifold, (train_index, val_index) in enumerate(skf.split(subset_df.index, subset_df[target_column], subset_df[group_column])):\n",
        "    train_index = subset_df.index[train_index]\n",
        "    val_index = subset_df.index[val_index]\n",
        "    yield train_index, val_index\n",
        "\n",
        "# fasta_df['fold'] = 0\n",
        "# for ifold, (train_index, test_index) in enumerate(skf.split(fasta_df.index, fasta_df.bgc_class, fasta_df.cluster_group.values)):\n",
        "#   fasta_df.loc[test_index, \"fold\"] = ifold\n"
      ]
    },
    {
      "cell_type": "code",
      "execution_count": null,
      "metadata": {
        "id": "zNU9NO0c62zL"
      },
      "outputs": [],
      "source": [
        "DSDIR = BASEDIR / \"datasets\"\n",
        "DSDIR.mkdir(exist_ok=True, parents=True)\n",
        "domains_df['index'] = domains_df.index\n",
        "domains_df.sort_values(by=[\"bgcid\", \"coord_from\", \"coord_to\", \"env_coord_from\", \"env_coord_to\"], inplace=True, ascending=True)\n",
        "\n",
        "domains_df.to_csv(DSDIR / \"domains.csv\", index=None)\n",
        "\n"
      ]
    },
    {
      "cell_type": "code",
      "execution_count": null,
      "metadata": {
        "id": "4Yd8BM9E5Jzw"
      },
      "outputs": [],
      "source": []
    },
    {
      "cell_type": "code",
      "execution_count": null,
      "metadata": {
        "colab": {
          "base_uri": "https://localhost:8080/"
        },
        "id": "-NszkxxOxaQt",
        "outputId": "53a695c5-4902-4cf9-a84b-72036990588f"
      },
      "outputs": [
        {
          "name": "stdout",
          "output_type": "stream",
          "text": [
            "(100654, 12) (100654, 12)\n"
          ]
        }
      ],
      "source": [
        "\n",
        "df1 = domains_df.iloc[:-1].reset_index(drop=True).add_prefix(\"p1_\")\n",
        "df2 = domains_df.iloc[1:].reset_index(drop=True).add_prefix(\"p2_\")\n",
        "print(df1.shape, df2.shape)\n",
        "df_merged = pd.concat([df1, df2],  axis=1)\n",
        "ids = (df_merged.p1_bgcid == df_merged.p2_bgcid) & (df_merged.p1_env_coord_from < df_merged.p2_env_coord_from) & (df_merged.p1_env_coord_to < df_merged.p2_env_coord_to)\n",
        "ids = ids & (df_merged.p1_coord_from <= df_merged.p2_coord_from) & (df_merged.p1_coord_to <= df_merged.p2_coord_to)\n",
        "df_merged = df_merged[ids].reset_index(drop=True)\n",
        "# df_merged[\"bgcid\"] = df_merged.p1_bgcid\n",
        "df_merged.rename(columns={\"p1_bgc_class\": \"bgc_class\", \"p1_bgcid\": \"bgcid\"}, inplace=True)\n",
        "df_merged.drop(columns=[\"p1_bgcid\", \"p2_bgcid\", \"p1_bgc_class\", \"p2_bgc_class\"], inplace=True, errors='ignore')\n",
        "df_merged.to_csv(DSDIR / \"domain_pairs.csv\", index=None)\n"
      ]
    },
    {
      "cell_type": "code",
      "execution_count": null,
      "metadata": {
        "id": "mSzjvsz12r_N"
      },
      "outputs": [],
      "source": [
        "# domains_df = df_merged[~df_merged.bgc_class.isnull()].reset_index(drop=True)"
      ]
    },
    {
      "cell_type": "code",
      "execution_count": null,
      "metadata": {
        "id": "44ItYwApCljB"
      },
      "outputs": [],
      "source": [
        "from sentence_transformers import SentenceTransformer, InputExample, losses, evaluation\n",
        "from torch.utils.data import DataLoader\n",
        "\n",
        "# bgc_class_names = fasta_df[train_ids].bgc_class.unique()\n",
        "NTRAIN_SAMPLES = 6400  # 10000\n",
        "NTEST_SAMPLES = 1000\n"
      ]
    },
    {
      "cell_type": "code",
      "execution_count": null,
      "metadata": {
        "id": "Xk9q2870mQOQ"
      },
      "outputs": [],
      "source": [
        "def extract_pos_neg(train_df, n=100):\n",
        "  bgc_class_names = train_df.bgc_class.unique()\n",
        "  bgc_indices = dict()\n",
        "  for bgc in bgc_class_names:\n",
        "    ids = train_df[\"bgc_class\"] == bgc\n",
        "    bgc_indices[bgc] = np.asarray(train_df.index[ids])\n",
        "\n",
        "  samples = dict()\n",
        "  positive_samples = []\n",
        "  negative_samples = []\n",
        "  for i, bgc1 in enumerate(bgc_class_names):\n",
        "    bgc_indices1 = bgc_indices[bgc1]\n",
        "\n",
        "    for bgc2 in bgc_class_names:\n",
        "      bgc_indices2 = bgc_indices[bgc2]\n",
        "      i1 = np.random.choice(bgc_indices1, n)\n",
        "      i2 = np.random.choice(bgc_indices2, n)\n",
        "      pairs = list(zip(i1, i2))\n",
        "      samples[(bgc1, bgc2)] = pairs\n",
        "      # bgc1, bgc2\n",
        "      #np.random.choice()\n",
        "      if bgc1 == bgc2:\n",
        "        positive_samples.extend(pairs)\n",
        "      else:\n",
        "        negative_samples.extend(pairs)\n",
        "  npos = len(positive_samples)\n",
        "  if len(negative_samples) > 0:\n",
        "    neg_samples_ids = np.random.choice(len(negative_samples), npos)\n",
        "    neg_samples = [negative_samples[i] for i in neg_samples_ids]\n",
        "  else:\n",
        "    neg_samples = []\n",
        "  return positive_samples, neg_samples\n",
        "\n",
        "\n",
        "def make_dataset(pos_samples, neg_samples, data_column, datadir, name=\"train\"):\n",
        "  dataset = []\n",
        "  train_df = []\n",
        "  for (i, j) in tqdm(pos_samples):\n",
        "    if isinstance(data_column, tuple):\n",
        "      s1 = [column.loc[i] for column in data_column]\n",
        "      s2 = [column.loc[j] for column in data_column]\n",
        "    else:\n",
        "      s1 = [data_column.loc[i]] # fasta_df.loc[i, col]\n",
        "      s2 = [data_column.loc[j]] # fasta_df.loc[j, 7]\n",
        "    if name == \"train\":\n",
        "      dataset.append(InputExample(texts=[*s1, *s2], label=1.))\n",
        "    else:\n",
        "      dataset.append((*s1, *s2, 1.))\n",
        "    train_df.append({\n",
        "        \"sequence1\": s1,\n",
        "        \"sequence2\": s2,\n",
        "        \"i1\": i,\n",
        "        \"i2\": j,\n",
        "        \"label\": \"positive\"\n",
        "    })\n",
        "  for (i, j) in tqdm(neg_samples):\n",
        "    if isinstance(data_column, tuple):\n",
        "      s1 = [column.loc[i] for column in data_column]\n",
        "      s2 = [column.loc[j] for column in data_column]\n",
        "    else:\n",
        "      s1 = [data_column.loc[i]] # fasta_df.loc[i, col]\n",
        "      s2 = [data_column.loc[j]] # fasta_df.loc[j, 7]\n",
        "    if name == \"train\":\n",
        "      dataset.append(InputExample(texts=[*s1, *s2], label=-1.))\n",
        "    else:\n",
        "      dataset.append((*s1, *s2, -1.))\n",
        "    train_df.append({\n",
        "        \"sequence1\": s1,\n",
        "        \"sequence2\": s2,\n",
        "        \"i1\": i,\n",
        "        \"i2\": j,\n",
        "        \"label\": \"negative\"\n",
        "    })\n",
        "  train_df = pd.DataFrame(train_df)\n",
        "  train_df.to_csv(datadir / f\"{name}_pairs_oversampled.csv\", index=None)\n",
        "  return dataset\n"
      ]
    },
    {
      "cell_type": "code",
      "execution_count": null,
      "metadata": {
        "id": "nRQj8UbpzVTd"
      },
      "outputs": [],
      "source": [
        "\n",
        "\n",
        "\n",
        "def prepare_fold_data(fasta_df, ifold=0, pair_columns=[], ntrain_samples=NTRAIN_SAMPLES, ntest_samples=NTEST_SAMPLES, return_indices=True):\n",
        "    fold_name = f\"fold_{ifold}_{all_bgc_class_names[ifold]}\"\n",
        "    train_val_ids = fasta_df.fold != ifold\n",
        "    test_ids = fasta_df.fold == ifold\n",
        "    test_index = fasta_df.index[test_ids]\n",
        "\n",
        "    train_index, val_index = next(split_train_val(fasta_df[train_val_ids]))\n",
        "    train_bgcids = fasta_df.loc[train_index].bgcid.unique()\n",
        "    val_bgcids = fasta_df.loc[val_index].bgcid.unique()\n",
        "    test_bgcids = fasta_df.loc[test_ids].bgcid.unique()\n",
        "    # print(np.isin(train_bgcids, val_bgcids).sum(), train_bgcids.shape, val_bgcids.shape, test_bgcids.shape)\n",
        "    assert not np.isin(test_bgcids, val_bgcids).any(), \"Test bgcids shouldn't be in val dataset\"\n",
        "    assert not np.isin(test_bgcids, train_bgcids).any(), \"Test bgcids shouldn't be in train dataset\"\n",
        "    assert not np.isin(train_bgcids, val_bgcids).any(), \"Train bgcids shouldn't be in val dataset\"\n",
        "\n",
        "    assert not np.isin(test_index, val_index).any(), \"Test bgcids shouldn't be in val dataset\"\n",
        "    assert not np.isin(test_index, train_index).any(), \"Test bgcids shouldn't be in train dataset\"\n",
        "    assert not np.isin(train_index, val_index).any(), \"Train bgcids shouldn't be in val dataset\"\n",
        "\n",
        "    train_ids = fasta_df.index.isin(train_index)\n",
        "    val_ids = fasta_df.index.isin(val_index)\n",
        "\n",
        "    FOLDDIR = DSDIR / fold_name\n",
        "    FOLDDIR.mkdir(exist_ok=True, parents=True)\n",
        "    bgc_class_names = fasta_df[train_ids].bgc_class.unique()\n",
        "\n",
        "    pos_samples, neg_samples = extract_pos_neg(fasta_df[train_ids], n=ntrain_samples)\n",
        "    pos_samples_val, neg_samples_val = extract_pos_neg(fasta_df[val_ids], n=ntest_samples)\n",
        "    if 7 in fasta_df.columns:\n",
        "        train_dataset = make_dataset(pos_samples, neg_samples, fasta_df.loc[:, 7], FOLDDIR, name=\"train\")\n",
        "        val_dataset = make_dataset(pos_samples_val, neg_samples_val, fasta_df.loc[:, 7], FOLDDIR, name=\"val\")\n",
        "        test_sequences = fasta_df.loc[test_ids, 7]\n",
        "    else:\n",
        "        seq_data = tuple([fasta_df.loc[:, col] for col in pair_columns])\n",
        "        train_dataset = make_dataset(pos_samples, neg_samples, seq_data, FOLDDIR, name=\"train\")\n",
        "        val_dataset = make_dataset(pos_samples_val, neg_samples_val, seq_data, FOLDDIR, name=\"val\")\n",
        "        test_sequences = fasta_df.loc[test_ids, pair_columns]\n",
        "\n",
        "    test_sequences.to_csv(FOLDDIR / \"test_sequences.csv\", index=None)\n",
        "    fasta_df.loc[test_ids, :].to_csv(FOLDDIR/\"test_data.csv\")\n",
        "    fasta_df.loc[val_ids, :].to_csv(FOLDDIR/\"val_data.csv\")\n",
        "    fasta_df.loc[train_ids, :].to_csv(FOLDDIR/\"train_data.csv\")\n",
        "    np.savez_compressed(\n",
        "        (FOLDDIR/\"train_val_split.npz\").as_posix(),\n",
        "        train_index=train_index,\n",
        "        val_index=val_index,\n",
        "        test_index=test_index\n",
        "    )\n",
        "    np.savez_compressed(\n",
        "        (FOLDDIR/\"bgcid_split.npz\").as_posix(),\n",
        "        train_bgcids=train_bgcids,\n",
        "        val_bgcids=val_bgcids,\n",
        "        test_bgcids=test_bgcids\n",
        "    )\n",
        "    if return_indices:\n",
        "       return train_dataset, val_dataset, test_sequences, train_index, val_index, test_index\n",
        "    return train_dataset, val_dataset, test_sequences\n"
      ]
    },
    {
      "cell_type": "code",
      "execution_count": null,
      "metadata": {
        "id": "wyR9R-MGzX1l"
      },
      "outputs": [],
      "source": [
        "# PROTEIN_MODEL = \"ElnaggarLab/ankh-base\"\n",
        "PROTEIN_MODEL = \"facebook/esm2_t6_8M_UR50D\"\n",
        "\n",
        "\n",
        "# batch_size=1 in norm mode"
      ]
    },
    {
      "cell_type": "code",
      "execution_count": null,
      "metadata": {
        "id": "T_tUlgGcivTv"
      },
      "outputs": [],
      "source": [
        "domains_df[0] = domains_df['bgcid']\n",
        "# domains_df[7] = domains_df['domain_sequence']\n",
        "ids = domains_df.bgc_class.isin(all_bgc_class_names)\n",
        "domains_df = domains_df[ids].reset_index(drop=True)"
      ]
    },
    {
      "cell_type": "code",
      "execution_count": null,
      "metadata": {
        "id": "uwwCumvtgX2T"
      },
      "outputs": [],
      "source": []
    },
    {
      "cell_type": "code",
      "execution_count": null,
      "metadata": {
        "id": "SM6KinD7gut6"
      },
      "outputs": [],
      "source": [
        "domains_df['fold'] = -1\n",
        "for i, x in enumerate(all_bgc_class_names):\n",
        "  ids = domains_df.bgc_class == x\n",
        "  domains_df.loc[ids, \"fold\"] = i\n",
        "\n",
        "domains_df.loc[:, 'cluster_group'] = -1\n",
        "bgc_cluster_names = domains_df.bgcid.unique()\n",
        "for i, bgcid in enumerate(bgc_cluster_names):\n",
        "  ids = domains_df.bgcid == bgcid\n",
        "  domains_df.loc[ids, 'cluster_group'] = i\n"
      ]
    },
    {
      "cell_type": "code",
      "execution_count": null,
      "metadata": {
        "id": "4yd3y90lxI2A"
      },
      "outputs": [],
      "source": [
        "import wandb\n",
        "\n",
        "\n",
        "def wandb_callback(score, epoch, steps):\n",
        "  wandb.log({\"val_loss\": score, \"epoch\": epoch, \"step\": steps})\n",
        "  pass\n",
        "\n"
      ]
    },
    {
      "cell_type": "code",
      "execution_count": null,
      "metadata": {
        "id": "lbjz2fR19cq4"
      },
      "outputs": [],
      "source": [
        "pair_columns = [\"domain_sequence\"]  # [\"p1_domain_sequence\", \"p2_domain_sequence\"]"
      ]
    },
    {
      "cell_type": "code",
      "execution_count": null,
      "metadata": {
        "id": "otc0JEkTwCvg"
      },
      "outputs": [],
      "source": [
        "def draw_data(emb, bgc_indices, bgc_class_names, label=None, savepath=None):\n",
        "    x_min = emb[:, 0].min()\n",
        "    x_max = emb[:, 0].max()\n",
        "    y_min = emb[:, 1].min()\n",
        "    y_max = emb[:, 1].max()\n",
        "    x_offset = (x_max - x_min)/10\n",
        "    y_offset = (y_max - y_min)/10\n",
        "    fig, ax = plt.subplots(1, figsize=(14, 10))\n",
        "    # plt.scatter(*emb[emb_group == 0].T, s=2, c=targets_mean, marker='x', cmap='Spectral', alpha=1.0)\n",
        "    plt.scatter(*emb.T, s=2, c=bgc_indices, marker='x', cmap='Spectral', alpha=1.0)\n",
        "\n",
        "    plt.setp(ax, xticks=[], yticks=[])\n",
        "    nclasses = len(bgc_class_names)\n",
        "    cbar = plt.colorbar(boundaries=np.arange(nclasses + 1)-0.5)\n",
        "    cbar.set_ticks(np.arange(nclasses))\n",
        "    cbar.set_ticklabels(bgc_class_names)\n",
        "    ax.set_xlim(x_min-x_offset, x_max+x_offset)\n",
        "    ax.set_ylim(y_min-y_offset, y_max+y_offset)\n",
        "    if label is None:\n",
        "        label = 'Mean pretrained ESM embeddings for BGC trained without NRP via PCA'\n",
        "    plt.title(label);\n",
        "    if savepath is not None:\n",
        "        fig.savefig(savepath, dpi=150, bbox_inches=\"tight\")\n",
        "    plt.show()"
      ]
    },
    {
      "cell_type": "markdown",
      "source": [
        "# Additional code\n",
        "To effectively use sentence_transformers in our case, we'll need to define several classes, which are responsible for the training loss and evaluation during validation and test phases."
      ],
      "metadata": {
        "id": "4XTQPHQe4b2C"
      }
    },
    {
      "cell_type": "markdown",
      "source": [
        "## Define custom loss"
      ],
      "metadata": {
        "id": "3AEYTq8l4PwU"
      }
    },
    {
      "cell_type": "code",
      "execution_count": null,
      "metadata": {
        "id": "b_YjQfxv-RZT"
      },
      "outputs": [],
      "source": [
        "# Make custom loss\n",
        "import torch\n",
        "from torch import nn, Tensor\n",
        "from typing import Iterable, Dict\n",
        "from sentence_transformers import SentenceTransformer\n",
        "\n",
        "\n",
        "class PairCosineSimilarityLoss(nn.Module):\n",
        "    \"\"\"\n",
        "    CosineSimilarityLoss expects, that the InputExamples consists of two texts and a float label.\n",
        "\n",
        "    It computes the vectors u = model(input_text[0]) and v = model(input_text[1]) and measures the cosine-similarity between the two.\n",
        "    By default, it minimizes the following loss: ||input_label - cos_score_transformation(cosine_sim(u,v))||_2.\n",
        "\n",
        "    :param model: SentenceTransformer model\n",
        "    :param loss_fct: Which pytorch loss function should be used to compare the cosine_similartiy(u,v) with the input_label? By default, MSE:  ||input_label - cosine_sim(u,v)||_2\n",
        "    :param cos_score_transformation: The cos_score_transformation function is applied on top of cosine_similarity. By default, the identify function is used (i.e. no change).\n",
        "\n",
        "    Example::\n",
        "\n",
        "            from sentence_transformers import SentenceTransformer, SentencesDataset, InputExample, losses\n",
        "\n",
        "            model = SentenceTransformer('distilbert-base-nli-mean-tokens')\n",
        "            train_examples = [InputExample(texts=['pair1 sent1', 'pair1 sent2', 'pair2 sent1', 'pair2 sent2', ], label=0.8),\n",
        "                InputExample(texts=['pair3 sent1', 'pair3 sent2', 'pair4 sent1', 'pair4 sent2'], label=0.3)]\n",
        "            train_dataset = SentencesDataset(train_examples, model)\n",
        "            train_dataloader = DataLoader(train_dataset, shuffle=True, batch_size=train_batch_size)\n",
        "            train_loss = losses.CosineSimilarityLoss(model=model)\n",
        "\n",
        "\n",
        "    \"\"\"\n",
        "    def __init__(self, model: SentenceTransformer, loss_fct = nn.MSELoss(), cos_score_transformation=nn.Identity()):\n",
        "        super(PairCosineSimilarityLoss, self).__init__()\n",
        "        self.model = model\n",
        "        self.loss_fct = loss_fct\n",
        "        self.cos_score_transformation = cos_score_transformation\n",
        "\n",
        "    def forward(self, sentence_features: Iterable[Dict[str, Tensor]], labels: Tensor):\n",
        "\n",
        "        embeddings = [self.model(sentence_feature)['sentence_embedding'] for sentence_feature in sentence_features]\n",
        "        #if len(embeddings) == 4:\n",
        "        if len(embeddings) == 4:\n",
        "            emb1 = torch.cat([embeddings[0], embeddings[1]], dim=-1)\n",
        "            emb2 = torch.cat([embeddings[2], embeddings[3]], dim=-1)\n",
        "        else:\n",
        "            emb1 = embeddings[0]\n",
        "            emb2 = embeddings[1]\n",
        "        # print(embeddings[0].shape, emb1.shape)\n",
        "        # assert emb1.shape[-1] == emb2.shape[-1]\n",
        "\n",
        "        # output = self.cos_score_transformation(torch.cosine_similarity(embeddings[0], embeddings[1]))\n",
        "        output = self.cos_score_transformation(torch.cosine_similarity(emb1, emb2))\n",
        "        return self.loss_fct(output, labels.view(-1))\n"
      ]
    },
    {
      "cell_type": "code",
      "execution_count": null,
      "metadata": {
        "id": "T6aQzevizw2N"
      },
      "outputs": [],
      "source": []
    },
    {
      "cell_type": "markdown",
      "source": [
        "## Define evaluators"
      ],
      "metadata": {
        "id": "gykdttwV4Ubw"
      }
    },
    {
      "cell_type": "code",
      "execution_count": null,
      "metadata": {
        "id": "kaiYQcxGBrMb"
      },
      "outputs": [],
      "source": [
        "from sentence_transformers.evaluation import SentenceEvaluator, SimilarityFunction\n",
        "from sentence_transformers.evaluation import SequentialEvaluator\n",
        "import os\n",
        "import csv\n",
        "from sklearn.metrics.pairwise import paired_cosine_distances, paired_euclidean_distances, paired_manhattan_distances\n",
        "from sklearn.metrics.pairwise import cosine_similarity\n",
        "from scipy.stats import pearsonr, spearmanr\n",
        "import numpy as np\n",
        "from typing import List, Tuple\n",
        "from sentence_transformers.readers import InputExample\n",
        "from sklearn.metrics import silhouette_score\n",
        "import sklearn.metrics as skmetrics\n",
        "import sklearn.metrics.pairwise as pmetrics\n",
        "\n",
        "\n",
        "class PairEmbeddingSimilarityEvaluator(SentenceEvaluator):\n",
        "    \"\"\"\n",
        "    Evaluate a model based on the similarity of the embeddings by calculating the Spearman and Pearson rank correlation\n",
        "    in comparison to the gold standard labels.\n",
        "    The metrics are the cosine similarity as well as euclidean and Manhattan distance\n",
        "    The returned score is the Spearman correlation with a specified metric.\n",
        "\n",
        "    The results are written in a CSV. If a CSV already exists, then values are appended.\n",
        "\n",
        "    : List[str]\n",
        "    \"\"\"\n",
        "    def __init__(self, sentences: Tuple[List[str]], scores: List[float], batch_size: int = 16, main_similarity: SimilarityFunction = None, name: str = '', show_progress_bar: bool = False, write_csv: bool = True):\n",
        "        \"\"\"\n",
        "        Constructs an evaluator based for the dataset\n",
        "\n",
        "        The labels need to indicate the similarity between the sentences.\n",
        "\n",
        "        :param sentences1:  List with the first sentence in a pair\n",
        "        :param sentences2: List with the second sentence in a pair\n",
        "        :param scores: Similarity score between sentences1[i] and sentences2[i]\n",
        "        :param write_csv: Write results to a CSV file\n",
        "        \"\"\"\n",
        "        self.sentences1, self.sentences2, self.sentences3, self.sentences4 = sentences\n",
        "        self.scores = scores\n",
        "        self.write_csv = write_csv\n",
        "\n",
        "        assert len(self.sentences1) == len(self.sentences2)\n",
        "        assert len(self.sentences2) == len(self.sentences3)\n",
        "        assert len(self.sentences3) == len(self.sentences4)\n",
        "        assert len(self.sentences1) == len(self.scores)\n",
        "\n",
        "        self.main_similarity = main_similarity\n",
        "        self.name = name\n",
        "\n",
        "        self.batch_size = batch_size\n",
        "        if show_progress_bar is None:\n",
        "            show_progress_bar=True\n",
        "        #     show_progress_bar = (logger.getEffectiveLevel() == logging.INFO or logger.getEffectiveLevel() == logging.DEBUG)\n",
        "        self.show_progress_bar = show_progress_bar\n",
        "\n",
        "        self.csv_file = \"similarity_evaluation\"+(\"_\"+name if name else '')+\"_results.csv\"\n",
        "        self.csv_headers = [\"epoch\", \"steps\", \"cosine_pearson\", \"cosine_spearman\", \"euclidean_pearson\", \"euclidean_spearman\", \"manhattan_pearson\", \"manhattan_spearman\", \"dot_pearson\", \"dot_spearman\"]\n",
        "\n",
        "    @classmethod\n",
        "    def from_input_examples(cls, examples: List[InputExample], **kwargs):\n",
        "        sentences1 = []\n",
        "        sentences2 = []\n",
        "        sentences3 = []\n",
        "        sentences4 = []\n",
        "        scores = []\n",
        "\n",
        "        for example in examples:\n",
        "            sentences1.append(example.texts[0])\n",
        "            sentences2.append(example.texts[1])\n",
        "            sentences3.append(example.texts[2])\n",
        "            sentences4.append(example.texts[3])\n",
        "            scores.append(example.label)\n",
        "        return cls((sentences1, sentences2, sentences3, sentences4), scores, **kwargs)\n",
        "\n",
        "    def __call__(self, model, output_path: str = None, epoch: int = -1, steps: int = -1) -> float:\n",
        "        if epoch != -1:\n",
        "            if steps == -1:\n",
        "                out_txt = \" after epoch {}:\".format(epoch)\n",
        "            else:\n",
        "                out_txt = \" in epoch {} after {} steps:\".format(epoch, steps)\n",
        "        else:\n",
        "            out_txt = \":\"\n",
        "\n",
        "        # logger.info(\"EmbeddingSimilarityEvaluator: Evaluating the model on \" + self.name + \" dataset\" + out_txt)\n",
        "\n",
        "        emb1 = model.encode(self.sentences1, batch_size=self.batch_size, show_progress_bar=self.show_progress_bar, convert_to_numpy=True)\n",
        "        emb2 = model.encode(self.sentences2, batch_size=self.batch_size, show_progress_bar=self.show_progress_bar, convert_to_numpy=True)\n",
        "        emb3 = model.encode(self.sentences3, batch_size=self.batch_size, show_progress_bar=self.show_progress_bar, convert_to_numpy=True)\n",
        "        emb4 = model.encode(self.sentences4, batch_size=self.batch_size, show_progress_bar=self.show_progress_bar, convert_to_numpy=True)\n",
        "\n",
        "        embeddings1 = np.hstack([emb1, emb2])\n",
        "        embeddings2 = np.hstack([emb3, emb4])\n",
        "        # print(\"eval:\", emb1.shape, embeddings1.shape, embeddings2.shape)\n",
        "        labels = self.scores\n",
        "\n",
        "        cosine_scores = 1 - (paired_cosine_distances(embeddings1, embeddings2))\n",
        "        manhattan_distances = -paired_manhattan_distances(embeddings1, embeddings2)\n",
        "        euclidean_distances = -paired_euclidean_distances(embeddings1, embeddings2)\n",
        "        dot_products = [np.dot(emb1, emb2) for emb1, emb2 in zip(embeddings1, embeddings2)]\n",
        "\n",
        "        eval_pearson_cosine, _ = pearsonr(labels, cosine_scores)\n",
        "        eval_spearman_cosine, _ = spearmanr(labels, cosine_scores)\n",
        "\n",
        "        eval_pearson_manhattan, _ = pearsonr(labels, manhattan_distances)\n",
        "        eval_spearman_manhattan, _ = spearmanr(labels, manhattan_distances)\n",
        "\n",
        "        eval_pearson_euclidean, _ = pearsonr(labels, euclidean_distances)\n",
        "        eval_spearman_euclidean, _ = spearmanr(labels, euclidean_distances)\n",
        "\n",
        "        eval_pearson_dot, _ = pearsonr(labels, dot_products)\n",
        "        eval_spearman_dot, _ = spearmanr(labels, dot_products)\n",
        "\n",
        "        # logger.info(\"Cosine-Similarity :\\tPearson: {:.4f}\\tSpearman: {:.4f}\".format(\n",
        "        #     eval_pearson_cosine, eval_spearman_cosine))\n",
        "        # logger.info(\"Manhattan-Distance:\\tPearson: {:.4f}\\tSpearman: {:.4f}\".format(\n",
        "        #     eval_pearson_manhattan, eval_spearman_manhattan))\n",
        "        # logger.info(\"Euclidean-Distance:\\tPearson: {:.4f}\\tSpearman: {:.4f}\".format(\n",
        "        #     eval_pearson_euclidean, eval_spearman_euclidean))\n",
        "        # logger.info(\"Dot-Product-Similarity:\\tPearson: {:.4f}\\tSpearman: {:.4f}\".format(\n",
        "        #     eval_pearson_dot, eval_spearman_dot))\n",
        "\n",
        "        if output_path is not None and self.write_csv:\n",
        "            csv_path = os.path.join(output_path, self.csv_file)\n",
        "            output_file_exists = os.path.isfile(csv_path) & os.path.exists(csv_path)\n",
        "            with open(csv_path, newline='', mode=\"a\" if output_file_exists else 'w', encoding=\"utf-8\") as f:\n",
        "                writer = csv.writer(f)\n",
        "                if not output_file_exists:\n",
        "                    writer.writerow(self.csv_headers)\n",
        "\n",
        "                writer.writerow([epoch, steps, eval_pearson_cosine, eval_spearman_cosine, eval_pearson_euclidean,\n",
        "                                 eval_spearman_euclidean, eval_pearson_manhattan, eval_spearman_manhattan, eval_pearson_dot, eval_spearman_dot])\n",
        "\n",
        "\n",
        "        if self.main_similarity == SimilarityFunction.COSINE:\n",
        "            return eval_spearman_cosine\n",
        "        elif self.main_similarity == SimilarityFunction.EUCLIDEAN:\n",
        "            return eval_spearman_euclidean\n",
        "        elif self.main_similarity == SimilarityFunction.MANHATTAN:\n",
        "            return eval_spearman_manhattan\n",
        "        elif self.main_similarity == SimilarityFunction.DOT_PRODUCT:\n",
        "            return eval_spearman_dot\n",
        "        elif self.main_similarity is None:\n",
        "            return max(eval_spearman_cosine, eval_spearman_manhattan, eval_spearman_euclidean, eval_spearman_dot)\n",
        "        else:\n",
        "            raise ValueError(\"Unknown main_similarity value\")\n",
        "\n",
        "\n",
        "class PairEmbeddingSilhouetteEvaluator(SentenceEvaluator):\n",
        "    \"\"\"\n",
        "    Evaluate a model based on the similarity of the embeddings by calculating the Spearman and Pearson rank correlation\n",
        "    in comparison to the gold standard labels.\n",
        "    The metrics are the cosine similarity as well as euclidean and Manhattan distance\n",
        "    The returned score is the Spearman correlation with a specified metric.\n",
        "\n",
        "    The results are written in a CSV. If a CSV already exists, then values are appended.\n",
        "\n",
        "    : List[str]\n",
        "    \"\"\"\n",
        "    def __init__(self, sentences: Tuple[List[str]], classes: List[int], class_names: List[str], bgcid_list=None,\n",
        "                 batch_size: int = 16, main_similarity: SimilarityFunction = None, name: str = '',\n",
        "                 show_progress_bar: bool = False, write_csv: bool = True, savedir=None):\n",
        "        \"\"\"\n",
        "        Constructs an evaluator based for the dataset\n",
        "\n",
        "        The labels need to indicate the similarity between the sentences.\n",
        "\n",
        "        :param sentences:  List with the first and second sentences in a pair\n",
        "        :param classes: List of the indices of the cluster the corresponding sample belongs to\n",
        "        :param write_csv: Write results to a CSV file\n",
        "        \"\"\"\n",
        "        # self.sentences1, self.sentences2 = sentences\n",
        "        self.sentences = sentences\n",
        "        self.classes = classes\n",
        "        self.class_names = class_names\n",
        "        self.bgcid_list = bgcid_list\n",
        "        if bgcid_list is None:\n",
        "            self.bgcid_list = np.arange(len(sentences))\n",
        "        self.bgcid2indices = defaultdict(list)\n",
        "        for i, bgcid in enumerate(self.bgcid_list):\n",
        "            self.bgcid2indices[bgcid].append(i)\n",
        "        self.bgcid2indices = {k: np.asarray(v) for k, v in self.bgcid2indices.items()}\n",
        "        self.bgcid2classes = {k: self.classes[v[0]] for k, v in self.bgcid2indices.items()}\n",
        "        self.bgcids = np.asarray(sorted(self.bgcid2indices))\n",
        "        assert min(classes) >= 0\n",
        "        assert max(classes) < len(class_names)\n",
        "        self.write_csv = write_csv\n",
        "\n",
        "        # assert len(self.sentences1) == len(self.sentences2)\n",
        "        # assert len(self.sentences1) == len(self.classes)\n",
        "\n",
        "        self.main_similarity = main_similarity\n",
        "        self.name = name\n",
        "\n",
        "        self.batch_size = batch_size\n",
        "        self.show_progress_bar = show_progress_bar\n",
        "        if show_progress_bar is None:\n",
        "            show_progress_bar = True\n",
        "        #     show_progress_bar = (logger.getEffectiveLevel() == logging.INFO or logger.getEffectiveLevel() == logging.DEBUG)\n",
        "\n",
        "        self.csv_file = \"similarity_evaluation\"+(\"_\"+name if name else '')+\"_results.csv\"\n",
        "        self.csv_headers = [\n",
        "            \"epoch\", \"steps\", \"silhouette_cos_dist\",\n",
        "            \"cosine_pearson\", \"cosine_spearman\", \"euclidean_pearson\", \"euclidean_spearman\",\n",
        "            \"manhattan_pearson\", \"manhattan_spearman\"\n",
        "        ]\n",
        "        self.savedir = savedir\n",
        "\n",
        "    @classmethod\n",
        "    def from_input_examples(cls, examples: List[InputExample], **kwargs):\n",
        "        sentences1 = []\n",
        "        sentences2 = []\n",
        "        classes = []\n",
        "\n",
        "        for example in examples:\n",
        "            sentences1.append(example.texts[0])\n",
        "            sentences2.append(example.texts[1])\n",
        "            classes.append(example.label)\n",
        "        return cls((sentences1, sentences2), scores, **kwargs)\n",
        "\n",
        "    def __call__(self, model, output_path: str = None, epoch: int = -1, steps: int = -1) -> float:\n",
        "        if epoch != -1:\n",
        "            if steps == -1:\n",
        "                out_txt = \" after epoch {}:\".format(epoch)\n",
        "            else:\n",
        "                out_txt = \" in epoch {} after {} steps:\".format(epoch, steps)\n",
        "        else:\n",
        "            out_txt = \":\"\n",
        "\n",
        "        # logger.info(\"EmbeddingSimilarityEvaluator: Evaluating the model on \" + self.name + \" dataset\" + out_txt)\n",
        "        all_embeddings = []\n",
        "        for sentences in self.sentences:\n",
        "            embedding = model.encode(sentences, batch_size=self.batch_size, show_progress_bar=self.show_progress_bar, convert_to_numpy=True)\n",
        "            all_embeddings.append(embedding)\n",
        "        # emb2 = model.encode(self.sentences2, batch_size=self.batch_size, show_progress_bar=self.show_progress_bar, convert_to_numpy=True)\n",
        "        # emb3 = model.encode(self.sentences3, batch_size=self.batch_size, show_progress_bar=self.show_progress_bar, convert_to_numpy=True)\n",
        "        # emb4 = model.encode(self.sentences4, batch_size=self.batch_size, show_progress_bar=self.show_progress_bar, convert_to_numpy=True)\n",
        "\n",
        "        # embeddings = np.hstack([emb1, emb2])\n",
        "        if len(all_embeddings) == 1:\n",
        "            embeddings = all_embeddings[0]\n",
        "        else:\n",
        "            embeddings = np.hstack(all_embeddings)\n",
        "        mean_embeddings = [embeddings[self.bgcid2indices[bgcid]].mean(0) for bgcid in self.bgcids]\n",
        "        mean_embeddings = np.stack(mean_embeddings)\n",
        "        # embeddings2 = np.hstack([emb3, emb4])\n",
        "        # print(\"eval:\", emb1.shape, embeddings1.shape, embeddings2.shape)\n",
        "        # labels = np.asarray([self.classes[]for bgcid in self.bgcids])\n",
        "        test_labels = np.asarray([self.bgcid2classes[bgcid] for bgcid in self.bgcids])\n",
        "        labels = np.where(test_labels.reshape(-1, 1) == test_labels, 1, -1).flatten()\n",
        "        # TODO: replace cosine distances etc. with silhouette scores\n",
        "\n",
        "        # cosine_distances = paired_cosine_distances(embeddings, embeddings)\n",
        "        cosine_similarities = cosine_similarity(mean_embeddings, mean_embeddings)\n",
        "        cosine_distances = 1 - cosine_similarities\n",
        "        cosine_scores = cosine_similarities.flatten()\n",
        "        # score_cos_dist = silhouette_score(cosine_distances, labels, metric=\"precomputed\")\n",
        "        # score = silhouette_score(embeddings, self.classes)\n",
        "        score_cos_dist = silhouette_score(mean_embeddings, test_labels, metric=\"cosine\")\n",
        "\n",
        "        manhattan_distances = -pmetrics.manhattan_distances(mean_embeddings, mean_embeddings).flatten()\n",
        "        euclidean_distances = -pmetrics.euclidean_distances(mean_embeddings, mean_embeddings).flatten()\n",
        "        # dot_products = [np.dot(emb1, emb2) for emb1, emb2 in zip(embeddings1, embeddings2)]\n",
        "\n",
        "        eval_pearson_cosine, _ = pearsonr(labels, cosine_scores)\n",
        "        eval_spearman_cosine, _ = spearmanr(labels, cosine_scores)\n",
        "\n",
        "        eval_pearson_manhattan, _ = pearsonr(labels, manhattan_distances)\n",
        "        eval_spearman_manhattan, _ = spearmanr(labels, manhattan_distances)\n",
        "\n",
        "        eval_pearson_euclidean, _ = pearsonr(labels, euclidean_distances)\n",
        "        eval_spearman_euclidean, _ = spearmanr(labels, euclidean_distances)\n",
        "\n",
        "        wandb.log({\n",
        "            \"silhouette_val\": score_cos_dist,\n",
        "            \"pearson_cosine\": eval_pearson_cosine\n",
        "        })\n",
        "\n",
        "        if output_path is not None and self.write_csv:\n",
        "            csv_path = os.path.join(output_path, self.csv_file)\n",
        "            output_file_exists = os.path.isfile(csv_path)\n",
        "            with open(csv_path, newline='', mode=\"a\" if output_file_exists else 'w', encoding=\"utf-8\") as f:\n",
        "                writer = csv.writer(f)\n",
        "                if not output_file_exists:\n",
        "                    writer.writerow(self.csv_headers)\n",
        "\n",
        "                writer.writerow([\n",
        "                    epoch, steps, score_cos_dist,\n",
        "                    eval_pearson_cosine, eval_spearman_cosine, eval_pearson_euclidean,\n",
        "                    eval_spearman_euclidean, eval_pearson_manhattan, eval_spearman_manhattan])\n",
        "\n",
        "\n",
        "        if self.main_similarity == SimilarityFunction.COSINE:\n",
        "            return eval_spearman_cosine\n",
        "        elif self.main_similarity == SimilarityFunction.EUCLIDEAN:\n",
        "            return eval_spearman_euclidean\n",
        "        elif self.main_similarity == SimilarityFunction.MANHATTAN:\n",
        "            return eval_spearman_manhattan\n",
        "        elif self.main_similarity is None:\n",
        "            return score_cos_dist\n",
        "            # return max(eval_spearman_cosine, eval_spearman_manhattan, eval_spearman_euclidean, eval_spearman_dot)\n",
        "        else:\n",
        "            raise ValueError(\"Unknown main_similarity value\")\n",
        "\n",
        "\n",
        "class TestSilhouetteEvaluator(SentenceEvaluator):\n",
        "    def __init__(self, df, all_index: List[int], test_index: List[int], class_names: List[str],\n",
        "                 columns: List[str],\n",
        "                 test_fold:int,\n",
        "                 batch_size: int = 16, main_similarity: SimilarityFunction = None, name: str = '',\n",
        "                 show_progress_bar: bool = False, write_csv: bool = True, savedir=None, target_column=\"biosyn_class_index\"):\n",
        "        self.df = df\n",
        "        self.all_index = np.asarray(all_index).flatten()\n",
        "        self.test_index = np.asarray(test_index).flatten()\n",
        "        self.class_names = class_names\n",
        "        if isinstance(columns, str):\n",
        "            columns = [columns]\n",
        "        self.columns = columns\n",
        "        self.test_fold = test_fold\n",
        "        self.batch_size=batch_size\n",
        "        self.main_similarity = main_similarity\n",
        "        self.name = name\n",
        "        self.show_progress_bar = show_progress_bar\n",
        "        if show_progress_bar is not None:\n",
        "            self.show_progress_bar = True\n",
        "        self.write_csv = write_csv\n",
        "        self.savedir = savedir\n",
        "        self.eval_sequences = [df.loc[all_index, col].values for col in columns]\n",
        "        self.eval_targets = df.loc[all_index, target_column].values\n",
        "\n",
        "        # self.test_ids = currentcurrent_df.ifold == test_fold\n",
        "        # self.test_ids = self.all_index.isin(test_index)\n",
        "        self.test_ids = np.isin(self.all_index, test_index)\n",
        "\n",
        "        self.all_bgcid = self.df.loc[all_index, 'bgcid'].values.flatten()\n",
        "        self.test_bgcid = self.df.loc[test_index, 'bgcid'].values.flatten()\n",
        "\n",
        "        bgc2indices = defaultdict(list)\n",
        "        for i, bgcid in enumerate(self.all_bgcid):\n",
        "            bgc2indices[bgcid].append(i)\n",
        "        self.bgc2indices = {k: np.asarray(v) for k, v in bgc2indices.items()}\n",
        "\n",
        "        self.bgc2targets = {k: v for k, v in df.loc[all_index, [\"bgcid\", target_column]].values}\n",
        "\n",
        "        self.all_bgcid = np.unique(self.all_bgcid)\n",
        "        self.test_bgcid = np.unique(self.test_bgcid)\n",
        "        # self.group_name\n",
        "\n",
        "        self.csv_file = \"test_evaluation\"+(\"_\"+name if name else '')+\"_results.csv\"\n",
        "        self.csv_headers = [\n",
        "            \"epoch\", \"steps\",\n",
        "            \"silhouette_test\",\n",
        "            \"silhouette_full\",\n",
        "            \"calinsky_score\"\n",
        "            #\"cosine_pearson\", \"cosine_spearman\", \"euclidean_pearson\", \"euclidean_spearman\",\n",
        "            #\"manhattan_pearson\", \"manhattan_spearman\"\n",
        "        ]\n",
        "        self.savedir = savedir\n",
        "\n",
        "    def __call__(self, model, output_path: str = None, epoch: int = -1, steps: int = -1) -> float:\n",
        "        if epoch != -1:\n",
        "            if steps == -1:\n",
        "                out_txt = \" after epoch {}:\".format(epoch)\n",
        "            else:\n",
        "                out_txt = \" in epoch {} after {} steps:\".format(epoch, steps)\n",
        "        else:\n",
        "            out_txt = \":\"\n",
        "        eval_embeddings = []\n",
        "        for sequences in self.eval_sequences:\n",
        "            embedding = model.encode(sequences, batch_size=self.batch_size, show_progress_bar=self.show_progress_bar, convert_to_numpy=True)\n",
        "            eval_embeddings.append(embedding)\n",
        "\n",
        "        domain_embeddings = np.hstack(eval_embeddings)\n",
        "        bgc2embeddings = {\n",
        "            bgcid: domain_embeddings[indices].mean(0)\n",
        "            for bgcid, indices in self.bgc2indices.items()\n",
        "        }\n",
        "        all_embeddings = np.stack([bgc2embeddings[bgcid] for bgcid in self.all_bgcid])\n",
        "        self.test_ids = np.isin(self.all_bgcid, self.test_bgcid)\n",
        "\n",
        "        # embeddings2 = np.hstack([emb3, emb4])\n",
        "        # print(\"eval:\", emb1.shape, embeddings1.shape, embeddings2.shape)\n",
        "        all_targets = np.asarray([self.bgc2targets[bgcid] for bgcid in self.all_bgcid])\n",
        "        test_labels = all_targets[self.test_ids]\n",
        "        test_labels = np.where(test_labels.reshape(-1, 1) == test_labels, 1, -1).flatten()\n",
        "        # TODO: replace cosine distances etc. with silhouette scores\n",
        "\n",
        "        # cosine_distances = paired_cosine_distances(embeddings, embeddings)\n",
        "        cosine_similarities = cosine_similarity(all_embeddings[self.test_ids], all_embeddings[self.test_ids])\n",
        "        cosine_distances = 1. - cosine_similarities\n",
        "        flat_cosine_distances = cosine_distances.flatten()\n",
        "        # score_cos_dist = silhouette_score(cosine_distances, labels, metric=\"precomputed\")\n",
        "        # score = silhouette_score(embeddings, self.classes)\n",
        "        eval_silhouette_samples = skmetrics.silhouette_samples(all_embeddings, all_targets, metric=\"cosine\")\n",
        "        test_silhouette_score = eval_silhouette_samples[self.test_ids].mean()\n",
        "        full_silhouette_score = eval_silhouette_samples.mean()\n",
        "        calinsky_score = skmetrics.calinski_harabasz_score(all_embeddings, all_targets)\n",
        "\n",
        "        wandb.log({\n",
        "            \"silhouette_full\": full_silhouette_score,\n",
        "            \"silhouette_test\": test_silhouette_score,\n",
        "            \"calinsky_score\": calinsky_score\n",
        "        })\n",
        "        if output_path is not None and self.write_csv:\n",
        "            csv_path = os.path.join(output_path, self.csv_file)\n",
        "            output_file_exists = os.path.isfile(csv_path)\n",
        "            with open(csv_path, newline='', mode=\"a\" if output_file_exists else 'w', encoding=\"utf-8\") as f:\n",
        "                writer = csv.writer(f)\n",
        "                if not output_file_exists:\n",
        "                    writer.writerow(self.csv_headers)\n",
        "\n",
        "                writer.writerow([\n",
        "                    epoch, steps,\n",
        "                    test_silhouette_score,\n",
        "                    full_silhouette_score,\n",
        "                    calinsky_score\n",
        "                ])\n",
        "\n",
        "        return test_silhouette_score"
      ]
    },
    {
      "cell_type": "code",
      "execution_count": null,
      "metadata": {
        "colab": {
          "base_uri": "https://localhost:8080/"
        },
        "id": "OPf4QCP9Fivs",
        "outputId": "09e435aa-884c-4bc0-fe97-52dadc6c2900"
      },
      "outputs": [
        {
          "data": {
            "text/plain": [
              "(42, 14)"
            ]
          },
          "execution_count": 44,
          "metadata": {},
          "output_type": "execute_result"
        }
      ],
      "source": [
        "\n",
        "tiny_bgcids = domains_df[['fold', \"bgcid\"]].drop_duplicates().groupby(\"fold\", as_index=False).head(3)['bgcid'].unique()\n",
        "domains_tiny_df = domains_df[domains_df.bgcid.isin(tiny_bgcids)].groupby(['fold', \"bgcid\"]).head(2).reset_index(drop=True)\n",
        "domains_tiny_df.shape"
      ]
    },
    {
      "cell_type": "code",
      "execution_count": null,
      "metadata": {
        "id": "3N5DVmbWJevb"
      },
      "outputs": [],
      "source": [
        "# all_bgc_class_names = ['Polyketide' 'Other' 'Saccharide' 'Alkaloid' 'NRP' 'RiPP' 'Terpene'] # unique:\n",
        "all_bgc_class_names = sorted(['NRP', 'Polyketide', 'Other', 'Saccharide', 'Alkaloid', 'RiPP', 'Terpene'])\n",
        "biosyn_class2index = {x: i for i, x in enumerate(all_bgc_class_names)}\n",
        "\n",
        "domains_df[\"biosyn_class_index\"] = domains_df.bgc_class.apply(lambda x: biosyn_class2index.get(x, -1))"
      ]
    },
    {
      "cell_type": "code",
      "execution_count": null,
      "metadata": {
        "id": "No6fQPfBLQFq"
      },
      "outputs": [],
      "source": [
        "from sentence_transformers import models as st_models\n",
        "\n",
        "def prepare_st_model(freeze=True):\n",
        "    if not freeze:\n",
        "        return SentenceTransformer(PROTEIN_MODEL)\n",
        "    word_embedding_model = st_models.Transformer(PROTEIN_MODEL)\n",
        "    word_embedding_model.auto_model.embeddings.requires_grad_(False)\n",
        "    for param in word_embedding_model.auto_model.embeddings.parameters():\n",
        "        param.requires_grad = False\n",
        "\n",
        "    word_embedding_model.auto_model.encoder.layer[:5].requires_grad_(False)\n",
        "    for param in word_embedding_model.auto_model.encoder.layer[:5].parameters():\n",
        "        param.requires_grad = False\n",
        "    pooling_model = st_models.Pooling(word_embedding_model.get_word_embedding_dimension())\n",
        "\n",
        "    model = SentenceTransformer(modules=[word_embedding_model, pooling_model])\n",
        "    return model"
      ]
    },
    {
      "cell_type": "markdown",
      "source": [
        "# Fine-tuning"
      ],
      "metadata": {
        "id": "zYEPCogU3afb"
      }
    },
    {
      "cell_type": "code",
      "execution_count": null,
      "metadata": {
        "colab": {
          "background_save": true,
          "base_uri": "https://localhost:8080/",
          "height": 565,
          "referenced_widgets": [
            "d9bee0ee17114b75b5eb6369ca7184a6",
            "949dccdfb0644df8bef90f00fc1a992a",
            "574accde7c8f4f9e93eefc101c13c20f",
            "3b76afd2296b43758f8e4f104d4dbe5b",
            "4647f82c427f4a55b78b76469127492c",
            "2897996a823d437aa1343c5bc3cbf9dc",
            "4ce3ea36962540e39218b8fcf6f9aa33",
            "307bd6b97c6e4b34846def9eba3e7127",
            "97118303b1304301bd5445caa6e49e97",
            "aa0043dd86da462083d852cb3f9f87bf",
            "e32df6bbec694c9da8637183f48ae538",
            "ff5661e02609402f9d488e084fb79f09",
            "267379788a3742d3af0f9ed8805dbdd6",
            "f4910c2cf4f0451e9c9e0051bb3d23f5",
            "570c6e77ca4e4b81a81c48f30dbdda4e",
            "ed9f3439866e42bc96f22d4c94697c65",
            "08b827a11854478f8c678077a9afb6b3",
            "2224007ef668496682b3e69af93c28c3",
            "ce7a2bdf0e8b4423921f7031c61cffbd",
            "125406dc0bcc43feb2a0e094388069a6",
            "291e65ac013d4bd7b89060a822db70c1",
            "88d9a9ea4c2e49ea95fdc767c4be0951",
            "58d43a182d114b73bfb243fe742ca7be",
            "d886f73d8bbf474c8a23fafcc41b5488",
            "b9589ef13e804707927d28789b462dd0",
            "e89d569c70eb40ef8d152f3f683f3cc4",
            "8d5bdc7d462c40599264399f548a9417",
            "fc851b0fe0e249708422e00d34e9f4e5",
            "267cddc459af4be5b2b62820dfb951e5",
            "83fd7e464b0a45269a9cb0e94759368f",
            "93326b3187624af6a1bdcb2f0bcc03ca",
            "ae42a83b35a54ea4827769dd475a902e",
            "5d42ac2c2d5f4f66bcb6ce1414dad58e",
            "2d039fbd0bae466ab84269e9f15235d6",
            "f752937d696b40f4907b2527486f9636",
            "506c07d51b5a4766b4ace12a014ccc0a",
            "bf048983437d4e748d882038bd633c83",
            "1a900efa6b50429b95560d93622190ce",
            "ceb2e61d1c574cd2b216d3722b16d3c9",
            "33985a9c04aa4fdc8e00c834a4f98aa5",
            "f63c6880c6f24f48916f92fe6e024249",
            "ef0350ee3fa64fac9303cf2ac43cd1d4",
            "e064bbcf8f77449cb869a573773e966b",
            "6d9327f392724c9889bbe2292982b245",
            "ce7e626095ed42499d5f4d814cb7f66d",
            "f341138cf7ae446fbadd4b43f45b9b23",
            "fdd07c02403d48249eee5c35ad2fff09",
            "1d47af97d7864ab49d13ec6f502c0f9c",
            "85cb890bc8254c689c7c1b744281408d",
            "8c8bd4acf7e646da8c6e43bc4a8f06f5",
            "46bb86dc58e44fa9b80d011a25ba56c6",
            "0e1fdf0737bf454c916e4dc4ab0a8340",
            "1af2c6bb23914e228bda6e708b369faf",
            "80c92fcf8b474a7e8ad10ae1ea91c4b1",
            "c4f1b4c5bcee4cfeb519df3b3e974796",
            "dba2820609034242afe41231c71e4dbb",
            "f72330752da1485ebd6bfe95a799def1",
            "d04b9e87801745c5968301000698c9c3",
            "cb28b61d196d4f7b946895a7d94c690a",
            "e6df26cbdd5f49be81117c4a123c902e",
            "debaa53490774d4883e72af9c676acd0",
            "a524a6f9829b433988f69961690d07ce",
            "042293b0c56c467cba98e7cd48d1fa16",
            "1b4d475e261442fbb1dd75c5a2ef8ae4",
            "248431f9dd8e4af5aeda17d268f126bb",
            "5cbb03b4286a4f24b2b5d5fe45004ebb",
            "6275aff1ced24788b2279dd343cdcf84",
            "89ec57d8fb49454191fa0eee672d649e",
            "532ed544298e4d8089beed9380a62ac8",
            "f93415cbcfda4a978b184af53ed5e25e",
            "b3de88f0953b43a0ae8b7ee52dd2a0e4",
            "aa10420a0b7c4c84b130335ce7b18356",
            "c949b379c9f74e92a91fee93e51622ac",
            "321d45cb0d71477ca369dd7ec4012d2b",
            "ef4fba0dc7c44a64964a4712d4f6fcef",
            "09ed20a0f4584f3cbc43d9a36693ee5f",
            "07cbcde2d1624ee380d3e91ee7e2dbce",
            "220bdedbca1446419ae1832c5f85ab12",
            "699cc7d9376441cd88bf120e891cfa90",
            "34f5876557a74ae4aa4b3b060bcfd2ca",
            "6a007070b7104e179457d083949e342d",
            "804ab9bee9e94b92816fad5179bdf290",
            "156c02be809d426c887301bd95154c7f",
            "db39614ed9824472b055164439c846ca",
            "540d5a3aa93242e6a1d891a7641823d2",
            "b85d69093a5a4696ba48fccbfa015fb4",
            "ec52623d12564ddfbcbe763532b0856c",
            "a8dcf398ad1d4167a477f635075d8614",
            "481a46ba25cb437f840bc4ccdbef5ee4",
            "c2f5162c177349a6a0148af44af9d7c7",
            "09d1438c0fe14a72a8b061cb1496eebb",
            "2779baee0ff54d23b22e76e32ebe2b5c",
            "1499fd8fa1ea46228708464b0293b94c",
            "38976fc7d4f84e878462738a3aec2a49",
            "a74234c4997e48eeb925f161a13d09d4",
            "4356cb8b6f854744ad275b02a41156f0",
            "f6840b5a31244b689830f409c5a6d49f",
            "5652bd50a6724a378a3ef433ee396694",
            "ce4b4b2bdeb4462eb445b82c247b4d5a",
            "d960e2740f454326908fa8f8921743e2",
            "8fcd95cd7e53413aa78e6aebe363ccc4",
            "a24eb4aad0784e88b06fa168de247e7f",
            "778ceded7dcd4faabd2ea3c2391a2ca9",
            "8213c716bbc649cc87ad280c12e918f5",
            "6f3be888ab4a4293a21ae789e0083c6e",
            "88e52e64a92142dd9bf67258db6ca871",
            "9440cd9b3b844b1bac001b9303602ef2",
            "b763eeb8c49a41aa828084096379433f",
            "d7c4289fe7be45cf9e54d1c5be996ac8",
            "4a952bda7e084d7dbac35270d9d6de45",
            "1a1cbcde468a4e1ba35792dfd3a1692b",
            "94cc8c65251e4509ad8dfd6c95a0be69",
            "f9a6bd5f12e64808800885b7fac41d8e",
            "3f97e16e24024d038301eec923ee9f69",
            "673b751ae4db49618acddb279cc76017",
            "bd2cefb3f45148e9acbdc2b457d522b1",
            "651bd9f17e8d47ff8a57d787d98cbb8f",
            "4448a794b34d4be990a1eb8b573ddf97",
            "279f7677c0644920820c28250ba502cc",
            "c4416cc398ef48fba4af981ee702dd20",
            "117cbbeaf66447c6a6229a7c4a410b91",
            "c315ee1bb4f1419686967882489be573",
            "350ad227b9d04c69b1156611cbf00a06",
            "f02ee248f8e14ea9a8d04fe4a41c49e8",
            "d48b41b8026946ea85e78259b2f205b6",
            "d8a92a6a0afd4ec088830ab0c6793d93",
            "e24083df8fea486da43d5b60ef39dfd4",
            "b31b8e8dcc864c1aaf09e558048ac4b2",
            "557bd53323e1448f813dcfd9a129063e",
            "764a33afb07840bc99abfbf60d52cfbc",
            "2bff49c58aad4c8e9bee03f302001330",
            "ad848803ba0b430d8104fd9e5e87cea3",
            "61b9a281916644308ff0bfafc74f0abb",
            "a6a2f3978a4d4b6193cae86013e2252f",
            "67eeb2fbd8204043b55ee70cc8eec194",
            "58ee0e37f6be4f2689be605bf067449e",
            "70f4b4bb429a4951969d45dc5c8840e4",
            "64317bf5c0574363b5fa2af8ee181a3d",
            "290843acce71403a81e7805dcb0e8b18",
            "6816e780870d44dbaa48ef7739097fbc",
            "1bbca59316bd459683544f373d1b0783",
            "bf930ea505674fff8bc86b6522e01761",
            "029d64fe85304f67a619d2d9cf921899",
            "84ae058568794437800bbc46fb454ea9",
            "95e215cd2e17407ca2211bc4ffee3663",
            "e96bf749e85c47eca82a7592f63cc7ea",
            "52ee476f87a1490ca190eae48ed82c95",
            "3c82e6e7d44e43108720f43874f5d502",
            "c0c61b1c008c4c90a0c8847e33c5fae0",
            "3604be02fee54cecb0f32bf3afc8bcd8",
            "7c5024fc8c8c49feadf19e43c92f8dd4",
            "8fff20b264c342449a28c42a8d8a3156",
            "2f51349e0eb548cda2284fa21e4448de",
            "cd8d9bcf520341edbf3c21e026107ee8",
            "a51437ecfffa42f38184ef1ea654e460",
            "db05cdff5cf94474a33e405576e3d331",
            "5b92d12834e14b25b3648a811af76860",
            "cda3ecd99b7448059d7b53ab28acbdba",
            "52c1afb177104756b47b63db043a1867",
            "c97ca8a7ea3248aeb5ebc1f8ffaf14ac",
            "4a845290d41b4b038c41cce4e2c56ada",
            "563d650badc149e18b1062f6bff3be3d",
            "25192f98be1d4adb94874c41f47d135e",
            "252013270ef747919de2c2ac29675f1f",
            "6ce7bbe7cb434df5bb14a9ef6a7a5341",
            "a121fd3852e5466189a92a6072116146",
            "f474f0d5820244cf9be185e4ebd9f7e1",
            "9b60896b0226405592a070bdeed734c2",
            "65b597c2c6e641e69d9987251aee10bf",
            "d94fdfd840b647cda2e42307d1b86561",
            "cd0a2a23f15449c89bb4f8e1ebfc8231",
            "12bee97c092c4eff832fdd954509a13d",
            "21069ae5d3bf4678a3758e170dd41ce9",
            "3dff4c24f9fd4d16a1962d8868bbed49",
            "4f2a0d04251d488e9d5f8f8243d094e4",
            "b4031094f5df4fb6bd38bcc5e493345a",
            "d1845b0bba1d4952b8971b2c01232bc6",
            "f91ef7799def4b71a9e91048f13e5eab",
            "83d1f54de0934bc4a11192b160d60370",
            "cdaa1072f7b841e2bfadd1a71d1867c6",
            "8c68aaa6932c4ddd9710155a7ad64af9",
            "8db32d0c98a34f93b6adc01525cf5945",
            "69453342caf149968ad76478b8ced643",
            "b04b80dbc5a547c6823142cc3ad81938",
            "59bb57f020c2495b9af3565e0257a9d0",
            "fda8ac154c704021adb794ce91811d48",
            "568eec0c26964634bd86337cdbc23b88",
            "47ba24ad83c14078860f5b435c16e7d1",
            "a6c1abb6ebc7462a85f7b12d8c919375",
            "a6e0bb1f2b1445889aedc9557c4f01a2",
            "67236f895601415b9aee768623e80938",
            "7afa3fe4d3764c379364cfa79db9e528",
            "afa9506a30f64e5b816a395d237ab7e0",
            "0710a30f2d204f54b0e41b2194ff8642",
            "104b16006d3c4ca1b6c2f003673169cd",
            "ff1a50a0d2bc4a84bfb40990f78165fc",
            "a4a3589d032c4b57992094d4abfd1dcc",
            "c3e65606e4db411db37c2e93b11310c6",
            "3eae3d1c79484914b34994308563d617",
            "1c9a30696ff9422b8c126ecb7de27357",
            "072ec11a11af4ccb8b7f9582bf00cf46"
          ]
        },
        "id": "lpFSEdrvys8z",
        "outputId": "d35def33-98af-4d38-9c4e-c8ad8c487c5a"
      },
      "outputs": [
        {
          "data": {
            "application/javascript": [
              "\n",
              "        window._wandbApiKey = new Promise((resolve, reject) => {\n",
              "            function loadScript(url) {\n",
              "            return new Promise(function(resolve, reject) {\n",
              "                let newScript = document.createElement(\"script\");\n",
              "                newScript.onerror = reject;\n",
              "                newScript.onload = resolve;\n",
              "                document.body.appendChild(newScript);\n",
              "                newScript.src = url;\n",
              "            });\n",
              "            }\n",
              "            loadScript(\"https://cdn.jsdelivr.net/npm/postmate/build/postmate.min.js\").then(() => {\n",
              "            const iframe = document.createElement('iframe')\n",
              "            iframe.style.cssText = \"width:0;height:0;border:none\"\n",
              "            document.body.appendChild(iframe)\n",
              "            const handshake = new Postmate({\n",
              "                container: iframe,\n",
              "                url: 'https://wandb.ai/authorize'\n",
              "            });\n",
              "            const timeout = setTimeout(() => reject(\"Couldn't auto authenticate\"), 5000)\n",
              "            handshake.then(function(child) {\n",
              "                child.on('authorize', data => {\n",
              "                    clearTimeout(timeout)\n",
              "                    resolve(data)\n",
              "                });\n",
              "            });\n",
              "            })\n",
              "        });\n",
              "    "
            ],
            "text/plain": [
              "<IPython.core.display.Javascript object>"
            ]
          },
          "metadata": {},
          "output_type": "display_data"
        },
        {
          "name": "stderr",
          "output_type": "stream",
          "text": [
            "\u001b[34m\u001b[1mwandb\u001b[0m: Appending key for api.wandb.ai to your netrc file: /root/.netrc\n"
          ]
        },
        {
          "data": {
            "text/html": [
              "Tracking run with wandb version 0.16.1"
            ],
            "text/plain": [
              "<IPython.core.display.HTML object>"
            ]
          },
          "metadata": {},
          "output_type": "display_data"
        },
        {
          "data": {
            "text/html": [
              "Run data is saved locally in <code>/content/wandb/run-20231225_234052-p1vdsapb</code>"
            ],
            "text/plain": [
              "<IPython.core.display.HTML object>"
            ]
          },
          "metadata": {},
          "output_type": "display_data"
        },
        {
          "data": {
            "text/html": [
              "Syncing run <strong><a href='https://wandb.ai/squirrel-writes-her-phd/task1-pair_domains_v2/runs/p1vdsapb' target=\"_blank\">loco_fixed_single_NRP_seed_3407_2023-12-25_23:39:58</a></strong> to <a href='https://wandb.ai/squirrel-writes-her-phd/task1-pair_domains_v2' target=\"_blank\">Weights & Biases</a> (<a href='https://wandb.me/run' target=\"_blank\">docs</a>)<br/>"
            ],
            "text/plain": [
              "<IPython.core.display.HTML object>"
            ]
          },
          "metadata": {},
          "output_type": "display_data"
        },
        {
          "data": {
            "text/html": [
              " View project at <a href='https://wandb.ai/squirrel-writes-her-phd/task1-pair_domains_v2' target=\"_blank\">https://wandb.ai/squirrel-writes-her-phd/task1-pair_domains_v2</a>"
            ],
            "text/plain": [
              "<IPython.core.display.HTML object>"
            ]
          },
          "metadata": {},
          "output_type": "display_data"
        },
        {
          "data": {
            "text/html": [
              " View run at <a href='https://wandb.ai/squirrel-writes-her-phd/task1-pair_domains_v2/runs/p1vdsapb' target=\"_blank\">https://wandb.ai/squirrel-writes-her-phd/task1-pair_domains_v2/runs/p1vdsapb</a>"
            ],
            "text/plain": [
              "<IPython.core.display.HTML object>"
            ]
          },
          "metadata": {},
          "output_type": "display_data"
        },
        {
          "data": {
            "application/vnd.jupyter.widget-view+json": {
              "model_id": "d9bee0ee17114b75b5eb6369ca7184a6",
              "version_major": 2,
              "version_minor": 0
            },
            "text/plain": [
              "  0%|          | 0/38400 [00:00<?, ?it/s]"
            ]
          },
          "metadata": {},
          "output_type": "display_data"
        },
        {
          "data": {
            "application/vnd.jupyter.widget-view+json": {
              "model_id": "ff5661e02609402f9d488e084fb79f09",
              "version_major": 2,
              "version_minor": 0
            },
            "text/plain": [
              "  0%|          | 0/38400 [00:00<?, ?it/s]"
            ]
          },
          "metadata": {},
          "output_type": "display_data"
        },
        {
          "data": {
            "application/vnd.jupyter.widget-view+json": {
              "model_id": "58d43a182d114b73bfb243fe742ca7be",
              "version_major": 2,
              "version_minor": 0
            },
            "text/plain": [
              "  0%|          | 0/6000 [00:00<?, ?it/s]"
            ]
          },
          "metadata": {},
          "output_type": "display_data"
        },
        {
          "data": {
            "application/vnd.jupyter.widget-view+json": {
              "model_id": "2d039fbd0bae466ab84269e9f15235d6",
              "version_major": 2,
              "version_minor": 0
            },
            "text/plain": [
              "  0%|          | 0/6000 [00:00<?, ?it/s]"
            ]
          },
          "metadata": {},
          "output_type": "display_data"
        },
        {
          "name": "stdout",
          "output_type": "stream",
          "text": [
            "nsteps= 4800\n"
          ]
        },
        {
          "data": {
            "application/vnd.jupyter.widget-view+json": {
              "model_id": "ce7e626095ed42499d5f4d814cb7f66d",
              "version_major": 2,
              "version_minor": 0
            },
            "text/plain": [
              "config.json:   0%|          | 0.00/775 [00:00<?, ?B/s]"
            ]
          },
          "metadata": {},
          "output_type": "display_data"
        },
        {
          "data": {
            "application/vnd.jupyter.widget-view+json": {
              "model_id": "dba2820609034242afe41231c71e4dbb",
              "version_major": 2,
              "version_minor": 0
            },
            "text/plain": [
              "model.safetensors:   0%|          | 0.00/31.4M [00:00<?, ?B/s]"
            ]
          },
          "metadata": {},
          "output_type": "display_data"
        },
        {
          "name": "stderr",
          "output_type": "stream",
          "text": [
            "Some weights of EsmModel were not initialized from the model checkpoint at facebook/esm2_t6_8M_UR50D and are newly initialized: ['esm.pooler.dense.bias', 'esm.pooler.dense.weight']\n",
            "You should probably TRAIN this model on a down-stream task to be able to use it for predictions and inference.\n"
          ]
        },
        {
          "data": {
            "application/vnd.jupyter.widget-view+json": {
              "model_id": "6275aff1ced24788b2279dd343cdcf84",
              "version_major": 2,
              "version_minor": 0
            },
            "text/plain": [
              "tokenizer_config.json:   0%|          | 0.00/95.0 [00:00<?, ?B/s]"
            ]
          },
          "metadata": {},
          "output_type": "display_data"
        },
        {
          "data": {
            "application/vnd.jupyter.widget-view+json": {
              "model_id": "220bdedbca1446419ae1832c5f85ab12",
              "version_major": 2,
              "version_minor": 0
            },
            "text/plain": [
              "vocab.txt:   0%|          | 0.00/93.0 [00:00<?, ?B/s]"
            ]
          },
          "metadata": {},
          "output_type": "display_data"
        },
        {
          "data": {
            "application/vnd.jupyter.widget-view+json": {
              "model_id": "481a46ba25cb437f840bc4ccdbef5ee4",
              "version_major": 2,
              "version_minor": 0
            },
            "text/plain": [
              "special_tokens_map.json:   0%|          | 0.00/125 [00:00<?, ?B/s]"
            ]
          },
          "metadata": {},
          "output_type": "display_data"
        },
        {
          "data": {
            "application/vnd.jupyter.widget-view+json": {
              "model_id": "d960e2740f454326908fa8f8921743e2",
              "version_major": 2,
              "version_minor": 0
            },
            "text/plain": [
              "Epoch:   0%|          | 0/20 [00:00<?, ?it/s]"
            ]
          },
          "metadata": {},
          "output_type": "display_data"
        },
        {
          "data": {
            "application/vnd.jupyter.widget-view+json": {
              "model_id": "1a1cbcde468a4e1ba35792dfd3a1692b",
              "version_major": 2,
              "version_minor": 0
            },
            "text/plain": [
              "Iteration:   0%|          | 0/2400 [00:00<?, ?it/s]"
            ]
          },
          "metadata": {},
          "output_type": "display_data"
        },
        {
          "data": {
            "application/vnd.jupyter.widget-view+json": {
              "model_id": "c315ee1bb4f1419686967882489be573",
              "version_major": 2,
              "version_minor": 0
            },
            "text/plain": [
              "Batches:   0%|          | 0/4614 [00:00<?, ?it/s]"
            ]
          },
          "metadata": {},
          "output_type": "display_data"
        },
        {
          "data": {
            "application/vnd.jupyter.widget-view+json": {
              "model_id": "350ad227b9d04c69b1156611cbf00a06",
              "version_major": 2,
              "version_minor": 0
            },
            "text/plain": [
              "Batches:   0%|          | 0/4614 [00:00<?, ?it/s]"
            ]
          },
          "metadata": {},
          "output_type": "display_data"
        },
        {
          "data": {
            "application/vnd.jupyter.widget-view+json": {
              "model_id": "f02ee248f8e14ea9a8d04fe4a41c49e8",
              "version_major": 2,
              "version_minor": 0
            },
            "text/plain": [
              "Batches:   0%|          | 0/4614 [00:00<?, ?it/s]"
            ]
          },
          "metadata": {},
          "output_type": "display_data"
        },
        {
          "data": {
            "application/vnd.jupyter.widget-view+json": {
              "model_id": "d48b41b8026946ea85e78259b2f205b6",
              "version_major": 2,
              "version_minor": 0
            },
            "text/plain": [
              "Iteration:   0%|          | 0/2400 [00:00<?, ?it/s]"
            ]
          },
          "metadata": {},
          "output_type": "display_data"
        },
        {
          "data": {
            "application/vnd.jupyter.widget-view+json": {
              "model_id": "d8a92a6a0afd4ec088830ab0c6793d93",
              "version_major": 2,
              "version_minor": 0
            },
            "text/plain": [
              "Batches:   0%|          | 0/4614 [00:00<?, ?it/s]"
            ]
          },
          "metadata": {},
          "output_type": "display_data"
        },
        {
          "data": {
            "application/vnd.jupyter.widget-view+json": {
              "model_id": "e24083df8fea486da43d5b60ef39dfd4",
              "version_major": 2,
              "version_minor": 0
            },
            "text/plain": [
              "Batches:   0%|          | 0/4614 [00:00<?, ?it/s]"
            ]
          },
          "metadata": {},
          "output_type": "display_data"
        },
        {
          "data": {
            "application/vnd.jupyter.widget-view+json": {
              "model_id": "b31b8e8dcc864c1aaf09e558048ac4b2",
              "version_major": 2,
              "version_minor": 0
            },
            "text/plain": [
              "Batches:   0%|          | 0/4614 [00:00<?, ?it/s]"
            ]
          },
          "metadata": {},
          "output_type": "display_data"
        },
        {
          "data": {
            "application/vnd.jupyter.widget-view+json": {
              "model_id": "557bd53323e1448f813dcfd9a129063e",
              "version_major": 2,
              "version_minor": 0
            },
            "text/plain": [
              "Iteration:   0%|          | 0/2400 [00:00<?, ?it/s]"
            ]
          },
          "metadata": {},
          "output_type": "display_data"
        },
        {
          "data": {
            "application/vnd.jupyter.widget-view+json": {
              "model_id": "764a33afb07840bc99abfbf60d52cfbc",
              "version_major": 2,
              "version_minor": 0
            },
            "text/plain": [
              "Batches:   0%|          | 0/4614 [00:00<?, ?it/s]"
            ]
          },
          "metadata": {},
          "output_type": "display_data"
        },
        {
          "data": {
            "application/vnd.jupyter.widget-view+json": {
              "model_id": "2bff49c58aad4c8e9bee03f302001330",
              "version_major": 2,
              "version_minor": 0
            },
            "text/plain": [
              "Batches:   0%|          | 0/4614 [00:00<?, ?it/s]"
            ]
          },
          "metadata": {},
          "output_type": "display_data"
        },
        {
          "data": {
            "application/vnd.jupyter.widget-view+json": {
              "model_id": "ad848803ba0b430d8104fd9e5e87cea3",
              "version_major": 2,
              "version_minor": 0
            },
            "text/plain": [
              "Batches:   0%|          | 0/4614 [00:00<?, ?it/s]"
            ]
          },
          "metadata": {},
          "output_type": "display_data"
        },
        {
          "data": {
            "application/vnd.jupyter.widget-view+json": {
              "model_id": "61b9a281916644308ff0bfafc74f0abb",
              "version_major": 2,
              "version_minor": 0
            },
            "text/plain": [
              "Iteration:   0%|          | 0/2400 [00:00<?, ?it/s]"
            ]
          },
          "metadata": {},
          "output_type": "display_data"
        },
        {
          "data": {
            "application/vnd.jupyter.widget-view+json": {
              "model_id": "a6a2f3978a4d4b6193cae86013e2252f",
              "version_major": 2,
              "version_minor": 0
            },
            "text/plain": [
              "Batches:   0%|          | 0/4614 [00:00<?, ?it/s]"
            ]
          },
          "metadata": {},
          "output_type": "display_data"
        },
        {
          "data": {
            "application/vnd.jupyter.widget-view+json": {
              "model_id": "67eeb2fbd8204043b55ee70cc8eec194",
              "version_major": 2,
              "version_minor": 0
            },
            "text/plain": [
              "Batches:   0%|          | 0/4614 [00:00<?, ?it/s]"
            ]
          },
          "metadata": {},
          "output_type": "display_data"
        },
        {
          "data": {
            "application/vnd.jupyter.widget-view+json": {
              "model_id": "58ee0e37f6be4f2689be605bf067449e",
              "version_major": 2,
              "version_minor": 0
            },
            "text/plain": [
              "Batches:   0%|          | 0/4614 [00:00<?, ?it/s]"
            ]
          },
          "metadata": {},
          "output_type": "display_data"
        },
        {
          "data": {
            "application/vnd.jupyter.widget-view+json": {
              "model_id": "70f4b4bb429a4951969d45dc5c8840e4",
              "version_major": 2,
              "version_minor": 0
            },
            "text/plain": [
              "Iteration:   0%|          | 0/2400 [00:00<?, ?it/s]"
            ]
          },
          "metadata": {},
          "output_type": "display_data"
        },
        {
          "data": {
            "application/vnd.jupyter.widget-view+json": {
              "model_id": "64317bf5c0574363b5fa2af8ee181a3d",
              "version_major": 2,
              "version_minor": 0
            },
            "text/plain": [
              "Batches:   0%|          | 0/4614 [00:00<?, ?it/s]"
            ]
          },
          "metadata": {},
          "output_type": "display_data"
        },
        {
          "data": {
            "application/vnd.jupyter.widget-view+json": {
              "model_id": "290843acce71403a81e7805dcb0e8b18",
              "version_major": 2,
              "version_minor": 0
            },
            "text/plain": [
              "Batches:   0%|          | 0/4614 [00:00<?, ?it/s]"
            ]
          },
          "metadata": {},
          "output_type": "display_data"
        },
        {
          "data": {
            "application/vnd.jupyter.widget-view+json": {
              "model_id": "6816e780870d44dbaa48ef7739097fbc",
              "version_major": 2,
              "version_minor": 0
            },
            "text/plain": [
              "Batches:   0%|          | 0/4614 [00:00<?, ?it/s]"
            ]
          },
          "metadata": {},
          "output_type": "display_data"
        },
        {
          "data": {
            "application/vnd.jupyter.widget-view+json": {
              "model_id": "1bbca59316bd459683544f373d1b0783",
              "version_major": 2,
              "version_minor": 0
            },
            "text/plain": [
              "Iteration:   0%|          | 0/2400 [00:00<?, ?it/s]"
            ]
          },
          "metadata": {},
          "output_type": "display_data"
        },
        {
          "data": {
            "application/vnd.jupyter.widget-view+json": {
              "model_id": "bf930ea505674fff8bc86b6522e01761",
              "version_major": 2,
              "version_minor": 0
            },
            "text/plain": [
              "Batches:   0%|          | 0/4614 [00:00<?, ?it/s]"
            ]
          },
          "metadata": {},
          "output_type": "display_data"
        },
        {
          "data": {
            "application/vnd.jupyter.widget-view+json": {
              "model_id": "029d64fe85304f67a619d2d9cf921899",
              "version_major": 2,
              "version_minor": 0
            },
            "text/plain": [
              "Batches:   0%|          | 0/4614 [00:00<?, ?it/s]"
            ]
          },
          "metadata": {},
          "output_type": "display_data"
        },
        {
          "data": {
            "application/vnd.jupyter.widget-view+json": {
              "model_id": "84ae058568794437800bbc46fb454ea9",
              "version_major": 2,
              "version_minor": 0
            },
            "text/plain": [
              "Batches:   0%|          | 0/4614 [00:00<?, ?it/s]"
            ]
          },
          "metadata": {},
          "output_type": "display_data"
        },
        {
          "data": {
            "application/vnd.jupyter.widget-view+json": {
              "model_id": "95e215cd2e17407ca2211bc4ffee3663",
              "version_major": 2,
              "version_minor": 0
            },
            "text/plain": [
              "Iteration:   0%|          | 0/2400 [00:00<?, ?it/s]"
            ]
          },
          "metadata": {},
          "output_type": "display_data"
        },
        {
          "data": {
            "application/vnd.jupyter.widget-view+json": {
              "model_id": "e96bf749e85c47eca82a7592f63cc7ea",
              "version_major": 2,
              "version_minor": 0
            },
            "text/plain": [
              "Batches:   0%|          | 0/4614 [00:00<?, ?it/s]"
            ]
          },
          "metadata": {},
          "output_type": "display_data"
        },
        {
          "data": {
            "application/vnd.jupyter.widget-view+json": {
              "model_id": "52ee476f87a1490ca190eae48ed82c95",
              "version_major": 2,
              "version_minor": 0
            },
            "text/plain": [
              "Batches:   0%|          | 0/4614 [00:00<?, ?it/s]"
            ]
          },
          "metadata": {},
          "output_type": "display_data"
        },
        {
          "data": {
            "application/vnd.jupyter.widget-view+json": {
              "model_id": "3c82e6e7d44e43108720f43874f5d502",
              "version_major": 2,
              "version_minor": 0
            },
            "text/plain": [
              "Batches:   0%|          | 0/4614 [00:00<?, ?it/s]"
            ]
          },
          "metadata": {},
          "output_type": "display_data"
        },
        {
          "data": {
            "application/vnd.jupyter.widget-view+json": {
              "model_id": "c0c61b1c008c4c90a0c8847e33c5fae0",
              "version_major": 2,
              "version_minor": 0
            },
            "text/plain": [
              "Iteration:   0%|          | 0/2400 [00:00<?, ?it/s]"
            ]
          },
          "metadata": {},
          "output_type": "display_data"
        },
        {
          "data": {
            "application/vnd.jupyter.widget-view+json": {
              "model_id": "3604be02fee54cecb0f32bf3afc8bcd8",
              "version_major": 2,
              "version_minor": 0
            },
            "text/plain": [
              "Batches:   0%|          | 0/4614 [00:00<?, ?it/s]"
            ]
          },
          "metadata": {},
          "output_type": "display_data"
        },
        {
          "data": {
            "application/vnd.jupyter.widget-view+json": {
              "model_id": "7c5024fc8c8c49feadf19e43c92f8dd4",
              "version_major": 2,
              "version_minor": 0
            },
            "text/plain": [
              "Batches:   0%|          | 0/4614 [00:00<?, ?it/s]"
            ]
          },
          "metadata": {},
          "output_type": "display_data"
        },
        {
          "data": {
            "application/vnd.jupyter.widget-view+json": {
              "model_id": "8fff20b264c342449a28c42a8d8a3156",
              "version_major": 2,
              "version_minor": 0
            },
            "text/plain": [
              "Batches:   0%|          | 0/4614 [00:00<?, ?it/s]"
            ]
          },
          "metadata": {},
          "output_type": "display_data"
        },
        {
          "data": {
            "application/vnd.jupyter.widget-view+json": {
              "model_id": "2f51349e0eb548cda2284fa21e4448de",
              "version_major": 2,
              "version_minor": 0
            },
            "text/plain": [
              "Iteration:   0%|          | 0/2400 [00:00<?, ?it/s]"
            ]
          },
          "metadata": {},
          "output_type": "display_data"
        },
        {
          "data": {
            "application/vnd.jupyter.widget-view+json": {
              "model_id": "cd8d9bcf520341edbf3c21e026107ee8",
              "version_major": 2,
              "version_minor": 0
            },
            "text/plain": [
              "Batches:   0%|          | 0/4614 [00:00<?, ?it/s]"
            ]
          },
          "metadata": {},
          "output_type": "display_data"
        },
        {
          "data": {
            "application/vnd.jupyter.widget-view+json": {
              "model_id": "a51437ecfffa42f38184ef1ea654e460",
              "version_major": 2,
              "version_minor": 0
            },
            "text/plain": [
              "Batches:   0%|          | 0/4614 [00:00<?, ?it/s]"
            ]
          },
          "metadata": {},
          "output_type": "display_data"
        },
        {
          "data": {
            "application/vnd.jupyter.widget-view+json": {
              "model_id": "db05cdff5cf94474a33e405576e3d331",
              "version_major": 2,
              "version_minor": 0
            },
            "text/plain": [
              "Batches:   0%|          | 0/4614 [00:00<?, ?it/s]"
            ]
          },
          "metadata": {},
          "output_type": "display_data"
        },
        {
          "data": {
            "application/vnd.jupyter.widget-view+json": {
              "model_id": "5b92d12834e14b25b3648a811af76860",
              "version_major": 2,
              "version_minor": 0
            },
            "text/plain": [
              "Iteration:   0%|          | 0/2400 [00:00<?, ?it/s]"
            ]
          },
          "metadata": {},
          "output_type": "display_data"
        },
        {
          "data": {
            "application/vnd.jupyter.widget-view+json": {
              "model_id": "cda3ecd99b7448059d7b53ab28acbdba",
              "version_major": 2,
              "version_minor": 0
            },
            "text/plain": [
              "Batches:   0%|          | 0/4614 [00:00<?, ?it/s]"
            ]
          },
          "metadata": {},
          "output_type": "display_data"
        },
        {
          "data": {
            "application/vnd.jupyter.widget-view+json": {
              "model_id": "52c1afb177104756b47b63db043a1867",
              "version_major": 2,
              "version_minor": 0
            },
            "text/plain": [
              "Batches:   0%|          | 0/4614 [00:00<?, ?it/s]"
            ]
          },
          "metadata": {},
          "output_type": "display_data"
        },
        {
          "data": {
            "application/vnd.jupyter.widget-view+json": {
              "model_id": "c97ca8a7ea3248aeb5ebc1f8ffaf14ac",
              "version_major": 2,
              "version_minor": 0
            },
            "text/plain": [
              "Batches:   0%|          | 0/4614 [00:00<?, ?it/s]"
            ]
          },
          "metadata": {},
          "output_type": "display_data"
        },
        {
          "data": {
            "application/vnd.jupyter.widget-view+json": {
              "model_id": "4a845290d41b4b038c41cce4e2c56ada",
              "version_major": 2,
              "version_minor": 0
            },
            "text/plain": [
              "Iteration:   0%|          | 0/2400 [00:00<?, ?it/s]"
            ]
          },
          "metadata": {},
          "output_type": "display_data"
        },
        {
          "data": {
            "application/vnd.jupyter.widget-view+json": {
              "model_id": "563d650badc149e18b1062f6bff3be3d",
              "version_major": 2,
              "version_minor": 0
            },
            "text/plain": [
              "Batches:   0%|          | 0/4614 [00:00<?, ?it/s]"
            ]
          },
          "metadata": {},
          "output_type": "display_data"
        },
        {
          "data": {
            "application/vnd.jupyter.widget-view+json": {
              "model_id": "25192f98be1d4adb94874c41f47d135e",
              "version_major": 2,
              "version_minor": 0
            },
            "text/plain": [
              "Batches:   0%|          | 0/4614 [00:00<?, ?it/s]"
            ]
          },
          "metadata": {},
          "output_type": "display_data"
        },
        {
          "data": {
            "application/vnd.jupyter.widget-view+json": {
              "model_id": "252013270ef747919de2c2ac29675f1f",
              "version_major": 2,
              "version_minor": 0
            },
            "text/plain": [
              "Batches:   0%|          | 0/4614 [00:00<?, ?it/s]"
            ]
          },
          "metadata": {},
          "output_type": "display_data"
        },
        {
          "data": {
            "application/vnd.jupyter.widget-view+json": {
              "model_id": "6ce7bbe7cb434df5bb14a9ef6a7a5341",
              "version_major": 2,
              "version_minor": 0
            },
            "text/plain": [
              "Iteration:   0%|          | 0/2400 [00:00<?, ?it/s]"
            ]
          },
          "metadata": {},
          "output_type": "display_data"
        },
        {
          "data": {
            "application/vnd.jupyter.widget-view+json": {
              "model_id": "a121fd3852e5466189a92a6072116146",
              "version_major": 2,
              "version_minor": 0
            },
            "text/plain": [
              "Batches:   0%|          | 0/4614 [00:00<?, ?it/s]"
            ]
          },
          "metadata": {},
          "output_type": "display_data"
        },
        {
          "data": {
            "application/vnd.jupyter.widget-view+json": {
              "model_id": "f474f0d5820244cf9be185e4ebd9f7e1",
              "version_major": 2,
              "version_minor": 0
            },
            "text/plain": [
              "Batches:   0%|          | 0/4614 [00:00<?, ?it/s]"
            ]
          },
          "metadata": {},
          "output_type": "display_data"
        },
        {
          "data": {
            "application/vnd.jupyter.widget-view+json": {
              "model_id": "9b60896b0226405592a070bdeed734c2",
              "version_major": 2,
              "version_minor": 0
            },
            "text/plain": [
              "Batches:   0%|          | 0/4614 [00:00<?, ?it/s]"
            ]
          },
          "metadata": {},
          "output_type": "display_data"
        },
        {
          "data": {
            "application/vnd.jupyter.widget-view+json": {
              "model_id": "65b597c2c6e641e69d9987251aee10bf",
              "version_major": 2,
              "version_minor": 0
            },
            "text/plain": [
              "Iteration:   0%|          | 0/2400 [00:00<?, ?it/s]"
            ]
          },
          "metadata": {},
          "output_type": "display_data"
        },
        {
          "data": {
            "application/vnd.jupyter.widget-view+json": {
              "model_id": "d94fdfd840b647cda2e42307d1b86561",
              "version_major": 2,
              "version_minor": 0
            },
            "text/plain": [
              "Batches:   0%|          | 0/4614 [00:00<?, ?it/s]"
            ]
          },
          "metadata": {},
          "output_type": "display_data"
        },
        {
          "data": {
            "application/vnd.jupyter.widget-view+json": {
              "model_id": "cd0a2a23f15449c89bb4f8e1ebfc8231",
              "version_major": 2,
              "version_minor": 0
            },
            "text/plain": [
              "Batches:   0%|          | 0/4614 [00:00<?, ?it/s]"
            ]
          },
          "metadata": {},
          "output_type": "display_data"
        },
        {
          "data": {
            "application/vnd.jupyter.widget-view+json": {
              "model_id": "12bee97c092c4eff832fdd954509a13d",
              "version_major": 2,
              "version_minor": 0
            },
            "text/plain": [
              "Batches:   0%|          | 0/4614 [00:00<?, ?it/s]"
            ]
          },
          "metadata": {},
          "output_type": "display_data"
        },
        {
          "data": {
            "application/vnd.jupyter.widget-view+json": {
              "model_id": "21069ae5d3bf4678a3758e170dd41ce9",
              "version_major": 2,
              "version_minor": 0
            },
            "text/plain": [
              "Iteration:   0%|          | 0/2400 [00:00<?, ?it/s]"
            ]
          },
          "metadata": {},
          "output_type": "display_data"
        },
        {
          "data": {
            "application/vnd.jupyter.widget-view+json": {
              "model_id": "3dff4c24f9fd4d16a1962d8868bbed49",
              "version_major": 2,
              "version_minor": 0
            },
            "text/plain": [
              "Batches:   0%|          | 0/4614 [00:00<?, ?it/s]"
            ]
          },
          "metadata": {},
          "output_type": "display_data"
        },
        {
          "data": {
            "application/vnd.jupyter.widget-view+json": {
              "model_id": "4f2a0d04251d488e9d5f8f8243d094e4",
              "version_major": 2,
              "version_minor": 0
            },
            "text/plain": [
              "Batches:   0%|          | 0/4614 [00:00<?, ?it/s]"
            ]
          },
          "metadata": {},
          "output_type": "display_data"
        },
        {
          "data": {
            "application/vnd.jupyter.widget-view+json": {
              "model_id": "b4031094f5df4fb6bd38bcc5e493345a",
              "version_major": 2,
              "version_minor": 0
            },
            "text/plain": [
              "Batches:   0%|          | 0/4614 [00:00<?, ?it/s]"
            ]
          },
          "metadata": {},
          "output_type": "display_data"
        },
        {
          "data": {
            "application/vnd.jupyter.widget-view+json": {
              "model_id": "d1845b0bba1d4952b8971b2c01232bc6",
              "version_major": 2,
              "version_minor": 0
            },
            "text/plain": [
              "Iteration:   0%|          | 0/2400 [00:00<?, ?it/s]"
            ]
          },
          "metadata": {},
          "output_type": "display_data"
        },
        {
          "data": {
            "application/vnd.jupyter.widget-view+json": {
              "model_id": "f91ef7799def4b71a9e91048f13e5eab",
              "version_major": 2,
              "version_minor": 0
            },
            "text/plain": [
              "Batches:   0%|          | 0/4614 [00:00<?, ?it/s]"
            ]
          },
          "metadata": {},
          "output_type": "display_data"
        },
        {
          "data": {
            "application/vnd.jupyter.widget-view+json": {
              "model_id": "83d1f54de0934bc4a11192b160d60370",
              "version_major": 2,
              "version_minor": 0
            },
            "text/plain": [
              "Batches:   0%|          | 0/4614 [00:00<?, ?it/s]"
            ]
          },
          "metadata": {},
          "output_type": "display_data"
        },
        {
          "data": {
            "application/vnd.jupyter.widget-view+json": {
              "model_id": "cdaa1072f7b841e2bfadd1a71d1867c6",
              "version_major": 2,
              "version_minor": 0
            },
            "text/plain": [
              "Batches:   0%|          | 0/4614 [00:00<?, ?it/s]"
            ]
          },
          "metadata": {},
          "output_type": "display_data"
        },
        {
          "data": {
            "application/vnd.jupyter.widget-view+json": {
              "model_id": "8c68aaa6932c4ddd9710155a7ad64af9",
              "version_major": 2,
              "version_minor": 0
            },
            "text/plain": [
              "Iteration:   0%|          | 0/2400 [00:00<?, ?it/s]"
            ]
          },
          "metadata": {},
          "output_type": "display_data"
        },
        {
          "data": {
            "application/vnd.jupyter.widget-view+json": {
              "model_id": "8db32d0c98a34f93b6adc01525cf5945",
              "version_major": 2,
              "version_minor": 0
            },
            "text/plain": [
              "Batches:   0%|          | 0/4614 [00:00<?, ?it/s]"
            ]
          },
          "metadata": {},
          "output_type": "display_data"
        },
        {
          "data": {
            "application/vnd.jupyter.widget-view+json": {
              "model_id": "69453342caf149968ad76478b8ced643",
              "version_major": 2,
              "version_minor": 0
            },
            "text/plain": [
              "Batches:   0%|          | 0/4614 [00:00<?, ?it/s]"
            ]
          },
          "metadata": {},
          "output_type": "display_data"
        },
        {
          "data": {
            "application/vnd.jupyter.widget-view+json": {
              "model_id": "b04b80dbc5a547c6823142cc3ad81938",
              "version_major": 2,
              "version_minor": 0
            },
            "text/plain": [
              "Batches:   0%|          | 0/4614 [00:00<?, ?it/s]"
            ]
          },
          "metadata": {},
          "output_type": "display_data"
        },
        {
          "data": {
            "application/vnd.jupyter.widget-view+json": {
              "model_id": "59bb57f020c2495b9af3565e0257a9d0",
              "version_major": 2,
              "version_minor": 0
            },
            "text/plain": [
              "Iteration:   0%|          | 0/2400 [00:00<?, ?it/s]"
            ]
          },
          "metadata": {},
          "output_type": "display_data"
        },
        {
          "data": {
            "application/vnd.jupyter.widget-view+json": {
              "model_id": "fda8ac154c704021adb794ce91811d48",
              "version_major": 2,
              "version_minor": 0
            },
            "text/plain": [
              "Batches:   0%|          | 0/4614 [00:00<?, ?it/s]"
            ]
          },
          "metadata": {},
          "output_type": "display_data"
        },
        {
          "data": {
            "application/vnd.jupyter.widget-view+json": {
              "model_id": "568eec0c26964634bd86337cdbc23b88",
              "version_major": 2,
              "version_minor": 0
            },
            "text/plain": [
              "Batches:   0%|          | 0/4614 [00:00<?, ?it/s]"
            ]
          },
          "metadata": {},
          "output_type": "display_data"
        },
        {
          "data": {
            "application/vnd.jupyter.widget-view+json": {
              "model_id": "47ba24ad83c14078860f5b435c16e7d1",
              "version_major": 2,
              "version_minor": 0
            },
            "text/plain": [
              "Batches:   0%|          | 0/4614 [00:00<?, ?it/s]"
            ]
          },
          "metadata": {},
          "output_type": "display_data"
        },
        {
          "data": {
            "application/vnd.jupyter.widget-view+json": {
              "model_id": "a6c1abb6ebc7462a85f7b12d8c919375",
              "version_major": 2,
              "version_minor": 0
            },
            "text/plain": [
              "Iteration:   0%|          | 0/2400 [00:00<?, ?it/s]"
            ]
          },
          "metadata": {},
          "output_type": "display_data"
        },
        {
          "data": {
            "application/vnd.jupyter.widget-view+json": {
              "model_id": "a6e0bb1f2b1445889aedc9557c4f01a2",
              "version_major": 2,
              "version_minor": 0
            },
            "text/plain": [
              "Batches:   0%|          | 0/4614 [00:00<?, ?it/s]"
            ]
          },
          "metadata": {},
          "output_type": "display_data"
        },
        {
          "data": {
            "application/vnd.jupyter.widget-view+json": {
              "model_id": "67236f895601415b9aee768623e80938",
              "version_major": 2,
              "version_minor": 0
            },
            "text/plain": [
              "Batches:   0%|          | 0/4614 [00:00<?, ?it/s]"
            ]
          },
          "metadata": {},
          "output_type": "display_data"
        },
        {
          "data": {
            "application/vnd.jupyter.widget-view+json": {
              "model_id": "7afa3fe4d3764c379364cfa79db9e528",
              "version_major": 2,
              "version_minor": 0
            },
            "text/plain": [
              "Batches:   0%|          | 0/4614 [00:00<?, ?it/s]"
            ]
          },
          "metadata": {},
          "output_type": "display_data"
        },
        {
          "data": {
            "application/vnd.jupyter.widget-view+json": {
              "model_id": "afa9506a30f64e5b816a395d237ab7e0",
              "version_major": 2,
              "version_minor": 0
            },
            "text/plain": [
              "Iteration:   0%|          | 0/2400 [00:00<?, ?it/s]"
            ]
          },
          "metadata": {},
          "output_type": "display_data"
        },
        {
          "data": {
            "application/vnd.jupyter.widget-view+json": {
              "model_id": "0710a30f2d204f54b0e41b2194ff8642",
              "version_major": 2,
              "version_minor": 0
            },
            "text/plain": [
              "Batches:   0%|          | 0/4614 [00:00<?, ?it/s]"
            ]
          },
          "metadata": {},
          "output_type": "display_data"
        },
        {
          "data": {
            "application/vnd.jupyter.widget-view+json": {
              "model_id": "104b16006d3c4ca1b6c2f003673169cd",
              "version_major": 2,
              "version_minor": 0
            },
            "text/plain": [
              "Batches:   0%|          | 0/4614 [00:00<?, ?it/s]"
            ]
          },
          "metadata": {},
          "output_type": "display_data"
        },
        {
          "data": {
            "application/vnd.jupyter.widget-view+json": {
              "model_id": "ff1a50a0d2bc4a84bfb40990f78165fc",
              "version_major": 2,
              "version_minor": 0
            },
            "text/plain": [
              "Batches:   0%|          | 0/4614 [00:00<?, ?it/s]"
            ]
          },
          "metadata": {},
          "output_type": "display_data"
        },
        {
          "data": {
            "application/vnd.jupyter.widget-view+json": {
              "model_id": "a4a3589d032c4b57992094d4abfd1dcc",
              "version_major": 2,
              "version_minor": 0
            },
            "text/plain": [
              "Iteration:   0%|          | 0/2400 [00:00<?, ?it/s]"
            ]
          },
          "metadata": {},
          "output_type": "display_data"
        },
        {
          "data": {
            "application/vnd.jupyter.widget-view+json": {
              "model_id": "c3e65606e4db411db37c2e93b11310c6",
              "version_major": 2,
              "version_minor": 0
            },
            "text/plain": [
              "Batches:   0%|          | 0/4614 [00:00<?, ?it/s]"
            ]
          },
          "metadata": {},
          "output_type": "display_data"
        },
        {
          "data": {
            "application/vnd.jupyter.widget-view+json": {
              "model_id": "3eae3d1c79484914b34994308563d617",
              "version_major": 2,
              "version_minor": 0
            },
            "text/plain": [
              "Batches:   0%|          | 0/4614 [00:00<?, ?it/s]"
            ]
          },
          "metadata": {},
          "output_type": "display_data"
        },
        {
          "data": {
            "application/vnd.jupyter.widget-view+json": {
              "model_id": "1c9a30696ff9422b8c126ecb7de27357",
              "version_major": 2,
              "version_minor": 0
            },
            "text/plain": [
              "Batches:   0%|          | 0/4614 [00:00<?, ?it/s]"
            ]
          },
          "metadata": {},
          "output_type": "display_data"
        },
        {
          "data": {
            "application/vnd.jupyter.widget-view+json": {
              "model_id": "072ec11a11af4ccb8b7f9582bf00cf46",
              "version_major": 2,
              "version_minor": 0
            },
            "text/plain": [
              "VBox(children=(Label(value='0.002 MB of 0.002 MB uploaded\\r'), FloatProgress(value=1.0, max=1.0)))"
            ]
          },
          "metadata": {},
          "output_type": "display_data"
        },
        {
          "data": {
            "text/html": [
              "<style>\n",
              "    table.wandb td:nth-child(1) { padding: 0 10px; text-align: left ; width: auto;} td:nth-child(2) {text-align: left ; width: 100%}\n",
              "    .wandb-row { display: flex; flex-direction: row; flex-wrap: wrap; justify-content: flex-start; width: 100% }\n",
              "    .wandb-col { display: flex; flex-direction: column; flex-basis: 100%; flex: 1; padding: 10px; }\n",
              "    </style>\n",
              "<div class=\"wandb-row\"><div class=\"wandb-col\"><h3>Run history:</h3><br/><table class=\"wandb\"><tr><td>calinsky_score</td><td>▁▁▂▂▃▃▄▄▄▅▅▅▅▆▆▆▆▆▇▇▇▇▇▇▇▇██████████████</td></tr><tr><td>pearson_cosine</td><td>▁▁▃▄▅▄▅▆▆▆▆▇▇▇▇▇▇▇▇▇██▇█████████████████</td></tr><tr><td>silhouette_full</td><td>▁▂▄▅▅▅▅▆▆▆▆▆▆▇▆▇▇▇▇▇▇▇▇▇█▇██████████████</td></tr><tr><td>silhouette_test</td><td>▄▅██▅█▇▇▄▅▅▄▄▄▃▃▂▄▂▃▃▄▂▂▂▂▂▃▃▁▂▂▂▂▂▂▂▂▂▂</td></tr><tr><td>silhouette_val</td><td>▁▂▃▄▄▄▅▆▆▆▆▆▆▇▇▇▇▇▇▇█▇▇▇█▇██████████████</td></tr></table><br/></div><div class=\"wandb-col\"><h3>Run summary:</h3><br/><table class=\"wandb\"><tr><td>calinsky_score</td><td>276.78106</td></tr><tr><td>pearson_cosine</td><td>0.56383</td></tr><tr><td>silhouette_full</td><td>0.12818</td></tr><tr><td>silhouette_test</td><td>0.03899</td></tr><tr><td>silhouette_val</td><td>0.20347</td></tr></table><br/></div></div>"
            ],
            "text/plain": [
              "<IPython.core.display.HTML object>"
            ]
          },
          "metadata": {},
          "output_type": "display_data"
        },
        {
          "data": {
            "text/html": [
              " View run <strong style=\"color:#cdcd00\">loco_fixed_single_NRP_seed_3407_2023-12-25_23:39:58</strong> at: <a href='https://wandb.ai/squirrel-writes-her-phd/task1-pair_domains_v2/runs/p1vdsapb' target=\"_blank\">https://wandb.ai/squirrel-writes-her-phd/task1-pair_domains_v2/runs/p1vdsapb</a><br/>Synced 5 W&B file(s), 0 media file(s), 0 artifact file(s) and 0 other file(s)"
            ],
            "text/plain": [
              "<IPython.core.display.HTML object>"
            ]
          },
          "metadata": {},
          "output_type": "display_data"
        },
        {
          "data": {
            "text/html": [
              "Find logs at: <code>./wandb/run-20231225_234052-p1vdsapb/logs</code>"
            ],
            "text/plain": [
              "<IPython.core.display.HTML object>"
            ]
          },
          "metadata": {},
          "output_type": "display_data"
        }
      ],
      "source": [
        "BATCH_SIZE = 16\n",
        "NEPOCHS = 20\n",
        "TEST_BIOSYN_CLASS_NAME = \"NRP\"  # \"Terpene\":  # \"Saccharide\":  # \"Alkaloid\":  # \"RiPP\":  # \"NRP\": # \"Polyketide\"\n",
        "\n",
        "current_df = domains_df # domains_tiny_df\n",
        "ntrain_samples = NTRAIN_SAMPLES\n",
        "ntest_samples = NTEST_SAMPLES\n",
        "\n",
        "for ifold, bgc_class in enumerate(all_bgc_class_names):\n",
        "  #if bgc_class != \"RiPP\":\n",
        "  #  continue\n",
        "  #if bgc_class != \"Polyketide\":  # \"Other\":  # \"Saccharide\":  # \"Terpene\":  # \"RiPP\":  # \"Alkaloid\":  # \"NRP\":\n",
        "  #    continue\n",
        "  if bgc_class != TEST_BIOSYN_CLASS_NAME:\n",
        "      continue\n",
        "  wandb.init(\n",
        "    project=\"task1-pair_domains_v2\",\n",
        "    # We pass a run name (otherwise it’ll be randomly assigned, like sunshine-lollypop-10)\n",
        "    name=f\"loco_fixed_single_{bgc_class}_seed_{RANDOM_SEED}_{current_timestamp}\",\n",
        "    # Track hyperparameters and run metadata\n",
        "    config={\n",
        "      \"architecture\": \"esm2_8m\",\n",
        "      \"epochs\": NEPOCHS,\n",
        "      \"batch_size\": BATCH_SIZE,\n",
        "      \"ntrain_samples\": ntrain_samples,\n",
        "      \"ntest_samples\": ntest_samples,\n",
        "      'random_seed': RANDOM_SEED,\n",
        "      'biosyn_class': bgc_class\n",
        "    }\n",
        "  )\n",
        "  # train_dataset, val_dataset, test_sequences = prepare_fold_data(fasta_df, ifold=ifold)\n",
        "  train_dataset, val_dataset, test_sequences, train_index, val_index, test_index = prepare_fold_data(\n",
        "      current_df, ifold=ifold, pair_columns=pair_columns, ntrain_samples=ntrain_samples,\n",
        "      ntest_samples=ntest_samples\n",
        "  )\n",
        "  assert np.isin(current_df.loc[test_index, \"bgc_class\"].unique(), [bgc_class]).all(), \"Biosynthetic class in test is unexpected\"\n",
        "  # break\n",
        "  val_ids = current_df.index.isin(val_index)\n",
        "  val_sequences = [current_df.loc[val_ids, col].values for col in pair_columns]\n",
        "  val_targets = current_df.loc[val_ids, \"biosyn_class_index\"].values\n",
        "  val_bgc_list = current_df.loc[val_ids, \"bgcid\"].values\n",
        "\n",
        "  all_index = current_df.index[current_df.index.isin(train_index) | current_df.index.isin(val_index) | current_df.index.isin(test_index)]\n",
        "  # all_sequences = [current_df.loc[all_ids, col].values for col in pair_columns]\n",
        "  # all_targets = current_df.loc[all_ids, \"biosyn_class_index\"].values\n",
        "\n",
        "  train_dataloader = DataLoader(train_dataset, shuffle=True, batch_size=BATCH_SIZE)\n",
        "  # test_dataloader = DataLoader(test_dataset, shuffle=False, batch_size=BATCH_SIZE)\n",
        "  # break\n",
        "  NSTEPS = len(train_dataset) // BATCH_SIZE\n",
        "  print(\"nsteps=\", NSTEPS)\n",
        "\n",
        "  # model = SentenceTransformer(PROTEIN_MODEL)\n",
        "  model = prepare_st_model(freeze=True)\n",
        "  # break\n",
        "  train_loss = PairCosineSimilarityLoss(model)\n",
        "  val_data = list(zip(*val_dataset))\n",
        "  sentences = val_data[:-1]\n",
        "  scores = val_data[-1]\n",
        "\n",
        "  name = PROTEIN_MODEL.replace(\"/\", \"_\")\n",
        "  name = f\"{name}_{ifold}_{bgc_class}\"\n",
        "  SAVEDIR = BASEDIR / name  # PROTEIN_MODEL.replace(\"/\", \"_\")\n",
        "  SAVEDIR.mkdir(exist_ok=True, parents=True)\n",
        "  BESTDIR = BASEDIR / (name + \"_best\")\n",
        "  IMGDIR = SAVEDIR / \"images\"\n",
        "  IMGDIR.mkdir(exist_ok=True)\n",
        "\n",
        "  # evaluator = PairEmbeddingSimilarityEvaluator(sentences, scores, write_csv=True)\n",
        "  val_evaluator = PairEmbeddingSilhouetteEvaluator(\n",
        "      val_sequences, val_targets, all_bgc_class_names, write_csv=True, bgcid_list=val_bgc_list,\n",
        "      savedir=IMGDIR\n",
        "  )\n",
        "  test_evaluator = TestSilhouetteEvaluator(\n",
        "      current_df, all_index, test_index, all_bgc_class_names, columns=pair_columns, test_fold=ifold, write_csv=True,\n",
        "      savedir=IMGDIR\n",
        "  )\n",
        "  evaluator = SequentialEvaluator([test_evaluator, val_evaluator])\n",
        "\n",
        "  model.fit(\n",
        "      train_objectives=[(train_dataloader, train_loss)],\n",
        "      epochs=NEPOCHS, warmup_steps=100,\n",
        "      output_path=BESTDIR.as_posix(),\n",
        "      use_amp=True,\n",
        "      checkpoint_path=SAVEDIR.as_posix(),\n",
        "      checkpoint_save_total_limit=10,\n",
        "      checkpoint_save_steps=NSTEPS//2,\n",
        "      steps_per_epoch=NSTEPS//2,\n",
        "      evaluator=evaluator,\n",
        "      evaluation_steps= min(1000, NSTEPS//2),\n",
        "      save_best_model=True\n",
        "  )\n",
        "  # sentences = domains_df.loc[:, 7].values\n",
        "\n",
        "  # embeddings = model.encode(sentences)\n",
        "\n",
        "  # filename = SAVEDIR / \"latest_embeddings.npz\"\n",
        "  # np.savez_compressed(filename.as_posix(), embeddings)\n",
        "\n",
        "  del model\n",
        "  train_dataloader = None\n",
        "  test_dataloader = None\n",
        "  # import gc\n",
        "  torch.cuda.empty_cache()\n",
        "  gc.collect()\n",
        "  wandb.finish()\n"
      ]
    },
    {
      "cell_type": "code",
      "execution_count": null,
      "metadata": {
        "colab": {
          "background_save": true
        },
        "id": "T-dT0cqH1uzF"
      },
      "outputs": [],
      "source": [
        "# del model\n",
        "# data_loader=None\n",
        "# # del model\n",
        "# import gc\n",
        "# torch.cuda.empty_cache()\n",
        "# gc.collect()\n"
      ]
    },
    {
      "cell_type": "code",
      "execution_count": null,
      "metadata": {
        "colab": {
          "background_save": true
        },
        "id": "pJgGrlzZ27dD"
      },
      "outputs": [],
      "source": []
    },
    {
      "cell_type": "code",
      "execution_count": null,
      "metadata": {
        "colab": {
          "background_save": true
        },
        "id": "_6VgVzvY66LQ"
      },
      "outputs": [],
      "source": []
    }
  ],
  "metadata": {
    "accelerator": "GPU",
    "colab": {
      "machine_shape": "hm",
      "provenance": [],
      "toc_visible": true
    },
    "kernelspec": {
      "display_name": "Python 3",
      "name": "python3"
    },
    "language_info": {
      "name": "python"
    },
    "widgets": {
      "application/vnd.jupyter.widget-state+json": {
        "042293b0c56c467cba98e7cd48d1fa16": {
          "model_module": "@jupyter-widgets/base",
          "model_module_version": "1.2.0",
          "model_name": "LayoutModel",
          "state": {
            "_model_module": "@jupyter-widgets/base",
            "_model_module_version": "1.2.0",
            "_model_name": "LayoutModel",
            "_view_count": null,
            "_view_module": "@jupyter-widgets/base",
            "_view_module_version": "1.2.0",
            "_view_name": "LayoutView",
            "align_content": null,
            "align_items": null,
            "align_self": null,
            "border": null,
            "bottom": null,
            "display": null,
            "flex": null,
            "flex_flow": null,
            "grid_area": null,
            "grid_auto_columns": null,
            "grid_auto_flow": null,
            "grid_auto_rows": null,
            "grid_column": null,
            "grid_gap": null,
            "grid_row": null,
            "grid_template_areas": null,
            "grid_template_columns": null,
            "grid_template_rows": null,
            "height": null,
            "justify_content": null,
            "justify_items": null,
            "left": null,
            "margin": null,
            "max_height": null,
            "max_width": null,
            "min_height": null,
            "min_width": null,
            "object_fit": null,
            "object_position": null,
            "order": null,
            "overflow": null,
            "overflow_x": null,
            "overflow_y": null,
            "padding": null,
            "right": null,
            "top": null,
            "visibility": null,
            "width": null
          }
        },
        "07cbcde2d1624ee380d3e91ee7e2dbce": {
          "model_module": "@jupyter-widgets/controls",
          "model_module_version": "1.5.0",
          "model_name": "DescriptionStyleModel",
          "state": {
            "_model_module": "@jupyter-widgets/controls",
            "_model_module_version": "1.5.0",
            "_model_name": "DescriptionStyleModel",
            "_view_count": null,
            "_view_module": "@jupyter-widgets/base",
            "_view_module_version": "1.2.0",
            "_view_name": "StyleView",
            "description_width": ""
          }
        },
        "08b827a11854478f8c678077a9afb6b3": {
          "model_module": "@jupyter-widgets/base",
          "model_module_version": "1.2.0",
          "model_name": "LayoutModel",
          "state": {
            "_model_module": "@jupyter-widgets/base",
            "_model_module_version": "1.2.0",
            "_model_name": "LayoutModel",
            "_view_count": null,
            "_view_module": "@jupyter-widgets/base",
            "_view_module_version": "1.2.0",
            "_view_name": "LayoutView",
            "align_content": null,
            "align_items": null,
            "align_self": null,
            "border": null,
            "bottom": null,
            "display": null,
            "flex": null,
            "flex_flow": null,
            "grid_area": null,
            "grid_auto_columns": null,
            "grid_auto_flow": null,
            "grid_auto_rows": null,
            "grid_column": null,
            "grid_gap": null,
            "grid_row": null,
            "grid_template_areas": null,
            "grid_template_columns": null,
            "grid_template_rows": null,
            "height": null,
            "justify_content": null,
            "justify_items": null,
            "left": null,
            "margin": null,
            "max_height": null,
            "max_width": null,
            "min_height": null,
            "min_width": null,
            "object_fit": null,
            "object_position": null,
            "order": null,
            "overflow": null,
            "overflow_x": null,
            "overflow_y": null,
            "padding": null,
            "right": null,
            "top": null,
            "visibility": null,
            "width": null
          }
        },
        "09d1438c0fe14a72a8b061cb1496eebb": {
          "model_module": "@jupyter-widgets/controls",
          "model_module_version": "1.5.0",
          "model_name": "FloatProgressModel",
          "state": {
            "_dom_classes": [],
            "_model_module": "@jupyter-widgets/controls",
            "_model_module_version": "1.5.0",
            "_model_name": "FloatProgressModel",
            "_view_count": null,
            "_view_module": "@jupyter-widgets/controls",
            "_view_module_version": "1.5.0",
            "_view_name": "ProgressView",
            "bar_style": "success",
            "description": "",
            "description_tooltip": null,
            "layout": "IPY_MODEL_4356cb8b6f854744ad275b02a41156f0",
            "max": 125,
            "min": 0,
            "orientation": "horizontal",
            "style": "IPY_MODEL_f6840b5a31244b689830f409c5a6d49f",
            "value": 125
          }
        },
        "09ed20a0f4584f3cbc43d9a36693ee5f": {
          "model_module": "@jupyter-widgets/base",
          "model_module_version": "1.2.0",
          "model_name": "LayoutModel",
          "state": {
            "_model_module": "@jupyter-widgets/base",
            "_model_module_version": "1.2.0",
            "_model_name": "LayoutModel",
            "_view_count": null,
            "_view_module": "@jupyter-widgets/base",
            "_view_module_version": "1.2.0",
            "_view_name": "LayoutView",
            "align_content": null,
            "align_items": null,
            "align_self": null,
            "border": null,
            "bottom": null,
            "display": null,
            "flex": null,
            "flex_flow": null,
            "grid_area": null,
            "grid_auto_columns": null,
            "grid_auto_flow": null,
            "grid_auto_rows": null,
            "grid_column": null,
            "grid_gap": null,
            "grid_row": null,
            "grid_template_areas": null,
            "grid_template_columns": null,
            "grid_template_rows": null,
            "height": null,
            "justify_content": null,
            "justify_items": null,
            "left": null,
            "margin": null,
            "max_height": null,
            "max_width": null,
            "min_height": null,
            "min_width": null,
            "object_fit": null,
            "object_position": null,
            "order": null,
            "overflow": null,
            "overflow_x": null,
            "overflow_y": null,
            "padding": null,
            "right": null,
            "top": null,
            "visibility": null,
            "width": null
          }
        },
        "0e1fdf0737bf454c916e4dc4ab0a8340": {
          "model_module": "@jupyter-widgets/base",
          "model_module_version": "1.2.0",
          "model_name": "LayoutModel",
          "state": {
            "_model_module": "@jupyter-widgets/base",
            "_model_module_version": "1.2.0",
            "_model_name": "LayoutModel",
            "_view_count": null,
            "_view_module": "@jupyter-widgets/base",
            "_view_module_version": "1.2.0",
            "_view_name": "LayoutView",
            "align_content": null,
            "align_items": null,
            "align_self": null,
            "border": null,
            "bottom": null,
            "display": null,
            "flex": null,
            "flex_flow": null,
            "grid_area": null,
            "grid_auto_columns": null,
            "grid_auto_flow": null,
            "grid_auto_rows": null,
            "grid_column": null,
            "grid_gap": null,
            "grid_row": null,
            "grid_template_areas": null,
            "grid_template_columns": null,
            "grid_template_rows": null,
            "height": null,
            "justify_content": null,
            "justify_items": null,
            "left": null,
            "margin": null,
            "max_height": null,
            "max_width": null,
            "min_height": null,
            "min_width": null,
            "object_fit": null,
            "object_position": null,
            "order": null,
            "overflow": null,
            "overflow_x": null,
            "overflow_y": null,
            "padding": null,
            "right": null,
            "top": null,
            "visibility": null,
            "width": null
          }
        },
        "117cbbeaf66447c6a6229a7c4a410b91": {
          "model_module": "@jupyter-widgets/controls",
          "model_module_version": "1.5.0",
          "model_name": "DescriptionStyleModel",
          "state": {
            "_model_module": "@jupyter-widgets/controls",
            "_model_module_version": "1.5.0",
            "_model_name": "DescriptionStyleModel",
            "_view_count": null,
            "_view_module": "@jupyter-widgets/base",
            "_view_module_version": "1.2.0",
            "_view_name": "StyleView",
            "description_width": ""
          }
        },
        "125406dc0bcc43feb2a0e094388069a6": {
          "model_module": "@jupyter-widgets/controls",
          "model_module_version": "1.5.0",
          "model_name": "ProgressStyleModel",
          "state": {
            "_model_module": "@jupyter-widgets/controls",
            "_model_module_version": "1.5.0",
            "_model_name": "ProgressStyleModel",
            "_view_count": null,
            "_view_module": "@jupyter-widgets/base",
            "_view_module_version": "1.2.0",
            "_view_name": "StyleView",
            "bar_color": null,
            "description_width": ""
          }
        },
        "1499fd8fa1ea46228708464b0293b94c": {
          "model_module": "@jupyter-widgets/base",
          "model_module_version": "1.2.0",
          "model_name": "LayoutModel",
          "state": {
            "_model_module": "@jupyter-widgets/base",
            "_model_module_version": "1.2.0",
            "_model_name": "LayoutModel",
            "_view_count": null,
            "_view_module": "@jupyter-widgets/base",
            "_view_module_version": "1.2.0",
            "_view_name": "LayoutView",
            "align_content": null,
            "align_items": null,
            "align_self": null,
            "border": null,
            "bottom": null,
            "display": null,
            "flex": null,
            "flex_flow": null,
            "grid_area": null,
            "grid_auto_columns": null,
            "grid_auto_flow": null,
            "grid_auto_rows": null,
            "grid_column": null,
            "grid_gap": null,
            "grid_row": null,
            "grid_template_areas": null,
            "grid_template_columns": null,
            "grid_template_rows": null,
            "height": null,
            "justify_content": null,
            "justify_items": null,
            "left": null,
            "margin": null,
            "max_height": null,
            "max_width": null,
            "min_height": null,
            "min_width": null,
            "object_fit": null,
            "object_position": null,
            "order": null,
            "overflow": null,
            "overflow_x": null,
            "overflow_y": null,
            "padding": null,
            "right": null,
            "top": null,
            "visibility": null,
            "width": null
          }
        },
        "156c02be809d426c887301bd95154c7f": {
          "model_module": "@jupyter-widgets/base",
          "model_module_version": "1.2.0",
          "model_name": "LayoutModel",
          "state": {
            "_model_module": "@jupyter-widgets/base",
            "_model_module_version": "1.2.0",
            "_model_name": "LayoutModel",
            "_view_count": null,
            "_view_module": "@jupyter-widgets/base",
            "_view_module_version": "1.2.0",
            "_view_name": "LayoutView",
            "align_content": null,
            "align_items": null,
            "align_self": null,
            "border": null,
            "bottom": null,
            "display": null,
            "flex": null,
            "flex_flow": null,
            "grid_area": null,
            "grid_auto_columns": null,
            "grid_auto_flow": null,
            "grid_auto_rows": null,
            "grid_column": null,
            "grid_gap": null,
            "grid_row": null,
            "grid_template_areas": null,
            "grid_template_columns": null,
            "grid_template_rows": null,
            "height": null,
            "justify_content": null,
            "justify_items": null,
            "left": null,
            "margin": null,
            "max_height": null,
            "max_width": null,
            "min_height": null,
            "min_width": null,
            "object_fit": null,
            "object_position": null,
            "order": null,
            "overflow": null,
            "overflow_x": null,
            "overflow_y": null,
            "padding": null,
            "right": null,
            "top": null,
            "visibility": null,
            "width": null
          }
        },
        "1a1cbcde468a4e1ba35792dfd3a1692b": {
          "model_module": "@jupyter-widgets/controls",
          "model_module_version": "1.5.0",
          "model_name": "HBoxModel",
          "state": {
            "_dom_classes": [],
            "_model_module": "@jupyter-widgets/controls",
            "_model_module_version": "1.5.0",
            "_model_name": "HBoxModel",
            "_view_count": null,
            "_view_module": "@jupyter-widgets/controls",
            "_view_module_version": "1.5.0",
            "_view_name": "HBoxView",
            "box_style": "",
            "children": [
              "IPY_MODEL_94cc8c65251e4509ad8dfd6c95a0be69",
              "IPY_MODEL_f9a6bd5f12e64808800885b7fac41d8e",
              "IPY_MODEL_3f97e16e24024d038301eec923ee9f69"
            ],
            "layout": "IPY_MODEL_673b751ae4db49618acddb279cc76017"
          }
        },
        "1a900efa6b50429b95560d93622190ce": {
          "model_module": "@jupyter-widgets/base",
          "model_module_version": "1.2.0",
          "model_name": "LayoutModel",
          "state": {
            "_model_module": "@jupyter-widgets/base",
            "_model_module_version": "1.2.0",
            "_model_name": "LayoutModel",
            "_view_count": null,
            "_view_module": "@jupyter-widgets/base",
            "_view_module_version": "1.2.0",
            "_view_name": "LayoutView",
            "align_content": null,
            "align_items": null,
            "align_self": null,
            "border": null,
            "bottom": null,
            "display": null,
            "flex": null,
            "flex_flow": null,
            "grid_area": null,
            "grid_auto_columns": null,
            "grid_auto_flow": null,
            "grid_auto_rows": null,
            "grid_column": null,
            "grid_gap": null,
            "grid_row": null,
            "grid_template_areas": null,
            "grid_template_columns": null,
            "grid_template_rows": null,
            "height": null,
            "justify_content": null,
            "justify_items": null,
            "left": null,
            "margin": null,
            "max_height": null,
            "max_width": null,
            "min_height": null,
            "min_width": null,
            "object_fit": null,
            "object_position": null,
            "order": null,
            "overflow": null,
            "overflow_x": null,
            "overflow_y": null,
            "padding": null,
            "right": null,
            "top": null,
            "visibility": null,
            "width": null
          }
        },
        "1af2c6bb23914e228bda6e708b369faf": {
          "model_module": "@jupyter-widgets/controls",
          "model_module_version": "1.5.0",
          "model_name": "ProgressStyleModel",
          "state": {
            "_model_module": "@jupyter-widgets/controls",
            "_model_module_version": "1.5.0",
            "_model_name": "ProgressStyleModel",
            "_view_count": null,
            "_view_module": "@jupyter-widgets/base",
            "_view_module_version": "1.2.0",
            "_view_name": "StyleView",
            "bar_color": null,
            "description_width": ""
          }
        },
        "1b4d475e261442fbb1dd75c5a2ef8ae4": {
          "model_module": "@jupyter-widgets/controls",
          "model_module_version": "1.5.0",
          "model_name": "ProgressStyleModel",
          "state": {
            "_model_module": "@jupyter-widgets/controls",
            "_model_module_version": "1.5.0",
            "_model_name": "ProgressStyleModel",
            "_view_count": null,
            "_view_module": "@jupyter-widgets/base",
            "_view_module_version": "1.2.0",
            "_view_name": "StyleView",
            "bar_color": null,
            "description_width": ""
          }
        },
        "1d47af97d7864ab49d13ec6f502c0f9c": {
          "model_module": "@jupyter-widgets/controls",
          "model_module_version": "1.5.0",
          "model_name": "HTMLModel",
          "state": {
            "_dom_classes": [],
            "_model_module": "@jupyter-widgets/controls",
            "_model_module_version": "1.5.0",
            "_model_name": "HTMLModel",
            "_view_count": null,
            "_view_module": "@jupyter-widgets/controls",
            "_view_module_version": "1.5.0",
            "_view_name": "HTMLView",
            "description": "",
            "description_tooltip": null,
            "layout": "IPY_MODEL_80c92fcf8b474a7e8ad10ae1ea91c4b1",
            "placeholder": "​",
            "style": "IPY_MODEL_c4f1b4c5bcee4cfeb519df3b3e974796",
            "value": " 775/775 [00:00&lt;00:00, 54.0kB/s]"
          }
        },
        "220bdedbca1446419ae1832c5f85ab12": {
          "model_module": "@jupyter-widgets/controls",
          "model_module_version": "1.5.0",
          "model_name": "HBoxModel",
          "state": {
            "_dom_classes": [],
            "_model_module": "@jupyter-widgets/controls",
            "_model_module_version": "1.5.0",
            "_model_name": "HBoxModel",
            "_view_count": null,
            "_view_module": "@jupyter-widgets/controls",
            "_view_module_version": "1.5.0",
            "_view_name": "HBoxView",
            "box_style": "",
            "children": [
              "IPY_MODEL_699cc7d9376441cd88bf120e891cfa90",
              "IPY_MODEL_34f5876557a74ae4aa4b3b060bcfd2ca",
              "IPY_MODEL_6a007070b7104e179457d083949e342d"
            ],
            "layout": "IPY_MODEL_804ab9bee9e94b92816fad5179bdf290"
          }
        },
        "2224007ef668496682b3e69af93c28c3": {
          "model_module": "@jupyter-widgets/controls",
          "model_module_version": "1.5.0",
          "model_name": "DescriptionStyleModel",
          "state": {
            "_model_module": "@jupyter-widgets/controls",
            "_model_module_version": "1.5.0",
            "_model_name": "DescriptionStyleModel",
            "_view_count": null,
            "_view_module": "@jupyter-widgets/base",
            "_view_module_version": "1.2.0",
            "_view_name": "StyleView",
            "description_width": ""
          }
        },
        "248431f9dd8e4af5aeda17d268f126bb": {
          "model_module": "@jupyter-widgets/base",
          "model_module_version": "1.2.0",
          "model_name": "LayoutModel",
          "state": {
            "_model_module": "@jupyter-widgets/base",
            "_model_module_version": "1.2.0",
            "_model_name": "LayoutModel",
            "_view_count": null,
            "_view_module": "@jupyter-widgets/base",
            "_view_module_version": "1.2.0",
            "_view_name": "LayoutView",
            "align_content": null,
            "align_items": null,
            "align_self": null,
            "border": null,
            "bottom": null,
            "display": null,
            "flex": null,
            "flex_flow": null,
            "grid_area": null,
            "grid_auto_columns": null,
            "grid_auto_flow": null,
            "grid_auto_rows": null,
            "grid_column": null,
            "grid_gap": null,
            "grid_row": null,
            "grid_template_areas": null,
            "grid_template_columns": null,
            "grid_template_rows": null,
            "height": null,
            "justify_content": null,
            "justify_items": null,
            "left": null,
            "margin": null,
            "max_height": null,
            "max_width": null,
            "min_height": null,
            "min_width": null,
            "object_fit": null,
            "object_position": null,
            "order": null,
            "overflow": null,
            "overflow_x": null,
            "overflow_y": null,
            "padding": null,
            "right": null,
            "top": null,
            "visibility": null,
            "width": null
          }
        },
        "267379788a3742d3af0f9ed8805dbdd6": {
          "model_module": "@jupyter-widgets/controls",
          "model_module_version": "1.5.0",
          "model_name": "HTMLModel",
          "state": {
            "_dom_classes": [],
            "_model_module": "@jupyter-widgets/controls",
            "_model_module_version": "1.5.0",
            "_model_name": "HTMLModel",
            "_view_count": null,
            "_view_module": "@jupyter-widgets/controls",
            "_view_module_version": "1.5.0",
            "_view_name": "HTMLView",
            "description": "",
            "description_tooltip": null,
            "layout": "IPY_MODEL_08b827a11854478f8c678077a9afb6b3",
            "placeholder": "​",
            "style": "IPY_MODEL_2224007ef668496682b3e69af93c28c3",
            "value": "100%"
          }
        },
        "267cddc459af4be5b2b62820dfb951e5": {
          "model_module": "@jupyter-widgets/controls",
          "model_module_version": "1.5.0",
          "model_name": "DescriptionStyleModel",
          "state": {
            "_model_module": "@jupyter-widgets/controls",
            "_model_module_version": "1.5.0",
            "_model_name": "DescriptionStyleModel",
            "_view_count": null,
            "_view_module": "@jupyter-widgets/base",
            "_view_module_version": "1.2.0",
            "_view_name": "StyleView",
            "description_width": ""
          }
        },
        "2779baee0ff54d23b22e76e32ebe2b5c": {
          "model_module": "@jupyter-widgets/controls",
          "model_module_version": "1.5.0",
          "model_name": "HTMLModel",
          "state": {
            "_dom_classes": [],
            "_model_module": "@jupyter-widgets/controls",
            "_model_module_version": "1.5.0",
            "_model_name": "HTMLModel",
            "_view_count": null,
            "_view_module": "@jupyter-widgets/controls",
            "_view_module_version": "1.5.0",
            "_view_name": "HTMLView",
            "description": "",
            "description_tooltip": null,
            "layout": "IPY_MODEL_5652bd50a6724a378a3ef433ee396694",
            "placeholder": "​",
            "style": "IPY_MODEL_ce4b4b2bdeb4462eb445b82c247b4d5a",
            "value": " 125/125 [00:00&lt;00:00, 11.1kB/s]"
          }
        },
        "279f7677c0644920820c28250ba502cc": {
          "model_module": "@jupyter-widgets/controls",
          "model_module_version": "1.5.0",
          "model_name": "ProgressStyleModel",
          "state": {
            "_model_module": "@jupyter-widgets/controls",
            "_model_module_version": "1.5.0",
            "_model_name": "ProgressStyleModel",
            "_view_count": null,
            "_view_module": "@jupyter-widgets/base",
            "_view_module_version": "1.2.0",
            "_view_name": "StyleView",
            "bar_color": null,
            "description_width": ""
          }
        },
        "2897996a823d437aa1343c5bc3cbf9dc": {
          "model_module": "@jupyter-widgets/base",
          "model_module_version": "1.2.0",
          "model_name": "LayoutModel",
          "state": {
            "_model_module": "@jupyter-widgets/base",
            "_model_module_version": "1.2.0",
            "_model_name": "LayoutModel",
            "_view_count": null,
            "_view_module": "@jupyter-widgets/base",
            "_view_module_version": "1.2.0",
            "_view_name": "LayoutView",
            "align_content": null,
            "align_items": null,
            "align_self": null,
            "border": null,
            "bottom": null,
            "display": null,
            "flex": null,
            "flex_flow": null,
            "grid_area": null,
            "grid_auto_columns": null,
            "grid_auto_flow": null,
            "grid_auto_rows": null,
            "grid_column": null,
            "grid_gap": null,
            "grid_row": null,
            "grid_template_areas": null,
            "grid_template_columns": null,
            "grid_template_rows": null,
            "height": null,
            "justify_content": null,
            "justify_items": null,
            "left": null,
            "margin": null,
            "max_height": null,
            "max_width": null,
            "min_height": null,
            "min_width": null,
            "object_fit": null,
            "object_position": null,
            "order": null,
            "overflow": null,
            "overflow_x": null,
            "overflow_y": null,
            "padding": null,
            "right": null,
            "top": null,
            "visibility": null,
            "width": null
          }
        },
        "291e65ac013d4bd7b89060a822db70c1": {
          "model_module": "@jupyter-widgets/base",
          "model_module_version": "1.2.0",
          "model_name": "LayoutModel",
          "state": {
            "_model_module": "@jupyter-widgets/base",
            "_model_module_version": "1.2.0",
            "_model_name": "LayoutModel",
            "_view_count": null,
            "_view_module": "@jupyter-widgets/base",
            "_view_module_version": "1.2.0",
            "_view_name": "LayoutView",
            "align_content": null,
            "align_items": null,
            "align_self": null,
            "border": null,
            "bottom": null,
            "display": null,
            "flex": null,
            "flex_flow": null,
            "grid_area": null,
            "grid_auto_columns": null,
            "grid_auto_flow": null,
            "grid_auto_rows": null,
            "grid_column": null,
            "grid_gap": null,
            "grid_row": null,
            "grid_template_areas": null,
            "grid_template_columns": null,
            "grid_template_rows": null,
            "height": null,
            "justify_content": null,
            "justify_items": null,
            "left": null,
            "margin": null,
            "max_height": null,
            "max_width": null,
            "min_height": null,
            "min_width": null,
            "object_fit": null,
            "object_position": null,
            "order": null,
            "overflow": null,
            "overflow_x": null,
            "overflow_y": null,
            "padding": null,
            "right": null,
            "top": null,
            "visibility": null,
            "width": null
          }
        },
        "2d039fbd0bae466ab84269e9f15235d6": {
          "model_module": "@jupyter-widgets/controls",
          "model_module_version": "1.5.0",
          "model_name": "HBoxModel",
          "state": {
            "_dom_classes": [],
            "_model_module": "@jupyter-widgets/controls",
            "_model_module_version": "1.5.0",
            "_model_name": "HBoxModel",
            "_view_count": null,
            "_view_module": "@jupyter-widgets/controls",
            "_view_module_version": "1.5.0",
            "_view_name": "HBoxView",
            "box_style": "",
            "children": [
              "IPY_MODEL_f752937d696b40f4907b2527486f9636",
              "IPY_MODEL_506c07d51b5a4766b4ace12a014ccc0a",
              "IPY_MODEL_bf048983437d4e748d882038bd633c83"
            ],
            "layout": "IPY_MODEL_1a900efa6b50429b95560d93622190ce"
          }
        },
        "307bd6b97c6e4b34846def9eba3e7127": {
          "model_module": "@jupyter-widgets/base",
          "model_module_version": "1.2.0",
          "model_name": "LayoutModel",
          "state": {
            "_model_module": "@jupyter-widgets/base",
            "_model_module_version": "1.2.0",
            "_model_name": "LayoutModel",
            "_view_count": null,
            "_view_module": "@jupyter-widgets/base",
            "_view_module_version": "1.2.0",
            "_view_name": "LayoutView",
            "align_content": null,
            "align_items": null,
            "align_self": null,
            "border": null,
            "bottom": null,
            "display": null,
            "flex": null,
            "flex_flow": null,
            "grid_area": null,
            "grid_auto_columns": null,
            "grid_auto_flow": null,
            "grid_auto_rows": null,
            "grid_column": null,
            "grid_gap": null,
            "grid_row": null,
            "grid_template_areas": null,
            "grid_template_columns": null,
            "grid_template_rows": null,
            "height": null,
            "justify_content": null,
            "justify_items": null,
            "left": null,
            "margin": null,
            "max_height": null,
            "max_width": null,
            "min_height": null,
            "min_width": null,
            "object_fit": null,
            "object_position": null,
            "order": null,
            "overflow": null,
            "overflow_x": null,
            "overflow_y": null,
            "padding": null,
            "right": null,
            "top": null,
            "visibility": null,
            "width": null
          }
        },
        "321d45cb0d71477ca369dd7ec4012d2b": {
          "model_module": "@jupyter-widgets/base",
          "model_module_version": "1.2.0",
          "model_name": "LayoutModel",
          "state": {
            "_model_module": "@jupyter-widgets/base",
            "_model_module_version": "1.2.0",
            "_model_name": "LayoutModel",
            "_view_count": null,
            "_view_module": "@jupyter-widgets/base",
            "_view_module_version": "1.2.0",
            "_view_name": "LayoutView",
            "align_content": null,
            "align_items": null,
            "align_self": null,
            "border": null,
            "bottom": null,
            "display": null,
            "flex": null,
            "flex_flow": null,
            "grid_area": null,
            "grid_auto_columns": null,
            "grid_auto_flow": null,
            "grid_auto_rows": null,
            "grid_column": null,
            "grid_gap": null,
            "grid_row": null,
            "grid_template_areas": null,
            "grid_template_columns": null,
            "grid_template_rows": null,
            "height": null,
            "justify_content": null,
            "justify_items": null,
            "left": null,
            "margin": null,
            "max_height": null,
            "max_width": null,
            "min_height": null,
            "min_width": null,
            "object_fit": null,
            "object_position": null,
            "order": null,
            "overflow": null,
            "overflow_x": null,
            "overflow_y": null,
            "padding": null,
            "right": null,
            "top": null,
            "visibility": null,
            "width": null
          }
        },
        "33985a9c04aa4fdc8e00c834a4f98aa5": {
          "model_module": "@jupyter-widgets/controls",
          "model_module_version": "1.5.0",
          "model_name": "DescriptionStyleModel",
          "state": {
            "_model_module": "@jupyter-widgets/controls",
            "_model_module_version": "1.5.0",
            "_model_name": "DescriptionStyleModel",
            "_view_count": null,
            "_view_module": "@jupyter-widgets/base",
            "_view_module_version": "1.2.0",
            "_view_name": "StyleView",
            "description_width": ""
          }
        },
        "34f5876557a74ae4aa4b3b060bcfd2ca": {
          "model_module": "@jupyter-widgets/controls",
          "model_module_version": "1.5.0",
          "model_name": "FloatProgressModel",
          "state": {
            "_dom_classes": [],
            "_model_module": "@jupyter-widgets/controls",
            "_model_module_version": "1.5.0",
            "_model_name": "FloatProgressModel",
            "_view_count": null,
            "_view_module": "@jupyter-widgets/controls",
            "_view_module_version": "1.5.0",
            "_view_name": "ProgressView",
            "bar_style": "success",
            "description": "",
            "description_tooltip": null,
            "layout": "IPY_MODEL_540d5a3aa93242e6a1d891a7641823d2",
            "max": 93,
            "min": 0,
            "orientation": "horizontal",
            "style": "IPY_MODEL_b85d69093a5a4696ba48fccbfa015fb4",
            "value": 93
          }
        },
        "38976fc7d4f84e878462738a3aec2a49": {
          "model_module": "@jupyter-widgets/base",
          "model_module_version": "1.2.0",
          "model_name": "LayoutModel",
          "state": {
            "_model_module": "@jupyter-widgets/base",
            "_model_module_version": "1.2.0",
            "_model_name": "LayoutModel",
            "_view_count": null,
            "_view_module": "@jupyter-widgets/base",
            "_view_module_version": "1.2.0",
            "_view_name": "LayoutView",
            "align_content": null,
            "align_items": null,
            "align_self": null,
            "border": null,
            "bottom": null,
            "display": null,
            "flex": null,
            "flex_flow": null,
            "grid_area": null,
            "grid_auto_columns": null,
            "grid_auto_flow": null,
            "grid_auto_rows": null,
            "grid_column": null,
            "grid_gap": null,
            "grid_row": null,
            "grid_template_areas": null,
            "grid_template_columns": null,
            "grid_template_rows": null,
            "height": null,
            "justify_content": null,
            "justify_items": null,
            "left": null,
            "margin": null,
            "max_height": null,
            "max_width": null,
            "min_height": null,
            "min_width": null,
            "object_fit": null,
            "object_position": null,
            "order": null,
            "overflow": null,
            "overflow_x": null,
            "overflow_y": null,
            "padding": null,
            "right": null,
            "top": null,
            "visibility": null,
            "width": null
          }
        },
        "3b76afd2296b43758f8e4f104d4dbe5b": {
          "model_module": "@jupyter-widgets/controls",
          "model_module_version": "1.5.0",
          "model_name": "HTMLModel",
          "state": {
            "_dom_classes": [],
            "_model_module": "@jupyter-widgets/controls",
            "_model_module_version": "1.5.0",
            "_model_name": "HTMLModel",
            "_view_count": null,
            "_view_module": "@jupyter-widgets/controls",
            "_view_module_version": "1.5.0",
            "_view_name": "HTMLView",
            "description": "",
            "description_tooltip": null,
            "layout": "IPY_MODEL_aa0043dd86da462083d852cb3f9f87bf",
            "placeholder": "​",
            "style": "IPY_MODEL_e32df6bbec694c9da8637183f48ae538",
            "value": " 38400/38400 [00:01&lt;00:00, 23729.60it/s]"
          }
        },
        "3f97e16e24024d038301eec923ee9f69": {
          "model_module": "@jupyter-widgets/controls",
          "model_module_version": "1.5.0",
          "model_name": "HTMLModel",
          "state": {
            "_dom_classes": [],
            "_model_module": "@jupyter-widgets/controls",
            "_model_module_version": "1.5.0",
            "_model_name": "HTMLModel",
            "_view_count": null,
            "_view_module": "@jupyter-widgets/controls",
            "_view_module_version": "1.5.0",
            "_view_name": "HTMLView",
            "description": "",
            "description_tooltip": null,
            "layout": "IPY_MODEL_c4416cc398ef48fba4af981ee702dd20",
            "placeholder": "​",
            "style": "IPY_MODEL_117cbbeaf66447c6a6229a7c4a410b91",
            "value": " 34/2400 [00:08&lt;08:44,  4.51it/s]"
          }
        },
        "4356cb8b6f854744ad275b02a41156f0": {
          "model_module": "@jupyter-widgets/base",
          "model_module_version": "1.2.0",
          "model_name": "LayoutModel",
          "state": {
            "_model_module": "@jupyter-widgets/base",
            "_model_module_version": "1.2.0",
            "_model_name": "LayoutModel",
            "_view_count": null,
            "_view_module": "@jupyter-widgets/base",
            "_view_module_version": "1.2.0",
            "_view_name": "LayoutView",
            "align_content": null,
            "align_items": null,
            "align_self": null,
            "border": null,
            "bottom": null,
            "display": null,
            "flex": null,
            "flex_flow": null,
            "grid_area": null,
            "grid_auto_columns": null,
            "grid_auto_flow": null,
            "grid_auto_rows": null,
            "grid_column": null,
            "grid_gap": null,
            "grid_row": null,
            "grid_template_areas": null,
            "grid_template_columns": null,
            "grid_template_rows": null,
            "height": null,
            "justify_content": null,
            "justify_items": null,
            "left": null,
            "margin": null,
            "max_height": null,
            "max_width": null,
            "min_height": null,
            "min_width": null,
            "object_fit": null,
            "object_position": null,
            "order": null,
            "overflow": null,
            "overflow_x": null,
            "overflow_y": null,
            "padding": null,
            "right": null,
            "top": null,
            "visibility": null,
            "width": null
          }
        },
        "4448a794b34d4be990a1eb8b573ddf97": {
          "model_module": "@jupyter-widgets/base",
          "model_module_version": "1.2.0",
          "model_name": "LayoutModel",
          "state": {
            "_model_module": "@jupyter-widgets/base",
            "_model_module_version": "1.2.0",
            "_model_name": "LayoutModel",
            "_view_count": null,
            "_view_module": "@jupyter-widgets/base",
            "_view_module_version": "1.2.0",
            "_view_name": "LayoutView",
            "align_content": null,
            "align_items": null,
            "align_self": null,
            "border": null,
            "bottom": null,
            "display": null,
            "flex": null,
            "flex_flow": null,
            "grid_area": null,
            "grid_auto_columns": null,
            "grid_auto_flow": null,
            "grid_auto_rows": null,
            "grid_column": null,
            "grid_gap": null,
            "grid_row": null,
            "grid_template_areas": null,
            "grid_template_columns": null,
            "grid_template_rows": null,
            "height": null,
            "justify_content": null,
            "justify_items": null,
            "left": null,
            "margin": null,
            "max_height": null,
            "max_width": null,
            "min_height": null,
            "min_width": null,
            "object_fit": null,
            "object_position": null,
            "order": null,
            "overflow": null,
            "overflow_x": null,
            "overflow_y": null,
            "padding": null,
            "right": null,
            "top": null,
            "visibility": null,
            "width": null
          }
        },
        "4647f82c427f4a55b78b76469127492c": {
          "model_module": "@jupyter-widgets/base",
          "model_module_version": "1.2.0",
          "model_name": "LayoutModel",
          "state": {
            "_model_module": "@jupyter-widgets/base",
            "_model_module_version": "1.2.0",
            "_model_name": "LayoutModel",
            "_view_count": null,
            "_view_module": "@jupyter-widgets/base",
            "_view_module_version": "1.2.0",
            "_view_name": "LayoutView",
            "align_content": null,
            "align_items": null,
            "align_self": null,
            "border": null,
            "bottom": null,
            "display": null,
            "flex": null,
            "flex_flow": null,
            "grid_area": null,
            "grid_auto_columns": null,
            "grid_auto_flow": null,
            "grid_auto_rows": null,
            "grid_column": null,
            "grid_gap": null,
            "grid_row": null,
            "grid_template_areas": null,
            "grid_template_columns": null,
            "grid_template_rows": null,
            "height": null,
            "justify_content": null,
            "justify_items": null,
            "left": null,
            "margin": null,
            "max_height": null,
            "max_width": null,
            "min_height": null,
            "min_width": null,
            "object_fit": null,
            "object_position": null,
            "order": null,
            "overflow": null,
            "overflow_x": null,
            "overflow_y": null,
            "padding": null,
            "right": null,
            "top": null,
            "visibility": null,
            "width": null
          }
        },
        "46bb86dc58e44fa9b80d011a25ba56c6": {
          "model_module": "@jupyter-widgets/controls",
          "model_module_version": "1.5.0",
          "model_name": "DescriptionStyleModel",
          "state": {
            "_model_module": "@jupyter-widgets/controls",
            "_model_module_version": "1.5.0",
            "_model_name": "DescriptionStyleModel",
            "_view_count": null,
            "_view_module": "@jupyter-widgets/base",
            "_view_module_version": "1.2.0",
            "_view_name": "StyleView",
            "description_width": ""
          }
        },
        "481a46ba25cb437f840bc4ccdbef5ee4": {
          "model_module": "@jupyter-widgets/controls",
          "model_module_version": "1.5.0",
          "model_name": "HBoxModel",
          "state": {
            "_dom_classes": [],
            "_model_module": "@jupyter-widgets/controls",
            "_model_module_version": "1.5.0",
            "_model_name": "HBoxModel",
            "_view_count": null,
            "_view_module": "@jupyter-widgets/controls",
            "_view_module_version": "1.5.0",
            "_view_name": "HBoxView",
            "box_style": "",
            "children": [
              "IPY_MODEL_c2f5162c177349a6a0148af44af9d7c7",
              "IPY_MODEL_09d1438c0fe14a72a8b061cb1496eebb",
              "IPY_MODEL_2779baee0ff54d23b22e76e32ebe2b5c"
            ],
            "layout": "IPY_MODEL_1499fd8fa1ea46228708464b0293b94c"
          }
        },
        "4a952bda7e084d7dbac35270d9d6de45": {
          "model_module": "@jupyter-widgets/controls",
          "model_module_version": "1.5.0",
          "model_name": "DescriptionStyleModel",
          "state": {
            "_model_module": "@jupyter-widgets/controls",
            "_model_module_version": "1.5.0",
            "_model_name": "DescriptionStyleModel",
            "_view_count": null,
            "_view_module": "@jupyter-widgets/base",
            "_view_module_version": "1.2.0",
            "_view_name": "StyleView",
            "description_width": ""
          }
        },
        "4ce3ea36962540e39218b8fcf6f9aa33": {
          "model_module": "@jupyter-widgets/controls",
          "model_module_version": "1.5.0",
          "model_name": "DescriptionStyleModel",
          "state": {
            "_model_module": "@jupyter-widgets/controls",
            "_model_module_version": "1.5.0",
            "_model_name": "DescriptionStyleModel",
            "_view_count": null,
            "_view_module": "@jupyter-widgets/base",
            "_view_module_version": "1.2.0",
            "_view_name": "StyleView",
            "description_width": ""
          }
        },
        "506c07d51b5a4766b4ace12a014ccc0a": {
          "model_module": "@jupyter-widgets/controls",
          "model_module_version": "1.5.0",
          "model_name": "FloatProgressModel",
          "state": {
            "_dom_classes": [],
            "_model_module": "@jupyter-widgets/controls",
            "_model_module_version": "1.5.0",
            "_model_name": "FloatProgressModel",
            "_view_count": null,
            "_view_module": "@jupyter-widgets/controls",
            "_view_module_version": "1.5.0",
            "_view_name": "ProgressView",
            "bar_style": "success",
            "description": "",
            "description_tooltip": null,
            "layout": "IPY_MODEL_f63c6880c6f24f48916f92fe6e024249",
            "max": 6000,
            "min": 0,
            "orientation": "horizontal",
            "style": "IPY_MODEL_ef0350ee3fa64fac9303cf2ac43cd1d4",
            "value": 6000
          }
        },
        "532ed544298e4d8089beed9380a62ac8": {
          "model_module": "@jupyter-widgets/controls",
          "model_module_version": "1.5.0",
          "model_name": "FloatProgressModel",
          "state": {
            "_dom_classes": [],
            "_model_module": "@jupyter-widgets/controls",
            "_model_module_version": "1.5.0",
            "_model_name": "FloatProgressModel",
            "_view_count": null,
            "_view_module": "@jupyter-widgets/controls",
            "_view_module_version": "1.5.0",
            "_view_name": "ProgressView",
            "bar_style": "success",
            "description": "",
            "description_tooltip": null,
            "layout": "IPY_MODEL_321d45cb0d71477ca369dd7ec4012d2b",
            "max": 95,
            "min": 0,
            "orientation": "horizontal",
            "style": "IPY_MODEL_ef4fba0dc7c44a64964a4712d4f6fcef",
            "value": 95
          }
        },
        "540d5a3aa93242e6a1d891a7641823d2": {
          "model_module": "@jupyter-widgets/base",
          "model_module_version": "1.2.0",
          "model_name": "LayoutModel",
          "state": {
            "_model_module": "@jupyter-widgets/base",
            "_model_module_version": "1.2.0",
            "_model_name": "LayoutModel",
            "_view_count": null,
            "_view_module": "@jupyter-widgets/base",
            "_view_module_version": "1.2.0",
            "_view_name": "LayoutView",
            "align_content": null,
            "align_items": null,
            "align_self": null,
            "border": null,
            "bottom": null,
            "display": null,
            "flex": null,
            "flex_flow": null,
            "grid_area": null,
            "grid_auto_columns": null,
            "grid_auto_flow": null,
            "grid_auto_rows": null,
            "grid_column": null,
            "grid_gap": null,
            "grid_row": null,
            "grid_template_areas": null,
            "grid_template_columns": null,
            "grid_template_rows": null,
            "height": null,
            "justify_content": null,
            "justify_items": null,
            "left": null,
            "margin": null,
            "max_height": null,
            "max_width": null,
            "min_height": null,
            "min_width": null,
            "object_fit": null,
            "object_position": null,
            "order": null,
            "overflow": null,
            "overflow_x": null,
            "overflow_y": null,
            "padding": null,
            "right": null,
            "top": null,
            "visibility": null,
            "width": null
          }
        },
        "5652bd50a6724a378a3ef433ee396694": {
          "model_module": "@jupyter-widgets/base",
          "model_module_version": "1.2.0",
          "model_name": "LayoutModel",
          "state": {
            "_model_module": "@jupyter-widgets/base",
            "_model_module_version": "1.2.0",
            "_model_name": "LayoutModel",
            "_view_count": null,
            "_view_module": "@jupyter-widgets/base",
            "_view_module_version": "1.2.0",
            "_view_name": "LayoutView",
            "align_content": null,
            "align_items": null,
            "align_self": null,
            "border": null,
            "bottom": null,
            "display": null,
            "flex": null,
            "flex_flow": null,
            "grid_area": null,
            "grid_auto_columns": null,
            "grid_auto_flow": null,
            "grid_auto_rows": null,
            "grid_column": null,
            "grid_gap": null,
            "grid_row": null,
            "grid_template_areas": null,
            "grid_template_columns": null,
            "grid_template_rows": null,
            "height": null,
            "justify_content": null,
            "justify_items": null,
            "left": null,
            "margin": null,
            "max_height": null,
            "max_width": null,
            "min_height": null,
            "min_width": null,
            "object_fit": null,
            "object_position": null,
            "order": null,
            "overflow": null,
            "overflow_x": null,
            "overflow_y": null,
            "padding": null,
            "right": null,
            "top": null,
            "visibility": null,
            "width": null
          }
        },
        "570c6e77ca4e4b81a81c48f30dbdda4e": {
          "model_module": "@jupyter-widgets/controls",
          "model_module_version": "1.5.0",
          "model_name": "HTMLModel",
          "state": {
            "_dom_classes": [],
            "_model_module": "@jupyter-widgets/controls",
            "_model_module_version": "1.5.0",
            "_model_name": "HTMLModel",
            "_view_count": null,
            "_view_module": "@jupyter-widgets/controls",
            "_view_module_version": "1.5.0",
            "_view_name": "HTMLView",
            "description": "",
            "description_tooltip": null,
            "layout": "IPY_MODEL_291e65ac013d4bd7b89060a822db70c1",
            "placeholder": "​",
            "style": "IPY_MODEL_88d9a9ea4c2e49ea95fdc767c4be0951",
            "value": " 38400/38400 [00:01&lt;00:00, 30144.30it/s]"
          }
        },
        "574accde7c8f4f9e93eefc101c13c20f": {
          "model_module": "@jupyter-widgets/controls",
          "model_module_version": "1.5.0",
          "model_name": "FloatProgressModel",
          "state": {
            "_dom_classes": [],
            "_model_module": "@jupyter-widgets/controls",
            "_model_module_version": "1.5.0",
            "_model_name": "FloatProgressModel",
            "_view_count": null,
            "_view_module": "@jupyter-widgets/controls",
            "_view_module_version": "1.5.0",
            "_view_name": "ProgressView",
            "bar_style": "success",
            "description": "",
            "description_tooltip": null,
            "layout": "IPY_MODEL_307bd6b97c6e4b34846def9eba3e7127",
            "max": 38400,
            "min": 0,
            "orientation": "horizontal",
            "style": "IPY_MODEL_97118303b1304301bd5445caa6e49e97",
            "value": 38400
          }
        },
        "58d43a182d114b73bfb243fe742ca7be": {
          "model_module": "@jupyter-widgets/controls",
          "model_module_version": "1.5.0",
          "model_name": "HBoxModel",
          "state": {
            "_dom_classes": [],
            "_model_module": "@jupyter-widgets/controls",
            "_model_module_version": "1.5.0",
            "_model_name": "HBoxModel",
            "_view_count": null,
            "_view_module": "@jupyter-widgets/controls",
            "_view_module_version": "1.5.0",
            "_view_name": "HBoxView",
            "box_style": "",
            "children": [
              "IPY_MODEL_d886f73d8bbf474c8a23fafcc41b5488",
              "IPY_MODEL_b9589ef13e804707927d28789b462dd0",
              "IPY_MODEL_e89d569c70eb40ef8d152f3f683f3cc4"
            ],
            "layout": "IPY_MODEL_8d5bdc7d462c40599264399f548a9417"
          }
        },
        "5cbb03b4286a4f24b2b5d5fe45004ebb": {
          "model_module": "@jupyter-widgets/controls",
          "model_module_version": "1.5.0",
          "model_name": "DescriptionStyleModel",
          "state": {
            "_model_module": "@jupyter-widgets/controls",
            "_model_module_version": "1.5.0",
            "_model_name": "DescriptionStyleModel",
            "_view_count": null,
            "_view_module": "@jupyter-widgets/base",
            "_view_module_version": "1.2.0",
            "_view_name": "StyleView",
            "description_width": ""
          }
        },
        "5d42ac2c2d5f4f66bcb6ce1414dad58e": {
          "model_module": "@jupyter-widgets/controls",
          "model_module_version": "1.5.0",
          "model_name": "DescriptionStyleModel",
          "state": {
            "_model_module": "@jupyter-widgets/controls",
            "_model_module_version": "1.5.0",
            "_model_name": "DescriptionStyleModel",
            "_view_count": null,
            "_view_module": "@jupyter-widgets/base",
            "_view_module_version": "1.2.0",
            "_view_name": "StyleView",
            "description_width": ""
          }
        },
        "6275aff1ced24788b2279dd343cdcf84": {
          "model_module": "@jupyter-widgets/controls",
          "model_module_version": "1.5.0",
          "model_name": "HBoxModel",
          "state": {
            "_dom_classes": [],
            "_model_module": "@jupyter-widgets/controls",
            "_model_module_version": "1.5.0",
            "_model_name": "HBoxModel",
            "_view_count": null,
            "_view_module": "@jupyter-widgets/controls",
            "_view_module_version": "1.5.0",
            "_view_name": "HBoxView",
            "box_style": "",
            "children": [
              "IPY_MODEL_89ec57d8fb49454191fa0eee672d649e",
              "IPY_MODEL_532ed544298e4d8089beed9380a62ac8",
              "IPY_MODEL_f93415cbcfda4a978b184af53ed5e25e"
            ],
            "layout": "IPY_MODEL_b3de88f0953b43a0ae8b7ee52dd2a0e4"
          }
        },
        "651bd9f17e8d47ff8a57d787d98cbb8f": {
          "model_module": "@jupyter-widgets/controls",
          "model_module_version": "1.5.0",
          "model_name": "DescriptionStyleModel",
          "state": {
            "_model_module": "@jupyter-widgets/controls",
            "_model_module_version": "1.5.0",
            "_model_name": "DescriptionStyleModel",
            "_view_count": null,
            "_view_module": "@jupyter-widgets/base",
            "_view_module_version": "1.2.0",
            "_view_name": "StyleView",
            "description_width": ""
          }
        },
        "673b751ae4db49618acddb279cc76017": {
          "model_module": "@jupyter-widgets/base",
          "model_module_version": "1.2.0",
          "model_name": "LayoutModel",
          "state": {
            "_model_module": "@jupyter-widgets/base",
            "_model_module_version": "1.2.0",
            "_model_name": "LayoutModel",
            "_view_count": null,
            "_view_module": "@jupyter-widgets/base",
            "_view_module_version": "1.2.0",
            "_view_name": "LayoutView",
            "align_content": null,
            "align_items": null,
            "align_self": null,
            "border": null,
            "bottom": null,
            "display": null,
            "flex": null,
            "flex_flow": null,
            "grid_area": null,
            "grid_auto_columns": null,
            "grid_auto_flow": null,
            "grid_auto_rows": null,
            "grid_column": null,
            "grid_gap": null,
            "grid_row": null,
            "grid_template_areas": null,
            "grid_template_columns": null,
            "grid_template_rows": null,
            "height": null,
            "justify_content": null,
            "justify_items": null,
            "left": null,
            "margin": null,
            "max_height": null,
            "max_width": null,
            "min_height": null,
            "min_width": null,
            "object_fit": null,
            "object_position": null,
            "order": null,
            "overflow": null,
            "overflow_x": null,
            "overflow_y": null,
            "padding": null,
            "right": null,
            "top": null,
            "visibility": null,
            "width": null
          }
        },
        "699cc7d9376441cd88bf120e891cfa90": {
          "model_module": "@jupyter-widgets/controls",
          "model_module_version": "1.5.0",
          "model_name": "HTMLModel",
          "state": {
            "_dom_classes": [],
            "_model_module": "@jupyter-widgets/controls",
            "_model_module_version": "1.5.0",
            "_model_name": "HTMLModel",
            "_view_count": null,
            "_view_module": "@jupyter-widgets/controls",
            "_view_module_version": "1.5.0",
            "_view_name": "HTMLView",
            "description": "",
            "description_tooltip": null,
            "layout": "IPY_MODEL_156c02be809d426c887301bd95154c7f",
            "placeholder": "​",
            "style": "IPY_MODEL_db39614ed9824472b055164439c846ca",
            "value": "vocab.txt: 100%"
          }
        },
        "6a007070b7104e179457d083949e342d": {
          "model_module": "@jupyter-widgets/controls",
          "model_module_version": "1.5.0",
          "model_name": "HTMLModel",
          "state": {
            "_dom_classes": [],
            "_model_module": "@jupyter-widgets/controls",
            "_model_module_version": "1.5.0",
            "_model_name": "HTMLModel",
            "_view_count": null,
            "_view_module": "@jupyter-widgets/controls",
            "_view_module_version": "1.5.0",
            "_view_name": "HTMLView",
            "description": "",
            "description_tooltip": null,
            "layout": "IPY_MODEL_ec52623d12564ddfbcbe763532b0856c",
            "placeholder": "​",
            "style": "IPY_MODEL_a8dcf398ad1d4167a477f635075d8614",
            "value": " 93.0/93.0 [00:00&lt;00:00, 7.87kB/s]"
          }
        },
        "6d9327f392724c9889bbe2292982b245": {
          "model_module": "@jupyter-widgets/controls",
          "model_module_version": "1.5.0",
          "model_name": "DescriptionStyleModel",
          "state": {
            "_model_module": "@jupyter-widgets/controls",
            "_model_module_version": "1.5.0",
            "_model_name": "DescriptionStyleModel",
            "_view_count": null,
            "_view_module": "@jupyter-widgets/base",
            "_view_module_version": "1.2.0",
            "_view_name": "StyleView",
            "description_width": ""
          }
        },
        "6f3be888ab4a4293a21ae789e0083c6e": {
          "model_module": "@jupyter-widgets/base",
          "model_module_version": "1.2.0",
          "model_name": "LayoutModel",
          "state": {
            "_model_module": "@jupyter-widgets/base",
            "_model_module_version": "1.2.0",
            "_model_name": "LayoutModel",
            "_view_count": null,
            "_view_module": "@jupyter-widgets/base",
            "_view_module_version": "1.2.0",
            "_view_name": "LayoutView",
            "align_content": null,
            "align_items": null,
            "align_self": null,
            "border": null,
            "bottom": null,
            "display": null,
            "flex": null,
            "flex_flow": null,
            "grid_area": null,
            "grid_auto_columns": null,
            "grid_auto_flow": null,
            "grid_auto_rows": null,
            "grid_column": null,
            "grid_gap": null,
            "grid_row": null,
            "grid_template_areas": null,
            "grid_template_columns": null,
            "grid_template_rows": null,
            "height": null,
            "justify_content": null,
            "justify_items": null,
            "left": null,
            "margin": null,
            "max_height": null,
            "max_width": null,
            "min_height": null,
            "min_width": null,
            "object_fit": null,
            "object_position": null,
            "order": null,
            "overflow": null,
            "overflow_x": null,
            "overflow_y": null,
            "padding": null,
            "right": null,
            "top": null,
            "visibility": null,
            "width": null
          }
        },
        "778ceded7dcd4faabd2ea3c2391a2ca9": {
          "model_module": "@jupyter-widgets/controls",
          "model_module_version": "1.5.0",
          "model_name": "HTMLModel",
          "state": {
            "_dom_classes": [],
            "_model_module": "@jupyter-widgets/controls",
            "_model_module_version": "1.5.0",
            "_model_name": "HTMLModel",
            "_view_count": null,
            "_view_module": "@jupyter-widgets/controls",
            "_view_module_version": "1.5.0",
            "_view_name": "HTMLView",
            "description": "",
            "description_tooltip": null,
            "layout": "IPY_MODEL_d7c4289fe7be45cf9e54d1c5be996ac8",
            "placeholder": "​",
            "style": "IPY_MODEL_4a952bda7e084d7dbac35270d9d6de45",
            "value": " 0/20 [00:00&lt;?, ?it/s]"
          }
        },
        "804ab9bee9e94b92816fad5179bdf290": {
          "model_module": "@jupyter-widgets/base",
          "model_module_version": "1.2.0",
          "model_name": "LayoutModel",
          "state": {
            "_model_module": "@jupyter-widgets/base",
            "_model_module_version": "1.2.0",
            "_model_name": "LayoutModel",
            "_view_count": null,
            "_view_module": "@jupyter-widgets/base",
            "_view_module_version": "1.2.0",
            "_view_name": "LayoutView",
            "align_content": null,
            "align_items": null,
            "align_self": null,
            "border": null,
            "bottom": null,
            "display": null,
            "flex": null,
            "flex_flow": null,
            "grid_area": null,
            "grid_auto_columns": null,
            "grid_auto_flow": null,
            "grid_auto_rows": null,
            "grid_column": null,
            "grid_gap": null,
            "grid_row": null,
            "grid_template_areas": null,
            "grid_template_columns": null,
            "grid_template_rows": null,
            "height": null,
            "justify_content": null,
            "justify_items": null,
            "left": null,
            "margin": null,
            "max_height": null,
            "max_width": null,
            "min_height": null,
            "min_width": null,
            "object_fit": null,
            "object_position": null,
            "order": null,
            "overflow": null,
            "overflow_x": null,
            "overflow_y": null,
            "padding": null,
            "right": null,
            "top": null,
            "visibility": null,
            "width": null
          }
        },
        "80c92fcf8b474a7e8ad10ae1ea91c4b1": {
          "model_module": "@jupyter-widgets/base",
          "model_module_version": "1.2.0",
          "model_name": "LayoutModel",
          "state": {
            "_model_module": "@jupyter-widgets/base",
            "_model_module_version": "1.2.0",
            "_model_name": "LayoutModel",
            "_view_count": null,
            "_view_module": "@jupyter-widgets/base",
            "_view_module_version": "1.2.0",
            "_view_name": "LayoutView",
            "align_content": null,
            "align_items": null,
            "align_self": null,
            "border": null,
            "bottom": null,
            "display": null,
            "flex": null,
            "flex_flow": null,
            "grid_area": null,
            "grid_auto_columns": null,
            "grid_auto_flow": null,
            "grid_auto_rows": null,
            "grid_column": null,
            "grid_gap": null,
            "grid_row": null,
            "grid_template_areas": null,
            "grid_template_columns": null,
            "grid_template_rows": null,
            "height": null,
            "justify_content": null,
            "justify_items": null,
            "left": null,
            "margin": null,
            "max_height": null,
            "max_width": null,
            "min_height": null,
            "min_width": null,
            "object_fit": null,
            "object_position": null,
            "order": null,
            "overflow": null,
            "overflow_x": null,
            "overflow_y": null,
            "padding": null,
            "right": null,
            "top": null,
            "visibility": null,
            "width": null
          }
        },
        "8213c716bbc649cc87ad280c12e918f5": {
          "model_module": "@jupyter-widgets/base",
          "model_module_version": "1.2.0",
          "model_name": "LayoutModel",
          "state": {
            "_model_module": "@jupyter-widgets/base",
            "_model_module_version": "1.2.0",
            "_model_name": "LayoutModel",
            "_view_count": null,
            "_view_module": "@jupyter-widgets/base",
            "_view_module_version": "1.2.0",
            "_view_name": "LayoutView",
            "align_content": null,
            "align_items": null,
            "align_self": null,
            "border": null,
            "bottom": null,
            "display": null,
            "flex": null,
            "flex_flow": null,
            "grid_area": null,
            "grid_auto_columns": null,
            "grid_auto_flow": null,
            "grid_auto_rows": null,
            "grid_column": null,
            "grid_gap": null,
            "grid_row": null,
            "grid_template_areas": null,
            "grid_template_columns": null,
            "grid_template_rows": null,
            "height": null,
            "justify_content": null,
            "justify_items": null,
            "left": null,
            "margin": null,
            "max_height": null,
            "max_width": null,
            "min_height": null,
            "min_width": null,
            "object_fit": null,
            "object_position": null,
            "order": null,
            "overflow": null,
            "overflow_x": null,
            "overflow_y": null,
            "padding": null,
            "right": null,
            "top": null,
            "visibility": null,
            "width": null
          }
        },
        "83fd7e464b0a45269a9cb0e94759368f": {
          "model_module": "@jupyter-widgets/base",
          "model_module_version": "1.2.0",
          "model_name": "LayoutModel",
          "state": {
            "_model_module": "@jupyter-widgets/base",
            "_model_module_version": "1.2.0",
            "_model_name": "LayoutModel",
            "_view_count": null,
            "_view_module": "@jupyter-widgets/base",
            "_view_module_version": "1.2.0",
            "_view_name": "LayoutView",
            "align_content": null,
            "align_items": null,
            "align_self": null,
            "border": null,
            "bottom": null,
            "display": null,
            "flex": null,
            "flex_flow": null,
            "grid_area": null,
            "grid_auto_columns": null,
            "grid_auto_flow": null,
            "grid_auto_rows": null,
            "grid_column": null,
            "grid_gap": null,
            "grid_row": null,
            "grid_template_areas": null,
            "grid_template_columns": null,
            "grid_template_rows": null,
            "height": null,
            "justify_content": null,
            "justify_items": null,
            "left": null,
            "margin": null,
            "max_height": null,
            "max_width": null,
            "min_height": null,
            "min_width": null,
            "object_fit": null,
            "object_position": null,
            "order": null,
            "overflow": null,
            "overflow_x": null,
            "overflow_y": null,
            "padding": null,
            "right": null,
            "top": null,
            "visibility": null,
            "width": null
          }
        },
        "85cb890bc8254c689c7c1b744281408d": {
          "model_module": "@jupyter-widgets/base",
          "model_module_version": "1.2.0",
          "model_name": "LayoutModel",
          "state": {
            "_model_module": "@jupyter-widgets/base",
            "_model_module_version": "1.2.0",
            "_model_name": "LayoutModel",
            "_view_count": null,
            "_view_module": "@jupyter-widgets/base",
            "_view_module_version": "1.2.0",
            "_view_name": "LayoutView",
            "align_content": null,
            "align_items": null,
            "align_self": null,
            "border": null,
            "bottom": null,
            "display": null,
            "flex": null,
            "flex_flow": null,
            "grid_area": null,
            "grid_auto_columns": null,
            "grid_auto_flow": null,
            "grid_auto_rows": null,
            "grid_column": null,
            "grid_gap": null,
            "grid_row": null,
            "grid_template_areas": null,
            "grid_template_columns": null,
            "grid_template_rows": null,
            "height": null,
            "justify_content": null,
            "justify_items": null,
            "left": null,
            "margin": null,
            "max_height": null,
            "max_width": null,
            "min_height": null,
            "min_width": null,
            "object_fit": null,
            "object_position": null,
            "order": null,
            "overflow": null,
            "overflow_x": null,
            "overflow_y": null,
            "padding": null,
            "right": null,
            "top": null,
            "visibility": null,
            "width": null
          }
        },
        "88d9a9ea4c2e49ea95fdc767c4be0951": {
          "model_module": "@jupyter-widgets/controls",
          "model_module_version": "1.5.0",
          "model_name": "DescriptionStyleModel",
          "state": {
            "_model_module": "@jupyter-widgets/controls",
            "_model_module_version": "1.5.0",
            "_model_name": "DescriptionStyleModel",
            "_view_count": null,
            "_view_module": "@jupyter-widgets/base",
            "_view_module_version": "1.2.0",
            "_view_name": "StyleView",
            "description_width": ""
          }
        },
        "88e52e64a92142dd9bf67258db6ca871": {
          "model_module": "@jupyter-widgets/controls",
          "model_module_version": "1.5.0",
          "model_name": "DescriptionStyleModel",
          "state": {
            "_model_module": "@jupyter-widgets/controls",
            "_model_module_version": "1.5.0",
            "_model_name": "DescriptionStyleModel",
            "_view_count": null,
            "_view_module": "@jupyter-widgets/base",
            "_view_module_version": "1.2.0",
            "_view_name": "StyleView",
            "description_width": ""
          }
        },
        "89ec57d8fb49454191fa0eee672d649e": {
          "model_module": "@jupyter-widgets/controls",
          "model_module_version": "1.5.0",
          "model_name": "HTMLModel",
          "state": {
            "_dom_classes": [],
            "_model_module": "@jupyter-widgets/controls",
            "_model_module_version": "1.5.0",
            "_model_name": "HTMLModel",
            "_view_count": null,
            "_view_module": "@jupyter-widgets/controls",
            "_view_module_version": "1.5.0",
            "_view_name": "HTMLView",
            "description": "",
            "description_tooltip": null,
            "layout": "IPY_MODEL_aa10420a0b7c4c84b130335ce7b18356",
            "placeholder": "​",
            "style": "IPY_MODEL_c949b379c9f74e92a91fee93e51622ac",
            "value": "tokenizer_config.json: 100%"
          }
        },
        "8c8bd4acf7e646da8c6e43bc4a8f06f5": {
          "model_module": "@jupyter-widgets/base",
          "model_module_version": "1.2.0",
          "model_name": "LayoutModel",
          "state": {
            "_model_module": "@jupyter-widgets/base",
            "_model_module_version": "1.2.0",
            "_model_name": "LayoutModel",
            "_view_count": null,
            "_view_module": "@jupyter-widgets/base",
            "_view_module_version": "1.2.0",
            "_view_name": "LayoutView",
            "align_content": null,
            "align_items": null,
            "align_self": null,
            "border": null,
            "bottom": null,
            "display": null,
            "flex": null,
            "flex_flow": null,
            "grid_area": null,
            "grid_auto_columns": null,
            "grid_auto_flow": null,
            "grid_auto_rows": null,
            "grid_column": null,
            "grid_gap": null,
            "grid_row": null,
            "grid_template_areas": null,
            "grid_template_columns": null,
            "grid_template_rows": null,
            "height": null,
            "justify_content": null,
            "justify_items": null,
            "left": null,
            "margin": null,
            "max_height": null,
            "max_width": null,
            "min_height": null,
            "min_width": null,
            "object_fit": null,
            "object_position": null,
            "order": null,
            "overflow": null,
            "overflow_x": null,
            "overflow_y": null,
            "padding": null,
            "right": null,
            "top": null,
            "visibility": null,
            "width": null
          }
        },
        "8d5bdc7d462c40599264399f548a9417": {
          "model_module": "@jupyter-widgets/base",
          "model_module_version": "1.2.0",
          "model_name": "LayoutModel",
          "state": {
            "_model_module": "@jupyter-widgets/base",
            "_model_module_version": "1.2.0",
            "_model_name": "LayoutModel",
            "_view_count": null,
            "_view_module": "@jupyter-widgets/base",
            "_view_module_version": "1.2.0",
            "_view_name": "LayoutView",
            "align_content": null,
            "align_items": null,
            "align_self": null,
            "border": null,
            "bottom": null,
            "display": null,
            "flex": null,
            "flex_flow": null,
            "grid_area": null,
            "grid_auto_columns": null,
            "grid_auto_flow": null,
            "grid_auto_rows": null,
            "grid_column": null,
            "grid_gap": null,
            "grid_row": null,
            "grid_template_areas": null,
            "grid_template_columns": null,
            "grid_template_rows": null,
            "height": null,
            "justify_content": null,
            "justify_items": null,
            "left": null,
            "margin": null,
            "max_height": null,
            "max_width": null,
            "min_height": null,
            "min_width": null,
            "object_fit": null,
            "object_position": null,
            "order": null,
            "overflow": null,
            "overflow_x": null,
            "overflow_y": null,
            "padding": null,
            "right": null,
            "top": null,
            "visibility": null,
            "width": null
          }
        },
        "8fcd95cd7e53413aa78e6aebe363ccc4": {
          "model_module": "@jupyter-widgets/controls",
          "model_module_version": "1.5.0",
          "model_name": "HTMLModel",
          "state": {
            "_dom_classes": [],
            "_model_module": "@jupyter-widgets/controls",
            "_model_module_version": "1.5.0",
            "_model_name": "HTMLModel",
            "_view_count": null,
            "_view_module": "@jupyter-widgets/controls",
            "_view_module_version": "1.5.0",
            "_view_name": "HTMLView",
            "description": "",
            "description_tooltip": null,
            "layout": "IPY_MODEL_6f3be888ab4a4293a21ae789e0083c6e",
            "placeholder": "​",
            "style": "IPY_MODEL_88e52e64a92142dd9bf67258db6ca871",
            "value": "Epoch:   0%"
          }
        },
        "93326b3187624af6a1bdcb2f0bcc03ca": {
          "model_module": "@jupyter-widgets/controls",
          "model_module_version": "1.5.0",
          "model_name": "ProgressStyleModel",
          "state": {
            "_model_module": "@jupyter-widgets/controls",
            "_model_module_version": "1.5.0",
            "_model_name": "ProgressStyleModel",
            "_view_count": null,
            "_view_module": "@jupyter-widgets/base",
            "_view_module_version": "1.2.0",
            "_view_name": "StyleView",
            "bar_color": null,
            "description_width": ""
          }
        },
        "9440cd9b3b844b1bac001b9303602ef2": {
          "model_module": "@jupyter-widgets/base",
          "model_module_version": "1.2.0",
          "model_name": "LayoutModel",
          "state": {
            "_model_module": "@jupyter-widgets/base",
            "_model_module_version": "1.2.0",
            "_model_name": "LayoutModel",
            "_view_count": null,
            "_view_module": "@jupyter-widgets/base",
            "_view_module_version": "1.2.0",
            "_view_name": "LayoutView",
            "align_content": null,
            "align_items": null,
            "align_self": null,
            "border": null,
            "bottom": null,
            "display": null,
            "flex": null,
            "flex_flow": null,
            "grid_area": null,
            "grid_auto_columns": null,
            "grid_auto_flow": null,
            "grid_auto_rows": null,
            "grid_column": null,
            "grid_gap": null,
            "grid_row": null,
            "grid_template_areas": null,
            "grid_template_columns": null,
            "grid_template_rows": null,
            "height": null,
            "justify_content": null,
            "justify_items": null,
            "left": null,
            "margin": null,
            "max_height": null,
            "max_width": null,
            "min_height": null,
            "min_width": null,
            "object_fit": null,
            "object_position": null,
            "order": null,
            "overflow": null,
            "overflow_x": null,
            "overflow_y": null,
            "padding": null,
            "right": null,
            "top": null,
            "visibility": null,
            "width": null
          }
        },
        "949dccdfb0644df8bef90f00fc1a992a": {
          "model_module": "@jupyter-widgets/controls",
          "model_module_version": "1.5.0",
          "model_name": "HTMLModel",
          "state": {
            "_dom_classes": [],
            "_model_module": "@jupyter-widgets/controls",
            "_model_module_version": "1.5.0",
            "_model_name": "HTMLModel",
            "_view_count": null,
            "_view_module": "@jupyter-widgets/controls",
            "_view_module_version": "1.5.0",
            "_view_name": "HTMLView",
            "description": "",
            "description_tooltip": null,
            "layout": "IPY_MODEL_2897996a823d437aa1343c5bc3cbf9dc",
            "placeholder": "​",
            "style": "IPY_MODEL_4ce3ea36962540e39218b8fcf6f9aa33",
            "value": "100%"
          }
        },
        "94cc8c65251e4509ad8dfd6c95a0be69": {
          "model_module": "@jupyter-widgets/controls",
          "model_module_version": "1.5.0",
          "model_name": "HTMLModel",
          "state": {
            "_dom_classes": [],
            "_model_module": "@jupyter-widgets/controls",
            "_model_module_version": "1.5.0",
            "_model_name": "HTMLModel",
            "_view_count": null,
            "_view_module": "@jupyter-widgets/controls",
            "_view_module_version": "1.5.0",
            "_view_name": "HTMLView",
            "description": "",
            "description_tooltip": null,
            "layout": "IPY_MODEL_bd2cefb3f45148e9acbdc2b457d522b1",
            "placeholder": "​",
            "style": "IPY_MODEL_651bd9f17e8d47ff8a57d787d98cbb8f",
            "value": "Iteration:   1%"
          }
        },
        "97118303b1304301bd5445caa6e49e97": {
          "model_module": "@jupyter-widgets/controls",
          "model_module_version": "1.5.0",
          "model_name": "ProgressStyleModel",
          "state": {
            "_model_module": "@jupyter-widgets/controls",
            "_model_module_version": "1.5.0",
            "_model_name": "ProgressStyleModel",
            "_view_count": null,
            "_view_module": "@jupyter-widgets/base",
            "_view_module_version": "1.2.0",
            "_view_name": "StyleView",
            "bar_color": null,
            "description_width": ""
          }
        },
        "a24eb4aad0784e88b06fa168de247e7f": {
          "model_module": "@jupyter-widgets/controls",
          "model_module_version": "1.5.0",
          "model_name": "FloatProgressModel",
          "state": {
            "_dom_classes": [],
            "_model_module": "@jupyter-widgets/controls",
            "_model_module_version": "1.5.0",
            "_model_name": "FloatProgressModel",
            "_view_count": null,
            "_view_module": "@jupyter-widgets/controls",
            "_view_module_version": "1.5.0",
            "_view_name": "ProgressView",
            "bar_style": "",
            "description": "",
            "description_tooltip": null,
            "layout": "IPY_MODEL_9440cd9b3b844b1bac001b9303602ef2",
            "max": 20,
            "min": 0,
            "orientation": "horizontal",
            "style": "IPY_MODEL_b763eeb8c49a41aa828084096379433f",
            "value": 0
          }
        },
        "a524a6f9829b433988f69961690d07ce": {
          "model_module": "@jupyter-widgets/controls",
          "model_module_version": "1.5.0",
          "model_name": "DescriptionStyleModel",
          "state": {
            "_model_module": "@jupyter-widgets/controls",
            "_model_module_version": "1.5.0",
            "_model_name": "DescriptionStyleModel",
            "_view_count": null,
            "_view_module": "@jupyter-widgets/base",
            "_view_module_version": "1.2.0",
            "_view_name": "StyleView",
            "description_width": ""
          }
        },
        "a74234c4997e48eeb925f161a13d09d4": {
          "model_module": "@jupyter-widgets/controls",
          "model_module_version": "1.5.0",
          "model_name": "DescriptionStyleModel",
          "state": {
            "_model_module": "@jupyter-widgets/controls",
            "_model_module_version": "1.5.0",
            "_model_name": "DescriptionStyleModel",
            "_view_count": null,
            "_view_module": "@jupyter-widgets/base",
            "_view_module_version": "1.2.0",
            "_view_name": "StyleView",
            "description_width": ""
          }
        },
        "a8dcf398ad1d4167a477f635075d8614": {
          "model_module": "@jupyter-widgets/controls",
          "model_module_version": "1.5.0",
          "model_name": "DescriptionStyleModel",
          "state": {
            "_model_module": "@jupyter-widgets/controls",
            "_model_module_version": "1.5.0",
            "_model_name": "DescriptionStyleModel",
            "_view_count": null,
            "_view_module": "@jupyter-widgets/base",
            "_view_module_version": "1.2.0",
            "_view_name": "StyleView",
            "description_width": ""
          }
        },
        "aa0043dd86da462083d852cb3f9f87bf": {
          "model_module": "@jupyter-widgets/base",
          "model_module_version": "1.2.0",
          "model_name": "LayoutModel",
          "state": {
            "_model_module": "@jupyter-widgets/base",
            "_model_module_version": "1.2.0",
            "_model_name": "LayoutModel",
            "_view_count": null,
            "_view_module": "@jupyter-widgets/base",
            "_view_module_version": "1.2.0",
            "_view_name": "LayoutView",
            "align_content": null,
            "align_items": null,
            "align_self": null,
            "border": null,
            "bottom": null,
            "display": null,
            "flex": null,
            "flex_flow": null,
            "grid_area": null,
            "grid_auto_columns": null,
            "grid_auto_flow": null,
            "grid_auto_rows": null,
            "grid_column": null,
            "grid_gap": null,
            "grid_row": null,
            "grid_template_areas": null,
            "grid_template_columns": null,
            "grid_template_rows": null,
            "height": null,
            "justify_content": null,
            "justify_items": null,
            "left": null,
            "margin": null,
            "max_height": null,
            "max_width": null,
            "min_height": null,
            "min_width": null,
            "object_fit": null,
            "object_position": null,
            "order": null,
            "overflow": null,
            "overflow_x": null,
            "overflow_y": null,
            "padding": null,
            "right": null,
            "top": null,
            "visibility": null,
            "width": null
          }
        },
        "aa10420a0b7c4c84b130335ce7b18356": {
          "model_module": "@jupyter-widgets/base",
          "model_module_version": "1.2.0",
          "model_name": "LayoutModel",
          "state": {
            "_model_module": "@jupyter-widgets/base",
            "_model_module_version": "1.2.0",
            "_model_name": "LayoutModel",
            "_view_count": null,
            "_view_module": "@jupyter-widgets/base",
            "_view_module_version": "1.2.0",
            "_view_name": "LayoutView",
            "align_content": null,
            "align_items": null,
            "align_self": null,
            "border": null,
            "bottom": null,
            "display": null,
            "flex": null,
            "flex_flow": null,
            "grid_area": null,
            "grid_auto_columns": null,
            "grid_auto_flow": null,
            "grid_auto_rows": null,
            "grid_column": null,
            "grid_gap": null,
            "grid_row": null,
            "grid_template_areas": null,
            "grid_template_columns": null,
            "grid_template_rows": null,
            "height": null,
            "justify_content": null,
            "justify_items": null,
            "left": null,
            "margin": null,
            "max_height": null,
            "max_width": null,
            "min_height": null,
            "min_width": null,
            "object_fit": null,
            "object_position": null,
            "order": null,
            "overflow": null,
            "overflow_x": null,
            "overflow_y": null,
            "padding": null,
            "right": null,
            "top": null,
            "visibility": null,
            "width": null
          }
        },
        "ae42a83b35a54ea4827769dd475a902e": {
          "model_module": "@jupyter-widgets/base",
          "model_module_version": "1.2.0",
          "model_name": "LayoutModel",
          "state": {
            "_model_module": "@jupyter-widgets/base",
            "_model_module_version": "1.2.0",
            "_model_name": "LayoutModel",
            "_view_count": null,
            "_view_module": "@jupyter-widgets/base",
            "_view_module_version": "1.2.0",
            "_view_name": "LayoutView",
            "align_content": null,
            "align_items": null,
            "align_self": null,
            "border": null,
            "bottom": null,
            "display": null,
            "flex": null,
            "flex_flow": null,
            "grid_area": null,
            "grid_auto_columns": null,
            "grid_auto_flow": null,
            "grid_auto_rows": null,
            "grid_column": null,
            "grid_gap": null,
            "grid_row": null,
            "grid_template_areas": null,
            "grid_template_columns": null,
            "grid_template_rows": null,
            "height": null,
            "justify_content": null,
            "justify_items": null,
            "left": null,
            "margin": null,
            "max_height": null,
            "max_width": null,
            "min_height": null,
            "min_width": null,
            "object_fit": null,
            "object_position": null,
            "order": null,
            "overflow": null,
            "overflow_x": null,
            "overflow_y": null,
            "padding": null,
            "right": null,
            "top": null,
            "visibility": null,
            "width": null
          }
        },
        "b3de88f0953b43a0ae8b7ee52dd2a0e4": {
          "model_module": "@jupyter-widgets/base",
          "model_module_version": "1.2.0",
          "model_name": "LayoutModel",
          "state": {
            "_model_module": "@jupyter-widgets/base",
            "_model_module_version": "1.2.0",
            "_model_name": "LayoutModel",
            "_view_count": null,
            "_view_module": "@jupyter-widgets/base",
            "_view_module_version": "1.2.0",
            "_view_name": "LayoutView",
            "align_content": null,
            "align_items": null,
            "align_self": null,
            "border": null,
            "bottom": null,
            "display": null,
            "flex": null,
            "flex_flow": null,
            "grid_area": null,
            "grid_auto_columns": null,
            "grid_auto_flow": null,
            "grid_auto_rows": null,
            "grid_column": null,
            "grid_gap": null,
            "grid_row": null,
            "grid_template_areas": null,
            "grid_template_columns": null,
            "grid_template_rows": null,
            "height": null,
            "justify_content": null,
            "justify_items": null,
            "left": null,
            "margin": null,
            "max_height": null,
            "max_width": null,
            "min_height": null,
            "min_width": null,
            "object_fit": null,
            "object_position": null,
            "order": null,
            "overflow": null,
            "overflow_x": null,
            "overflow_y": null,
            "padding": null,
            "right": null,
            "top": null,
            "visibility": null,
            "width": null
          }
        },
        "b763eeb8c49a41aa828084096379433f": {
          "model_module": "@jupyter-widgets/controls",
          "model_module_version": "1.5.0",
          "model_name": "ProgressStyleModel",
          "state": {
            "_model_module": "@jupyter-widgets/controls",
            "_model_module_version": "1.5.0",
            "_model_name": "ProgressStyleModel",
            "_view_count": null,
            "_view_module": "@jupyter-widgets/base",
            "_view_module_version": "1.2.0",
            "_view_name": "StyleView",
            "bar_color": null,
            "description_width": ""
          }
        },
        "b85d69093a5a4696ba48fccbfa015fb4": {
          "model_module": "@jupyter-widgets/controls",
          "model_module_version": "1.5.0",
          "model_name": "ProgressStyleModel",
          "state": {
            "_model_module": "@jupyter-widgets/controls",
            "_model_module_version": "1.5.0",
            "_model_name": "ProgressStyleModel",
            "_view_count": null,
            "_view_module": "@jupyter-widgets/base",
            "_view_module_version": "1.2.0",
            "_view_name": "StyleView",
            "bar_color": null,
            "description_width": ""
          }
        },
        "b9589ef13e804707927d28789b462dd0": {
          "model_module": "@jupyter-widgets/controls",
          "model_module_version": "1.5.0",
          "model_name": "FloatProgressModel",
          "state": {
            "_dom_classes": [],
            "_model_module": "@jupyter-widgets/controls",
            "_model_module_version": "1.5.0",
            "_model_name": "FloatProgressModel",
            "_view_count": null,
            "_view_module": "@jupyter-widgets/controls",
            "_view_module_version": "1.5.0",
            "_view_name": "ProgressView",
            "bar_style": "success",
            "description": "",
            "description_tooltip": null,
            "layout": "IPY_MODEL_83fd7e464b0a45269a9cb0e94759368f",
            "max": 6000,
            "min": 0,
            "orientation": "horizontal",
            "style": "IPY_MODEL_93326b3187624af6a1bdcb2f0bcc03ca",
            "value": 6000
          }
        },
        "bd2cefb3f45148e9acbdc2b457d522b1": {
          "model_module": "@jupyter-widgets/base",
          "model_module_version": "1.2.0",
          "model_name": "LayoutModel",
          "state": {
            "_model_module": "@jupyter-widgets/base",
            "_model_module_version": "1.2.0",
            "_model_name": "LayoutModel",
            "_view_count": null,
            "_view_module": "@jupyter-widgets/base",
            "_view_module_version": "1.2.0",
            "_view_name": "LayoutView",
            "align_content": null,
            "align_items": null,
            "align_self": null,
            "border": null,
            "bottom": null,
            "display": null,
            "flex": null,
            "flex_flow": null,
            "grid_area": null,
            "grid_auto_columns": null,
            "grid_auto_flow": null,
            "grid_auto_rows": null,
            "grid_column": null,
            "grid_gap": null,
            "grid_row": null,
            "grid_template_areas": null,
            "grid_template_columns": null,
            "grid_template_rows": null,
            "height": null,
            "justify_content": null,
            "justify_items": null,
            "left": null,
            "margin": null,
            "max_height": null,
            "max_width": null,
            "min_height": null,
            "min_width": null,
            "object_fit": null,
            "object_position": null,
            "order": null,
            "overflow": null,
            "overflow_x": null,
            "overflow_y": null,
            "padding": null,
            "right": null,
            "top": null,
            "visibility": null,
            "width": null
          }
        },
        "bf048983437d4e748d882038bd633c83": {
          "model_module": "@jupyter-widgets/controls",
          "model_module_version": "1.5.0",
          "model_name": "HTMLModel",
          "state": {
            "_dom_classes": [],
            "_model_module": "@jupyter-widgets/controls",
            "_model_module_version": "1.5.0",
            "_model_name": "HTMLModel",
            "_view_count": null,
            "_view_module": "@jupyter-widgets/controls",
            "_view_module_version": "1.5.0",
            "_view_name": "HTMLView",
            "description": "",
            "description_tooltip": null,
            "layout": "IPY_MODEL_e064bbcf8f77449cb869a573773e966b",
            "placeholder": "​",
            "style": "IPY_MODEL_6d9327f392724c9889bbe2292982b245",
            "value": " 6000/6000 [00:00&lt;00:00, 38899.84it/s]"
          }
        },
        "c2f5162c177349a6a0148af44af9d7c7": {
          "model_module": "@jupyter-widgets/controls",
          "model_module_version": "1.5.0",
          "model_name": "HTMLModel",
          "state": {
            "_dom_classes": [],
            "_model_module": "@jupyter-widgets/controls",
            "_model_module_version": "1.5.0",
            "_model_name": "HTMLModel",
            "_view_count": null,
            "_view_module": "@jupyter-widgets/controls",
            "_view_module_version": "1.5.0",
            "_view_name": "HTMLView",
            "description": "",
            "description_tooltip": null,
            "layout": "IPY_MODEL_38976fc7d4f84e878462738a3aec2a49",
            "placeholder": "​",
            "style": "IPY_MODEL_a74234c4997e48eeb925f161a13d09d4",
            "value": "special_tokens_map.json: 100%"
          }
        },
        "c4416cc398ef48fba4af981ee702dd20": {
          "model_module": "@jupyter-widgets/base",
          "model_module_version": "1.2.0",
          "model_name": "LayoutModel",
          "state": {
            "_model_module": "@jupyter-widgets/base",
            "_model_module_version": "1.2.0",
            "_model_name": "LayoutModel",
            "_view_count": null,
            "_view_module": "@jupyter-widgets/base",
            "_view_module_version": "1.2.0",
            "_view_name": "LayoutView",
            "align_content": null,
            "align_items": null,
            "align_self": null,
            "border": null,
            "bottom": null,
            "display": null,
            "flex": null,
            "flex_flow": null,
            "grid_area": null,
            "grid_auto_columns": null,
            "grid_auto_flow": null,
            "grid_auto_rows": null,
            "grid_column": null,
            "grid_gap": null,
            "grid_row": null,
            "grid_template_areas": null,
            "grid_template_columns": null,
            "grid_template_rows": null,
            "height": null,
            "justify_content": null,
            "justify_items": null,
            "left": null,
            "margin": null,
            "max_height": null,
            "max_width": null,
            "min_height": null,
            "min_width": null,
            "object_fit": null,
            "object_position": null,
            "order": null,
            "overflow": null,
            "overflow_x": null,
            "overflow_y": null,
            "padding": null,
            "right": null,
            "top": null,
            "visibility": null,
            "width": null
          }
        },
        "c4f1b4c5bcee4cfeb519df3b3e974796": {
          "model_module": "@jupyter-widgets/controls",
          "model_module_version": "1.5.0",
          "model_name": "DescriptionStyleModel",
          "state": {
            "_model_module": "@jupyter-widgets/controls",
            "_model_module_version": "1.5.0",
            "_model_name": "DescriptionStyleModel",
            "_view_count": null,
            "_view_module": "@jupyter-widgets/base",
            "_view_module_version": "1.2.0",
            "_view_name": "StyleView",
            "description_width": ""
          }
        },
        "c949b379c9f74e92a91fee93e51622ac": {
          "model_module": "@jupyter-widgets/controls",
          "model_module_version": "1.5.0",
          "model_name": "DescriptionStyleModel",
          "state": {
            "_model_module": "@jupyter-widgets/controls",
            "_model_module_version": "1.5.0",
            "_model_name": "DescriptionStyleModel",
            "_view_count": null,
            "_view_module": "@jupyter-widgets/base",
            "_view_module_version": "1.2.0",
            "_view_name": "StyleView",
            "description_width": ""
          }
        },
        "cb28b61d196d4f7b946895a7d94c690a": {
          "model_module": "@jupyter-widgets/controls",
          "model_module_version": "1.5.0",
          "model_name": "HTMLModel",
          "state": {
            "_dom_classes": [],
            "_model_module": "@jupyter-widgets/controls",
            "_model_module_version": "1.5.0",
            "_model_name": "HTMLModel",
            "_view_count": null,
            "_view_module": "@jupyter-widgets/controls",
            "_view_module_version": "1.5.0",
            "_view_name": "HTMLView",
            "description": "",
            "description_tooltip": null,
            "layout": "IPY_MODEL_248431f9dd8e4af5aeda17d268f126bb",
            "placeholder": "​",
            "style": "IPY_MODEL_5cbb03b4286a4f24b2b5d5fe45004ebb",
            "value": " 31.4M/31.4M [00:00&lt;00:00, 259MB/s]"
          }
        },
        "ce4b4b2bdeb4462eb445b82c247b4d5a": {
          "model_module": "@jupyter-widgets/controls",
          "model_module_version": "1.5.0",
          "model_name": "DescriptionStyleModel",
          "state": {
            "_model_module": "@jupyter-widgets/controls",
            "_model_module_version": "1.5.0",
            "_model_name": "DescriptionStyleModel",
            "_view_count": null,
            "_view_module": "@jupyter-widgets/base",
            "_view_module_version": "1.2.0",
            "_view_name": "StyleView",
            "description_width": ""
          }
        },
        "ce7a2bdf0e8b4423921f7031c61cffbd": {
          "model_module": "@jupyter-widgets/base",
          "model_module_version": "1.2.0",
          "model_name": "LayoutModel",
          "state": {
            "_model_module": "@jupyter-widgets/base",
            "_model_module_version": "1.2.0",
            "_model_name": "LayoutModel",
            "_view_count": null,
            "_view_module": "@jupyter-widgets/base",
            "_view_module_version": "1.2.0",
            "_view_name": "LayoutView",
            "align_content": null,
            "align_items": null,
            "align_self": null,
            "border": null,
            "bottom": null,
            "display": null,
            "flex": null,
            "flex_flow": null,
            "grid_area": null,
            "grid_auto_columns": null,
            "grid_auto_flow": null,
            "grid_auto_rows": null,
            "grid_column": null,
            "grid_gap": null,
            "grid_row": null,
            "grid_template_areas": null,
            "grid_template_columns": null,
            "grid_template_rows": null,
            "height": null,
            "justify_content": null,
            "justify_items": null,
            "left": null,
            "margin": null,
            "max_height": null,
            "max_width": null,
            "min_height": null,
            "min_width": null,
            "object_fit": null,
            "object_position": null,
            "order": null,
            "overflow": null,
            "overflow_x": null,
            "overflow_y": null,
            "padding": null,
            "right": null,
            "top": null,
            "visibility": null,
            "width": null
          }
        },
        "ce7e626095ed42499d5f4d814cb7f66d": {
          "model_module": "@jupyter-widgets/controls",
          "model_module_version": "1.5.0",
          "model_name": "HBoxModel",
          "state": {
            "_dom_classes": [],
            "_model_module": "@jupyter-widgets/controls",
            "_model_module_version": "1.5.0",
            "_model_name": "HBoxModel",
            "_view_count": null,
            "_view_module": "@jupyter-widgets/controls",
            "_view_module_version": "1.5.0",
            "_view_name": "HBoxView",
            "box_style": "",
            "children": [
              "IPY_MODEL_f341138cf7ae446fbadd4b43f45b9b23",
              "IPY_MODEL_fdd07c02403d48249eee5c35ad2fff09",
              "IPY_MODEL_1d47af97d7864ab49d13ec6f502c0f9c"
            ],
            "layout": "IPY_MODEL_85cb890bc8254c689c7c1b744281408d"
          }
        },
        "ceb2e61d1c574cd2b216d3722b16d3c9": {
          "model_module": "@jupyter-widgets/base",
          "model_module_version": "1.2.0",
          "model_name": "LayoutModel",
          "state": {
            "_model_module": "@jupyter-widgets/base",
            "_model_module_version": "1.2.0",
            "_model_name": "LayoutModel",
            "_view_count": null,
            "_view_module": "@jupyter-widgets/base",
            "_view_module_version": "1.2.0",
            "_view_name": "LayoutView",
            "align_content": null,
            "align_items": null,
            "align_self": null,
            "border": null,
            "bottom": null,
            "display": null,
            "flex": null,
            "flex_flow": null,
            "grid_area": null,
            "grid_auto_columns": null,
            "grid_auto_flow": null,
            "grid_auto_rows": null,
            "grid_column": null,
            "grid_gap": null,
            "grid_row": null,
            "grid_template_areas": null,
            "grid_template_columns": null,
            "grid_template_rows": null,
            "height": null,
            "justify_content": null,
            "justify_items": null,
            "left": null,
            "margin": null,
            "max_height": null,
            "max_width": null,
            "min_height": null,
            "min_width": null,
            "object_fit": null,
            "object_position": null,
            "order": null,
            "overflow": null,
            "overflow_x": null,
            "overflow_y": null,
            "padding": null,
            "right": null,
            "top": null,
            "visibility": null,
            "width": null
          }
        },
        "d04b9e87801745c5968301000698c9c3": {
          "model_module": "@jupyter-widgets/controls",
          "model_module_version": "1.5.0",
          "model_name": "FloatProgressModel",
          "state": {
            "_dom_classes": [],
            "_model_module": "@jupyter-widgets/controls",
            "_model_module_version": "1.5.0",
            "_model_name": "FloatProgressModel",
            "_view_count": null,
            "_view_module": "@jupyter-widgets/controls",
            "_view_module_version": "1.5.0",
            "_view_name": "ProgressView",
            "bar_style": "success",
            "description": "",
            "description_tooltip": null,
            "layout": "IPY_MODEL_042293b0c56c467cba98e7cd48d1fa16",
            "max": 31384292,
            "min": 0,
            "orientation": "horizontal",
            "style": "IPY_MODEL_1b4d475e261442fbb1dd75c5a2ef8ae4",
            "value": 31384292
          }
        },
        "d7c4289fe7be45cf9e54d1c5be996ac8": {
          "model_module": "@jupyter-widgets/base",
          "model_module_version": "1.2.0",
          "model_name": "LayoutModel",
          "state": {
            "_model_module": "@jupyter-widgets/base",
            "_model_module_version": "1.2.0",
            "_model_name": "LayoutModel",
            "_view_count": null,
            "_view_module": "@jupyter-widgets/base",
            "_view_module_version": "1.2.0",
            "_view_name": "LayoutView",
            "align_content": null,
            "align_items": null,
            "align_self": null,
            "border": null,
            "bottom": null,
            "display": null,
            "flex": null,
            "flex_flow": null,
            "grid_area": null,
            "grid_auto_columns": null,
            "grid_auto_flow": null,
            "grid_auto_rows": null,
            "grid_column": null,
            "grid_gap": null,
            "grid_row": null,
            "grid_template_areas": null,
            "grid_template_columns": null,
            "grid_template_rows": null,
            "height": null,
            "justify_content": null,
            "justify_items": null,
            "left": null,
            "margin": null,
            "max_height": null,
            "max_width": null,
            "min_height": null,
            "min_width": null,
            "object_fit": null,
            "object_position": null,
            "order": null,
            "overflow": null,
            "overflow_x": null,
            "overflow_y": null,
            "padding": null,
            "right": null,
            "top": null,
            "visibility": null,
            "width": null
          }
        },
        "d886f73d8bbf474c8a23fafcc41b5488": {
          "model_module": "@jupyter-widgets/controls",
          "model_module_version": "1.5.0",
          "model_name": "HTMLModel",
          "state": {
            "_dom_classes": [],
            "_model_module": "@jupyter-widgets/controls",
            "_model_module_version": "1.5.0",
            "_model_name": "HTMLModel",
            "_view_count": null,
            "_view_module": "@jupyter-widgets/controls",
            "_view_module_version": "1.5.0",
            "_view_name": "HTMLView",
            "description": "",
            "description_tooltip": null,
            "layout": "IPY_MODEL_fc851b0fe0e249708422e00d34e9f4e5",
            "placeholder": "​",
            "style": "IPY_MODEL_267cddc459af4be5b2b62820dfb951e5",
            "value": "100%"
          }
        },
        "d960e2740f454326908fa8f8921743e2": {
          "model_module": "@jupyter-widgets/controls",
          "model_module_version": "1.5.0",
          "model_name": "HBoxModel",
          "state": {
            "_dom_classes": [],
            "_model_module": "@jupyter-widgets/controls",
            "_model_module_version": "1.5.0",
            "_model_name": "HBoxModel",
            "_view_count": null,
            "_view_module": "@jupyter-widgets/controls",
            "_view_module_version": "1.5.0",
            "_view_name": "HBoxView",
            "box_style": "",
            "children": [
              "IPY_MODEL_8fcd95cd7e53413aa78e6aebe363ccc4",
              "IPY_MODEL_a24eb4aad0784e88b06fa168de247e7f",
              "IPY_MODEL_778ceded7dcd4faabd2ea3c2391a2ca9"
            ],
            "layout": "IPY_MODEL_8213c716bbc649cc87ad280c12e918f5"
          }
        },
        "d9bee0ee17114b75b5eb6369ca7184a6": {
          "model_module": "@jupyter-widgets/controls",
          "model_module_version": "1.5.0",
          "model_name": "HBoxModel",
          "state": {
            "_dom_classes": [],
            "_model_module": "@jupyter-widgets/controls",
            "_model_module_version": "1.5.0",
            "_model_name": "HBoxModel",
            "_view_count": null,
            "_view_module": "@jupyter-widgets/controls",
            "_view_module_version": "1.5.0",
            "_view_name": "HBoxView",
            "box_style": "",
            "children": [
              "IPY_MODEL_949dccdfb0644df8bef90f00fc1a992a",
              "IPY_MODEL_574accde7c8f4f9e93eefc101c13c20f",
              "IPY_MODEL_3b76afd2296b43758f8e4f104d4dbe5b"
            ],
            "layout": "IPY_MODEL_4647f82c427f4a55b78b76469127492c"
          }
        },
        "db39614ed9824472b055164439c846ca": {
          "model_module": "@jupyter-widgets/controls",
          "model_module_version": "1.5.0",
          "model_name": "DescriptionStyleModel",
          "state": {
            "_model_module": "@jupyter-widgets/controls",
            "_model_module_version": "1.5.0",
            "_model_name": "DescriptionStyleModel",
            "_view_count": null,
            "_view_module": "@jupyter-widgets/base",
            "_view_module_version": "1.2.0",
            "_view_name": "StyleView",
            "description_width": ""
          }
        },
        "dba2820609034242afe41231c71e4dbb": {
          "model_module": "@jupyter-widgets/controls",
          "model_module_version": "1.5.0",
          "model_name": "HBoxModel",
          "state": {
            "_dom_classes": [],
            "_model_module": "@jupyter-widgets/controls",
            "_model_module_version": "1.5.0",
            "_model_name": "HBoxModel",
            "_view_count": null,
            "_view_module": "@jupyter-widgets/controls",
            "_view_module_version": "1.5.0",
            "_view_name": "HBoxView",
            "box_style": "",
            "children": [
              "IPY_MODEL_f72330752da1485ebd6bfe95a799def1",
              "IPY_MODEL_d04b9e87801745c5968301000698c9c3",
              "IPY_MODEL_cb28b61d196d4f7b946895a7d94c690a"
            ],
            "layout": "IPY_MODEL_e6df26cbdd5f49be81117c4a123c902e"
          }
        },
        "debaa53490774d4883e72af9c676acd0": {
          "model_module": "@jupyter-widgets/base",
          "model_module_version": "1.2.0",
          "model_name": "LayoutModel",
          "state": {
            "_model_module": "@jupyter-widgets/base",
            "_model_module_version": "1.2.0",
            "_model_name": "LayoutModel",
            "_view_count": null,
            "_view_module": "@jupyter-widgets/base",
            "_view_module_version": "1.2.0",
            "_view_name": "LayoutView",
            "align_content": null,
            "align_items": null,
            "align_self": null,
            "border": null,
            "bottom": null,
            "display": null,
            "flex": null,
            "flex_flow": null,
            "grid_area": null,
            "grid_auto_columns": null,
            "grid_auto_flow": null,
            "grid_auto_rows": null,
            "grid_column": null,
            "grid_gap": null,
            "grid_row": null,
            "grid_template_areas": null,
            "grid_template_columns": null,
            "grid_template_rows": null,
            "height": null,
            "justify_content": null,
            "justify_items": null,
            "left": null,
            "margin": null,
            "max_height": null,
            "max_width": null,
            "min_height": null,
            "min_width": null,
            "object_fit": null,
            "object_position": null,
            "order": null,
            "overflow": null,
            "overflow_x": null,
            "overflow_y": null,
            "padding": null,
            "right": null,
            "top": null,
            "visibility": null,
            "width": null
          }
        },
        "e064bbcf8f77449cb869a573773e966b": {
          "model_module": "@jupyter-widgets/base",
          "model_module_version": "1.2.0",
          "model_name": "LayoutModel",
          "state": {
            "_model_module": "@jupyter-widgets/base",
            "_model_module_version": "1.2.0",
            "_model_name": "LayoutModel",
            "_view_count": null,
            "_view_module": "@jupyter-widgets/base",
            "_view_module_version": "1.2.0",
            "_view_name": "LayoutView",
            "align_content": null,
            "align_items": null,
            "align_self": null,
            "border": null,
            "bottom": null,
            "display": null,
            "flex": null,
            "flex_flow": null,
            "grid_area": null,
            "grid_auto_columns": null,
            "grid_auto_flow": null,
            "grid_auto_rows": null,
            "grid_column": null,
            "grid_gap": null,
            "grid_row": null,
            "grid_template_areas": null,
            "grid_template_columns": null,
            "grid_template_rows": null,
            "height": null,
            "justify_content": null,
            "justify_items": null,
            "left": null,
            "margin": null,
            "max_height": null,
            "max_width": null,
            "min_height": null,
            "min_width": null,
            "object_fit": null,
            "object_position": null,
            "order": null,
            "overflow": null,
            "overflow_x": null,
            "overflow_y": null,
            "padding": null,
            "right": null,
            "top": null,
            "visibility": null,
            "width": null
          }
        },
        "e32df6bbec694c9da8637183f48ae538": {
          "model_module": "@jupyter-widgets/controls",
          "model_module_version": "1.5.0",
          "model_name": "DescriptionStyleModel",
          "state": {
            "_model_module": "@jupyter-widgets/controls",
            "_model_module_version": "1.5.0",
            "_model_name": "DescriptionStyleModel",
            "_view_count": null,
            "_view_module": "@jupyter-widgets/base",
            "_view_module_version": "1.2.0",
            "_view_name": "StyleView",
            "description_width": ""
          }
        },
        "e6df26cbdd5f49be81117c4a123c902e": {
          "model_module": "@jupyter-widgets/base",
          "model_module_version": "1.2.0",
          "model_name": "LayoutModel",
          "state": {
            "_model_module": "@jupyter-widgets/base",
            "_model_module_version": "1.2.0",
            "_model_name": "LayoutModel",
            "_view_count": null,
            "_view_module": "@jupyter-widgets/base",
            "_view_module_version": "1.2.0",
            "_view_name": "LayoutView",
            "align_content": null,
            "align_items": null,
            "align_self": null,
            "border": null,
            "bottom": null,
            "display": null,
            "flex": null,
            "flex_flow": null,
            "grid_area": null,
            "grid_auto_columns": null,
            "grid_auto_flow": null,
            "grid_auto_rows": null,
            "grid_column": null,
            "grid_gap": null,
            "grid_row": null,
            "grid_template_areas": null,
            "grid_template_columns": null,
            "grid_template_rows": null,
            "height": null,
            "justify_content": null,
            "justify_items": null,
            "left": null,
            "margin": null,
            "max_height": null,
            "max_width": null,
            "min_height": null,
            "min_width": null,
            "object_fit": null,
            "object_position": null,
            "order": null,
            "overflow": null,
            "overflow_x": null,
            "overflow_y": null,
            "padding": null,
            "right": null,
            "top": null,
            "visibility": null,
            "width": null
          }
        },
        "e89d569c70eb40ef8d152f3f683f3cc4": {
          "model_module": "@jupyter-widgets/controls",
          "model_module_version": "1.5.0",
          "model_name": "HTMLModel",
          "state": {
            "_dom_classes": [],
            "_model_module": "@jupyter-widgets/controls",
            "_model_module_version": "1.5.0",
            "_model_name": "HTMLModel",
            "_view_count": null,
            "_view_module": "@jupyter-widgets/controls",
            "_view_module_version": "1.5.0",
            "_view_name": "HTMLView",
            "description": "",
            "description_tooltip": null,
            "layout": "IPY_MODEL_ae42a83b35a54ea4827769dd475a902e",
            "placeholder": "​",
            "style": "IPY_MODEL_5d42ac2c2d5f4f66bcb6ce1414dad58e",
            "value": " 6000/6000 [00:00&lt;00:00, 42581.51it/s]"
          }
        },
        "ec52623d12564ddfbcbe763532b0856c": {
          "model_module": "@jupyter-widgets/base",
          "model_module_version": "1.2.0",
          "model_name": "LayoutModel",
          "state": {
            "_model_module": "@jupyter-widgets/base",
            "_model_module_version": "1.2.0",
            "_model_name": "LayoutModel",
            "_view_count": null,
            "_view_module": "@jupyter-widgets/base",
            "_view_module_version": "1.2.0",
            "_view_name": "LayoutView",
            "align_content": null,
            "align_items": null,
            "align_self": null,
            "border": null,
            "bottom": null,
            "display": null,
            "flex": null,
            "flex_flow": null,
            "grid_area": null,
            "grid_auto_columns": null,
            "grid_auto_flow": null,
            "grid_auto_rows": null,
            "grid_column": null,
            "grid_gap": null,
            "grid_row": null,
            "grid_template_areas": null,
            "grid_template_columns": null,
            "grid_template_rows": null,
            "height": null,
            "justify_content": null,
            "justify_items": null,
            "left": null,
            "margin": null,
            "max_height": null,
            "max_width": null,
            "min_height": null,
            "min_width": null,
            "object_fit": null,
            "object_position": null,
            "order": null,
            "overflow": null,
            "overflow_x": null,
            "overflow_y": null,
            "padding": null,
            "right": null,
            "top": null,
            "visibility": null,
            "width": null
          }
        },
        "ed9f3439866e42bc96f22d4c94697c65": {
          "model_module": "@jupyter-widgets/base",
          "model_module_version": "1.2.0",
          "model_name": "LayoutModel",
          "state": {
            "_model_module": "@jupyter-widgets/base",
            "_model_module_version": "1.2.0",
            "_model_name": "LayoutModel",
            "_view_count": null,
            "_view_module": "@jupyter-widgets/base",
            "_view_module_version": "1.2.0",
            "_view_name": "LayoutView",
            "align_content": null,
            "align_items": null,
            "align_self": null,
            "border": null,
            "bottom": null,
            "display": null,
            "flex": null,
            "flex_flow": null,
            "grid_area": null,
            "grid_auto_columns": null,
            "grid_auto_flow": null,
            "grid_auto_rows": null,
            "grid_column": null,
            "grid_gap": null,
            "grid_row": null,
            "grid_template_areas": null,
            "grid_template_columns": null,
            "grid_template_rows": null,
            "height": null,
            "justify_content": null,
            "justify_items": null,
            "left": null,
            "margin": null,
            "max_height": null,
            "max_width": null,
            "min_height": null,
            "min_width": null,
            "object_fit": null,
            "object_position": null,
            "order": null,
            "overflow": null,
            "overflow_x": null,
            "overflow_y": null,
            "padding": null,
            "right": null,
            "top": null,
            "visibility": null,
            "width": null
          }
        },
        "ef0350ee3fa64fac9303cf2ac43cd1d4": {
          "model_module": "@jupyter-widgets/controls",
          "model_module_version": "1.5.0",
          "model_name": "ProgressStyleModel",
          "state": {
            "_model_module": "@jupyter-widgets/controls",
            "_model_module_version": "1.5.0",
            "_model_name": "ProgressStyleModel",
            "_view_count": null,
            "_view_module": "@jupyter-widgets/base",
            "_view_module_version": "1.2.0",
            "_view_name": "StyleView",
            "bar_color": null,
            "description_width": ""
          }
        },
        "ef4fba0dc7c44a64964a4712d4f6fcef": {
          "model_module": "@jupyter-widgets/controls",
          "model_module_version": "1.5.0",
          "model_name": "ProgressStyleModel",
          "state": {
            "_model_module": "@jupyter-widgets/controls",
            "_model_module_version": "1.5.0",
            "_model_name": "ProgressStyleModel",
            "_view_count": null,
            "_view_module": "@jupyter-widgets/base",
            "_view_module_version": "1.2.0",
            "_view_name": "StyleView",
            "bar_color": null,
            "description_width": ""
          }
        },
        "f341138cf7ae446fbadd4b43f45b9b23": {
          "model_module": "@jupyter-widgets/controls",
          "model_module_version": "1.5.0",
          "model_name": "HTMLModel",
          "state": {
            "_dom_classes": [],
            "_model_module": "@jupyter-widgets/controls",
            "_model_module_version": "1.5.0",
            "_model_name": "HTMLModel",
            "_view_count": null,
            "_view_module": "@jupyter-widgets/controls",
            "_view_module_version": "1.5.0",
            "_view_name": "HTMLView",
            "description": "",
            "description_tooltip": null,
            "layout": "IPY_MODEL_8c8bd4acf7e646da8c6e43bc4a8f06f5",
            "placeholder": "​",
            "style": "IPY_MODEL_46bb86dc58e44fa9b80d011a25ba56c6",
            "value": "config.json: 100%"
          }
        },
        "f4910c2cf4f0451e9c9e0051bb3d23f5": {
          "model_module": "@jupyter-widgets/controls",
          "model_module_version": "1.5.0",
          "model_name": "FloatProgressModel",
          "state": {
            "_dom_classes": [],
            "_model_module": "@jupyter-widgets/controls",
            "_model_module_version": "1.5.0",
            "_model_name": "FloatProgressModel",
            "_view_count": null,
            "_view_module": "@jupyter-widgets/controls",
            "_view_module_version": "1.5.0",
            "_view_name": "ProgressView",
            "bar_style": "success",
            "description": "",
            "description_tooltip": null,
            "layout": "IPY_MODEL_ce7a2bdf0e8b4423921f7031c61cffbd",
            "max": 38400,
            "min": 0,
            "orientation": "horizontal",
            "style": "IPY_MODEL_125406dc0bcc43feb2a0e094388069a6",
            "value": 38400
          }
        },
        "f63c6880c6f24f48916f92fe6e024249": {
          "model_module": "@jupyter-widgets/base",
          "model_module_version": "1.2.0",
          "model_name": "LayoutModel",
          "state": {
            "_model_module": "@jupyter-widgets/base",
            "_model_module_version": "1.2.0",
            "_model_name": "LayoutModel",
            "_view_count": null,
            "_view_module": "@jupyter-widgets/base",
            "_view_module_version": "1.2.0",
            "_view_name": "LayoutView",
            "align_content": null,
            "align_items": null,
            "align_self": null,
            "border": null,
            "bottom": null,
            "display": null,
            "flex": null,
            "flex_flow": null,
            "grid_area": null,
            "grid_auto_columns": null,
            "grid_auto_flow": null,
            "grid_auto_rows": null,
            "grid_column": null,
            "grid_gap": null,
            "grid_row": null,
            "grid_template_areas": null,
            "grid_template_columns": null,
            "grid_template_rows": null,
            "height": null,
            "justify_content": null,
            "justify_items": null,
            "left": null,
            "margin": null,
            "max_height": null,
            "max_width": null,
            "min_height": null,
            "min_width": null,
            "object_fit": null,
            "object_position": null,
            "order": null,
            "overflow": null,
            "overflow_x": null,
            "overflow_y": null,
            "padding": null,
            "right": null,
            "top": null,
            "visibility": null,
            "width": null
          }
        },
        "f6840b5a31244b689830f409c5a6d49f": {
          "model_module": "@jupyter-widgets/controls",
          "model_module_version": "1.5.0",
          "model_name": "ProgressStyleModel",
          "state": {
            "_model_module": "@jupyter-widgets/controls",
            "_model_module_version": "1.5.0",
            "_model_name": "ProgressStyleModel",
            "_view_count": null,
            "_view_module": "@jupyter-widgets/base",
            "_view_module_version": "1.2.0",
            "_view_name": "StyleView",
            "bar_color": null,
            "description_width": ""
          }
        },
        "f72330752da1485ebd6bfe95a799def1": {
          "model_module": "@jupyter-widgets/controls",
          "model_module_version": "1.5.0",
          "model_name": "HTMLModel",
          "state": {
            "_dom_classes": [],
            "_model_module": "@jupyter-widgets/controls",
            "_model_module_version": "1.5.0",
            "_model_name": "HTMLModel",
            "_view_count": null,
            "_view_module": "@jupyter-widgets/controls",
            "_view_module_version": "1.5.0",
            "_view_name": "HTMLView",
            "description": "",
            "description_tooltip": null,
            "layout": "IPY_MODEL_debaa53490774d4883e72af9c676acd0",
            "placeholder": "​",
            "style": "IPY_MODEL_a524a6f9829b433988f69961690d07ce",
            "value": "model.safetensors: 100%"
          }
        },
        "f752937d696b40f4907b2527486f9636": {
          "model_module": "@jupyter-widgets/controls",
          "model_module_version": "1.5.0",
          "model_name": "HTMLModel",
          "state": {
            "_dom_classes": [],
            "_model_module": "@jupyter-widgets/controls",
            "_model_module_version": "1.5.0",
            "_model_name": "HTMLModel",
            "_view_count": null,
            "_view_module": "@jupyter-widgets/controls",
            "_view_module_version": "1.5.0",
            "_view_name": "HTMLView",
            "description": "",
            "description_tooltip": null,
            "layout": "IPY_MODEL_ceb2e61d1c574cd2b216d3722b16d3c9",
            "placeholder": "​",
            "style": "IPY_MODEL_33985a9c04aa4fdc8e00c834a4f98aa5",
            "value": "100%"
          }
        },
        "f93415cbcfda4a978b184af53ed5e25e": {
          "model_module": "@jupyter-widgets/controls",
          "model_module_version": "1.5.0",
          "model_name": "HTMLModel",
          "state": {
            "_dom_classes": [],
            "_model_module": "@jupyter-widgets/controls",
            "_model_module_version": "1.5.0",
            "_model_name": "HTMLModel",
            "_view_count": null,
            "_view_module": "@jupyter-widgets/controls",
            "_view_module_version": "1.5.0",
            "_view_name": "HTMLView",
            "description": "",
            "description_tooltip": null,
            "layout": "IPY_MODEL_09ed20a0f4584f3cbc43d9a36693ee5f",
            "placeholder": "​",
            "style": "IPY_MODEL_07cbcde2d1624ee380d3e91ee7e2dbce",
            "value": " 95.0/95.0 [00:00&lt;00:00, 5.26kB/s]"
          }
        },
        "f9a6bd5f12e64808800885b7fac41d8e": {
          "model_module": "@jupyter-widgets/controls",
          "model_module_version": "1.5.0",
          "model_name": "FloatProgressModel",
          "state": {
            "_dom_classes": [],
            "_model_module": "@jupyter-widgets/controls",
            "_model_module_version": "1.5.0",
            "_model_name": "FloatProgressModel",
            "_view_count": null,
            "_view_module": "@jupyter-widgets/controls",
            "_view_module_version": "1.5.0",
            "_view_name": "ProgressView",
            "bar_style": "",
            "description": "",
            "description_tooltip": null,
            "layout": "IPY_MODEL_4448a794b34d4be990a1eb8b573ddf97",
            "max": 2400,
            "min": 0,
            "orientation": "horizontal",
            "style": "IPY_MODEL_279f7677c0644920820c28250ba502cc",
            "value": 34
          }
        },
        "fc851b0fe0e249708422e00d34e9f4e5": {
          "model_module": "@jupyter-widgets/base",
          "model_module_version": "1.2.0",
          "model_name": "LayoutModel",
          "state": {
            "_model_module": "@jupyter-widgets/base",
            "_model_module_version": "1.2.0",
            "_model_name": "LayoutModel",
            "_view_count": null,
            "_view_module": "@jupyter-widgets/base",
            "_view_module_version": "1.2.0",
            "_view_name": "LayoutView",
            "align_content": null,
            "align_items": null,
            "align_self": null,
            "border": null,
            "bottom": null,
            "display": null,
            "flex": null,
            "flex_flow": null,
            "grid_area": null,
            "grid_auto_columns": null,
            "grid_auto_flow": null,
            "grid_auto_rows": null,
            "grid_column": null,
            "grid_gap": null,
            "grid_row": null,
            "grid_template_areas": null,
            "grid_template_columns": null,
            "grid_template_rows": null,
            "height": null,
            "justify_content": null,
            "justify_items": null,
            "left": null,
            "margin": null,
            "max_height": null,
            "max_width": null,
            "min_height": null,
            "min_width": null,
            "object_fit": null,
            "object_position": null,
            "order": null,
            "overflow": null,
            "overflow_x": null,
            "overflow_y": null,
            "padding": null,
            "right": null,
            "top": null,
            "visibility": null,
            "width": null
          }
        },
        "fdd07c02403d48249eee5c35ad2fff09": {
          "model_module": "@jupyter-widgets/controls",
          "model_module_version": "1.5.0",
          "model_name": "FloatProgressModel",
          "state": {
            "_dom_classes": [],
            "_model_module": "@jupyter-widgets/controls",
            "_model_module_version": "1.5.0",
            "_model_name": "FloatProgressModel",
            "_view_count": null,
            "_view_module": "@jupyter-widgets/controls",
            "_view_module_version": "1.5.0",
            "_view_name": "ProgressView",
            "bar_style": "success",
            "description": "",
            "description_tooltip": null,
            "layout": "IPY_MODEL_0e1fdf0737bf454c916e4dc4ab0a8340",
            "max": 775,
            "min": 0,
            "orientation": "horizontal",
            "style": "IPY_MODEL_1af2c6bb23914e228bda6e708b369faf",
            "value": 775
          }
        },
        "ff5661e02609402f9d488e084fb79f09": {
          "model_module": "@jupyter-widgets/controls",
          "model_module_version": "1.5.0",
          "model_name": "HBoxModel",
          "state": {
            "_dom_classes": [],
            "_model_module": "@jupyter-widgets/controls",
            "_model_module_version": "1.5.0",
            "_model_name": "HBoxModel",
            "_view_count": null,
            "_view_module": "@jupyter-widgets/controls",
            "_view_module_version": "1.5.0",
            "_view_name": "HBoxView",
            "box_style": "",
            "children": [
              "IPY_MODEL_267379788a3742d3af0f9ed8805dbdd6",
              "IPY_MODEL_f4910c2cf4f0451e9c9e0051bb3d23f5",
              "IPY_MODEL_570c6e77ca4e4b81a81c48f30dbdda4e"
            ],
            "layout": "IPY_MODEL_ed9f3439866e42bc96f22d4c94697c65"
          }
        }
      }
    }
  },
  "nbformat": 4,
  "nbformat_minor": 0
}