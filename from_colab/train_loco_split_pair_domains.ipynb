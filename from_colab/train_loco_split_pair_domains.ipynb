{
  "cells": [
    {
      "cell_type": "markdown",
      "metadata": {
        "id": "J74Y0EhzS5ww"
      },
      "source": [
        "# Install additional packages"
      ]
    },
    {
      "cell_type": "code",
      "execution_count": null,
      "metadata": {
        "colab": {
          "base_uri": "https://localhost:8080/"
        },
        "id": "DzD0j4tulWWH",
        "outputId": "98bf40c5-abd4-4d01-9cf4-9a722a31e634"
      },
      "outputs": [
        {
          "name": "stdout",
          "output_type": "stream",
          "text": [
            "Collecting fair-esm\n",
            "  Downloading fair_esm-2.0.0-py3-none-any.whl (93 kB)\n",
            "\u001b[?25l     \u001b[90m━━━━━━━━━━━━━━━━━━━━━━━━━━━━━━━━━━━━━━━━\u001b[0m \u001b[32m0.0/93.1 kB\u001b[0m \u001b[31m?\u001b[0m eta \u001b[36m-:--:--\u001b[0m\r\u001b[2K     \u001b[91m━━━━━━━━━━━━━━━━━━━━━━━━━━━━━━━━━━━━━━━\u001b[0m\u001b[91m╸\u001b[0m \u001b[32m92.2/93.1 kB\u001b[0m \u001b[31m2.5 MB/s\u001b[0m eta \u001b[36m0:00:01\u001b[0m\r\u001b[2K     \u001b[90m━━━━━━━━━━━━━━━━━━━━━━━━━━━━━━━━━━━━━━━━\u001b[0m \u001b[32m93.1/93.1 kB\u001b[0m \u001b[31m1.9 MB/s\u001b[0m eta \u001b[36m0:00:00\u001b[0m\n",
            "\u001b[?25hInstalling collected packages: fair-esm\n",
            "Successfully installed fair-esm-2.0.0\n",
            "Collecting sentence-transformers\n",
            "  Downloading sentence-transformers-2.2.2.tar.gz (85 kB)\n",
            "\u001b[2K     \u001b[90m━━━━━━━━━━━━━━━━━━━━━━━━━━━━━━━━━━━━━━━━\u001b[0m \u001b[32m86.0/86.0 kB\u001b[0m \u001b[31m1.8 MB/s\u001b[0m eta \u001b[36m0:00:00\u001b[0m\n",
            "\u001b[?25h  Preparing metadata (setup.py) ... \u001b[?25l\u001b[?25hdone\n",
            "Requirement already satisfied: scikit-learn in /usr/local/lib/python3.10/dist-packages (1.2.2)\n",
            "Requirement already satisfied: numpy in /usr/local/lib/python3.10/dist-packages (1.23.5)\n",
            "Requirement already satisfied: pandas in /usr/local/lib/python3.10/dist-packages (1.5.3)\n",
            "Requirement already satisfied: transformers<5.0.0,>=4.6.0 in /usr/local/lib/python3.10/dist-packages (from sentence-transformers) (4.35.2)\n",
            "Requirement already satisfied: tqdm in /usr/local/lib/python3.10/dist-packages (from sentence-transformers) (4.66.1)\n",
            "Requirement already satisfied: torch>=1.6.0 in /usr/local/lib/python3.10/dist-packages (from sentence-transformers) (2.1.0+cu121)\n",
            "Requirement already satisfied: torchvision in /usr/local/lib/python3.10/dist-packages (from sentence-transformers) (0.16.0+cu121)\n",
            "Requirement already satisfied: scipy in /usr/local/lib/python3.10/dist-packages (from sentence-transformers) (1.11.4)\n",
            "Requirement already satisfied: nltk in /usr/local/lib/python3.10/dist-packages (from sentence-transformers) (3.8.1)\n",
            "Collecting sentencepiece (from sentence-transformers)\n",
            "  Downloading sentencepiece-0.1.99-cp310-cp310-manylinux_2_17_x86_64.manylinux2014_x86_64.whl (1.3 MB)\n",
            "\u001b[2K     \u001b[90m━━━━━━━━━━━━━━━━━━━━━━━━━━━━━━━━━━━━━━━━\u001b[0m \u001b[32m1.3/1.3 MB\u001b[0m \u001b[31m29.4 MB/s\u001b[0m eta \u001b[36m0:00:00\u001b[0m\n",
            "\u001b[?25hRequirement already satisfied: huggingface-hub>=0.4.0 in /usr/local/lib/python3.10/dist-packages (from sentence-transformers) (0.19.4)\n",
            "Requirement already satisfied: joblib>=1.1.1 in /usr/local/lib/python3.10/dist-packages (from scikit-learn) (1.3.2)\n",
            "Requirement already satisfied: threadpoolctl>=2.0.0 in /usr/local/lib/python3.10/dist-packages (from scikit-learn) (3.2.0)\n",
            "Requirement already satisfied: python-dateutil>=2.8.1 in /usr/local/lib/python3.10/dist-packages (from pandas) (2.8.2)\n",
            "Requirement already satisfied: pytz>=2020.1 in /usr/local/lib/python3.10/dist-packages (from pandas) (2023.3.post1)\n",
            "Requirement already satisfied: filelock in /usr/local/lib/python3.10/dist-packages (from huggingface-hub>=0.4.0->sentence-transformers) (3.13.1)\n",
            "Requirement already satisfied: fsspec>=2023.5.0 in /usr/local/lib/python3.10/dist-packages (from huggingface-hub>=0.4.0->sentence-transformers) (2023.6.0)\n",
            "Requirement already satisfied: requests in /usr/local/lib/python3.10/dist-packages (from huggingface-hub>=0.4.0->sentence-transformers) (2.31.0)\n",
            "Requirement already satisfied: pyyaml>=5.1 in /usr/local/lib/python3.10/dist-packages (from huggingface-hub>=0.4.0->sentence-transformers) (6.0.1)\n",
            "Requirement already satisfied: typing-extensions>=3.7.4.3 in /usr/local/lib/python3.10/dist-packages (from huggingface-hub>=0.4.0->sentence-transformers) (4.5.0)\n",
            "Requirement already satisfied: packaging>=20.9 in /usr/local/lib/python3.10/dist-packages (from huggingface-hub>=0.4.0->sentence-transformers) (23.2)\n",
            "Requirement already satisfied: six>=1.5 in /usr/local/lib/python3.10/dist-packages (from python-dateutil>=2.8.1->pandas) (1.16.0)\n",
            "Requirement already satisfied: sympy in /usr/local/lib/python3.10/dist-packages (from torch>=1.6.0->sentence-transformers) (1.12)\n",
            "Requirement already satisfied: networkx in /usr/local/lib/python3.10/dist-packages (from torch>=1.6.0->sentence-transformers) (3.2.1)\n",
            "Requirement already satisfied: jinja2 in /usr/local/lib/python3.10/dist-packages (from torch>=1.6.0->sentence-transformers) (3.1.2)\n",
            "Requirement already satisfied: triton==2.1.0 in /usr/local/lib/python3.10/dist-packages (from torch>=1.6.0->sentence-transformers) (2.1.0)\n",
            "Requirement already satisfied: regex!=2019.12.17 in /usr/local/lib/python3.10/dist-packages (from transformers<5.0.0,>=4.6.0->sentence-transformers) (2023.6.3)\n",
            "Requirement already satisfied: tokenizers<0.19,>=0.14 in /usr/local/lib/python3.10/dist-packages (from transformers<5.0.0,>=4.6.0->sentence-transformers) (0.15.0)\n",
            "Requirement already satisfied: safetensors>=0.3.1 in /usr/local/lib/python3.10/dist-packages (from transformers<5.0.0,>=4.6.0->sentence-transformers) (0.4.1)\n",
            "Requirement already satisfied: click in /usr/local/lib/python3.10/dist-packages (from nltk->sentence-transformers) (8.1.7)\n",
            "Requirement already satisfied: pillow!=8.3.*,>=5.3.0 in /usr/local/lib/python3.10/dist-packages (from torchvision->sentence-transformers) (9.4.0)\n",
            "Requirement already satisfied: MarkupSafe>=2.0 in /usr/local/lib/python3.10/dist-packages (from jinja2->torch>=1.6.0->sentence-transformers) (2.1.3)\n",
            "Requirement already satisfied: charset-normalizer<4,>=2 in /usr/local/lib/python3.10/dist-packages (from requests->huggingface-hub>=0.4.0->sentence-transformers) (3.3.2)\n",
            "Requirement already satisfied: idna<4,>=2.5 in /usr/local/lib/python3.10/dist-packages (from requests->huggingface-hub>=0.4.0->sentence-transformers) (3.6)\n",
            "Requirement already satisfied: urllib3<3,>=1.21.1 in /usr/local/lib/python3.10/dist-packages (from requests->huggingface-hub>=0.4.0->sentence-transformers) (2.0.7)\n",
            "Requirement already satisfied: certifi>=2017.4.17 in /usr/local/lib/python3.10/dist-packages (from requests->huggingface-hub>=0.4.0->sentence-transformers) (2023.11.17)\n",
            "Requirement already satisfied: mpmath>=0.19 in /usr/local/lib/python3.10/dist-packages (from sympy->torch>=1.6.0->sentence-transformers) (1.3.0)\n",
            "Building wheels for collected packages: sentence-transformers\n",
            "  Building wheel for sentence-transformers (setup.py) ... \u001b[?25l\u001b[?25hdone\n",
            "  Created wheel for sentence-transformers: filename=sentence_transformers-2.2.2-py3-none-any.whl size=125923 sha256=d618b3418d6f88359263d613ec0fb175146bfabb109de8b94a0a1b3f3bd0b29a\n",
            "  Stored in directory: /root/.cache/pip/wheels/62/f2/10/1e606fd5f02395388f74e7462910fe851042f97238cbbd902f\n",
            "Successfully built sentence-transformers\n",
            "Installing collected packages: sentencepiece, sentence-transformers\n",
            "Successfully installed sentence-transformers-2.2.2 sentencepiece-0.1.99\n",
            "Collecting biopython\n",
            "  Downloading biopython-1.82-cp310-cp310-manylinux_2_17_x86_64.manylinux2014_x86_64.whl (3.1 MB)\n",
            "\u001b[2K     \u001b[90m━━━━━━━━━━━━━━━━━━━━━━━━━━━━━━━━━━━━━━━━\u001b[0m \u001b[32m3.1/3.1 MB\u001b[0m \u001b[31m30.9 MB/s\u001b[0m eta \u001b[36m0:00:00\u001b[0m\n",
            "\u001b[?25hRequirement already satisfied: numpy in /usr/local/lib/python3.10/dist-packages (from biopython) (1.23.5)\n",
            "Installing collected packages: biopython\n",
            "Successfully installed biopython-1.82\n",
            "Collecting wandb\n",
            "  Downloading wandb-0.16.1-py3-none-any.whl (2.1 MB)\n",
            "\u001b[2K     \u001b[90m━━━━━━━━━━━━━━━━━━━━━━━━━━━━━━━━━━━━━━━━\u001b[0m \u001b[32m2.1/2.1 MB\u001b[0m \u001b[31m27.7 MB/s\u001b[0m eta \u001b[36m0:00:00\u001b[0m\n",
            "\u001b[?25hRequirement already satisfied: Click!=8.0.0,>=7.1 in /usr/local/lib/python3.10/dist-packages (from wandb) (8.1.7)\n",
            "Collecting GitPython!=3.1.29,>=1.0.0 (from wandb)\n",
            "  Downloading GitPython-3.1.40-py3-none-any.whl (190 kB)\n",
            "\u001b[2K     \u001b[90m━━━━━━━━━━━━━━━━━━━━━━━━━━━━━━━━━━━━━━━━\u001b[0m \u001b[32m190.6/190.6 kB\u001b[0m \u001b[31m27.5 MB/s\u001b[0m eta \u001b[36m0:00:00\u001b[0m\n",
            "\u001b[?25hRequirement already satisfied: requests<3,>=2.0.0 in /usr/local/lib/python3.10/dist-packages (from wandb) (2.31.0)\n",
            "Requirement already satisfied: psutil>=5.0.0 in /usr/local/lib/python3.10/dist-packages (from wandb) (5.9.5)\n",
            "Collecting sentry-sdk>=1.0.0 (from wandb)\n",
            "  Downloading sentry_sdk-1.39.1-py2.py3-none-any.whl (254 kB)\n",
            "\u001b[2K     \u001b[90m━━━━━━━━━━━━━━━━━━━━━━━━━━━━━━━━━━━━━━━━\u001b[0m \u001b[32m254.1/254.1 kB\u001b[0m \u001b[31m33.8 MB/s\u001b[0m eta \u001b[36m0:00:00\u001b[0m\n",
            "\u001b[?25hCollecting docker-pycreds>=0.4.0 (from wandb)\n",
            "  Downloading docker_pycreds-0.4.0-py2.py3-none-any.whl (9.0 kB)\n",
            "Requirement already satisfied: PyYAML in /usr/local/lib/python3.10/dist-packages (from wandb) (6.0.1)\n",
            "Collecting setproctitle (from wandb)\n",
            "  Downloading setproctitle-1.3.3-cp310-cp310-manylinux_2_5_x86_64.manylinux1_x86_64.manylinux_2_17_x86_64.manylinux2014_x86_64.whl (30 kB)\n",
            "Requirement already satisfied: setuptools in /usr/local/lib/python3.10/dist-packages (from wandb) (67.7.2)\n",
            "Requirement already satisfied: appdirs>=1.4.3 in /usr/local/lib/python3.10/dist-packages (from wandb) (1.4.4)\n",
            "Requirement already satisfied: protobuf!=4.21.0,<5,>=3.19.0 in /usr/local/lib/python3.10/dist-packages (from wandb) (3.20.3)\n",
            "Requirement already satisfied: six>=1.4.0 in /usr/local/lib/python3.10/dist-packages (from docker-pycreds>=0.4.0->wandb) (1.16.0)\n",
            "Collecting gitdb<5,>=4.0.1 (from GitPython!=3.1.29,>=1.0.0->wandb)\n",
            "  Downloading gitdb-4.0.11-py3-none-any.whl (62 kB)\n",
            "\u001b[2K     \u001b[90m━━━━━━━━━━━━━━━━━━━━━━━━━━━━━━━━━━━━━━━━\u001b[0m \u001b[32m62.7/62.7 kB\u001b[0m \u001b[31m9.9 MB/s\u001b[0m eta \u001b[36m0:00:00\u001b[0m\n",
            "\u001b[?25hRequirement already satisfied: charset-normalizer<4,>=2 in /usr/local/lib/python3.10/dist-packages (from requests<3,>=2.0.0->wandb) (3.3.2)\n",
            "Requirement already satisfied: idna<4,>=2.5 in /usr/local/lib/python3.10/dist-packages (from requests<3,>=2.0.0->wandb) (3.6)\n",
            "Requirement already satisfied: urllib3<3,>=1.21.1 in /usr/local/lib/python3.10/dist-packages (from requests<3,>=2.0.0->wandb) (2.0.7)\n",
            "Requirement already satisfied: certifi>=2017.4.17 in /usr/local/lib/python3.10/dist-packages (from requests<3,>=2.0.0->wandb) (2023.11.17)\n",
            "Collecting smmap<6,>=3.0.1 (from gitdb<5,>=4.0.1->GitPython!=3.1.29,>=1.0.0->wandb)\n",
            "  Downloading smmap-5.0.1-py3-none-any.whl (24 kB)\n",
            "Installing collected packages: smmap, setproctitle, sentry-sdk, docker-pycreds, gitdb, GitPython, wandb\n",
            "Successfully installed GitPython-3.1.40 docker-pycreds-0.4.0 gitdb-4.0.11 sentry-sdk-1.39.1 setproctitle-1.3.3 smmap-5.0.1 wandb-0.16.1\n"
          ]
        }
      ],
      "source": [
        "!pip install fair-esm\n",
        "!pip install sentence-transformers scikit-learn numpy pandas\n",
        "!pip install biopython\n",
        "!pip install wandb"
      ]
    },
    {
      "cell_type": "code",
      "execution_count": null,
      "metadata": {
        "colab": {
          "base_uri": "https://localhost:8080/"
        },
        "id": "FtTrCXpcesnt",
        "outputId": "840a838d-3086-49bc-f38b-134fdce46fe3"
      },
      "outputs": [
        {
          "name": "stdout",
          "output_type": "stream",
          "text": [
            "Mon Dec 25 23:38:29 2023       \n",
            "+---------------------------------------------------------------------------------------+\n",
            "| NVIDIA-SMI 535.104.05             Driver Version: 535.104.05   CUDA Version: 12.2     |\n",
            "|-----------------------------------------+----------------------+----------------------+\n",
            "| GPU  Name                 Persistence-M | Bus-Id        Disp.A | Volatile Uncorr. ECC |\n",
            "| Fan  Temp   Perf          Pwr:Usage/Cap |         Memory-Usage | GPU-Util  Compute M. |\n",
            "|                                         |                      |               MIG M. |\n",
            "|=========================================+======================+======================|\n",
            "|   0  Tesla T4                       Off | 00000000:00:04.0 Off |                    0 |\n",
            "| N/A   50C    P8               9W /  70W |      0MiB / 15360MiB |      0%      Default |\n",
            "|                                         |                      |                  N/A |\n",
            "+-----------------------------------------+----------------------+----------------------+\n",
            "                                                                                         \n",
            "+---------------------------------------------------------------------------------------+\n",
            "| Processes:                                                                            |\n",
            "|  GPU   GI   CI        PID   Type   Process name                            GPU Memory |\n",
            "|        ID   ID                                                             Usage      |\n",
            "|=======================================================================================|\n",
            "|  No running processes found                                                           |\n",
            "+---------------------------------------------------------------------------------------+\n"
          ]
        }
      ],
      "source": [
        "!nvidia-smi"
      ]
    },
    {
      "cell_type": "code",
      "execution_count": null,
      "metadata": {
        "id": "NMnZ8ZJOlXXy"
      },
      "outputs": [],
      "source": [
        "import pandas as pd\n",
        "import numpy as np\n",
        "import torch\n",
        "from tqdm.auto import tqdm\n",
        "import seaborn as sns\n",
        "import matplotlib.pyplot as plt\n",
        "%matplotlib inline\n",
        "import wandb\n",
        "from sklearn.decomposition import PCA\n",
        "from datetime import datetime\n",
        "import gc\n",
        "from pathlib import Path\n",
        "import json\n",
        "\n",
        "from collections import defaultdict\n",
        "from sentence_transformers import SentenceTransformer\n",
        "\n",
        "\n",
        "def timestamp():\n",
        "    return datetime.now().strftime(\"%Y-%m-%d_%H:%M:%S\")\n",
        "current_timestamp = timestamp()"
      ]
    },
    {
      "cell_type": "code",
      "execution_count": null,
      "metadata": {
        "colab": {
          "base_uri": "https://localhost:8080/"
        },
        "id": "Smn0CU6yMbyA",
        "outputId": "5287e105-87dc-4fb0-a2aa-37ab2ba9f43d"
      },
      "outputs": [
        {
          "name": "stdout",
          "output_type": "stream",
          "text": [
            "Random seed set as 3407\n"
          ]
        }
      ],
      "source": [
        "import os\n",
        "import random\n",
        "import numpy as np\n",
        "import torch\n",
        "\n",
        "\n",
        "def set_seed(seed: int = 42) -> None:\n",
        "    np.random.seed(seed)\n",
        "    random.seed(seed)\n",
        "    torch.manual_seed(seed)\n",
        "    torch.cuda.manual_seed(seed)\n",
        "    # When running on the CuDNN backend, two further options must be set\n",
        "    torch.backends.cudnn.deterministic = True\n",
        "    torch.backends.cudnn.benchmark = False\n",
        "    # Set a fixed value for the hash seed\n",
        "    os.environ[\"PYTHONHASHSEED\"] = str(seed)\n",
        "    print(f\"Random seed set as {seed}\")\n",
        "\n",
        "RANDOM_SEED = 3407 # 42  # 3407\n",
        "set_seed(RANDOM_SEED)"
      ]
    },
    {
      "cell_type": "markdown",
      "metadata": {
        "id": "ohM3GNihxjow"
      },
      "source": [
        "# Mount & locate data folders at Google Drive\n",
        "\n",
        "Mount Google Drive folder and define the directory where the model weights and additional csv files will be saved."
      ]
    },
    {
      "cell_type": "code",
      "execution_count": null,
      "metadata": {
        "colab": {
          "base_uri": "https://localhost:8080/"
        },
        "id": "_DtDUlqSxieW",
        "outputId": "8204c075-c7bd-4a4d-b5b4-a67ca36adf4e"
      },
      "outputs": [
        {
          "name": "stdout",
          "output_type": "stream",
          "text": [
            "Mounted at /content/gdrive\n"
          ]
        }
      ],
      "source": [
        "from google.colab import drive\n",
        "drive.mount('/content/gdrive')"
      ]
    },
    {
      "cell_type": "code",
      "execution_count": null,
      "metadata": {
        "id": "TW1sjH-klmpA"
      },
      "outputs": [],
      "source": []
    },
    {
      "cell_type": "code",
      "execution_count": null,
      "metadata": {
        "id": "xaZrGG-Alt4X"
      },
      "outputs": [],
      "source": [
        "from pathlib import Path\n",
        "BASEDIR = Path(\"/content/gdrive/MyDrive/hips/bgc_embeddings_task1_loco_new_domains_pairs\") / (\"seed_\" + str(RANDOM_SEED)) / current_timestamp\n",
        "BASEDIR.mkdir(exist_ok=True, parents=True)"
      ]
    },
    {
      "cell_type": "markdown",
      "metadata": {
        "id": "HPzt59fQl_LG"
      },
      "source": [
        "# Data preparation"
      ]
    },
    {
      "cell_type": "markdown",
      "source": [
        "## Get MIBiG dataset"
      ],
      "metadata": {
        "id": "0acUBRHM6DaZ"
      }
    },
    {
      "cell_type": "code",
      "execution_count": null,
      "metadata": {
        "id": "Irbtp-j_mCOC"
      },
      "outputs": [],
      "source": [
        "import os\n",
        "if not os.path.exists(\"data\"):\n",
        "  !cp -r /content/gdrive/MyDrive/hips/MIBiG data\n"
      ]
    },
    {
      "cell_type": "code",
      "execution_count": null,
      "metadata": {
        "colab": {
          "base_uri": "https://localhost:8080/"
        },
        "id": "QVZwDTFhMIiL",
        "outputId": "75b33f54-42b6-4cd7-af9d-00b5b352590b"
      },
      "outputs": [
        {
          "name": "stdout",
          "output_type": "stream",
          "text": [
            "domain_data.csv  dom_faa.zip  mibig_gbk.tar.gz\tmibig_json.tar.gz  mibig_prot_seqs.fasta\n"
          ]
        }
      ],
      "source": [
        "!ls data"
      ]
    },
    {
      "cell_type": "markdown",
      "source": [
        "In addition to pre-downloaded MIBiG files, I have `domain_data.csv`, which has the domain sequences annotated with Pfam. Later I'll add script to process MIBiG files and produce this file."
      ],
      "metadata": {
        "id": "KSiDxJ0c6Tee"
      }
    },
    {
      "cell_type": "code",
      "execution_count": null,
      "metadata": {
        "colab": {
          "base_uri": "https://localhost:8080/"
        },
        "id": "031szbt2mM8y",
        "outputId": "682d8976-8399-4564-e232-4a3d95f45e79"
      },
      "outputs": [
        {
          "name": "stdout",
          "output_type": "stream",
          "text": [
            "total 145100\n",
            "-rw------- 1 root root 30503894 Dec 25 23:39 domain_data.csv\n",
            "-rw------- 1 root root 12187901 Dec 25 23:39 dom_faa.zip\n",
            "-rw------- 1 root root 76459061 Dec 25 23:39 mibig_gbk.tar.gz\n",
            "-rw------- 1 root root   839183 Dec 25 23:39 mibig_json.tar.gz\n",
            "-rw------- 1 root root 28583652 Dec 25 23:39 mibig_prot_seqs.fasta\n"
          ]
        }
      ],
      "source": [
        "import os\n",
        "VERSION = \"3.1\"\n",
        "if not os.path.exists(\"data\"):\n",
        "  !mkdir data\n",
        "if not os.path.exists(\"data/mibig_json.tar.gz\"):\n",
        "  !wget \"https://dl.secondarymetabolites.org/mibig/mibig_json_{VERSION}.tar.gz\" -O data/mibig_json.tar.gz\n",
        "  !wget \"https://dl.secondarymetabolites.org/mibig/mibig_prot_seqs_{VERSION}.fasta\" -O data/mibig_prot_seqs.fasta\n",
        "if not os.path.exists(\"data/mibig_gbk.tar.gz\"):\n",
        "  !wget \"https://dl.secondarymetabolites.org/mibig/mibig_gbk_{VERSION}.tar.gz\" -O data/mibig_gbk.tar.gz\n",
        "\n",
        "!ls -l data | head -n 10"
      ]
    },
    {
      "cell_type": "code",
      "execution_count": null,
      "metadata": {
        "id": "nNR8x-YZxsGt"
      },
      "outputs": [],
      "source": [
        "if not os.path.exists(f\"data/mibig_json\"):\n",
        "  !(cd data && tar -xzf mibig_json.tar.gz && mv \"mibig_json_{VERSION}\" \"mibig_json\")\n",
        "if not os.path.exists(f\"data/mibig_gbk\"):\n",
        "  !(cd data && tar -xzf mibig_gbk.tar.gz && mv \"mibig_gbk_{VERSION}\" \"mibig_gbk\")"
      ]
    },
    {
      "cell_type": "markdown",
      "source": [
        "## Read data"
      ],
      "metadata": {
        "id": "QGqDfSHT6yuS"
      }
    },
    {
      "cell_type": "code",
      "execution_count": null,
      "metadata": {
        "id": "QmjS4OmFx_pg"
      },
      "outputs": [],
      "source": [
        "JSONDIR = Path(\"data/mibig_json\")\n",
        "list(JSONDIR.iterdir())[:10]\n",
        "def read_mibig_file(path):\n",
        "  with open(path) as f:\n",
        "    data = json.load(f)\n",
        "  return data\n",
        "mibig_data = {file.stem: read_mibig_file(file) for file in JSONDIR.iterdir()}"
      ]
    },
    {
      "cell_type": "code",
      "execution_count": null,
      "metadata": {
        "id": "b_CJ8Xb3yKTH"
      },
      "outputs": [],
      "source": [
        "\n",
        "clusters_df = pd.DataFrame([{**entry['cluster'], 'cluster':entry['cluster']} for entry in mibig_data.values()])\n",
        "clusters_df[\"num_compounds\"] = clusters_df.compounds.apply(len)\n",
        "clusters_df['completeness'] = clusters_df['loci'].apply(lambda x: x['completeness'])"
      ]
    },
    {
      "cell_type": "code",
      "execution_count": null,
      "metadata": {
        "colab": {
          "base_uri": "https://localhost:8080/"
        },
        "id": "Fr3klW8Sjfqi",
        "outputId": "e47f7e0d-b702-4da5-ea5c-2d9a4ddf5169"
      },
      "outputs": [
        {
          "data": {
            "text/html": [
              "\n",
              "  <div id=\"df-9ac42fc2-8daf-4008-b3dc-cf26f7aa9fb5\" class=\"colab-df-container\">\n",
              "    <div>\n",
              "<style scoped>\n",
              "    .dataframe tbody tr th:only-of-type {\n",
              "        vertical-align: middle;\n",
              "    }\n",
              "\n",
              "    .dataframe tbody tr th {\n",
              "        vertical-align: top;\n",
              "    }\n",
              "\n",
              "    .dataframe thead th {\n",
              "        text-align: right;\n",
              "    }\n",
              "</style>\n",
              "<table border=\"1\" class=\"dataframe\">\n",
              "  <thead>\n",
              "    <tr style=\"text-align: right;\">\n",
              "      <th></th>\n",
              "      <th>bgcid</th>\n",
              "      <th>desc</th>\n",
              "      <th>domain_sequence</th>\n",
              "      <th>query name</th>\n",
              "      <th>accession</th>\n",
              "      <th>env_coord_from</th>\n",
              "      <th>env_coord_to</th>\n",
              "      <th>coord_from</th>\n",
              "      <th>coord_to</th>\n",
              "    </tr>\n",
              "  </thead>\n",
              "  <tbody>\n",
              "    <tr>\n",
              "      <th>0</th>\n",
              "      <td>BGC0000001</td>\n",
              "      <td>BGC0000001|c1|1-1083|+|AEK75490.1|protein_meth...</td>\n",
              "      <td>LDRAFDAVPAPIYTHHERHGETVHRSAPESIRRELAALQVRAGDRV...</td>\n",
              "      <td>PCMT</td>\n",
              "      <td>PF01135.22</td>\n",
              "      <td>4</td>\n",
              "      <td>165</td>\n",
              "      <td>1</td>\n",
              "      <td>1083</td>\n",
              "    </tr>\n",
              "    <tr>\n",
              "      <th>1</th>\n",
              "      <td>BGC0000001</td>\n",
              "      <td>BGC0000001|c1|1887-2633|+|AEK75492.1|pathway-s...</td>\n",
              "      <td>RTITAPKVETLFATLLIRANHTVTTDELIAELWGENPPRHARTALH...</td>\n",
              "      <td>Trans_reg_C</td>\n",
              "      <td>PF00486.31</td>\n",
              "      <td>13</td>\n",
              "      <td>87</td>\n",
              "      <td>1887</td>\n",
              "      <td>2633</td>\n",
              "    </tr>\n",
              "    <tr>\n",
              "      <th>2</th>\n",
              "      <td>BGC0000001</td>\n",
              "      <td>BGC0000001|c1|1887-2633|+|AEK75492.1|pathway-s...</td>\n",
              "      <td>VDAVELQRMHALGRSLLVTDPEAALVPLRRAVGLFRGPVLAGIRNG...</td>\n",
              "      <td>BTAD</td>\n",
              "      <td>PF03704.20</td>\n",
              "      <td>94</td>\n",
              "      <td>238</td>\n",
              "      <td>1887</td>\n",
              "      <td>2633</td>\n",
              "    </tr>\n",
              "    <tr>\n",
              "      <th>3</th>\n",
              "      <td>BGC0000001</td>\n",
              "      <td>BGC0000001|c1|2646-3836|-|AEK75493.1|cytochrom...</td>\n",
              "      <td>TRTCPHQPPEGYAALRENGPLAQVRLVGDRTAWVVTDHDVARTLLV...</td>\n",
              "      <td>p450</td>\n",
              "      <td>PF00067.25</td>\n",
              "      <td>12</td>\n",
              "      <td>369</td>\n",
              "      <td>2646</td>\n",
              "      <td>3836</td>\n",
              "    </tr>\n",
              "    <tr>\n",
              "      <th>4</th>\n",
              "      <td>BGC0000001</td>\n",
              "      <td>BGC0000001|c1|3927-6596|-|AEK75494.1|LuxR_fami...</td>\n",
              "      <td>ATPADRLSQALARARSGRGGVVELVGEPGIGKTQALTELTRLARVA...</td>\n",
              "      <td>AAA_16</td>\n",
              "      <td>PF13191.9</td>\n",
              "      <td>21</td>\n",
              "      <td>95</td>\n",
              "      <td>3927</td>\n",
              "      <td>6596</td>\n",
              "    </tr>\n",
              "  </tbody>\n",
              "</table>\n",
              "</div>\n",
              "    <div class=\"colab-df-buttons\">\n",
              "\n",
              "  <div class=\"colab-df-container\">\n",
              "    <button class=\"colab-df-convert\" onclick=\"convertToInteractive('df-9ac42fc2-8daf-4008-b3dc-cf26f7aa9fb5')\"\n",
              "            title=\"Convert this dataframe to an interactive table.\"\n",
              "            style=\"display:none;\">\n",
              "\n",
              "  <svg xmlns=\"http://www.w3.org/2000/svg\" height=\"24px\" viewBox=\"0 -960 960 960\">\n",
              "    <path d=\"M120-120v-720h720v720H120Zm60-500h600v-160H180v160Zm220 220h160v-160H400v160Zm0 220h160v-160H400v160ZM180-400h160v-160H180v160Zm440 0h160v-160H620v160ZM180-180h160v-160H180v160Zm440 0h160v-160H620v160Z\"/>\n",
              "  </svg>\n",
              "    </button>\n",
              "\n",
              "  <style>\n",
              "    .colab-df-container {\n",
              "      display:flex;\n",
              "      gap: 12px;\n",
              "    }\n",
              "\n",
              "    .colab-df-convert {\n",
              "      background-color: #E8F0FE;\n",
              "      border: none;\n",
              "      border-radius: 50%;\n",
              "      cursor: pointer;\n",
              "      display: none;\n",
              "      fill: #1967D2;\n",
              "      height: 32px;\n",
              "      padding: 0 0 0 0;\n",
              "      width: 32px;\n",
              "    }\n",
              "\n",
              "    .colab-df-convert:hover {\n",
              "      background-color: #E2EBFA;\n",
              "      box-shadow: 0px 1px 2px rgba(60, 64, 67, 0.3), 0px 1px 3px 1px rgba(60, 64, 67, 0.15);\n",
              "      fill: #174EA6;\n",
              "    }\n",
              "\n",
              "    .colab-df-buttons div {\n",
              "      margin-bottom: 4px;\n",
              "    }\n",
              "\n",
              "    [theme=dark] .colab-df-convert {\n",
              "      background-color: #3B4455;\n",
              "      fill: #D2E3FC;\n",
              "    }\n",
              "\n",
              "    [theme=dark] .colab-df-convert:hover {\n",
              "      background-color: #434B5C;\n",
              "      box-shadow: 0px 1px 3px 1px rgba(0, 0, 0, 0.15);\n",
              "      filter: drop-shadow(0px 1px 2px rgba(0, 0, 0, 0.3));\n",
              "      fill: #FFFFFF;\n",
              "    }\n",
              "  </style>\n",
              "\n",
              "    <script>\n",
              "      const buttonEl =\n",
              "        document.querySelector('#df-9ac42fc2-8daf-4008-b3dc-cf26f7aa9fb5 button.colab-df-convert');\n",
              "      buttonEl.style.display =\n",
              "        google.colab.kernel.accessAllowed ? 'block' : 'none';\n",
              "\n",
              "      async function convertToInteractive(key) {\n",
              "        const element = document.querySelector('#df-9ac42fc2-8daf-4008-b3dc-cf26f7aa9fb5');\n",
              "        const dataTable =\n",
              "          await google.colab.kernel.invokeFunction('convertToInteractive',\n",
              "                                                    [key], {});\n",
              "        if (!dataTable) return;\n",
              "\n",
              "        const docLinkHtml = 'Like what you see? Visit the ' +\n",
              "          '<a target=\"_blank\" href=https://colab.research.google.com/notebooks/data_table.ipynb>data table notebook</a>'\n",
              "          + ' to learn more about interactive tables.';\n",
              "        element.innerHTML = '';\n",
              "        dataTable['output_type'] = 'display_data';\n",
              "        await google.colab.output.renderOutput(dataTable, element);\n",
              "        const docLink = document.createElement('div');\n",
              "        docLink.innerHTML = docLinkHtml;\n",
              "        element.appendChild(docLink);\n",
              "      }\n",
              "    </script>\n",
              "  </div>\n",
              "\n",
              "\n",
              "<div id=\"df-c0de3ede-f8d8-49a8-a4c4-b510a72a8b84\">\n",
              "  <button class=\"colab-df-quickchart\" onclick=\"quickchart('df-c0de3ede-f8d8-49a8-a4c4-b510a72a8b84')\"\n",
              "            title=\"Suggest charts\"\n",
              "            style=\"display:none;\">\n",
              "\n",
              "<svg xmlns=\"http://www.w3.org/2000/svg\" height=\"24px\"viewBox=\"0 0 24 24\"\n",
              "     width=\"24px\">\n",
              "    <g>\n",
              "        <path d=\"M19 3H5c-1.1 0-2 .9-2 2v14c0 1.1.9 2 2 2h14c1.1 0 2-.9 2-2V5c0-1.1-.9-2-2-2zM9 17H7v-7h2v7zm4 0h-2V7h2v10zm4 0h-2v-4h2v4z\"/>\n",
              "    </g>\n",
              "</svg>\n",
              "  </button>\n",
              "\n",
              "<style>\n",
              "  .colab-df-quickchart {\n",
              "      --bg-color: #E8F0FE;\n",
              "      --fill-color: #1967D2;\n",
              "      --hover-bg-color: #E2EBFA;\n",
              "      --hover-fill-color: #174EA6;\n",
              "      --disabled-fill-color: #AAA;\n",
              "      --disabled-bg-color: #DDD;\n",
              "  }\n",
              "\n",
              "  [theme=dark] .colab-df-quickchart {\n",
              "      --bg-color: #3B4455;\n",
              "      --fill-color: #D2E3FC;\n",
              "      --hover-bg-color: #434B5C;\n",
              "      --hover-fill-color: #FFFFFF;\n",
              "      --disabled-bg-color: #3B4455;\n",
              "      --disabled-fill-color: #666;\n",
              "  }\n",
              "\n",
              "  .colab-df-quickchart {\n",
              "    background-color: var(--bg-color);\n",
              "    border: none;\n",
              "    border-radius: 50%;\n",
              "    cursor: pointer;\n",
              "    display: none;\n",
              "    fill: var(--fill-color);\n",
              "    height: 32px;\n",
              "    padding: 0;\n",
              "    width: 32px;\n",
              "  }\n",
              "\n",
              "  .colab-df-quickchart:hover {\n",
              "    background-color: var(--hover-bg-color);\n",
              "    box-shadow: 0 1px 2px rgba(60, 64, 67, 0.3), 0 1px 3px 1px rgba(60, 64, 67, 0.15);\n",
              "    fill: var(--button-hover-fill-color);\n",
              "  }\n",
              "\n",
              "  .colab-df-quickchart-complete:disabled,\n",
              "  .colab-df-quickchart-complete:disabled:hover {\n",
              "    background-color: var(--disabled-bg-color);\n",
              "    fill: var(--disabled-fill-color);\n",
              "    box-shadow: none;\n",
              "  }\n",
              "\n",
              "  .colab-df-spinner {\n",
              "    border: 2px solid var(--fill-color);\n",
              "    border-color: transparent;\n",
              "    border-bottom-color: var(--fill-color);\n",
              "    animation:\n",
              "      spin 1s steps(1) infinite;\n",
              "  }\n",
              "\n",
              "  @keyframes spin {\n",
              "    0% {\n",
              "      border-color: transparent;\n",
              "      border-bottom-color: var(--fill-color);\n",
              "      border-left-color: var(--fill-color);\n",
              "    }\n",
              "    20% {\n",
              "      border-color: transparent;\n",
              "      border-left-color: var(--fill-color);\n",
              "      border-top-color: var(--fill-color);\n",
              "    }\n",
              "    30% {\n",
              "      border-color: transparent;\n",
              "      border-left-color: var(--fill-color);\n",
              "      border-top-color: var(--fill-color);\n",
              "      border-right-color: var(--fill-color);\n",
              "    }\n",
              "    40% {\n",
              "      border-color: transparent;\n",
              "      border-right-color: var(--fill-color);\n",
              "      border-top-color: var(--fill-color);\n",
              "    }\n",
              "    60% {\n",
              "      border-color: transparent;\n",
              "      border-right-color: var(--fill-color);\n",
              "    }\n",
              "    80% {\n",
              "      border-color: transparent;\n",
              "      border-right-color: var(--fill-color);\n",
              "      border-bottom-color: var(--fill-color);\n",
              "    }\n",
              "    90% {\n",
              "      border-color: transparent;\n",
              "      border-bottom-color: var(--fill-color);\n",
              "    }\n",
              "  }\n",
              "</style>\n",
              "\n",
              "  <script>\n",
              "    async function quickchart(key) {\n",
              "      const quickchartButtonEl =\n",
              "        document.querySelector('#' + key + ' button');\n",
              "      quickchartButtonEl.disabled = true;  // To prevent multiple clicks.\n",
              "      quickchartButtonEl.classList.add('colab-df-spinner');\n",
              "      try {\n",
              "        const charts = await google.colab.kernel.invokeFunction(\n",
              "            'suggestCharts', [key], {});\n",
              "      } catch (error) {\n",
              "        console.error('Error during call to suggestCharts:', error);\n",
              "      }\n",
              "      quickchartButtonEl.classList.remove('colab-df-spinner');\n",
              "      quickchartButtonEl.classList.add('colab-df-quickchart-complete');\n",
              "    }\n",
              "    (() => {\n",
              "      let quickchartButtonEl =\n",
              "        document.querySelector('#df-c0de3ede-f8d8-49a8-a4c4-b510a72a8b84 button');\n",
              "      quickchartButtonEl.style.display =\n",
              "        google.colab.kernel.accessAllowed ? 'block' : 'none';\n",
              "    })();\n",
              "  </script>\n",
              "</div>\n",
              "    </div>\n",
              "  </div>\n"
            ],
            "text/plain": [
              "        bgcid                                               desc  \\\n",
              "0  BGC0000001  BGC0000001|c1|1-1083|+|AEK75490.1|protein_meth...   \n",
              "1  BGC0000001  BGC0000001|c1|1887-2633|+|AEK75492.1|pathway-s...   \n",
              "2  BGC0000001  BGC0000001|c1|1887-2633|+|AEK75492.1|pathway-s...   \n",
              "3  BGC0000001  BGC0000001|c1|2646-3836|-|AEK75493.1|cytochrom...   \n",
              "4  BGC0000001  BGC0000001|c1|3927-6596|-|AEK75494.1|LuxR_fami...   \n",
              "\n",
              "                                     domain_sequence   query name   accession  \\\n",
              "0  LDRAFDAVPAPIYTHHERHGETVHRSAPESIRRELAALQVRAGDRV...         PCMT  PF01135.22   \n",
              "1  RTITAPKVETLFATLLIRANHTVTTDELIAELWGENPPRHARTALH...  Trans_reg_C  PF00486.31   \n",
              "2  VDAVELQRMHALGRSLLVTDPEAALVPLRRAVGLFRGPVLAGIRNG...         BTAD  PF03704.20   \n",
              "3  TRTCPHQPPEGYAALRENGPLAQVRLVGDRTAWVVTDHDVARTLLV...         p450  PF00067.25   \n",
              "4  ATPADRLSQALARARSGRGGVVELVGEPGIGKTQALTELTRLARVA...       AAA_16   PF13191.9   \n",
              "\n",
              "   env_coord_from  env_coord_to  coord_from  coord_to  \n",
              "0               4           165           1      1083  \n",
              "1              13            87        1887      2633  \n",
              "2              94           238        1887      2633  \n",
              "3              12           369        2646      3836  \n",
              "4              21            95        3927      6596  "
            ]
          },
          "execution_count": 21,
          "metadata": {},
          "output_type": "execute_result"
        }
      ],
      "source": [
        "domains_df = pd.read_csv(\"data/domain_data.csv\")\n",
        "\n",
        "domains_df.head()"
      ]
    },
    {
      "cell_type": "code",
      "execution_count": null,
      "metadata": {
        "id": "q-XCjab3-38L"
      },
      "outputs": [],
      "source": [
        "ids = clusters_df.biosyn_class.apply(lambda x: len(x) == 1)\n",
        "clusters_one_class = clusters_df.loc[ids, [\"mibig_accession\", \"biosyn_class\"]]\n",
        "clusters_one_class[\"bgc\"] = clusters_one_class['biosyn_class'].apply(lambda x: x[0])\n",
        "bgc2class = {\n",
        "    bgc_id: bgc_class for bgc_id, bgc_class in clusters_one_class[['mibig_accession', \"bgc\"]].values\n",
        "}\n"
      ]
    },
    {
      "cell_type": "code",
      "execution_count": null,
      "metadata": {
        "colab": {
          "base_uri": "https://localhost:8080/"
        },
        "id": "d0OgLHeZfate",
        "outputId": "c087249b-83c5-444d-988d-285d8d499a32"
      },
      "outputs": [
        {
          "data": {
            "text/plain": [
              "Polyketide    37193\n",
              "NRP           20218\n",
              "Other          5874\n",
              "RiPP           3977\n",
              "Saccharide     3486\n",
              "Terpene        1879\n",
              "Alkaloid       1192\n",
              "Name: bgc_class, dtype: int64"
            ]
          },
          "execution_count": 25,
          "metadata": {},
          "output_type": "execute_result"
        }
      ],
      "source": [
        "domains_df['bgc_class'] = domains_df.bgcid.apply(lambda x: bgc2class.get(x, None))\n",
        "domains_df['bgc_class'].value_counts()"
      ]
    },
    {
      "cell_type": "markdown",
      "source": [
        "## Prepare the data for the Siamese network"
      ],
      "metadata": {
        "id": "wwxo3B2v6tSS"
      }
    },
    {
      "cell_type": "code",
      "execution_count": null,
      "metadata": {
        "id": "jvYkwPbSBVi4"
      },
      "outputs": [],
      "source": [
        "from sklearn.model_selection import StratifiedKFold, StratifiedGroupKFold\n",
        "NFOLDS = 5\n",
        "\n",
        "all_bgc_class_names = sorted(domains_df[~domains_df.bgc_class.isnull()].bgc_class.unique())\n",
        "for ifold, bgc_class in enumerate(all_bgc_class_names):\n",
        "  test_index = domains_df['bgc_class'] == bgc_class\n",
        "  domains_df.loc[test_index, 'fold'] = ifold\n",
        "\n",
        "\n",
        "def split_train_val(subset_df, nfolds=NFOLDS, random_state=42, target_column=\"bgc_class\", group_column=\"cluster_group\"):\n",
        "  skf = StratifiedGroupKFold(n_splits=nfolds, shuffle=True, random_state=random_state)\n",
        "  for ifold, (train_index, val_index) in enumerate(skf.split(subset_df.index, subset_df[target_column], subset_df[group_column])):\n",
        "    train_index = subset_df.index[train_index]\n",
        "    val_index = subset_df.index[val_index]\n",
        "    yield train_index, val_index\n",
        "\n"
      ]
    },
    {
      "cell_type": "code",
      "execution_count": null,
      "metadata": {
        "id": "zNU9NO0c62zL"
      },
      "outputs": [],
      "source": [
        "DSDIR = BASEDIR / \"datasets\"\n",
        "DSDIR.mkdir(exist_ok=True, parents=True)\n",
        "domains_df['index'] = domains_df.index\n",
        "domains_df.sort_values(by=[\"bgcid\", \"coord_from\", \"coord_to\", \"env_coord_from\", \"env_coord_to\"], inplace=True, ascending=True)\n",
        "domains_df.to_csv(DSDIR / \"domains.csv\", index=None)\n",
        "\n"
      ]
    },
    {
      "cell_type": "code",
      "execution_count": null,
      "metadata": {
        "id": "4Yd8BM9E5Jzw"
      },
      "outputs": [],
      "source": []
    },
    {
      "cell_type": "code",
      "execution_count": null,
      "metadata": {
        "colab": {
          "base_uri": "https://localhost:8080/"
        },
        "id": "-NszkxxOxaQt",
        "outputId": "6f5a5a6b-47f0-411c-8c68-000f1d3c56aa"
      },
      "outputs": [
        {
          "name": "stdout",
          "output_type": "stream",
          "text": [
            "(100654, 12) (100654, 12)\n"
          ]
        }
      ],
      "source": [
        "\n",
        "df1 = domains_df.iloc[:-1].reset_index(drop=True).add_prefix(\"p1_\")\n",
        "df2 = domains_df.iloc[1:].reset_index(drop=True).add_prefix(\"p2_\")\n",
        "print(df1.shape, df2.shape)\n",
        "df_merged = pd.concat([df1, df2],  axis=1)\n",
        "ids = (df_merged.p1_bgcid == df_merged.p2_bgcid) & (df_merged.p1_env_coord_from < df_merged.p2_env_coord_from) & (df_merged.p1_env_coord_to < df_merged.p2_env_coord_to)\n",
        "ids = ids & (df_merged.p1_coord_from <= df_merged.p2_coord_from) & (df_merged.p1_coord_to <= df_merged.p2_coord_to)\n",
        "df_merged = df_merged[ids].reset_index(drop=True)\n",
        "\n",
        "df_merged.rename(columns={\"p1_bgc_class\": \"bgc_class\", \"p1_bgcid\": \"bgcid\"}, inplace=True)\n",
        "df_merged.drop(columns=[\"p1_bgcid\", \"p2_bgcid\", \"p1_bgc_class\", \"p2_bgc_class\"], inplace=True, errors='ignore')\n",
        "df_merged.to_csv(DSDIR / \"domain_pairs.csv\", index=None)\n"
      ]
    },
    {
      "cell_type": "code",
      "execution_count": null,
      "metadata": {
        "id": "mSzjvsz12r_N"
      },
      "outputs": [],
      "source": [
        "domains_df = df_merged[~df_merged.bgc_class.isnull()].reset_index(drop=True)"
      ]
    },
    {
      "cell_type": "markdown",
      "metadata": {
        "id": "O_2u3AQzmOK8"
      },
      "source": [
        "## Finetune"
      ]
    },
    {
      "cell_type": "code",
      "execution_count": null,
      "metadata": {
        "id": "44ItYwApCljB"
      },
      "outputs": [],
      "source": [
        "from sentence_transformers import SentenceTransformer, InputExample, losses, evaluation\n",
        "from torch.utils.data import DataLoader\n",
        "\n",
        "\n",
        "NTRAIN_SAMPLES = 6400  # 10000\n",
        "NTEST_SAMPLES = 1000\n"
      ]
    },
    {
      "cell_type": "code",
      "execution_count": null,
      "metadata": {
        "id": "Xk9q2870mQOQ"
      },
      "outputs": [],
      "source": [
        "def extract_pos_neg(train_df, n=100):\n",
        "  bgc_class_names = train_df.bgc_class.unique()\n",
        "  bgc_indices = dict()\n",
        "  for bgc in bgc_class_names:\n",
        "    ids = train_df[\"bgc_class\"] == bgc\n",
        "    bgc_indices[bgc] = np.asarray(train_df.index[ids])\n",
        "\n",
        "  samples = dict()\n",
        "  positive_samples = []\n",
        "  negative_samples = []\n",
        "  for i, bgc1 in enumerate(bgc_class_names):\n",
        "    bgc_indices1 = bgc_indices[bgc1]\n",
        "\n",
        "    for bgc2 in bgc_class_names:\n",
        "      bgc_indices2 = bgc_indices[bgc2]\n",
        "      i1 = np.random.choice(bgc_indices1, n)\n",
        "      i2 = np.random.choice(bgc_indices2, n)\n",
        "      pairs = list(zip(i1, i2))\n",
        "      samples[(bgc1, bgc2)] = pairs\n",
        "\n",
        "      if bgc1 == bgc2:\n",
        "        positive_samples.extend(pairs)\n",
        "      else:\n",
        "        negative_samples.extend(pairs)\n",
        "  npos = len(positive_samples)\n",
        "  if len(negative_samples) > 0:\n",
        "    neg_samples_ids = np.random.choice(len(negative_samples), npos)\n",
        "    neg_samples = [negative_samples[i] for i in neg_samples_ids]\n",
        "  else:\n",
        "    neg_samples = []\n",
        "  return positive_samples, neg_samples\n",
        "\n",
        "\n",
        "def make_dataset(pos_samples, neg_samples, data_column, datadir, name=\"train\"):\n",
        "  dataset = []\n",
        "  train_df = []\n",
        "  for (i, j) in tqdm(pos_samples):\n",
        "    if isinstance(data_column, tuple):\n",
        "      s1 = [column.loc[i] for column in data_column]\n",
        "      s2 = [column.loc[j] for column in data_column]\n",
        "    else:\n",
        "      s1 = data_column.loc[i] # fasta_df.loc[i, col]\n",
        "      s2 = data_column.loc[j] # fasta_df.loc[j, 7]\n",
        "    if name == \"train\":\n",
        "      dataset.append(InputExample(texts=[*s1, *s2], label=1.))\n",
        "    else:\n",
        "      dataset.append((*s1, *s2, 1.))\n",
        "    train_df.append({\n",
        "        \"sequence1\": s1,\n",
        "        \"sequence2\": s2,\n",
        "        \"i1\": i,\n",
        "        \"i2\": j,\n",
        "        \"label\": \"positive\"\n",
        "    })\n",
        "  for (i, j) in tqdm(neg_samples):\n",
        "    if isinstance(data_column, tuple):\n",
        "      s1 = [column.loc[i] for column in data_column]\n",
        "      s2 = [column.loc[j] for column in data_column]\n",
        "    else:\n",
        "      s1 = data_column.loc[i] # fasta_df.loc[i, col]\n",
        "      s2 = data_column.loc[j] # fasta_df.loc[j, 7]\n",
        "    if name == \"train\":\n",
        "      dataset.append(InputExample(texts=[*s1, *s2], label=-1.))\n",
        "    else:\n",
        "      dataset.append((*s1, *s2, -1.))\n",
        "    train_df.append({\n",
        "        \"sequence1\": s1,\n",
        "        \"sequence2\": s2,\n",
        "        \"i1\": i,\n",
        "        \"i2\": j,\n",
        "        \"label\": \"negative\"\n",
        "    })\n",
        "  train_df = pd.DataFrame(train_df)\n",
        "  train_df.to_csv(datadir / f\"{name}_pairs_oversampled.csv\", index=None)\n",
        "  return dataset\n",
        "\n",
        "\n"
      ]
    },
    {
      "cell_type": "code",
      "execution_count": null,
      "metadata": {
        "id": "nRQj8UbpzVTd"
      },
      "outputs": [],
      "source": [
        "\n",
        "def prepare_fold_data(fasta_df, ifold=0, pair_columns=[], ntrain_samples=NTRAIN_SAMPLES, ntest_samples=NTEST_SAMPLES, return_indices=True):\n",
        "    fold_name = f\"fold_{ifold}_{all_bgc_class_names[ifold]}\"\n",
        "    train_val_ids = fasta_df.fold != ifold\n",
        "    test_ids = fasta_df.fold == ifold\n",
        "    test_index = fasta_df.index[test_ids]\n",
        "\n",
        "    train_index, val_index = next(split_train_val(fasta_df[train_val_ids]))\n",
        "    train_bgcids = fasta_df.loc[train_index].bgcid.unique()\n",
        "    val_bgcids = fasta_df.loc[val_index].bgcid.unique()\n",
        "    test_bgcids = fasta_df.loc[test_ids].bgcid.unique()\n",
        "    # print(np.isin(train_bgcids, val_bgcids).sum(), train_bgcids.shape, val_bgcids.shape, test_bgcids.shape)\n",
        "    assert not np.isin(test_bgcids, val_bgcids).any(), \"Test bgcids shouldn't be in val dataset\"\n",
        "    assert not np.isin(test_bgcids, train_bgcids).any(), \"Test bgcids shouldn't be in train dataset\"\n",
        "    assert not np.isin(train_bgcids, val_bgcids).any(), \"Train bgcids shouldn't be in val dataset\"\n",
        "\n",
        "    assert not np.isin(test_index, val_index).any(), \"Test index shouldn't be in val index\"\n",
        "    assert not np.isin(test_index, train_index).any(), \"Test index shouldn't be in train index\"\n",
        "    assert not np.isin(train_index, val_index).any(), \"Train index shouldn't be in val index\"\n",
        "\n",
        "    train_ids = fasta_df.index.isin(train_index)\n",
        "    val_ids = fasta_df.index.isin(val_index)\n",
        "\n",
        "    FOLDDIR = DSDIR / fold_name\n",
        "    FOLDDIR.mkdir(exist_ok=True, parents=True)\n",
        "    bgc_class_names = fasta_df[train_ids].bgc_class.unique()\n",
        "\n",
        "    pos_samples, neg_samples = extract_pos_neg(fasta_df[train_ids], n=ntrain_samples)\n",
        "    pos_samples_val, neg_samples_val = extract_pos_neg(fasta_df[val_ids], n=ntest_samples)\n",
        "    if 7 in fasta_df.columns:\n",
        "        train_dataset = make_dataset(pos_samples, neg_samples, fasta_df.loc[:, 7], FOLDDIR, name=\"train\")\n",
        "        val_dataset = make_dataset(pos_samples_val, neg_samples_val, fasta_df.loc[:, 7], FOLDDIR, name=\"val\")\n",
        "        test_sequences = fasta_df.loc[test_ids, 7]\n",
        "    else:\n",
        "        seq_data = tuple([fasta_df.loc[:, col] for col in pair_columns])\n",
        "        train_dataset = make_dataset(pos_samples, neg_samples, seq_data, FOLDDIR, name=\"train\")\n",
        "        val_dataset = make_dataset(pos_samples_val, neg_samples_val, seq_data, FOLDDIR, name=\"val\")\n",
        "        test_sequences = fasta_df.loc[test_ids, pair_columns]\n",
        "\n",
        "    test_sequences.to_csv(FOLDDIR / \"test_sequences.csv\", index=None)\n",
        "    fasta_df.loc[test_ids, :].to_csv(FOLDDIR/\"test_data.csv\")\n",
        "    fasta_df.loc[val_ids, :].to_csv(FOLDDIR/\"val_data.csv\")\n",
        "    fasta_df.loc[train_ids, :].to_csv(FOLDDIR/\"train_data.csv\")\n",
        "    np.savez_compressed(\n",
        "        (FOLDDIR/\"train_val_split.npz\").as_posix(),\n",
        "        train_index=train_index,\n",
        "        val_index=val_index,\n",
        "        test_index=test_index\n",
        "    )\n",
        "    np.savez_compressed(\n",
        "        (FOLDDIR / \"bgcid_split.npz\").as_posix(),\n",
        "        train_bgcids=train_bgcids,\n",
        "        val_bgcids=val_bgcids,\n",
        "        test_bgcids=test_bgcids\n",
        "    )\n",
        "    if return_indices:\n",
        "       return train_dataset, val_dataset, test_sequences, train_index, val_index, test_index\n",
        "    return train_dataset, val_dataset, test_sequences"
      ]
    },
    {
      "cell_type": "code",
      "execution_count": null,
      "metadata": {
        "id": "wyR9R-MGzX1l"
      },
      "outputs": [],
      "source": [
        "# PROTEIN_MODEL = \"ElnaggarLab/ankh-base\"\n",
        "PROTEIN_MODEL = \"facebook/esm2_t6_8M_UR50D\""
      ]
    },
    {
      "cell_type": "code",
      "execution_count": null,
      "metadata": {
        "id": "uwwCumvtgX2T"
      },
      "outputs": [],
      "source": [
        "domains_df[0] = domains_df['bgcid']\n",
        "ids = domains_df.bgc_class.isin(all_bgc_class_names)\n",
        "domains_df = domains_df[ids].reset_index(drop=True)"
      ]
    },
    {
      "cell_type": "code",
      "execution_count": null,
      "metadata": {
        "id": "SM6KinD7gut6"
      },
      "outputs": [],
      "source": [
        "domains_df['fold'] = -1\n",
        "for i, x in enumerate(all_bgc_class_names):\n",
        "  ids = domains_df.bgc_class == x\n",
        "  domains_df.loc[ids, \"fold\"] = i\n",
        "\n",
        "# domains_df.head()\n",
        "# fasta_df.head()\n",
        "domains_df.loc[:, 'cluster_group'] = -1\n",
        "bgc_cluster_names = domains_df.bgcid.unique()\n",
        "for i, bgcid in enumerate(bgc_cluster_names):\n",
        "  ids = domains_df.bgcid == bgcid\n",
        "  domains_df.loc[ids, 'cluster_group'] = i\n"
      ]
    },
    {
      "cell_type": "code",
      "execution_count": null,
      "metadata": {
        "id": "4yd3y90lxI2A"
      },
      "outputs": [],
      "source": [
        "import wandb\n",
        "\n",
        "\n",
        "def wandb_callback(score, epoch, steps):\n",
        "  wandb.log({\"val_loss\": score, \"epoch\": epoch, \"step\": steps})\n",
        "  pass\n",
        "\n"
      ]
    },
    {
      "cell_type": "code",
      "execution_count": null,
      "metadata": {
        "id": "lbjz2fR19cq4"
      },
      "outputs": [],
      "source": [
        "pair_columns = [\"p1_domain_sequence\", \"p2_domain_sequence\"]"
      ]
    },
    {
      "cell_type": "code",
      "execution_count": null,
      "metadata": {
        "id": "otc0JEkTwCvg"
      },
      "outputs": [],
      "source": [
        "def draw_data(emb, bgc_indices, bgc_class_names, label=None, savepath=None):\n",
        "    x_min = emb[:, 0].min()\n",
        "    x_max = emb[:, 0].max()\n",
        "    y_min = emb[:, 1].min()\n",
        "    y_max = emb[:, 1].max()\n",
        "    x_offset = (x_max - x_min)/10\n",
        "    y_offset = (y_max - y_min)/10\n",
        "    fig, ax = plt.subplots(1, figsize=(14, 10))\n",
        "    # plt.scatter(*emb[emb_group == 0].T, s=2, c=targets_mean, marker='x', cmap='Spectral', alpha=1.0)\n",
        "    plt.scatter(*emb.T, s=2, c=bgc_indices, marker='x', cmap='Spectral', alpha=1.0)\n",
        "\n",
        "    plt.setp(ax, xticks=[], yticks=[])\n",
        "    nclasses = len(bgc_class_names)\n",
        "    cbar = plt.colorbar(boundaries=np.arange(nclasses + 1)-0.5)\n",
        "    cbar.set_ticks(np.arange(nclasses))\n",
        "    cbar.set_ticklabels(bgc_class_names)\n",
        "    ax.set_xlim(x_min-x_offset, x_max+x_offset)\n",
        "    ax.set_ylim(y_min-y_offset, y_max+y_offset)\n",
        "    if label is None:\n",
        "        label = 'Mean pretrained ESM embeddings for BGC trained without NRP via PCA'\n",
        "    plt.title(label);\n",
        "    if savepath is not None:\n",
        "        fig.savefig(savepath, dpi=150, bbox_inches=\"tight\")\n",
        "    plt.show()"
      ]
    },
    {
      "cell_type": "markdown",
      "source": [
        "# Additional code\n",
        "To effectively use sentence_transformers in our case, we'll need to define several classes, which are responsible for the training loss and evaluation during validation and test phases."
      ],
      "metadata": {
        "id": "LiBArcaZ7WZd"
      }
    },
    {
      "cell_type": "markdown",
      "source": [
        "## Define custom loss"
      ],
      "metadata": {
        "id": "_44Ej_B57a8M"
      }
    },
    {
      "cell_type": "code",
      "execution_count": null,
      "metadata": {
        "id": "b_YjQfxv-RZT"
      },
      "outputs": [],
      "source": [
        "# Make custom loss\n",
        "import torch\n",
        "from torch import nn, Tensor\n",
        "from typing import Iterable, Dict\n",
        "from sentence_transformers import SentenceTransformer\n",
        "\n",
        "\n",
        "class PairCosineSimilarityLoss(nn.Module):\n",
        "    \"\"\"\n",
        "    CosineSimilarityLoss expects, that the InputExamples consists of two texts and a float label.\n",
        "\n",
        "    It computes the vectors u = model(input_text[0]) and v = model(input_text[1]) and measures the cosine-similarity between the two.\n",
        "    By default, it minimizes the following loss: ||input_label - cos_score_transformation(cosine_sim(u,v))||_2.\n",
        "\n",
        "    :param model: SentenceTransformer model\n",
        "    :param loss_fct: Which pytorch loss function should be used to compare the cosine_similartiy(u,v) with the input_label? By default, MSE:  ||input_label - cosine_sim(u,v)||_2\n",
        "    :param cos_score_transformation: The cos_score_transformation function is applied on top of cosine_similarity. By default, the identify function is used (i.e. no change).\n",
        "\n",
        "    Example::\n",
        "\n",
        "            from sentence_transformers import SentenceTransformer, SentencesDataset, InputExample, losses\n",
        "\n",
        "            model = SentenceTransformer('distilbert-base-nli-mean-tokens')\n",
        "            train_examples = [InputExample(texts=['pair1 sent1', 'pair1 sent2', 'pair2 sent1', 'pair2 sent2', ], label=0.8),\n",
        "                InputExample(texts=['pair3 sent1', 'pair3 sent2', 'pair4 sent1', 'pair4 sent2'], label=0.3)]\n",
        "            train_dataset = SentencesDataset(train_examples, model)\n",
        "            train_dataloader = DataLoader(train_dataset, shuffle=True, batch_size=train_batch_size)\n",
        "            train_loss = losses.CosineSimilarityLoss(model=model)\n",
        "\n",
        "\n",
        "    \"\"\"\n",
        "    def __init__(self, model: SentenceTransformer, loss_fct = nn.MSELoss(), cos_score_transformation=nn.Identity()):\n",
        "        super(PairCosineSimilarityLoss, self).__init__()\n",
        "        self.model = model\n",
        "        self.loss_fct = loss_fct\n",
        "        self.cos_score_transformation = cos_score_transformation\n",
        "\n",
        "\n",
        "    def forward(self, sentence_features: Iterable[Dict[str, Tensor]], labels: Tensor):\n",
        "\n",
        "        embeddings = [self.model(sentence_feature)['sentence_embedding'] for sentence_feature in sentence_features]\n",
        "\n",
        "        emb1 = torch.cat([embeddings[0], embeddings[1]], dim=-1)\n",
        "        emb2 = torch.cat([embeddings[2], embeddings[3]], dim=-1)\n",
        "\n",
        "        output = self.cos_score_transformation(torch.cosine_similarity(emb1, emb2))\n",
        "        return self.loss_fct(output, labels.view(-1))\n"
      ]
    },
    {
      "cell_type": "markdown",
      "source": [
        "## Define evaluators"
      ],
      "metadata": {
        "id": "WITylA0K7f7e"
      }
    },
    {
      "cell_type": "code",
      "execution_count": null,
      "metadata": {
        "id": "kaiYQcxGBrMb"
      },
      "outputs": [],
      "source": [
        "from sentence_transformers.evaluation import SentenceEvaluator, SimilarityFunction\n",
        "from sentence_transformers.evaluation import SequentialEvaluator\n",
        "import os\n",
        "import csv\n",
        "from sklearn.metrics.pairwise import paired_cosine_distances, paired_euclidean_distances, paired_manhattan_distances\n",
        "from sklearn.metrics.pairwise import cosine_similarity\n",
        "from scipy.stats import pearsonr, spearmanr\n",
        "import numpy as np\n",
        "from typing import List, Tuple\n",
        "from sentence_transformers.readers import InputExample\n",
        "from sklearn.metrics import silhouette_score\n",
        "import sklearn.metrics as skmetrics\n",
        "import sklearn.metrics.pairwise as pmetrics\n",
        "\n",
        "class PairEmbeddingSimilarityEvaluator(SentenceEvaluator):\n",
        "    \"\"\"\n",
        "    Evaluate a model based on the similarity of the embeddings by calculating the Spearman and Pearson rank correlation\n",
        "    in comparison to the gold standard labels.\n",
        "    The metrics are the cosine similarity as well as euclidean and Manhattan distance\n",
        "    The returned score is the Spearman correlation with a specified metric.\n",
        "\n",
        "    The results are written in a CSV. If a CSV already exists, then values are appended.\n",
        "\n",
        "    : List[str]\n",
        "    \"\"\"\n",
        "    def __init__(self, sentences: Tuple[List[str]], scores: List[float], batch_size: int = 16, main_similarity: SimilarityFunction = None, name: str = '', show_progress_bar: bool = False, write_csv: bool = True):\n",
        "        \"\"\"\n",
        "        Constructs an evaluator based for the dataset\n",
        "\n",
        "        The labels need to indicate the similarity between the sentences.\n",
        "\n",
        "        :param sentences1:  List with the first sentence in a pair\n",
        "        :param sentences2: List with the second sentence in a pair\n",
        "        :param scores: Similarity score between sentences1[i] and sentences2[i]\n",
        "        :param write_csv: Write results to a CSV file\n",
        "        \"\"\"\n",
        "        self.sentences1, self.sentences2, self.sentences3, self.sentences4 = sentences\n",
        "        self.scores = scores\n",
        "        self.write_csv = write_csv\n",
        "\n",
        "        assert len(self.sentences1) == len(self.sentences2)\n",
        "        assert len(self.sentences2) == len(self.sentences3)\n",
        "        assert len(self.sentences3) == len(self.sentences4)\n",
        "        assert len(self.sentences1) == len(self.scores)\n",
        "\n",
        "        self.main_similarity = main_similarity\n",
        "        self.name = name\n",
        "\n",
        "        self.batch_size = batch_size\n",
        "        if show_progress_bar is None:\n",
        "            show_progress_bar=True\n",
        "        self.show_progress_bar = show_progress_bar\n",
        "\n",
        "        self.csv_file = \"similarity_evaluation\"+(\"_\"+name if name else '')+\"_results.csv\"\n",
        "        self.csv_headers = [\"epoch\", \"steps\", \"cosine_pearson\", \"cosine_spearman\", \"euclidean_pearson\", \"euclidean_spearman\", \"manhattan_pearson\", \"manhattan_spearman\", \"dot_pearson\", \"dot_spearman\"]\n",
        "\n",
        "    @classmethod\n",
        "    def from_input_examples(cls, examples: List[InputExample], **kwargs):\n",
        "        sentences1 = []\n",
        "        sentences2 = []\n",
        "        sentences3 = []\n",
        "        sentences4 = []\n",
        "        scores = []\n",
        "\n",
        "        for example in examples:\n",
        "            sentences1.append(example.texts[0])\n",
        "            sentences2.append(example.texts[1])\n",
        "            sentences3.append(example.texts[2])\n",
        "            sentences4.append(example.texts[3])\n",
        "            scores.append(example.label)\n",
        "        return cls((sentences1, sentences2, sentences3, sentences4), scores, **kwargs)\n",
        "\n",
        "    def __call__(self, model, output_path: str = None, epoch: int = -1, steps: int = -1) -> float:\n",
        "        if epoch != -1:\n",
        "            if steps == -1:\n",
        "                out_txt = \" after epoch {}:\".format(epoch)\n",
        "            else:\n",
        "                out_txt = \" in epoch {} after {} steps:\".format(epoch, steps)\n",
        "        else:\n",
        "            out_txt = \":\"\n",
        "\n",
        "        emb1 = model.encode(self.sentences1, batch_size=self.batch_size, show_progress_bar=self.show_progress_bar, convert_to_numpy=True)\n",
        "        emb2 = model.encode(self.sentences2, batch_size=self.batch_size, show_progress_bar=self.show_progress_bar, convert_to_numpy=True)\n",
        "        emb3 = model.encode(self.sentences3, batch_size=self.batch_size, show_progress_bar=self.show_progress_bar, convert_to_numpy=True)\n",
        "        emb4 = model.encode(self.sentences4, batch_size=self.batch_size, show_progress_bar=self.show_progress_bar, convert_to_numpy=True)\n",
        "\n",
        "        embeddings1 = np.hstack([emb1, emb2])\n",
        "        embeddings2 = np.hstack([emb3, emb4])\n",
        "        labels = self.scores\n",
        "\n",
        "        cosine_scores = 1 - (paired_cosine_distances(embeddings1, embeddings2))\n",
        "        manhattan_distances = -paired_manhattan_distances(embeddings1, embeddings2)\n",
        "        euclidean_distances = -paired_euclidean_distances(embeddings1, embeddings2)\n",
        "        dot_products = [np.dot(emb1, emb2) for emb1, emb2 in zip(embeddings1, embeddings2)]\n",
        "\n",
        "        eval_pearson_cosine, _ = pearsonr(labels, cosine_scores)\n",
        "        eval_spearman_cosine, _ = spearmanr(labels, cosine_scores)\n",
        "\n",
        "        eval_pearson_manhattan, _ = pearsonr(labels, manhattan_distances)\n",
        "        eval_spearman_manhattan, _ = spearmanr(labels, manhattan_distances)\n",
        "\n",
        "        eval_pearson_euclidean, _ = pearsonr(labels, euclidean_distances)\n",
        "        eval_spearman_euclidean, _ = spearmanr(labels, euclidean_distances)\n",
        "\n",
        "        eval_pearson_dot, _ = pearsonr(labels, dot_products)\n",
        "        eval_spearman_dot, _ = spearmanr(labels, dot_products)\n",
        "\n",
        "        if output_path is not None and self.write_csv:\n",
        "            csv_path = os.path.join(output_path, self.csv_file)\n",
        "            output_file_exists = os.path.isfile(csv_path)\n",
        "            with open(csv_path, newline='', mode=\"a\" if output_file_exists else 'w', encoding=\"utf-8\") as f:\n",
        "                writer = csv.writer(f)\n",
        "                if not output_file_exists:\n",
        "                    writer.writerow(self.csv_headers)\n",
        "\n",
        "                writer.writerow([\n",
        "                    epoch, steps, eval_pearson_cosine, eval_spearman_cosine, eval_pearson_euclidean,\n",
        "                    eval_spearman_euclidean, eval_pearson_manhattan, eval_spearman_manhattan,\n",
        "                    eval_pearson_dot, eval_spearman_dot])\n",
        "\n",
        "\n",
        "        if self.main_similarity == SimilarityFunction.COSINE:\n",
        "            return eval_spearman_cosine\n",
        "        elif self.main_similarity == SimilarityFunction.EUCLIDEAN:\n",
        "            return eval_spearman_euclidean\n",
        "        elif self.main_similarity == SimilarityFunction.MANHATTAN:\n",
        "            return eval_spearman_manhattan\n",
        "        elif self.main_similarity == SimilarityFunction.DOT_PRODUCT:\n",
        "            return eval_spearman_dot\n",
        "        elif self.main_similarity is None:\n",
        "            return max(eval_spearman_cosine, eval_spearman_manhattan, eval_spearman_euclidean, eval_spearman_dot)\n",
        "        else:\n",
        "            raise ValueError(\"Unknown main_similarity value\")\n",
        "\n",
        "\n",
        "class PairEmbeddingSilhouetteEvaluator(SentenceEvaluator):\n",
        "    \"\"\"\n",
        "    Evaluate a model based on the similarity of the embeddings by calculating the Spearman and Pearson rank correlation\n",
        "    in comparison to the gold standard labels.\n",
        "    The metrics are the cosine similarity as well as euclidean and Manhattan distance\n",
        "    The returned score is the Spearman correlation with a specified metric.\n",
        "\n",
        "    The results are written in a CSV. If a CSV already exists, then values are appended.\n",
        "\n",
        "    : List[str]\n",
        "    \"\"\"\n",
        "    def __init__(self, sentences: Tuple[List[str]], classes: List[int], class_names: List[str], bgcid_list=None,\n",
        "                 batch_size: int = 16, main_similarity: SimilarityFunction = None, name: str = '',\n",
        "                 show_progress_bar: bool = False, write_csv: bool = True, savedir=None):\n",
        "        \"\"\"\n",
        "        Constructs an evaluator based for the dataset\n",
        "\n",
        "        The labels need to indicate the similarity between the sentences.\n",
        "\n",
        "        :param sentences:  List with the first and second sentences in a pair\n",
        "        :param classes: List of the indices of the cluster the corresponding sample belongs to\n",
        "        :param write_csv: Write results to a CSV file\n",
        "        \"\"\"\n",
        "        self.sentences = sentences\n",
        "        self.classes = classes\n",
        "        self.class_names = class_names\n",
        "        self.bgcid_list = bgcid_list\n",
        "        if bgcid_list is None:\n",
        "            self.bgcid_list = np.arange(len(sentences))\n",
        "        self.bgcid2indices = defaultdict(list)\n",
        "        for i, bgcid in enumerate(self.bgcid_list):\n",
        "            self.bgcid2indices[bgcid].append(i)\n",
        "        self.bgcid2indices = {k: np.asarray(v) for k, v in self.bgcid2indices.items()}\n",
        "        self.bgcid2classes = {k: self.classes[v[0]] for k, v in self.bgcid2indices.items()}\n",
        "        self.bgcids = np.asarray(sorted(self.bgcid2indices))\n",
        "        assert min(classes) >= 0\n",
        "        assert max(classes) < len(class_names)\n",
        "        self.write_csv = write_csv\n",
        "\n",
        "        self.main_similarity = main_similarity\n",
        "        self.name = name\n",
        "\n",
        "        self.batch_size = batch_size\n",
        "        self.show_progress_bar = show_progress_bar\n",
        "        if show_progress_bar is None:\n",
        "            show_progress_bar = True\n",
        "        #     show_progress_bar = (logger.getEffectiveLevel() == logging.INFO or logger.getEffectiveLevel() == logging.DEBUG)\n",
        "\n",
        "        self.csv_file = \"similarity_evaluation\"+(\"_\"+name if name else '')+\"_results.csv\"\n",
        "        self.csv_headers = [\n",
        "            \"epoch\", \"steps\", \"silhouette_cos_dist\",\n",
        "            \"cosine_pearson\", \"cosine_spearman\", \"euclidean_pearson\", \"euclidean_spearman\",\n",
        "            \"manhattan_pearson\", \"manhattan_spearman\"\n",
        "        ]\n",
        "        self.savedir = savedir\n",
        "\n",
        "    @classmethod\n",
        "    def from_input_examples(cls, examples: List[InputExample], **kwargs):\n",
        "        sentences1 = []\n",
        "        sentences2 = []\n",
        "        classes = []\n",
        "\n",
        "        for example in examples:\n",
        "            sentences1.append(example.texts[0])\n",
        "            sentences2.append(example.texts[1])\n",
        "            classes.append(example.label)\n",
        "        return cls((sentences1, sentences2), scores, **kwargs)\n",
        "\n",
        "    def __call__(self, model, output_path: str = None, epoch: int = -1, steps: int = -1) -> float:\n",
        "        if epoch != -1:\n",
        "            if steps == -1:\n",
        "                out_txt = \" after epoch {}:\".format(epoch)\n",
        "            else:\n",
        "                out_txt = \" in epoch {} after {} steps:\".format(epoch, steps)\n",
        "        else:\n",
        "            out_txt = \":\"\n",
        "\n",
        "        all_embeddings = []\n",
        "        for sentences in self.sentences:\n",
        "            embedding = model.encode(sentences, batch_size=self.batch_size, show_progress_bar=self.show_progress_bar, convert_to_numpy=True)\n",
        "            all_embeddings.append(embedding)\n",
        "        # emb2 = model.encode(self.sentences2, batch_size=self.batch_size, show_progress_bar=self.show_progress_bar, convert_to_numpy=True)\n",
        "        # emb3 = model.encode(self.sentences3, batch_size=self.batch_size, show_progress_bar=self.show_progress_bar, convert_to_numpy=True)\n",
        "        # emb4 = model.encode(self.sentences4, batch_size=self.batch_size, show_progress_bar=self.show_progress_bar, convert_to_numpy=True)\n",
        "\n",
        "        # embeddings = np.hstack([emb1, emb2])\n",
        "        if len(all_embeddings) == 1:\n",
        "            embeddings = all_embeddings[0]\n",
        "        else:\n",
        "            embeddings = np.hstack(all_embeddings)\n",
        "        mean_embeddings = [embeddings[self.bgcid2indices[bgcid]].mean(0) for bgcid in self.bgcids]\n",
        "        mean_embeddings = np.stack(mean_embeddings)\n",
        "\n",
        "        test_labels = np.asarray([self.bgcid2classes[bgcid] for bgcid in self.bgcids])\n",
        "        labels = np.where(test_labels.reshape(-1, 1) == test_labels, 1, -1).flatten()\n",
        "\n",
        "        cosine_similarities = cosine_similarity(mean_embeddings, mean_embeddings)\n",
        "        cosine_distances = 1. - cosine_similarities\n",
        "        cosine_scores = cosine_similarities.flatten()\n",
        "        score_cos_dist = silhouette_score(mean_embeddings, test_labels, metric=\"cosine\")\n",
        "\n",
        "        manhattan_distances = -pmetrics.manhattan_distances(mean_embeddings, mean_embeddings).flatten()\n",
        "        euclidean_distances = -pmetrics.euclidean_distances(mean_embeddings, mean_embeddings).flatten()\n",
        "\n",
        "        eval_pearson_cosine, _ = pearsonr(labels, cosine_scores)\n",
        "        eval_spearman_cosine, _ = spearmanr(labels, cosine_scores)\n",
        "\n",
        "        eval_pearson_manhattan, _ = pearsonr(labels, manhattan_distances)\n",
        "        eval_spearman_manhattan, _ = spearmanr(labels, manhattan_distances)\n",
        "\n",
        "        eval_pearson_euclidean, _ = pearsonr(labels, euclidean_distances)\n",
        "        eval_spearman_euclidean, _ = spearmanr(labels, euclidean_distances)\n",
        "\n",
        "        wandb.log({\n",
        "            \"silhouette_val\": score_cos_dist,\n",
        "            \"pearson_cosine\": eval_pearson_cosine\n",
        "        })\n",
        "\n",
        "        if output_path is not None and self.write_csv:\n",
        "            csv_path = os.path.join(output_path, self.csv_file)\n",
        "            output_file_exists = os.path.isfile(csv_path)\n",
        "            with open(csv_path, newline='', mode=\"a\" if output_file_exists else 'w', encoding=\"utf-8\") as f:\n",
        "                writer = csv.writer(f)\n",
        "                if not output_file_exists:\n",
        "                    writer.writerow(self.csv_headers)\n",
        "\n",
        "                writer.writerow([epoch, steps, score_cos_dist,\n",
        "                                 eval_pearson_cosine, eval_spearman_cosine, eval_pearson_euclidean,\n",
        "                                 eval_spearman_euclidean, eval_pearson_manhattan, eval_spearman_manhattan])\n",
        "\n",
        "\n",
        "        if self.main_similarity == SimilarityFunction.COSINE:\n",
        "            return eval_spearman_cosine\n",
        "        elif self.main_similarity == SimilarityFunction.EUCLIDEAN:\n",
        "            return eval_spearman_euclidean\n",
        "        elif self.main_similarity == SimilarityFunction.MANHATTAN:\n",
        "            return eval_spearman_manhattan\n",
        "        elif self.main_similarity is None:\n",
        "            return score_cos_dist\n",
        "        else:\n",
        "            raise ValueError(\"Unknown main_similarity value\")\n",
        "\n",
        "\n",
        "class TestSilhouetteEvaluator(SentenceEvaluator):\n",
        "    def __init__(self, df, all_index: List[int], test_index: List[int], class_names: List[str],\n",
        "                 columns: List[str],\n",
        "                 test_fold:int,\n",
        "                 batch_size: int = 16, main_similarity: SimilarityFunction = None, name: str = '',\n",
        "                 show_progress_bar: bool = False, write_csv: bool = True, savedir=None, target_column=\"biosyn_class_index\"):\n",
        "        self.df = df\n",
        "        self.all_index = np.asarray(all_index).flatten()\n",
        "        self.test_index = np.asarray(test_index).flatten()\n",
        "        self.class_names = class_names\n",
        "        if isinstance(columns, str):\n",
        "            columns = [columns]\n",
        "        self.columns = columns\n",
        "        self.test_fold = test_fold\n",
        "        self.batch_size=batch_size\n",
        "        self.main_similarity = main_similarity\n",
        "        self.name = name\n",
        "        self.show_progress_bar = show_progress_bar\n",
        "        if show_progress_bar is not None:\n",
        "            self.show_progress_bar = True\n",
        "        self.write_csv = write_csv\n",
        "        self.savedir = savedir\n",
        "        self.eval_sequences = [df.loc[all_index, col].values for col in columns]\n",
        "        self.eval_targets = df.loc[all_index, target_column].values\n",
        "\n",
        "        self.test_ids = np.isin(self.all_index, test_index)\n",
        "\n",
        "        self.all_bgcid = self.df.loc[all_index, 'bgcid'].values\n",
        "        self.test_bgcid = self.df.loc[test_index, 'bgcid'].values\n",
        "\n",
        "        bgc2indices = defaultdict(list)\n",
        "        for i, bgcid in enumerate(self.all_bgcid):\n",
        "            bgc2indices[bgcid].append(i)\n",
        "        self.bgc2indices = {k: np.asarray(v) for k, v in bgc2indices.items()}\n",
        "\n",
        "        self.bgc2targets = {k: v for k, v in df.loc[all_index, [\"bgcid\", target_column]].values}\n",
        "\n",
        "        self.all_bgcid = np.unique(self.all_bgcid)\n",
        "        self.test_bgcid = np.unique(self.test_bgcid)\n",
        "\n",
        "        self.csv_file = \"test_evaluation\"+(\"_\"+name if name else '')+\"_results.csv\"\n",
        "        self.csv_headers = [\n",
        "            \"epoch\", \"steps\",\n",
        "            \"silhouette_test\",\n",
        "            \"silhouette_full\",\n",
        "            \"calinsky_score\"\n",
        "        ]\n",
        "        self.savedir = savedir\n",
        "\n",
        "    def __call__(self, model, output_path: str = None, epoch: int = -1, steps: int = -1) -> float:\n",
        "        if epoch != -1:\n",
        "            if steps == -1:\n",
        "                out_txt = \" after epoch {}:\".format(epoch)\n",
        "            else:\n",
        "                out_txt = \" in epoch {} after {} steps:\".format(epoch, steps)\n",
        "        else:\n",
        "            out_txt = \":\"\n",
        "        eval_embeddings = []\n",
        "        for sequences in self.eval_sequences:\n",
        "            embedding = model.encode(sequences, batch_size=self.batch_size, show_progress_bar=self.show_progress_bar, convert_to_numpy=True)\n",
        "            eval_embeddings.append(embedding)\n",
        "\n",
        "        domain_embeddings = np.hstack(eval_embeddings)\n",
        "        bgc2embeddings = {\n",
        "            bgcid: domain_embeddings[indices].mean(0)\n",
        "            for bgcid, indices in self.bgc2indices.items()\n",
        "        }\n",
        "        all_embeddings = np.stack([bgc2embeddings[bgcid] for bgcid in self.all_bgcid])\n",
        "        self.test_ids = np.isin(self.all_bgcid, self.test_bgcid)\n",
        "\n",
        "        all_targets = np.asarray([self.bgc2targets[bgcid] for bgcid in self.all_bgcid])\n",
        "        test_labels = all_targets[self.test_ids]\n",
        "        test_labels = np.where(test_labels.reshape(-1, 1) == test_labels, 1, -1).flatten()\n",
        "\n",
        "        cosine_similarities = cosine_similarity(all_embeddings[self.test_ids], all_embeddings[self.test_ids])\n",
        "        cosine_distances = 1. - cosine_similarities\n",
        "        flat_cosine_distances = cosine_distances.flatten()\n",
        "        eval_silhouette_samples = skmetrics.silhouette_samples(all_embeddings, all_targets, metric=\"cosine\")\n",
        "        test_silhouette_score = eval_silhouette_samples[self.test_ids].mean()\n",
        "        full_silhouette_score = eval_silhouette_samples.mean()\n",
        "        calinsky_score = skmetrics.calinski_harabasz_score(all_embeddings, all_targets)\n",
        "\n",
        "        manhattan_distances = -pmetrics.manhattan_distances(all_embeddings[self.test_ids], all_embeddings[self.test_ids]).flatten()\n",
        "        euclidean_distances = -pmetrics.euclidean_distances(all_embeddings[self.test_ids], all_embeddings[self.test_ids]).flatten()\n",
        "\n",
        "        eval_pearson_cosine, _ = pearsonr(test_labels, flat_cosine_distances)\n",
        "        eval_spearman_cosine, _ = spearmanr(test_labels, flat_cosine_distances)\n",
        "\n",
        "        eval_pearson_manhattan, _ = pearsonr(test_labels, manhattan_distances)\n",
        "        eval_spearman_manhattan, _ = spearmanr(test_labels, manhattan_distances)\n",
        "\n",
        "        eval_pearson_euclidean, _ = pearsonr(test_labels, euclidean_distances)\n",
        "        eval_spearman_euclidean, _ = spearmanr(test_labels, euclidean_distances)\n",
        "\n",
        "        wandb.log({\n",
        "            \"silhouette_full\": full_silhouette_score,\n",
        "            \"silhouette_test\": test_silhouette_score,\n",
        "            \"pearson_cosine\": eval_pearson_cosine,\n",
        "            \"calinsky_score\": calinsky_score\n",
        "        })\n",
        "        if output_path is not None and self.write_csv:\n",
        "            csv_path = os.path.join(output_path, self.csv_file)\n",
        "            output_file_exists = os.path.isfile(csv_path)\n",
        "            with open(csv_path, newline='', mode=\"a\" if output_file_exists else 'w', encoding=\"utf-8\") as f:\n",
        "                writer = csv.writer(f)\n",
        "                if not output_file_exists:\n",
        "                    writer.writerow(self.csv_headers)\n",
        "\n",
        "                writer.writerow([\n",
        "                    epoch, steps,\n",
        "                    test_silhouette_score,\n",
        "                    full_silhouette_score,\n",
        "                    calinsky_score\n",
        "                ])\n",
        "\n",
        "        return test_silhouette_score"
      ]
    },
    {
      "cell_type": "code",
      "execution_count": null,
      "metadata": {
        "colab": {
          "base_uri": "https://localhost:8080/"
        },
        "id": "OPf4QCP9Fivs",
        "outputId": "de69a366-dd6b-4795-90c9-914e1cf87d6d"
      },
      "outputs": [
        {
          "data": {
            "text/plain": [
              "(41, 25)"
            ]
          },
          "execution_count": 43,
          "metadata": {},
          "output_type": "execute_result"
        }
      ],
      "source": [
        "# domains_tiny_df = domains_df.groupby(\"fold\", as_index=False).head(10)\n",
        "tiny_bgcids = domains_df[['fold', \"bgcid\"]].drop_duplicates().groupby(\"fold\", as_index=False).head(3)['bgcid'].unique()\n",
        "domains_tiny_df = domains_df[domains_df.bgcid.isin(tiny_bgcids)].groupby(['fold', \"bgcid\"]).head(2).reset_index(drop=True)\n",
        "domains_tiny_df.shape"
      ]
    },
    {
      "cell_type": "code",
      "execution_count": null,
      "metadata": {
        "id": "3N5DVmbWJevb"
      },
      "outputs": [],
      "source": [
        "all_bgc_class_names = sorted(['NRP', 'Polyketide', 'Other', 'Saccharide', 'Alkaloid', 'RiPP', 'Terpene'])\n",
        "biosyn_class2index = {x: i for i, x in enumerate(all_bgc_class_names)}\n",
        "\n",
        "domains_df[\"biosyn_class_index\"] = domains_df.bgc_class.apply(lambda x: biosyn_class2index.get(x, -1))"
      ]
    },
    {
      "cell_type": "code",
      "execution_count": null,
      "metadata": {
        "id": "ecnZS4LEK3vT"
      },
      "outputs": [],
      "source": [
        "\n"
      ]
    },
    {
      "cell_type": "code",
      "execution_count": null,
      "metadata": {
        "id": "No6fQPfBLQFq"
      },
      "outputs": [],
      "source": [
        "from sentence_transformers import models as st_models\n",
        "\n",
        "def prepare_st_model(freeze=True):\n",
        "    if not freeze:\n",
        "        return SentenceTransformer(PROTEIN_MODEL)\n",
        "    word_embedding_model = st_models.Transformer(PROTEIN_MODEL)\n",
        "    word_embedding_model.auto_model.embeddings.requires_grad_(False)\n",
        "    for param in word_embedding_model.auto_model.embeddings.parameters():\n",
        "        param.requires_grad = False\n",
        "\n",
        "    word_embedding_model.auto_model.encoder.layer[:5].requires_grad_(False)\n",
        "    for param in word_embedding_model.auto_model.encoder.layer[:5].parameters():\n",
        "        param.requires_grad = False\n",
        "    pooling_model = st_models.Pooling(word_embedding_model.get_word_embedding_dimension())\n",
        "\n",
        "    model = SentenceTransformer(modules=[word_embedding_model, pooling_model])\n",
        "    return model"
      ]
    },
    {
      "cell_type": "markdown",
      "source": [
        "# Fine-tuning"
      ],
      "metadata": {
        "id": "1C9fjLJt7neP"
      }
    },
    {
      "cell_type": "code",
      "execution_count": null,
      "metadata": {
        "colab": {
          "background_save": true,
          "base_uri": "https://localhost:8080/",
          "height": 565,
          "referenced_widgets": [
            "cd64c9e6b32a483d91aee82203b51533",
            "7f57f2e53a5645a88d364ed114dfb6d3",
            "8a0e5ddc736b4434955bef4ef0116281",
            "86366972542641d7959902a2e5093205",
            "e96c8eed792248b6877ef5f7a3c40051",
            "6e3c8fa459d24dc9a4415b90c017ab02",
            "0020fe372291458282c5d9399d9d8234",
            "ab88b5625fff4af2a2a4810a9d859aa0",
            "006fed2cf94f4092aac621cf3142a9da",
            "792d2fc70dec4e43848d1632a10807cb",
            "ba20f37a859e42898544656095a3baaf",
            "e1c5be623b89422e8a3b2964cfd00b26",
            "fde4985e631c43d4b785b7fb84b38d1a",
            "4a6a845a07b5451f95c1c653f3083729",
            "991bbe69a70f465ab76fd175fe57a1c9",
            "297fd877549a41669700ad8a307c35eb",
            "93213f728404408287171abecb5687cc",
            "31ca5c2c6abd43629dbc68cbcf4905bf",
            "1960666d6720458b913e5ce0e13c9970",
            "c84e6922981948f795d6f46acda01f83",
            "a2add141b0aa47e59cc7b7fc65b26aa3",
            "6cc779401fe4419aa4e5ef0346683623",
            "39eeaa76b32d46978dc58d3555e4d66c",
            "ae163e9b385c4d9ead5103bd78ee56ea",
            "9e8f9c6da399459cb99922e9edeec60c",
            "f0d23df038fe44b58eaf034b0d40bac4",
            "64eaceeb3c2d47379b53170c97ec6d8a",
            "5b5462e000dd4bb4a417cd6157190bb0",
            "608a8b8e709248308069d5dbfd24b442",
            "b03a6a9708bc4016876e7da2dd1f67a4",
            "1ac830f19cfb42fc9da0e1e52bd4da8b",
            "809a082f24d547c69eec8c11480ff2f2",
            "7df55faaabc14e02969edf28bcc0e6dc",
            "d1d162f25f054608981117886fbbb030",
            "b76de5f1611a4c3aba959bfe5b34e807",
            "76029621497445b3a7201c14f01be0bf",
            "4d3b2bed0bed49be9c85dc6db4507e64",
            "6cb176286d1245198b0bd05ecf28fd07",
            "a8201103035e40d5927f2a78eeef0dfa",
            "042f085bc8a344dd9b6100d4dd35d531",
            "1046b8a2c876460c9ca12e1e135daab8",
            "05c77ff052344c149623eb84a6d921c9",
            "0902111de02b4cbebba72f6430cb0bad",
            "d68cf413a2084edbb6f9a809c992e200",
            "34c6847d39bd4b0dab2a22895dadd2c7",
            "0cfe8452a2604ee8819432f3c6607c9f",
            "30362ef005754edca71ce578da625bbd",
            "e0a5543fdd394504bc928fea9049dc89",
            "06175d5ff9414a369ac39ae522f1a41f",
            "4d0802aa34db4868966535f1f080d045",
            "fbbe49ec887c4b178f57c319667b8976",
            "d2bb419098204dd3a87b9b282ed350ac",
            "594863f79bdf462bb1b5a813d8a9ddf5",
            "7d97609ed06840dcb0363d15a4284623",
            "986cff2ca6dc4ba2b9f13fb4ccd8789a",
            "85139511499840aaaa0291aa9b259029",
            "70cd7f446a28444eb2308b500f96df6c",
            "9838c753e0c54c9589dad4178704c11a",
            "63299d79a60c41738e256beff1bb36ec",
            "532b8841611b4cd7847680d45acec0ef",
            "2cbc3f4abe79421b8c13144190f4c8c1",
            "47f9ee1095b64742879f9c126d592661",
            "debbd748b1e74c53a7a34434b63adb6e",
            "b8e1060091004da2a44892d22c0fb8c2",
            "24b119d680d74f74bb5f3247b329b85a",
            "c98ac5c7b0934885b7d356bf032740d8",
            "8cac7a919ab44c46b3f962f50420a2fa",
            "3026ea7096f941c388c05a59a3048b87",
            "b89b7dd339de4eaaaead316f923a80bd",
            "c0d4e44de7d74de0bde31bc5876ab5b6",
            "53d8db00841244df980dbdab604f368c",
            "ff6efb03db704fb8a04bf3a50c72a1c8",
            "0a8f56cc00534179b6b9b5a402577ac0",
            "1cff491527f44dc6b71a7bad7f15be35",
            "34bbd18949cf44c78e01a0c163937375",
            "2ff14bb8c4224b3dbef2cac9926f4ab3",
            "3c23d1c1082640edab284c1e3f3a176f",
            "6d946fa0cd0c46d293dd298b6dbc5d5e",
            "4046342421684e0a9cc985af58e978ec",
            "c0e52b15d1aa4535b7f04392efca27a3",
            "01073d442f454489a0ee865b9202a5d2",
            "219c61936daf457f9c406822df6d581c",
            "e107e85aaf764a85a9ec5cc70aa9d753",
            "0d329fa0d3434599b1c893b9baea4454",
            "bd84dd5e1e48406fa2f42bef0dee7265",
            "c89aa59dbaca49afbd728bb7a92b9514",
            "c1b56715cff94c3183b67728f633185a",
            "92737cc4e32d4ff2b7d10e2228b4ded8",
            "119094b7d3264e26b47e8b2cf7cdd7b9",
            "fcad4d74ce344c1a991d36cb9a318c12",
            "5aebf3b1c5a24bb19a7e1c7a46c3dc72",
            "36dc18ed3d2140c08b4e1486076f6ea0",
            "48711945b1a84c16acd45e2a2e73980c",
            "61d225636ae4414688511ad639e2136e",
            "225d9c13325d40ccb9bcd1bfcd37b1e1",
            "a67f99126b924f078df495bcadbdc6d9",
            "9d021bf7829347909aa61c7462c92dd6",
            "a3ae6374c10442a6a9a84b724425859c",
            "367e8492bc4a42f4a5b8cee0662c00c4",
            "53b7657569c24ac68974469ecf27823b",
            "ff5d37901cfe481b8752f4fe7fe3a5a7",
            "986a4eff776145ed91fbbd38722dd809",
            "292980791a8d4b8da1963c48bb14706e",
            "d283ab48e13c4238a2b938a70ed590f4",
            "eb6d1e4545bd400586ad84b4f11c53fe",
            "16b2018599fe47d0a07e637832ca2962",
            "b475b6f6c0dc45b8bc9052ddcb4f620a",
            "515d259417504d50992a6fb491509e0e",
            "7e86571d9d0a4f2e954ac1cb658672b1",
            "4d861e93c11c411d9ea64549962a5cbd",
            "d596cbc688cd4bd4a51afbf4916af60d",
            "9905bc4a67984d409080e8324fb56e5b",
            "363d292bdb30487daeaf928478435158",
            "63b9ce99a19846a7bde1d459fb633e9a",
            "e0d9d0b9485d4d74971a740f8fe0c78a",
            "5caa5b1aae26497192db2dac32c7b4ba",
            "322d43cd37414401934d05614eeea278",
            "a7fdff163358441cb0f08a63afbe9ad9",
            "e7775e52ce7c4fa384a826b9104538a6",
            "074d742b5cfd494bb1f1fa48c8bd2011",
            "a46cb95f17ba47e6b251e7b06423b7f4",
            "2a7885b4333146ca8f035e527e0935f0",
            "9db9a97469cb4da8a4753373928d879e",
            "9854bc4a346241cead5b33ef7c599c5e",
            "7df2e5f31c314b9893c8f2a32c08583f",
            "234545bda5624a38b3e3f09d01283857",
            "6e1a208dac1f454d8f1de8319c060ee0",
            "fd02ea35505341d98d94723185801a4c",
            "8e547160ad934b25ba314000733d66d8",
            "c7e85afe48814874b8d9db27c07ea244",
            "b5a1e4e1e48642d5a241c38acfef85c6",
            "6c4947b980a34619ab413d85d47b6d2d",
            "62624eb87df84ab2bbf00d6260a50bf1",
            "cdb12b06aef647c0b74ceec13c2f1bb8",
            "81546849865049ce80baed316f48a51c",
            "96cabd6f78ed44a9aac73e1cb4d00288",
            "7c32f92db20448fcb18c8d07189b43a9",
            "3f0b35138c29484c8ffab9cde7793737",
            "48c3b5c75e3b4070b923c59966983cfb",
            "bb8e0a37482b4395905f809ac2a64f9c",
            "fc15400d24274aac84a7f213e2a9e4de",
            "d79f1fae0bf648d4b00918d4ac19b7b4",
            "9aece82f0bdc4af4b9f8f236b8ee43fe",
            "03a49c3ec2ef4e11bc8506489b01968d",
            "19cf273e35a748cba155204b28627d99",
            "337915a4bd6b48d19e8c82a8a38b3f31",
            "dcc9551011f647418f82b60ec3a34f1f",
            "1e77102349c64d8fa1816580df14f88c",
            "2113c24624c8433d9ef15f6e8ea4cf5b",
            "5a8acbc0eab6425fb05317b2efa92d1c",
            "d396ceddec89420492652c156c1f460a",
            "6b0d28337b694241800fdecdeef506ae",
            "f87fb419c1264004aacbc98b68327f51",
            "83b39e7b92a54b27823d22c90cf1502f",
            "4d5a6df2e30843fe93625a330f44509d",
            "7eb2e119c9f4476483b65e2c1ef4dc64",
            "53c78e9671304e8c970e365552f0049c",
            "5e7f5308a6074d80b9e78afef0fa73ca",
            "5d6de33a4c01417cbb1d930e27cb412f",
            "183fb2368f94497d8aeaa72b2e83aa4b",
            "2985e0bdb7594b6d8c49d8ca16aaaa95",
            "7737ebd5e1a64c1e95d398b1dab9b270",
            "4a283579354346eba7c9f62f15503413",
            "a781dd40358249d79c0c1fb2d75f24b6",
            "532dbbe9383348279f8cc747c3831c6d",
            "adf92383c45c4d80b179bcd912bc4582",
            "b4b5f5acb5e243029ebd34c9d183e647",
            "3b2b72a0c9c845e7a14199de821b78e5",
            "fc10a30123064d52ad7244e31e5615c3",
            "19f1702f2ddf4207a7a7ff1b334f9b22",
            "1adcb3b36a6d42c0bfd224666728bd24",
            "5be81e4c2d8442f1b1c5d03577548fe3",
            "0d56e38c2bcf43abb4e8d5e9742400c9",
            "ee8a753f792e42c1804c676c84a2bd87",
            "26065ee421594e0ea98bca90759465a0",
            "4fc73c54afe047158ddb919f6d37614f",
            "743228b04b8542fb9aaa69d3350b03a5",
            "2a541b075e2f4821b3cde25bef153983",
            "661e121744944762909561707dd32df6",
            "a49f3061def84938ba16f24a2c74dbd2",
            "f5a56feb8dd443318b3f4c690c5c16ac",
            "b7e60020b3d04e2b8fdd0210a3fbb41d",
            "795a6c74f7cd42f5b1f021ed5b640960",
            "7990fa9bffe04577b471ecbf4ab58d81",
            "b61de30c211e4726a70f038677960d48",
            "a68d423af2244d3d94e58d43502c7edc",
            "e23718424e30435496fb0a89d6e47f44",
            "b438f391c05a4de3a6c6fc495419496d",
            "a47782663d4c4258bd2d5e127eb221bd",
            "b09923f231f14b0780889e00cd4f4d95",
            "0c0e7a5a6723412cbb8cd04ea1818f37",
            "6fb3b0c4da794fcdb5608b75f1708ac8",
            "3b1ef357b39441248cfa9a9b05121bc3",
            "d69736eb00d646a88984b489c1bc1814",
            "3b9b5e94e1a1448591c76ff0a7722d56",
            "fed4a552bdbb4bb993db29f920024157",
            "d4ed00bd8ab34e6d9920862faa050c8c",
            "2b3c47d321ce4d9f960d9ba356bd1a1c",
            "3239eef1a9be45c39a75a55cf935844e",
            "6050bde321074925ab914df3389d1df4",
            "bfdf7187c164467b892d3da9d3ff248e",
            "abadb0e04f444be99a9d8f5a33cf864a",
            "a34962f8e9144de1beecd87178a93b25",
            "c0051c5ccfad4cf882210f8767a5e660",
            "c7f399110b7f431aaefa2a0180277ffe",
            "f8490d094d284ce0ad46833636107e28",
            "f2388f4e54c141d4a6c3c556edb259ea",
            "4fb36748c11d4e099f702095b8823ca1",
            "0b3256c4d46a42f88c1a6c85c358e92b",
            "aa3f6ba908514a63b99a4d4083ef42e0",
            "b6c0ce2fddb943819e93a555f6b79cf4",
            "11e11ade0b3e40768b0b51023c7b714a",
            "1ad5f109df4b4e5cba06d919b1cdc122",
            "4e1eeef4cf85417fa144616551dda21f",
            "3882309fa7b3494ab423a0aed2fd2d76",
            "cfcb8130e1b64aa487fd4208a1efe536",
            "99e4c03043e04b6d8834cc7db83a6fd3",
            "36ce0d3544ad4923a6352e73bc91f0f3",
            "0e07d23a0de84be48d938ea20a28ad34",
            "59895243695841348dc13b902925995d",
            "c505b0539721421bb6fc731991a966cf",
            "dfb1f17066284ea299edd71c41048deb",
            "49222936035f41a2bef1f77032b5c4c7",
            "0baaa05c3cb34df59edbf073641e6159",
            "644d4730960840c58e9503778668d727",
            "53139e1412be4e448fe1b52f8470f818",
            "42cdc7acce8b4d2e9558497b2c3f75ca",
            "c2e37e75a4554c4fae94bf5d197222bc",
            "e8c9c26ff5a04b26be14227083dbfc64",
            "794d1ffbdc3343ee92dd30e1248fba40",
            "b278dd5bdf0a42fe8f9cd435e2f4e2ec",
            "0a878be0ebbd4396bc43d69bc0b3111b",
            "f6fc2e2f26f040809eab21dea30d6147",
            "ce7f3e0dddfc483096cb7c0dced0d182",
            "f139214fe18e4926ae4ede36c7fabd54",
            "7191664afde14a059f57bd650331fac6",
            "ace903062ad54be2ae1226017bc70723",
            "bea656009c1b429cbe7054924dd30389",
            "627c33c2672949d99827f262eeb2210a",
            "3c2b8f314d8e41e6aae14c78cb2db579",
            "1a2b04f795c44766856401f0b72234d3",
            "a019d0754b6c4ffbacd255c579cd8d45",
            "7af233f3688a4abb94bfb4aa97ac6b03",
            "2ac073c23d0546ee914a6134e08f9518",
            "cfccc050630d4624bbb66257293aa229",
            "c9677ca469c94cea9c8c6486a9a4641b",
            "4164e365021b409bb1c9f95b080df93f",
            "5023e58f48a04067ade9ea893ef92bfd",
            "e110dcfc4da14a0b9b5314e7ff09a05d",
            "1b8f29050bf043d3bbff51bddb4c4c9a",
            "9607c7674cf347a0b8f2014039bce0a1",
            "6944dd6e0a314649808dad03b8aa5d90",
            "18362ffb0bc34762952334a94f1b70ce",
            "3447dd35b4304ea3930d6980494af1dd",
            "c4ac157710714ab38b8d8977e6648d20",
            "39597d7bbaa24ccab733270a3def3a05",
            "da96300b57714a40a8e280e11da4f34c",
            "9267dd0482db4128a5084bd8f95d9396",
            "9f2981d8fb1f4399b74f4a8a73ead389",
            "39bf9eef1eeb4f1ab31ec56ea8cfb87b",
            "65975bd62ef84924bdea213b5309b361"
          ]
        },
        "id": "lpFSEdrvys8z",
        "outputId": "93bbd125-1b71-42ce-9830-0a0c45505b07"
      },
      "outputs": [
        {
          "data": {
            "application/javascript": [
              "\n",
              "        window._wandbApiKey = new Promise((resolve, reject) => {\n",
              "            function loadScript(url) {\n",
              "            return new Promise(function(resolve, reject) {\n",
              "                let newScript = document.createElement(\"script\");\n",
              "                newScript.onerror = reject;\n",
              "                newScript.onload = resolve;\n",
              "                document.body.appendChild(newScript);\n",
              "                newScript.src = url;\n",
              "            });\n",
              "            }\n",
              "            loadScript(\"https://cdn.jsdelivr.net/npm/postmate/build/postmate.min.js\").then(() => {\n",
              "            const iframe = document.createElement('iframe')\n",
              "            iframe.style.cssText = \"width:0;height:0;border:none\"\n",
              "            document.body.appendChild(iframe)\n",
              "            const handshake = new Postmate({\n",
              "                container: iframe,\n",
              "                url: 'https://wandb.ai/authorize'\n",
              "            });\n",
              "            const timeout = setTimeout(() => reject(\"Couldn't auto authenticate\"), 5000)\n",
              "            handshake.then(function(child) {\n",
              "                child.on('authorize', data => {\n",
              "                    clearTimeout(timeout)\n",
              "                    resolve(data)\n",
              "                });\n",
              "            });\n",
              "            })\n",
              "        });\n",
              "    "
            ],
            "text/plain": [
              "<IPython.core.display.Javascript object>"
            ]
          },
          "metadata": {},
          "output_type": "display_data"
        },
        {
          "name": "stderr",
          "output_type": "stream",
          "text": [
            "\u001b[34m\u001b[1mwandb\u001b[0m: Appending key for api.wandb.ai to your netrc file: /root/.netrc\n"
          ]
        },
        {
          "data": {
            "text/html": [
              "Tracking run with wandb version 0.16.1"
            ],
            "text/plain": [
              "<IPython.core.display.HTML object>"
            ]
          },
          "metadata": {},
          "output_type": "display_data"
        },
        {
          "data": {
            "text/html": [
              "Run data is saved locally in <code>/content/wandb/run-20231225_233932-p4f3lgzi</code>"
            ],
            "text/plain": [
              "<IPython.core.display.HTML object>"
            ]
          },
          "metadata": {},
          "output_type": "display_data"
        },
        {
          "data": {
            "text/html": [
              "Syncing run <strong><a href='https://wandb.ai/squirrel-writes-her-phd/task1-pair_domains_v2/runs/p4f3lgzi' target=\"_blank\">loco_fixed_pairs_NRP_seed_3407_2023-12-25_23:38:34</a></strong> to <a href='https://wandb.ai/squirrel-writes-her-phd/task1-pair_domains_v2' target=\"_blank\">Weights & Biases</a> (<a href='https://wandb.me/run' target=\"_blank\">docs</a>)<br/>"
            ],
            "text/plain": [
              "<IPython.core.display.HTML object>"
            ]
          },
          "metadata": {},
          "output_type": "display_data"
        },
        {
          "data": {
            "text/html": [
              " View project at <a href='https://wandb.ai/squirrel-writes-her-phd/task1-pair_domains_v2' target=\"_blank\">https://wandb.ai/squirrel-writes-her-phd/task1-pair_domains_v2</a>"
            ],
            "text/plain": [
              "<IPython.core.display.HTML object>"
            ]
          },
          "metadata": {},
          "output_type": "display_data"
        },
        {
          "data": {
            "text/html": [
              " View run at <a href='https://wandb.ai/squirrel-writes-her-phd/task1-pair_domains_v2/runs/p4f3lgzi' target=\"_blank\">https://wandb.ai/squirrel-writes-her-phd/task1-pair_domains_v2/runs/p4f3lgzi</a>"
            ],
            "text/plain": [
              "<IPython.core.display.HTML object>"
            ]
          },
          "metadata": {},
          "output_type": "display_data"
        },
        {
          "data": {
            "application/vnd.jupyter.widget-view+json": {
              "model_id": "cd64c9e6b32a483d91aee82203b51533",
              "version_major": 2,
              "version_minor": 0
            },
            "text/plain": [
              "  0%|          | 0/38400 [00:00<?, ?it/s]"
            ]
          },
          "metadata": {},
          "output_type": "display_data"
        },
        {
          "data": {
            "application/vnd.jupyter.widget-view+json": {
              "model_id": "e1c5be623b89422e8a3b2964cfd00b26",
              "version_major": 2,
              "version_minor": 0
            },
            "text/plain": [
              "  0%|          | 0/38400 [00:00<?, ?it/s]"
            ]
          },
          "metadata": {},
          "output_type": "display_data"
        },
        {
          "data": {
            "application/vnd.jupyter.widget-view+json": {
              "model_id": "39eeaa76b32d46978dc58d3555e4d66c",
              "version_major": 2,
              "version_minor": 0
            },
            "text/plain": [
              "  0%|          | 0/6000 [00:00<?, ?it/s]"
            ]
          },
          "metadata": {},
          "output_type": "display_data"
        },
        {
          "data": {
            "application/vnd.jupyter.widget-view+json": {
              "model_id": "d1d162f25f054608981117886fbbb030",
              "version_major": 2,
              "version_minor": 0
            },
            "text/plain": [
              "  0%|          | 0/6000 [00:00<?, ?it/s]"
            ]
          },
          "metadata": {},
          "output_type": "display_data"
        },
        {
          "name": "stdout",
          "output_type": "stream",
          "text": [
            "nsteps= 4800\n"
          ]
        },
        {
          "data": {
            "application/vnd.jupyter.widget-view+json": {
              "model_id": "34c6847d39bd4b0dab2a22895dadd2c7",
              "version_major": 2,
              "version_minor": 0
            },
            "text/plain": [
              "config.json:   0%|          | 0.00/775 [00:00<?, ?B/s]"
            ]
          },
          "metadata": {},
          "output_type": "display_data"
        },
        {
          "data": {
            "application/vnd.jupyter.widget-view+json": {
              "model_id": "85139511499840aaaa0291aa9b259029",
              "version_major": 2,
              "version_minor": 0
            },
            "text/plain": [
              "model.safetensors:   0%|          | 0.00/31.4M [00:00<?, ?B/s]"
            ]
          },
          "metadata": {},
          "output_type": "display_data"
        },
        {
          "name": "stderr",
          "output_type": "stream",
          "text": [
            "Some weights of EsmModel were not initialized from the model checkpoint at facebook/esm2_t6_8M_UR50D and are newly initialized: ['esm.pooler.dense.weight', 'esm.pooler.dense.bias']\n",
            "You should probably TRAIN this model on a down-stream task to be able to use it for predictions and inference.\n"
          ]
        },
        {
          "data": {
            "application/vnd.jupyter.widget-view+json": {
              "model_id": "8cac7a919ab44c46b3f962f50420a2fa",
              "version_major": 2,
              "version_minor": 0
            },
            "text/plain": [
              "tokenizer_config.json:   0%|          | 0.00/95.0 [00:00<?, ?B/s]"
            ]
          },
          "metadata": {},
          "output_type": "display_data"
        },
        {
          "data": {
            "application/vnd.jupyter.widget-view+json": {
              "model_id": "6d946fa0cd0c46d293dd298b6dbc5d5e",
              "version_major": 2,
              "version_minor": 0
            },
            "text/plain": [
              "vocab.txt:   0%|          | 0.00/93.0 [00:00<?, ?B/s]"
            ]
          },
          "metadata": {},
          "output_type": "display_data"
        },
        {
          "data": {
            "application/vnd.jupyter.widget-view+json": {
              "model_id": "119094b7d3264e26b47e8b2cf7cdd7b9",
              "version_major": 2,
              "version_minor": 0
            },
            "text/plain": [
              "special_tokens_map.json:   0%|          | 0.00/125 [00:00<?, ?B/s]"
            ]
          },
          "metadata": {},
          "output_type": "display_data"
        },
        {
          "data": {
            "application/vnd.jupyter.widget-view+json": {
              "model_id": "53b7657569c24ac68974469ecf27823b",
              "version_major": 2,
              "version_minor": 0
            },
            "text/plain": [
              "Epoch:   0%|          | 0/20 [00:00<?, ?it/s]"
            ]
          },
          "metadata": {},
          "output_type": "display_data"
        },
        {
          "data": {
            "application/vnd.jupyter.widget-view+json": {
              "model_id": "d596cbc688cd4bd4a51afbf4916af60d",
              "version_major": 2,
              "version_minor": 0
            },
            "text/plain": [
              "Iteration:   0%|          | 0/2400 [00:00<?, ?it/s]"
            ]
          },
          "metadata": {},
          "output_type": "display_data"
        },
        {
          "data": {
            "application/vnd.jupyter.widget-view+json": {
              "model_id": "2a7885b4333146ca8f035e527e0935f0",
              "version_major": 2,
              "version_minor": 0
            },
            "text/plain": [
              "Batches:   0%|          | 0/3020 [00:00<?, ?it/s]"
            ]
          },
          "metadata": {},
          "output_type": "display_data"
        },
        {
          "data": {
            "application/vnd.jupyter.widget-view+json": {
              "model_id": "9db9a97469cb4da8a4753373928d879e",
              "version_major": 2,
              "version_minor": 0
            },
            "text/plain": [
              "Batches:   0%|          | 0/3020 [00:00<?, ?it/s]"
            ]
          },
          "metadata": {},
          "output_type": "display_data"
        },
        {
          "name": "stderr",
          "output_type": "stream",
          "text": [
            "/usr/local/lib/python3.10/dist-packages/scipy/stats/_stats_py.py:4781: ConstantInputWarning: An input array is constant; the correlation coefficient is not defined.\n",
            "  warnings.warn(stats.ConstantInputWarning(msg))\n",
            "/usr/local/lib/python3.10/dist-packages/scipy/stats/_stats_py.py:5445: ConstantInputWarning: An input array is constant; the correlation coefficient is not defined.\n",
            "  warnings.warn(stats.ConstantInputWarning(warn_msg))\n"
          ]
        },
        {
          "data": {
            "application/vnd.jupyter.widget-view+json": {
              "model_id": "9854bc4a346241cead5b33ef7c599c5e",
              "version_major": 2,
              "version_minor": 0
            },
            "text/plain": [
              "Batches:   0%|          | 0/3020 [00:00<?, ?it/s]"
            ]
          },
          "metadata": {},
          "output_type": "display_data"
        },
        {
          "data": {
            "application/vnd.jupyter.widget-view+json": {
              "model_id": "7df2e5f31c314b9893c8f2a32c08583f",
              "version_major": 2,
              "version_minor": 0
            },
            "text/plain": [
              "Batches:   0%|          | 0/3020 [00:00<?, ?it/s]"
            ]
          },
          "metadata": {},
          "output_type": "display_data"
        },
        {
          "name": "stderr",
          "output_type": "stream",
          "text": [
            "/usr/local/lib/python3.10/dist-packages/scipy/stats/_stats_py.py:4781: ConstantInputWarning: An input array is constant; the correlation coefficient is not defined.\n",
            "  warnings.warn(stats.ConstantInputWarning(msg))\n",
            "/usr/local/lib/python3.10/dist-packages/scipy/stats/_stats_py.py:5445: ConstantInputWarning: An input array is constant; the correlation coefficient is not defined.\n",
            "  warnings.warn(stats.ConstantInputWarning(warn_msg))\n"
          ]
        },
        {
          "data": {
            "application/vnd.jupyter.widget-view+json": {
              "model_id": "234545bda5624a38b3e3f09d01283857",
              "version_major": 2,
              "version_minor": 0
            },
            "text/plain": [
              "Batches:   0%|          | 0/3020 [00:00<?, ?it/s]"
            ]
          },
          "metadata": {},
          "output_type": "display_data"
        },
        {
          "data": {
            "application/vnd.jupyter.widget-view+json": {
              "model_id": "6e1a208dac1f454d8f1de8319c060ee0",
              "version_major": 2,
              "version_minor": 0
            },
            "text/plain": [
              "Batches:   0%|          | 0/3020 [00:00<?, ?it/s]"
            ]
          },
          "metadata": {},
          "output_type": "display_data"
        },
        {
          "name": "stderr",
          "output_type": "stream",
          "text": [
            "/usr/local/lib/python3.10/dist-packages/scipy/stats/_stats_py.py:4781: ConstantInputWarning: An input array is constant; the correlation coefficient is not defined.\n",
            "  warnings.warn(stats.ConstantInputWarning(msg))\n",
            "/usr/local/lib/python3.10/dist-packages/scipy/stats/_stats_py.py:5445: ConstantInputWarning: An input array is constant; the correlation coefficient is not defined.\n",
            "  warnings.warn(stats.ConstantInputWarning(warn_msg))\n"
          ]
        },
        {
          "data": {
            "application/vnd.jupyter.widget-view+json": {
              "model_id": "fd02ea35505341d98d94723185801a4c",
              "version_major": 2,
              "version_minor": 0
            },
            "text/plain": [
              "Iteration:   0%|          | 0/2400 [00:00<?, ?it/s]"
            ]
          },
          "metadata": {},
          "output_type": "display_data"
        },
        {
          "data": {
            "application/vnd.jupyter.widget-view+json": {
              "model_id": "8e547160ad934b25ba314000733d66d8",
              "version_major": 2,
              "version_minor": 0
            },
            "text/plain": [
              "Batches:   0%|          | 0/3020 [00:00<?, ?it/s]"
            ]
          },
          "metadata": {},
          "output_type": "display_data"
        },
        {
          "data": {
            "application/vnd.jupyter.widget-view+json": {
              "model_id": "c7e85afe48814874b8d9db27c07ea244",
              "version_major": 2,
              "version_minor": 0
            },
            "text/plain": [
              "Batches:   0%|          | 0/3020 [00:00<?, ?it/s]"
            ]
          },
          "metadata": {},
          "output_type": "display_data"
        },
        {
          "name": "stderr",
          "output_type": "stream",
          "text": [
            "/usr/local/lib/python3.10/dist-packages/scipy/stats/_stats_py.py:4781: ConstantInputWarning: An input array is constant; the correlation coefficient is not defined.\n",
            "  warnings.warn(stats.ConstantInputWarning(msg))\n",
            "/usr/local/lib/python3.10/dist-packages/scipy/stats/_stats_py.py:5445: ConstantInputWarning: An input array is constant; the correlation coefficient is not defined.\n",
            "  warnings.warn(stats.ConstantInputWarning(warn_msg))\n"
          ]
        },
        {
          "data": {
            "application/vnd.jupyter.widget-view+json": {
              "model_id": "b5a1e4e1e48642d5a241c38acfef85c6",
              "version_major": 2,
              "version_minor": 0
            },
            "text/plain": [
              "Batches:   0%|          | 0/3020 [00:00<?, ?it/s]"
            ]
          },
          "metadata": {},
          "output_type": "display_data"
        },
        {
          "data": {
            "application/vnd.jupyter.widget-view+json": {
              "model_id": "6c4947b980a34619ab413d85d47b6d2d",
              "version_major": 2,
              "version_minor": 0
            },
            "text/plain": [
              "Batches:   0%|          | 0/3020 [00:00<?, ?it/s]"
            ]
          },
          "metadata": {},
          "output_type": "display_data"
        },
        {
          "name": "stderr",
          "output_type": "stream",
          "text": [
            "/usr/local/lib/python3.10/dist-packages/scipy/stats/_stats_py.py:4781: ConstantInputWarning: An input array is constant; the correlation coefficient is not defined.\n",
            "  warnings.warn(stats.ConstantInputWarning(msg))\n",
            "/usr/local/lib/python3.10/dist-packages/scipy/stats/_stats_py.py:5445: ConstantInputWarning: An input array is constant; the correlation coefficient is not defined.\n",
            "  warnings.warn(stats.ConstantInputWarning(warn_msg))\n"
          ]
        },
        {
          "data": {
            "application/vnd.jupyter.widget-view+json": {
              "model_id": "62624eb87df84ab2bbf00d6260a50bf1",
              "version_major": 2,
              "version_minor": 0
            },
            "text/plain": [
              "Batches:   0%|          | 0/3020 [00:00<?, ?it/s]"
            ]
          },
          "metadata": {},
          "output_type": "display_data"
        },
        {
          "data": {
            "application/vnd.jupyter.widget-view+json": {
              "model_id": "cdb12b06aef647c0b74ceec13c2f1bb8",
              "version_major": 2,
              "version_minor": 0
            },
            "text/plain": [
              "Batches:   0%|          | 0/3020 [00:00<?, ?it/s]"
            ]
          },
          "metadata": {},
          "output_type": "display_data"
        },
        {
          "name": "stderr",
          "output_type": "stream",
          "text": [
            "/usr/local/lib/python3.10/dist-packages/scipy/stats/_stats_py.py:4781: ConstantInputWarning: An input array is constant; the correlation coefficient is not defined.\n",
            "  warnings.warn(stats.ConstantInputWarning(msg))\n",
            "/usr/local/lib/python3.10/dist-packages/scipy/stats/_stats_py.py:5445: ConstantInputWarning: An input array is constant; the correlation coefficient is not defined.\n",
            "  warnings.warn(stats.ConstantInputWarning(warn_msg))\n"
          ]
        },
        {
          "data": {
            "application/vnd.jupyter.widget-view+json": {
              "model_id": "81546849865049ce80baed316f48a51c",
              "version_major": 2,
              "version_minor": 0
            },
            "text/plain": [
              "Iteration:   0%|          | 0/2400 [00:00<?, ?it/s]"
            ]
          },
          "metadata": {},
          "output_type": "display_data"
        },
        {
          "data": {
            "application/vnd.jupyter.widget-view+json": {
              "model_id": "96cabd6f78ed44a9aac73e1cb4d00288",
              "version_major": 2,
              "version_minor": 0
            },
            "text/plain": [
              "Batches:   0%|          | 0/3020 [00:00<?, ?it/s]"
            ]
          },
          "metadata": {},
          "output_type": "display_data"
        },
        {
          "data": {
            "application/vnd.jupyter.widget-view+json": {
              "model_id": "7c32f92db20448fcb18c8d07189b43a9",
              "version_major": 2,
              "version_minor": 0
            },
            "text/plain": [
              "Batches:   0%|          | 0/3020 [00:00<?, ?it/s]"
            ]
          },
          "metadata": {},
          "output_type": "display_data"
        },
        {
          "name": "stderr",
          "output_type": "stream",
          "text": [
            "/usr/local/lib/python3.10/dist-packages/scipy/stats/_stats_py.py:4781: ConstantInputWarning: An input array is constant; the correlation coefficient is not defined.\n",
            "  warnings.warn(stats.ConstantInputWarning(msg))\n",
            "/usr/local/lib/python3.10/dist-packages/scipy/stats/_stats_py.py:5445: ConstantInputWarning: An input array is constant; the correlation coefficient is not defined.\n",
            "  warnings.warn(stats.ConstantInputWarning(warn_msg))\n"
          ]
        },
        {
          "data": {
            "application/vnd.jupyter.widget-view+json": {
              "model_id": "3f0b35138c29484c8ffab9cde7793737",
              "version_major": 2,
              "version_minor": 0
            },
            "text/plain": [
              "Batches:   0%|          | 0/3020 [00:00<?, ?it/s]"
            ]
          },
          "metadata": {},
          "output_type": "display_data"
        },
        {
          "data": {
            "application/vnd.jupyter.widget-view+json": {
              "model_id": "48c3b5c75e3b4070b923c59966983cfb",
              "version_major": 2,
              "version_minor": 0
            },
            "text/plain": [
              "Batches:   0%|          | 0/3020 [00:00<?, ?it/s]"
            ]
          },
          "metadata": {},
          "output_type": "display_data"
        },
        {
          "name": "stderr",
          "output_type": "stream",
          "text": [
            "/usr/local/lib/python3.10/dist-packages/scipy/stats/_stats_py.py:4781: ConstantInputWarning: An input array is constant; the correlation coefficient is not defined.\n",
            "  warnings.warn(stats.ConstantInputWarning(msg))\n",
            "/usr/local/lib/python3.10/dist-packages/scipy/stats/_stats_py.py:5445: ConstantInputWarning: An input array is constant; the correlation coefficient is not defined.\n",
            "  warnings.warn(stats.ConstantInputWarning(warn_msg))\n"
          ]
        },
        {
          "data": {
            "application/vnd.jupyter.widget-view+json": {
              "model_id": "bb8e0a37482b4395905f809ac2a64f9c",
              "version_major": 2,
              "version_minor": 0
            },
            "text/plain": [
              "Batches:   0%|          | 0/3020 [00:00<?, ?it/s]"
            ]
          },
          "metadata": {},
          "output_type": "display_data"
        },
        {
          "data": {
            "application/vnd.jupyter.widget-view+json": {
              "model_id": "fc15400d24274aac84a7f213e2a9e4de",
              "version_major": 2,
              "version_minor": 0
            },
            "text/plain": [
              "Batches:   0%|          | 0/3020 [00:00<?, ?it/s]"
            ]
          },
          "metadata": {},
          "output_type": "display_data"
        },
        {
          "name": "stderr",
          "output_type": "stream",
          "text": [
            "/usr/local/lib/python3.10/dist-packages/scipy/stats/_stats_py.py:4781: ConstantInputWarning: An input array is constant; the correlation coefficient is not defined.\n",
            "  warnings.warn(stats.ConstantInputWarning(msg))\n",
            "/usr/local/lib/python3.10/dist-packages/scipy/stats/_stats_py.py:5445: ConstantInputWarning: An input array is constant; the correlation coefficient is not defined.\n",
            "  warnings.warn(stats.ConstantInputWarning(warn_msg))\n"
          ]
        },
        {
          "data": {
            "application/vnd.jupyter.widget-view+json": {
              "model_id": "d79f1fae0bf648d4b00918d4ac19b7b4",
              "version_major": 2,
              "version_minor": 0
            },
            "text/plain": [
              "Iteration:   0%|          | 0/2400 [00:00<?, ?it/s]"
            ]
          },
          "metadata": {},
          "output_type": "display_data"
        },
        {
          "data": {
            "application/vnd.jupyter.widget-view+json": {
              "model_id": "9aece82f0bdc4af4b9f8f236b8ee43fe",
              "version_major": 2,
              "version_minor": 0
            },
            "text/plain": [
              "Batches:   0%|          | 0/3020 [00:00<?, ?it/s]"
            ]
          },
          "metadata": {},
          "output_type": "display_data"
        },
        {
          "data": {
            "application/vnd.jupyter.widget-view+json": {
              "model_id": "03a49c3ec2ef4e11bc8506489b01968d",
              "version_major": 2,
              "version_minor": 0
            },
            "text/plain": [
              "Batches:   0%|          | 0/3020 [00:00<?, ?it/s]"
            ]
          },
          "metadata": {},
          "output_type": "display_data"
        },
        {
          "name": "stderr",
          "output_type": "stream",
          "text": [
            "/usr/local/lib/python3.10/dist-packages/scipy/stats/_stats_py.py:4781: ConstantInputWarning: An input array is constant; the correlation coefficient is not defined.\n",
            "  warnings.warn(stats.ConstantInputWarning(msg))\n",
            "/usr/local/lib/python3.10/dist-packages/scipy/stats/_stats_py.py:5445: ConstantInputWarning: An input array is constant; the correlation coefficient is not defined.\n",
            "  warnings.warn(stats.ConstantInputWarning(warn_msg))\n"
          ]
        },
        {
          "data": {
            "application/vnd.jupyter.widget-view+json": {
              "model_id": "19cf273e35a748cba155204b28627d99",
              "version_major": 2,
              "version_minor": 0
            },
            "text/plain": [
              "Batches:   0%|          | 0/3020 [00:00<?, ?it/s]"
            ]
          },
          "metadata": {},
          "output_type": "display_data"
        },
        {
          "data": {
            "application/vnd.jupyter.widget-view+json": {
              "model_id": "337915a4bd6b48d19e8c82a8a38b3f31",
              "version_major": 2,
              "version_minor": 0
            },
            "text/plain": [
              "Batches:   0%|          | 0/3020 [00:00<?, ?it/s]"
            ]
          },
          "metadata": {},
          "output_type": "display_data"
        },
        {
          "name": "stderr",
          "output_type": "stream",
          "text": [
            "/usr/local/lib/python3.10/dist-packages/scipy/stats/_stats_py.py:4781: ConstantInputWarning: An input array is constant; the correlation coefficient is not defined.\n",
            "  warnings.warn(stats.ConstantInputWarning(msg))\n",
            "/usr/local/lib/python3.10/dist-packages/scipy/stats/_stats_py.py:5445: ConstantInputWarning: An input array is constant; the correlation coefficient is not defined.\n",
            "  warnings.warn(stats.ConstantInputWarning(warn_msg))\n"
          ]
        },
        {
          "data": {
            "application/vnd.jupyter.widget-view+json": {
              "model_id": "dcc9551011f647418f82b60ec3a34f1f",
              "version_major": 2,
              "version_minor": 0
            },
            "text/plain": [
              "Batches:   0%|          | 0/3020 [00:00<?, ?it/s]"
            ]
          },
          "metadata": {},
          "output_type": "display_data"
        },
        {
          "data": {
            "application/vnd.jupyter.widget-view+json": {
              "model_id": "1e77102349c64d8fa1816580df14f88c",
              "version_major": 2,
              "version_minor": 0
            },
            "text/plain": [
              "Batches:   0%|          | 0/3020 [00:00<?, ?it/s]"
            ]
          },
          "metadata": {},
          "output_type": "display_data"
        },
        {
          "name": "stderr",
          "output_type": "stream",
          "text": [
            "/usr/local/lib/python3.10/dist-packages/scipy/stats/_stats_py.py:4781: ConstantInputWarning: An input array is constant; the correlation coefficient is not defined.\n",
            "  warnings.warn(stats.ConstantInputWarning(msg))\n",
            "/usr/local/lib/python3.10/dist-packages/scipy/stats/_stats_py.py:5445: ConstantInputWarning: An input array is constant; the correlation coefficient is not defined.\n",
            "  warnings.warn(stats.ConstantInputWarning(warn_msg))\n"
          ]
        },
        {
          "data": {
            "application/vnd.jupyter.widget-view+json": {
              "model_id": "2113c24624c8433d9ef15f6e8ea4cf5b",
              "version_major": 2,
              "version_minor": 0
            },
            "text/plain": [
              "Iteration:   0%|          | 0/2400 [00:00<?, ?it/s]"
            ]
          },
          "metadata": {},
          "output_type": "display_data"
        },
        {
          "data": {
            "application/vnd.jupyter.widget-view+json": {
              "model_id": "5a8acbc0eab6425fb05317b2efa92d1c",
              "version_major": 2,
              "version_minor": 0
            },
            "text/plain": [
              "Batches:   0%|          | 0/3020 [00:00<?, ?it/s]"
            ]
          },
          "metadata": {},
          "output_type": "display_data"
        },
        {
          "data": {
            "application/vnd.jupyter.widget-view+json": {
              "model_id": "d396ceddec89420492652c156c1f460a",
              "version_major": 2,
              "version_minor": 0
            },
            "text/plain": [
              "Batches:   0%|          | 0/3020 [00:00<?, ?it/s]"
            ]
          },
          "metadata": {},
          "output_type": "display_data"
        },
        {
          "name": "stderr",
          "output_type": "stream",
          "text": [
            "/usr/local/lib/python3.10/dist-packages/scipy/stats/_stats_py.py:4781: ConstantInputWarning: An input array is constant; the correlation coefficient is not defined.\n",
            "  warnings.warn(stats.ConstantInputWarning(msg))\n",
            "/usr/local/lib/python3.10/dist-packages/scipy/stats/_stats_py.py:5445: ConstantInputWarning: An input array is constant; the correlation coefficient is not defined.\n",
            "  warnings.warn(stats.ConstantInputWarning(warn_msg))\n"
          ]
        },
        {
          "data": {
            "application/vnd.jupyter.widget-view+json": {
              "model_id": "6b0d28337b694241800fdecdeef506ae",
              "version_major": 2,
              "version_minor": 0
            },
            "text/plain": [
              "Batches:   0%|          | 0/3020 [00:00<?, ?it/s]"
            ]
          },
          "metadata": {},
          "output_type": "display_data"
        },
        {
          "data": {
            "application/vnd.jupyter.widget-view+json": {
              "model_id": "f87fb419c1264004aacbc98b68327f51",
              "version_major": 2,
              "version_minor": 0
            },
            "text/plain": [
              "Batches:   0%|          | 0/3020 [00:00<?, ?it/s]"
            ]
          },
          "metadata": {},
          "output_type": "display_data"
        },
        {
          "name": "stderr",
          "output_type": "stream",
          "text": [
            "/usr/local/lib/python3.10/dist-packages/scipy/stats/_stats_py.py:4781: ConstantInputWarning: An input array is constant; the correlation coefficient is not defined.\n",
            "  warnings.warn(stats.ConstantInputWarning(msg))\n",
            "/usr/local/lib/python3.10/dist-packages/scipy/stats/_stats_py.py:5445: ConstantInputWarning: An input array is constant; the correlation coefficient is not defined.\n",
            "  warnings.warn(stats.ConstantInputWarning(warn_msg))\n"
          ]
        },
        {
          "data": {
            "application/vnd.jupyter.widget-view+json": {
              "model_id": "83b39e7b92a54b27823d22c90cf1502f",
              "version_major": 2,
              "version_minor": 0
            },
            "text/plain": [
              "Batches:   0%|          | 0/3020 [00:00<?, ?it/s]"
            ]
          },
          "metadata": {},
          "output_type": "display_data"
        },
        {
          "data": {
            "application/vnd.jupyter.widget-view+json": {
              "model_id": "4d5a6df2e30843fe93625a330f44509d",
              "version_major": 2,
              "version_minor": 0
            },
            "text/plain": [
              "Batches:   0%|          | 0/3020 [00:00<?, ?it/s]"
            ]
          },
          "metadata": {},
          "output_type": "display_data"
        },
        {
          "name": "stderr",
          "output_type": "stream",
          "text": [
            "/usr/local/lib/python3.10/dist-packages/scipy/stats/_stats_py.py:4781: ConstantInputWarning: An input array is constant; the correlation coefficient is not defined.\n",
            "  warnings.warn(stats.ConstantInputWarning(msg))\n",
            "/usr/local/lib/python3.10/dist-packages/scipy/stats/_stats_py.py:5445: ConstantInputWarning: An input array is constant; the correlation coefficient is not defined.\n",
            "  warnings.warn(stats.ConstantInputWarning(warn_msg))\n"
          ]
        },
        {
          "data": {
            "application/vnd.jupyter.widget-view+json": {
              "model_id": "7eb2e119c9f4476483b65e2c1ef4dc64",
              "version_major": 2,
              "version_minor": 0
            },
            "text/plain": [
              "Iteration:   0%|          | 0/2400 [00:00<?, ?it/s]"
            ]
          },
          "metadata": {},
          "output_type": "display_data"
        },
        {
          "data": {
            "application/vnd.jupyter.widget-view+json": {
              "model_id": "53c78e9671304e8c970e365552f0049c",
              "version_major": 2,
              "version_minor": 0
            },
            "text/plain": [
              "Batches:   0%|          | 0/3020 [00:00<?, ?it/s]"
            ]
          },
          "metadata": {},
          "output_type": "display_data"
        },
        {
          "data": {
            "application/vnd.jupyter.widget-view+json": {
              "model_id": "5e7f5308a6074d80b9e78afef0fa73ca",
              "version_major": 2,
              "version_minor": 0
            },
            "text/plain": [
              "Batches:   0%|          | 0/3020 [00:00<?, ?it/s]"
            ]
          },
          "metadata": {},
          "output_type": "display_data"
        },
        {
          "name": "stderr",
          "output_type": "stream",
          "text": [
            "/usr/local/lib/python3.10/dist-packages/scipy/stats/_stats_py.py:4781: ConstantInputWarning: An input array is constant; the correlation coefficient is not defined.\n",
            "  warnings.warn(stats.ConstantInputWarning(msg))\n",
            "/usr/local/lib/python3.10/dist-packages/scipy/stats/_stats_py.py:5445: ConstantInputWarning: An input array is constant; the correlation coefficient is not defined.\n",
            "  warnings.warn(stats.ConstantInputWarning(warn_msg))\n"
          ]
        },
        {
          "data": {
            "application/vnd.jupyter.widget-view+json": {
              "model_id": "5d6de33a4c01417cbb1d930e27cb412f",
              "version_major": 2,
              "version_minor": 0
            },
            "text/plain": [
              "Batches:   0%|          | 0/3020 [00:00<?, ?it/s]"
            ]
          },
          "metadata": {},
          "output_type": "display_data"
        },
        {
          "data": {
            "application/vnd.jupyter.widget-view+json": {
              "model_id": "183fb2368f94497d8aeaa72b2e83aa4b",
              "version_major": 2,
              "version_minor": 0
            },
            "text/plain": [
              "Batches:   0%|          | 0/3020 [00:00<?, ?it/s]"
            ]
          },
          "metadata": {},
          "output_type": "display_data"
        },
        {
          "name": "stderr",
          "output_type": "stream",
          "text": [
            "/usr/local/lib/python3.10/dist-packages/scipy/stats/_stats_py.py:4781: ConstantInputWarning: An input array is constant; the correlation coefficient is not defined.\n",
            "  warnings.warn(stats.ConstantInputWarning(msg))\n",
            "/usr/local/lib/python3.10/dist-packages/scipy/stats/_stats_py.py:5445: ConstantInputWarning: An input array is constant; the correlation coefficient is not defined.\n",
            "  warnings.warn(stats.ConstantInputWarning(warn_msg))\n"
          ]
        },
        {
          "data": {
            "application/vnd.jupyter.widget-view+json": {
              "model_id": "2985e0bdb7594b6d8c49d8ca16aaaa95",
              "version_major": 2,
              "version_minor": 0
            },
            "text/plain": [
              "Batches:   0%|          | 0/3020 [00:00<?, ?it/s]"
            ]
          },
          "metadata": {},
          "output_type": "display_data"
        },
        {
          "data": {
            "application/vnd.jupyter.widget-view+json": {
              "model_id": "7737ebd5e1a64c1e95d398b1dab9b270",
              "version_major": 2,
              "version_minor": 0
            },
            "text/plain": [
              "Batches:   0%|          | 0/3020 [00:00<?, ?it/s]"
            ]
          },
          "metadata": {},
          "output_type": "display_data"
        },
        {
          "name": "stderr",
          "output_type": "stream",
          "text": [
            "/usr/local/lib/python3.10/dist-packages/scipy/stats/_stats_py.py:4781: ConstantInputWarning: An input array is constant; the correlation coefficient is not defined.\n",
            "  warnings.warn(stats.ConstantInputWarning(msg))\n",
            "/usr/local/lib/python3.10/dist-packages/scipy/stats/_stats_py.py:5445: ConstantInputWarning: An input array is constant; the correlation coefficient is not defined.\n",
            "  warnings.warn(stats.ConstantInputWarning(warn_msg))\n"
          ]
        },
        {
          "data": {
            "application/vnd.jupyter.widget-view+json": {
              "model_id": "4a283579354346eba7c9f62f15503413",
              "version_major": 2,
              "version_minor": 0
            },
            "text/plain": [
              "Iteration:   0%|          | 0/2400 [00:00<?, ?it/s]"
            ]
          },
          "metadata": {},
          "output_type": "display_data"
        },
        {
          "data": {
            "application/vnd.jupyter.widget-view+json": {
              "model_id": "a781dd40358249d79c0c1fb2d75f24b6",
              "version_major": 2,
              "version_minor": 0
            },
            "text/plain": [
              "Batches:   0%|          | 0/3020 [00:00<?, ?it/s]"
            ]
          },
          "metadata": {},
          "output_type": "display_data"
        },
        {
          "data": {
            "application/vnd.jupyter.widget-view+json": {
              "model_id": "532dbbe9383348279f8cc747c3831c6d",
              "version_major": 2,
              "version_minor": 0
            },
            "text/plain": [
              "Batches:   0%|          | 0/3020 [00:00<?, ?it/s]"
            ]
          },
          "metadata": {},
          "output_type": "display_data"
        },
        {
          "name": "stderr",
          "output_type": "stream",
          "text": [
            "/usr/local/lib/python3.10/dist-packages/scipy/stats/_stats_py.py:4781: ConstantInputWarning: An input array is constant; the correlation coefficient is not defined.\n",
            "  warnings.warn(stats.ConstantInputWarning(msg))\n",
            "/usr/local/lib/python3.10/dist-packages/scipy/stats/_stats_py.py:5445: ConstantInputWarning: An input array is constant; the correlation coefficient is not defined.\n",
            "  warnings.warn(stats.ConstantInputWarning(warn_msg))\n"
          ]
        },
        {
          "data": {
            "application/vnd.jupyter.widget-view+json": {
              "model_id": "adf92383c45c4d80b179bcd912bc4582",
              "version_major": 2,
              "version_minor": 0
            },
            "text/plain": [
              "Batches:   0%|          | 0/3020 [00:00<?, ?it/s]"
            ]
          },
          "metadata": {},
          "output_type": "display_data"
        },
        {
          "data": {
            "application/vnd.jupyter.widget-view+json": {
              "model_id": "b4b5f5acb5e243029ebd34c9d183e647",
              "version_major": 2,
              "version_minor": 0
            },
            "text/plain": [
              "Batches:   0%|          | 0/3020 [00:00<?, ?it/s]"
            ]
          },
          "metadata": {},
          "output_type": "display_data"
        },
        {
          "name": "stderr",
          "output_type": "stream",
          "text": [
            "/usr/local/lib/python3.10/dist-packages/scipy/stats/_stats_py.py:4781: ConstantInputWarning: An input array is constant; the correlation coefficient is not defined.\n",
            "  warnings.warn(stats.ConstantInputWarning(msg))\n",
            "/usr/local/lib/python3.10/dist-packages/scipy/stats/_stats_py.py:5445: ConstantInputWarning: An input array is constant; the correlation coefficient is not defined.\n",
            "  warnings.warn(stats.ConstantInputWarning(warn_msg))\n"
          ]
        },
        {
          "data": {
            "application/vnd.jupyter.widget-view+json": {
              "model_id": "3b2b72a0c9c845e7a14199de821b78e5",
              "version_major": 2,
              "version_minor": 0
            },
            "text/plain": [
              "Batches:   0%|          | 0/3020 [00:00<?, ?it/s]"
            ]
          },
          "metadata": {},
          "output_type": "display_data"
        },
        {
          "data": {
            "application/vnd.jupyter.widget-view+json": {
              "model_id": "fc10a30123064d52ad7244e31e5615c3",
              "version_major": 2,
              "version_minor": 0
            },
            "text/plain": [
              "Batches:   0%|          | 0/3020 [00:00<?, ?it/s]"
            ]
          },
          "metadata": {},
          "output_type": "display_data"
        },
        {
          "name": "stderr",
          "output_type": "stream",
          "text": [
            "/usr/local/lib/python3.10/dist-packages/scipy/stats/_stats_py.py:4781: ConstantInputWarning: An input array is constant; the correlation coefficient is not defined.\n",
            "  warnings.warn(stats.ConstantInputWarning(msg))\n",
            "/usr/local/lib/python3.10/dist-packages/scipy/stats/_stats_py.py:5445: ConstantInputWarning: An input array is constant; the correlation coefficient is not defined.\n",
            "  warnings.warn(stats.ConstantInputWarning(warn_msg))\n"
          ]
        },
        {
          "data": {
            "application/vnd.jupyter.widget-view+json": {
              "model_id": "19f1702f2ddf4207a7a7ff1b334f9b22",
              "version_major": 2,
              "version_minor": 0
            },
            "text/plain": [
              "Iteration:   0%|          | 0/2400 [00:00<?, ?it/s]"
            ]
          },
          "metadata": {},
          "output_type": "display_data"
        },
        {
          "data": {
            "application/vnd.jupyter.widget-view+json": {
              "model_id": "1adcb3b36a6d42c0bfd224666728bd24",
              "version_major": 2,
              "version_minor": 0
            },
            "text/plain": [
              "Batches:   0%|          | 0/3020 [00:00<?, ?it/s]"
            ]
          },
          "metadata": {},
          "output_type": "display_data"
        },
        {
          "data": {
            "application/vnd.jupyter.widget-view+json": {
              "model_id": "5be81e4c2d8442f1b1c5d03577548fe3",
              "version_major": 2,
              "version_minor": 0
            },
            "text/plain": [
              "Batches:   0%|          | 0/3020 [00:00<?, ?it/s]"
            ]
          },
          "metadata": {},
          "output_type": "display_data"
        },
        {
          "name": "stderr",
          "output_type": "stream",
          "text": [
            "/usr/local/lib/python3.10/dist-packages/scipy/stats/_stats_py.py:4781: ConstantInputWarning: An input array is constant; the correlation coefficient is not defined.\n",
            "  warnings.warn(stats.ConstantInputWarning(msg))\n",
            "/usr/local/lib/python3.10/dist-packages/scipy/stats/_stats_py.py:5445: ConstantInputWarning: An input array is constant; the correlation coefficient is not defined.\n",
            "  warnings.warn(stats.ConstantInputWarning(warn_msg))\n"
          ]
        },
        {
          "data": {
            "application/vnd.jupyter.widget-view+json": {
              "model_id": "0d56e38c2bcf43abb4e8d5e9742400c9",
              "version_major": 2,
              "version_minor": 0
            },
            "text/plain": [
              "Batches:   0%|          | 0/3020 [00:00<?, ?it/s]"
            ]
          },
          "metadata": {},
          "output_type": "display_data"
        },
        {
          "data": {
            "application/vnd.jupyter.widget-view+json": {
              "model_id": "ee8a753f792e42c1804c676c84a2bd87",
              "version_major": 2,
              "version_minor": 0
            },
            "text/plain": [
              "Batches:   0%|          | 0/3020 [00:00<?, ?it/s]"
            ]
          },
          "metadata": {},
          "output_type": "display_data"
        },
        {
          "name": "stderr",
          "output_type": "stream",
          "text": [
            "/usr/local/lib/python3.10/dist-packages/scipy/stats/_stats_py.py:4781: ConstantInputWarning: An input array is constant; the correlation coefficient is not defined.\n",
            "  warnings.warn(stats.ConstantInputWarning(msg))\n",
            "/usr/local/lib/python3.10/dist-packages/scipy/stats/_stats_py.py:5445: ConstantInputWarning: An input array is constant; the correlation coefficient is not defined.\n",
            "  warnings.warn(stats.ConstantInputWarning(warn_msg))\n"
          ]
        },
        {
          "data": {
            "application/vnd.jupyter.widget-view+json": {
              "model_id": "26065ee421594e0ea98bca90759465a0",
              "version_major": 2,
              "version_minor": 0
            },
            "text/plain": [
              "Batches:   0%|          | 0/3020 [00:00<?, ?it/s]"
            ]
          },
          "metadata": {},
          "output_type": "display_data"
        },
        {
          "data": {
            "application/vnd.jupyter.widget-view+json": {
              "model_id": "4fc73c54afe047158ddb919f6d37614f",
              "version_major": 2,
              "version_minor": 0
            },
            "text/plain": [
              "Batches:   0%|          | 0/3020 [00:00<?, ?it/s]"
            ]
          },
          "metadata": {},
          "output_type": "display_data"
        },
        {
          "name": "stderr",
          "output_type": "stream",
          "text": [
            "/usr/local/lib/python3.10/dist-packages/scipy/stats/_stats_py.py:4781: ConstantInputWarning: An input array is constant; the correlation coefficient is not defined.\n",
            "  warnings.warn(stats.ConstantInputWarning(msg))\n",
            "/usr/local/lib/python3.10/dist-packages/scipy/stats/_stats_py.py:5445: ConstantInputWarning: An input array is constant; the correlation coefficient is not defined.\n",
            "  warnings.warn(stats.ConstantInputWarning(warn_msg))\n"
          ]
        },
        {
          "data": {
            "application/vnd.jupyter.widget-view+json": {
              "model_id": "743228b04b8542fb9aaa69d3350b03a5",
              "version_major": 2,
              "version_minor": 0
            },
            "text/plain": [
              "Iteration:   0%|          | 0/2400 [00:00<?, ?it/s]"
            ]
          },
          "metadata": {},
          "output_type": "display_data"
        },
        {
          "data": {
            "application/vnd.jupyter.widget-view+json": {
              "model_id": "2a541b075e2f4821b3cde25bef153983",
              "version_major": 2,
              "version_minor": 0
            },
            "text/plain": [
              "Batches:   0%|          | 0/3020 [00:00<?, ?it/s]"
            ]
          },
          "metadata": {},
          "output_type": "display_data"
        },
        {
          "data": {
            "application/vnd.jupyter.widget-view+json": {
              "model_id": "661e121744944762909561707dd32df6",
              "version_major": 2,
              "version_minor": 0
            },
            "text/plain": [
              "Batches:   0%|          | 0/3020 [00:00<?, ?it/s]"
            ]
          },
          "metadata": {},
          "output_type": "display_data"
        },
        {
          "name": "stderr",
          "output_type": "stream",
          "text": [
            "/usr/local/lib/python3.10/dist-packages/scipy/stats/_stats_py.py:4781: ConstantInputWarning: An input array is constant; the correlation coefficient is not defined.\n",
            "  warnings.warn(stats.ConstantInputWarning(msg))\n",
            "/usr/local/lib/python3.10/dist-packages/scipy/stats/_stats_py.py:5445: ConstantInputWarning: An input array is constant; the correlation coefficient is not defined.\n",
            "  warnings.warn(stats.ConstantInputWarning(warn_msg))\n"
          ]
        },
        {
          "data": {
            "application/vnd.jupyter.widget-view+json": {
              "model_id": "a49f3061def84938ba16f24a2c74dbd2",
              "version_major": 2,
              "version_minor": 0
            },
            "text/plain": [
              "Batches:   0%|          | 0/3020 [00:00<?, ?it/s]"
            ]
          },
          "metadata": {},
          "output_type": "display_data"
        },
        {
          "data": {
            "application/vnd.jupyter.widget-view+json": {
              "model_id": "f5a56feb8dd443318b3f4c690c5c16ac",
              "version_major": 2,
              "version_minor": 0
            },
            "text/plain": [
              "Batches:   0%|          | 0/3020 [00:00<?, ?it/s]"
            ]
          },
          "metadata": {},
          "output_type": "display_data"
        },
        {
          "name": "stderr",
          "output_type": "stream",
          "text": [
            "/usr/local/lib/python3.10/dist-packages/scipy/stats/_stats_py.py:4781: ConstantInputWarning: An input array is constant; the correlation coefficient is not defined.\n",
            "  warnings.warn(stats.ConstantInputWarning(msg))\n",
            "/usr/local/lib/python3.10/dist-packages/scipy/stats/_stats_py.py:5445: ConstantInputWarning: An input array is constant; the correlation coefficient is not defined.\n",
            "  warnings.warn(stats.ConstantInputWarning(warn_msg))\n"
          ]
        },
        {
          "data": {
            "application/vnd.jupyter.widget-view+json": {
              "model_id": "b7e60020b3d04e2b8fdd0210a3fbb41d",
              "version_major": 2,
              "version_minor": 0
            },
            "text/plain": [
              "Batches:   0%|          | 0/3020 [00:00<?, ?it/s]"
            ]
          },
          "metadata": {},
          "output_type": "display_data"
        },
        {
          "data": {
            "application/vnd.jupyter.widget-view+json": {
              "model_id": "795a6c74f7cd42f5b1f021ed5b640960",
              "version_major": 2,
              "version_minor": 0
            },
            "text/plain": [
              "Batches:   0%|          | 0/3020 [00:00<?, ?it/s]"
            ]
          },
          "metadata": {},
          "output_type": "display_data"
        },
        {
          "name": "stderr",
          "output_type": "stream",
          "text": [
            "/usr/local/lib/python3.10/dist-packages/scipy/stats/_stats_py.py:4781: ConstantInputWarning: An input array is constant; the correlation coefficient is not defined.\n",
            "  warnings.warn(stats.ConstantInputWarning(msg))\n",
            "/usr/local/lib/python3.10/dist-packages/scipy/stats/_stats_py.py:5445: ConstantInputWarning: An input array is constant; the correlation coefficient is not defined.\n",
            "  warnings.warn(stats.ConstantInputWarning(warn_msg))\n"
          ]
        },
        {
          "data": {
            "application/vnd.jupyter.widget-view+json": {
              "model_id": "7990fa9bffe04577b471ecbf4ab58d81",
              "version_major": 2,
              "version_minor": 0
            },
            "text/plain": [
              "Iteration:   0%|          | 0/2400 [00:00<?, ?it/s]"
            ]
          },
          "metadata": {},
          "output_type": "display_data"
        },
        {
          "data": {
            "application/vnd.jupyter.widget-view+json": {
              "model_id": "b61de30c211e4726a70f038677960d48",
              "version_major": 2,
              "version_minor": 0
            },
            "text/plain": [
              "Batches:   0%|          | 0/3020 [00:00<?, ?it/s]"
            ]
          },
          "metadata": {},
          "output_type": "display_data"
        },
        {
          "data": {
            "application/vnd.jupyter.widget-view+json": {
              "model_id": "a68d423af2244d3d94e58d43502c7edc",
              "version_major": 2,
              "version_minor": 0
            },
            "text/plain": [
              "Batches:   0%|          | 0/3020 [00:00<?, ?it/s]"
            ]
          },
          "metadata": {},
          "output_type": "display_data"
        },
        {
          "name": "stderr",
          "output_type": "stream",
          "text": [
            "/usr/local/lib/python3.10/dist-packages/scipy/stats/_stats_py.py:4781: ConstantInputWarning: An input array is constant; the correlation coefficient is not defined.\n",
            "  warnings.warn(stats.ConstantInputWarning(msg))\n",
            "/usr/local/lib/python3.10/dist-packages/scipy/stats/_stats_py.py:5445: ConstantInputWarning: An input array is constant; the correlation coefficient is not defined.\n",
            "  warnings.warn(stats.ConstantInputWarning(warn_msg))\n"
          ]
        },
        {
          "data": {
            "application/vnd.jupyter.widget-view+json": {
              "model_id": "e23718424e30435496fb0a89d6e47f44",
              "version_major": 2,
              "version_minor": 0
            },
            "text/plain": [
              "Batches:   0%|          | 0/3020 [00:00<?, ?it/s]"
            ]
          },
          "metadata": {},
          "output_type": "display_data"
        },
        {
          "data": {
            "application/vnd.jupyter.widget-view+json": {
              "model_id": "b438f391c05a4de3a6c6fc495419496d",
              "version_major": 2,
              "version_minor": 0
            },
            "text/plain": [
              "Batches:   0%|          | 0/3020 [00:00<?, ?it/s]"
            ]
          },
          "metadata": {},
          "output_type": "display_data"
        },
        {
          "name": "stderr",
          "output_type": "stream",
          "text": [
            "/usr/local/lib/python3.10/dist-packages/scipy/stats/_stats_py.py:4781: ConstantInputWarning: An input array is constant; the correlation coefficient is not defined.\n",
            "  warnings.warn(stats.ConstantInputWarning(msg))\n",
            "/usr/local/lib/python3.10/dist-packages/scipy/stats/_stats_py.py:5445: ConstantInputWarning: An input array is constant; the correlation coefficient is not defined.\n",
            "  warnings.warn(stats.ConstantInputWarning(warn_msg))\n"
          ]
        },
        {
          "data": {
            "application/vnd.jupyter.widget-view+json": {
              "model_id": "a47782663d4c4258bd2d5e127eb221bd",
              "version_major": 2,
              "version_minor": 0
            },
            "text/plain": [
              "Batches:   0%|          | 0/3020 [00:00<?, ?it/s]"
            ]
          },
          "metadata": {},
          "output_type": "display_data"
        },
        {
          "data": {
            "application/vnd.jupyter.widget-view+json": {
              "model_id": "b09923f231f14b0780889e00cd4f4d95",
              "version_major": 2,
              "version_minor": 0
            },
            "text/plain": [
              "Batches:   0%|          | 0/3020 [00:00<?, ?it/s]"
            ]
          },
          "metadata": {},
          "output_type": "display_data"
        },
        {
          "name": "stderr",
          "output_type": "stream",
          "text": [
            "/usr/local/lib/python3.10/dist-packages/scipy/stats/_stats_py.py:4781: ConstantInputWarning: An input array is constant; the correlation coefficient is not defined.\n",
            "  warnings.warn(stats.ConstantInputWarning(msg))\n",
            "/usr/local/lib/python3.10/dist-packages/scipy/stats/_stats_py.py:5445: ConstantInputWarning: An input array is constant; the correlation coefficient is not defined.\n",
            "  warnings.warn(stats.ConstantInputWarning(warn_msg))\n"
          ]
        },
        {
          "data": {
            "application/vnd.jupyter.widget-view+json": {
              "model_id": "0c0e7a5a6723412cbb8cd04ea1818f37",
              "version_major": 2,
              "version_minor": 0
            },
            "text/plain": [
              "Iteration:   0%|          | 0/2400 [00:00<?, ?it/s]"
            ]
          },
          "metadata": {},
          "output_type": "display_data"
        },
        {
          "data": {
            "application/vnd.jupyter.widget-view+json": {
              "model_id": "6fb3b0c4da794fcdb5608b75f1708ac8",
              "version_major": 2,
              "version_minor": 0
            },
            "text/plain": [
              "Batches:   0%|          | 0/3020 [00:00<?, ?it/s]"
            ]
          },
          "metadata": {},
          "output_type": "display_data"
        },
        {
          "data": {
            "application/vnd.jupyter.widget-view+json": {
              "model_id": "3b1ef357b39441248cfa9a9b05121bc3",
              "version_major": 2,
              "version_minor": 0
            },
            "text/plain": [
              "Batches:   0%|          | 0/3020 [00:00<?, ?it/s]"
            ]
          },
          "metadata": {},
          "output_type": "display_data"
        },
        {
          "name": "stderr",
          "output_type": "stream",
          "text": [
            "/usr/local/lib/python3.10/dist-packages/scipy/stats/_stats_py.py:4781: ConstantInputWarning: An input array is constant; the correlation coefficient is not defined.\n",
            "  warnings.warn(stats.ConstantInputWarning(msg))\n",
            "/usr/local/lib/python3.10/dist-packages/scipy/stats/_stats_py.py:5445: ConstantInputWarning: An input array is constant; the correlation coefficient is not defined.\n",
            "  warnings.warn(stats.ConstantInputWarning(warn_msg))\n"
          ]
        },
        {
          "data": {
            "application/vnd.jupyter.widget-view+json": {
              "model_id": "d69736eb00d646a88984b489c1bc1814",
              "version_major": 2,
              "version_minor": 0
            },
            "text/plain": [
              "Batches:   0%|          | 0/3020 [00:00<?, ?it/s]"
            ]
          },
          "metadata": {},
          "output_type": "display_data"
        },
        {
          "data": {
            "application/vnd.jupyter.widget-view+json": {
              "model_id": "3b9b5e94e1a1448591c76ff0a7722d56",
              "version_major": 2,
              "version_minor": 0
            },
            "text/plain": [
              "Batches:   0%|          | 0/3020 [00:00<?, ?it/s]"
            ]
          },
          "metadata": {},
          "output_type": "display_data"
        },
        {
          "name": "stderr",
          "output_type": "stream",
          "text": [
            "/usr/local/lib/python3.10/dist-packages/scipy/stats/_stats_py.py:4781: ConstantInputWarning: An input array is constant; the correlation coefficient is not defined.\n",
            "  warnings.warn(stats.ConstantInputWarning(msg))\n",
            "/usr/local/lib/python3.10/dist-packages/scipy/stats/_stats_py.py:5445: ConstantInputWarning: An input array is constant; the correlation coefficient is not defined.\n",
            "  warnings.warn(stats.ConstantInputWarning(warn_msg))\n"
          ]
        },
        {
          "data": {
            "application/vnd.jupyter.widget-view+json": {
              "model_id": "fed4a552bdbb4bb993db29f920024157",
              "version_major": 2,
              "version_minor": 0
            },
            "text/plain": [
              "Batches:   0%|          | 0/3020 [00:00<?, ?it/s]"
            ]
          },
          "metadata": {},
          "output_type": "display_data"
        },
        {
          "data": {
            "application/vnd.jupyter.widget-view+json": {
              "model_id": "d4ed00bd8ab34e6d9920862faa050c8c",
              "version_major": 2,
              "version_minor": 0
            },
            "text/plain": [
              "Batches:   0%|          | 0/3020 [00:00<?, ?it/s]"
            ]
          },
          "metadata": {},
          "output_type": "display_data"
        },
        {
          "name": "stderr",
          "output_type": "stream",
          "text": [
            "/usr/local/lib/python3.10/dist-packages/scipy/stats/_stats_py.py:4781: ConstantInputWarning: An input array is constant; the correlation coefficient is not defined.\n",
            "  warnings.warn(stats.ConstantInputWarning(msg))\n",
            "/usr/local/lib/python3.10/dist-packages/scipy/stats/_stats_py.py:5445: ConstantInputWarning: An input array is constant; the correlation coefficient is not defined.\n",
            "  warnings.warn(stats.ConstantInputWarning(warn_msg))\n"
          ]
        },
        {
          "data": {
            "application/vnd.jupyter.widget-view+json": {
              "model_id": "2b3c47d321ce4d9f960d9ba356bd1a1c",
              "version_major": 2,
              "version_minor": 0
            },
            "text/plain": [
              "Iteration:   0%|          | 0/2400 [00:00<?, ?it/s]"
            ]
          },
          "metadata": {},
          "output_type": "display_data"
        },
        {
          "data": {
            "application/vnd.jupyter.widget-view+json": {
              "model_id": "3239eef1a9be45c39a75a55cf935844e",
              "version_major": 2,
              "version_minor": 0
            },
            "text/plain": [
              "Batches:   0%|          | 0/3020 [00:00<?, ?it/s]"
            ]
          },
          "metadata": {},
          "output_type": "display_data"
        },
        {
          "data": {
            "application/vnd.jupyter.widget-view+json": {
              "model_id": "6050bde321074925ab914df3389d1df4",
              "version_major": 2,
              "version_minor": 0
            },
            "text/plain": [
              "Batches:   0%|          | 0/3020 [00:00<?, ?it/s]"
            ]
          },
          "metadata": {},
          "output_type": "display_data"
        },
        {
          "name": "stderr",
          "output_type": "stream",
          "text": [
            "/usr/local/lib/python3.10/dist-packages/scipy/stats/_stats_py.py:4781: ConstantInputWarning: An input array is constant; the correlation coefficient is not defined.\n",
            "  warnings.warn(stats.ConstantInputWarning(msg))\n",
            "/usr/local/lib/python3.10/dist-packages/scipy/stats/_stats_py.py:5445: ConstantInputWarning: An input array is constant; the correlation coefficient is not defined.\n",
            "  warnings.warn(stats.ConstantInputWarning(warn_msg))\n"
          ]
        },
        {
          "data": {
            "application/vnd.jupyter.widget-view+json": {
              "model_id": "bfdf7187c164467b892d3da9d3ff248e",
              "version_major": 2,
              "version_minor": 0
            },
            "text/plain": [
              "Batches:   0%|          | 0/3020 [00:00<?, ?it/s]"
            ]
          },
          "metadata": {},
          "output_type": "display_data"
        },
        {
          "data": {
            "application/vnd.jupyter.widget-view+json": {
              "model_id": "abadb0e04f444be99a9d8f5a33cf864a",
              "version_major": 2,
              "version_minor": 0
            },
            "text/plain": [
              "Batches:   0%|          | 0/3020 [00:00<?, ?it/s]"
            ]
          },
          "metadata": {},
          "output_type": "display_data"
        },
        {
          "name": "stderr",
          "output_type": "stream",
          "text": [
            "/usr/local/lib/python3.10/dist-packages/scipy/stats/_stats_py.py:4781: ConstantInputWarning: An input array is constant; the correlation coefficient is not defined.\n",
            "  warnings.warn(stats.ConstantInputWarning(msg))\n",
            "/usr/local/lib/python3.10/dist-packages/scipy/stats/_stats_py.py:5445: ConstantInputWarning: An input array is constant; the correlation coefficient is not defined.\n",
            "  warnings.warn(stats.ConstantInputWarning(warn_msg))\n"
          ]
        },
        {
          "data": {
            "application/vnd.jupyter.widget-view+json": {
              "model_id": "a34962f8e9144de1beecd87178a93b25",
              "version_major": 2,
              "version_minor": 0
            },
            "text/plain": [
              "Batches:   0%|          | 0/3020 [00:00<?, ?it/s]"
            ]
          },
          "metadata": {},
          "output_type": "display_data"
        },
        {
          "data": {
            "application/vnd.jupyter.widget-view+json": {
              "model_id": "c0051c5ccfad4cf882210f8767a5e660",
              "version_major": 2,
              "version_minor": 0
            },
            "text/plain": [
              "Batches:   0%|          | 0/3020 [00:00<?, ?it/s]"
            ]
          },
          "metadata": {},
          "output_type": "display_data"
        },
        {
          "name": "stderr",
          "output_type": "stream",
          "text": [
            "/usr/local/lib/python3.10/dist-packages/scipy/stats/_stats_py.py:4781: ConstantInputWarning: An input array is constant; the correlation coefficient is not defined.\n",
            "  warnings.warn(stats.ConstantInputWarning(msg))\n",
            "/usr/local/lib/python3.10/dist-packages/scipy/stats/_stats_py.py:5445: ConstantInputWarning: An input array is constant; the correlation coefficient is not defined.\n",
            "  warnings.warn(stats.ConstantInputWarning(warn_msg))\n"
          ]
        },
        {
          "data": {
            "application/vnd.jupyter.widget-view+json": {
              "model_id": "c7f399110b7f431aaefa2a0180277ffe",
              "version_major": 2,
              "version_minor": 0
            },
            "text/plain": [
              "Iteration:   0%|          | 0/2400 [00:00<?, ?it/s]"
            ]
          },
          "metadata": {},
          "output_type": "display_data"
        },
        {
          "data": {
            "application/vnd.jupyter.widget-view+json": {
              "model_id": "f8490d094d284ce0ad46833636107e28",
              "version_major": 2,
              "version_minor": 0
            },
            "text/plain": [
              "Batches:   0%|          | 0/3020 [00:00<?, ?it/s]"
            ]
          },
          "metadata": {},
          "output_type": "display_data"
        },
        {
          "data": {
            "application/vnd.jupyter.widget-view+json": {
              "model_id": "f2388f4e54c141d4a6c3c556edb259ea",
              "version_major": 2,
              "version_minor": 0
            },
            "text/plain": [
              "Batches:   0%|          | 0/3020 [00:00<?, ?it/s]"
            ]
          },
          "metadata": {},
          "output_type": "display_data"
        },
        {
          "name": "stderr",
          "output_type": "stream",
          "text": [
            "/usr/local/lib/python3.10/dist-packages/scipy/stats/_stats_py.py:4781: ConstantInputWarning: An input array is constant; the correlation coefficient is not defined.\n",
            "  warnings.warn(stats.ConstantInputWarning(msg))\n",
            "/usr/local/lib/python3.10/dist-packages/scipy/stats/_stats_py.py:5445: ConstantInputWarning: An input array is constant; the correlation coefficient is not defined.\n",
            "  warnings.warn(stats.ConstantInputWarning(warn_msg))\n"
          ]
        },
        {
          "data": {
            "application/vnd.jupyter.widget-view+json": {
              "model_id": "4fb36748c11d4e099f702095b8823ca1",
              "version_major": 2,
              "version_minor": 0
            },
            "text/plain": [
              "Batches:   0%|          | 0/3020 [00:00<?, ?it/s]"
            ]
          },
          "metadata": {},
          "output_type": "display_data"
        },
        {
          "data": {
            "application/vnd.jupyter.widget-view+json": {
              "model_id": "0b3256c4d46a42f88c1a6c85c358e92b",
              "version_major": 2,
              "version_minor": 0
            },
            "text/plain": [
              "Batches:   0%|          | 0/3020 [00:00<?, ?it/s]"
            ]
          },
          "metadata": {},
          "output_type": "display_data"
        },
        {
          "name": "stderr",
          "output_type": "stream",
          "text": [
            "/usr/local/lib/python3.10/dist-packages/scipy/stats/_stats_py.py:4781: ConstantInputWarning: An input array is constant; the correlation coefficient is not defined.\n",
            "  warnings.warn(stats.ConstantInputWarning(msg))\n",
            "/usr/local/lib/python3.10/dist-packages/scipy/stats/_stats_py.py:5445: ConstantInputWarning: An input array is constant; the correlation coefficient is not defined.\n",
            "  warnings.warn(stats.ConstantInputWarning(warn_msg))\n"
          ]
        },
        {
          "data": {
            "application/vnd.jupyter.widget-view+json": {
              "model_id": "aa3f6ba908514a63b99a4d4083ef42e0",
              "version_major": 2,
              "version_minor": 0
            },
            "text/plain": [
              "Batches:   0%|          | 0/3020 [00:00<?, ?it/s]"
            ]
          },
          "metadata": {},
          "output_type": "display_data"
        },
        {
          "data": {
            "application/vnd.jupyter.widget-view+json": {
              "model_id": "b6c0ce2fddb943819e93a555f6b79cf4",
              "version_major": 2,
              "version_minor": 0
            },
            "text/plain": [
              "Batches:   0%|          | 0/3020 [00:00<?, ?it/s]"
            ]
          },
          "metadata": {},
          "output_type": "display_data"
        },
        {
          "name": "stderr",
          "output_type": "stream",
          "text": [
            "/usr/local/lib/python3.10/dist-packages/scipy/stats/_stats_py.py:4781: ConstantInputWarning: An input array is constant; the correlation coefficient is not defined.\n",
            "  warnings.warn(stats.ConstantInputWarning(msg))\n",
            "/usr/local/lib/python3.10/dist-packages/scipy/stats/_stats_py.py:5445: ConstantInputWarning: An input array is constant; the correlation coefficient is not defined.\n",
            "  warnings.warn(stats.ConstantInputWarning(warn_msg))\n"
          ]
        },
        {
          "data": {
            "application/vnd.jupyter.widget-view+json": {
              "model_id": "11e11ade0b3e40768b0b51023c7b714a",
              "version_major": 2,
              "version_minor": 0
            },
            "text/plain": [
              "Iteration:   0%|          | 0/2400 [00:00<?, ?it/s]"
            ]
          },
          "metadata": {},
          "output_type": "display_data"
        },
        {
          "data": {
            "application/vnd.jupyter.widget-view+json": {
              "model_id": "1ad5f109df4b4e5cba06d919b1cdc122",
              "version_major": 2,
              "version_minor": 0
            },
            "text/plain": [
              "Batches:   0%|          | 0/3020 [00:00<?, ?it/s]"
            ]
          },
          "metadata": {},
          "output_type": "display_data"
        },
        {
          "data": {
            "application/vnd.jupyter.widget-view+json": {
              "model_id": "4e1eeef4cf85417fa144616551dda21f",
              "version_major": 2,
              "version_minor": 0
            },
            "text/plain": [
              "Batches:   0%|          | 0/3020 [00:00<?, ?it/s]"
            ]
          },
          "metadata": {},
          "output_type": "display_data"
        },
        {
          "name": "stderr",
          "output_type": "stream",
          "text": [
            "/usr/local/lib/python3.10/dist-packages/scipy/stats/_stats_py.py:4781: ConstantInputWarning: An input array is constant; the correlation coefficient is not defined.\n",
            "  warnings.warn(stats.ConstantInputWarning(msg))\n",
            "/usr/local/lib/python3.10/dist-packages/scipy/stats/_stats_py.py:5445: ConstantInputWarning: An input array is constant; the correlation coefficient is not defined.\n",
            "  warnings.warn(stats.ConstantInputWarning(warn_msg))\n"
          ]
        },
        {
          "data": {
            "application/vnd.jupyter.widget-view+json": {
              "model_id": "3882309fa7b3494ab423a0aed2fd2d76",
              "version_major": 2,
              "version_minor": 0
            },
            "text/plain": [
              "Batches:   0%|          | 0/3020 [00:00<?, ?it/s]"
            ]
          },
          "metadata": {},
          "output_type": "display_data"
        },
        {
          "data": {
            "application/vnd.jupyter.widget-view+json": {
              "model_id": "cfcb8130e1b64aa487fd4208a1efe536",
              "version_major": 2,
              "version_minor": 0
            },
            "text/plain": [
              "Batches:   0%|          | 0/3020 [00:00<?, ?it/s]"
            ]
          },
          "metadata": {},
          "output_type": "display_data"
        },
        {
          "name": "stderr",
          "output_type": "stream",
          "text": [
            "/usr/local/lib/python3.10/dist-packages/scipy/stats/_stats_py.py:4781: ConstantInputWarning: An input array is constant; the correlation coefficient is not defined.\n",
            "  warnings.warn(stats.ConstantInputWarning(msg))\n",
            "/usr/local/lib/python3.10/dist-packages/scipy/stats/_stats_py.py:5445: ConstantInputWarning: An input array is constant; the correlation coefficient is not defined.\n",
            "  warnings.warn(stats.ConstantInputWarning(warn_msg))\n"
          ]
        },
        {
          "data": {
            "application/vnd.jupyter.widget-view+json": {
              "model_id": "99e4c03043e04b6d8834cc7db83a6fd3",
              "version_major": 2,
              "version_minor": 0
            },
            "text/plain": [
              "Batches:   0%|          | 0/3020 [00:00<?, ?it/s]"
            ]
          },
          "metadata": {},
          "output_type": "display_data"
        },
        {
          "data": {
            "application/vnd.jupyter.widget-view+json": {
              "model_id": "36ce0d3544ad4923a6352e73bc91f0f3",
              "version_major": 2,
              "version_minor": 0
            },
            "text/plain": [
              "Batches:   0%|          | 0/3020 [00:00<?, ?it/s]"
            ]
          },
          "metadata": {},
          "output_type": "display_data"
        },
        {
          "name": "stderr",
          "output_type": "stream",
          "text": [
            "/usr/local/lib/python3.10/dist-packages/scipy/stats/_stats_py.py:4781: ConstantInputWarning: An input array is constant; the correlation coefficient is not defined.\n",
            "  warnings.warn(stats.ConstantInputWarning(msg))\n",
            "/usr/local/lib/python3.10/dist-packages/scipy/stats/_stats_py.py:5445: ConstantInputWarning: An input array is constant; the correlation coefficient is not defined.\n",
            "  warnings.warn(stats.ConstantInputWarning(warn_msg))\n"
          ]
        },
        {
          "data": {
            "application/vnd.jupyter.widget-view+json": {
              "model_id": "0e07d23a0de84be48d938ea20a28ad34",
              "version_major": 2,
              "version_minor": 0
            },
            "text/plain": [
              "Iteration:   0%|          | 0/2400 [00:00<?, ?it/s]"
            ]
          },
          "metadata": {},
          "output_type": "display_data"
        },
        {
          "data": {
            "application/vnd.jupyter.widget-view+json": {
              "model_id": "59895243695841348dc13b902925995d",
              "version_major": 2,
              "version_minor": 0
            },
            "text/plain": [
              "Batches:   0%|          | 0/3020 [00:00<?, ?it/s]"
            ]
          },
          "metadata": {},
          "output_type": "display_data"
        },
        {
          "data": {
            "application/vnd.jupyter.widget-view+json": {
              "model_id": "c505b0539721421bb6fc731991a966cf",
              "version_major": 2,
              "version_minor": 0
            },
            "text/plain": [
              "Batches:   0%|          | 0/3020 [00:00<?, ?it/s]"
            ]
          },
          "metadata": {},
          "output_type": "display_data"
        },
        {
          "name": "stderr",
          "output_type": "stream",
          "text": [
            "/usr/local/lib/python3.10/dist-packages/scipy/stats/_stats_py.py:4781: ConstantInputWarning: An input array is constant; the correlation coefficient is not defined.\n",
            "  warnings.warn(stats.ConstantInputWarning(msg))\n",
            "/usr/local/lib/python3.10/dist-packages/scipy/stats/_stats_py.py:5445: ConstantInputWarning: An input array is constant; the correlation coefficient is not defined.\n",
            "  warnings.warn(stats.ConstantInputWarning(warn_msg))\n"
          ]
        },
        {
          "data": {
            "application/vnd.jupyter.widget-view+json": {
              "model_id": "dfb1f17066284ea299edd71c41048deb",
              "version_major": 2,
              "version_minor": 0
            },
            "text/plain": [
              "Batches:   0%|          | 0/3020 [00:00<?, ?it/s]"
            ]
          },
          "metadata": {},
          "output_type": "display_data"
        },
        {
          "data": {
            "application/vnd.jupyter.widget-view+json": {
              "model_id": "49222936035f41a2bef1f77032b5c4c7",
              "version_major": 2,
              "version_minor": 0
            },
            "text/plain": [
              "Batches:   0%|          | 0/3020 [00:00<?, ?it/s]"
            ]
          },
          "metadata": {},
          "output_type": "display_data"
        },
        {
          "name": "stderr",
          "output_type": "stream",
          "text": [
            "/usr/local/lib/python3.10/dist-packages/scipy/stats/_stats_py.py:4781: ConstantInputWarning: An input array is constant; the correlation coefficient is not defined.\n",
            "  warnings.warn(stats.ConstantInputWarning(msg))\n",
            "/usr/local/lib/python3.10/dist-packages/scipy/stats/_stats_py.py:5445: ConstantInputWarning: An input array is constant; the correlation coefficient is not defined.\n",
            "  warnings.warn(stats.ConstantInputWarning(warn_msg))\n"
          ]
        },
        {
          "data": {
            "application/vnd.jupyter.widget-view+json": {
              "model_id": "0baaa05c3cb34df59edbf073641e6159",
              "version_major": 2,
              "version_minor": 0
            },
            "text/plain": [
              "Batches:   0%|          | 0/3020 [00:00<?, ?it/s]"
            ]
          },
          "metadata": {},
          "output_type": "display_data"
        },
        {
          "data": {
            "application/vnd.jupyter.widget-view+json": {
              "model_id": "644d4730960840c58e9503778668d727",
              "version_major": 2,
              "version_minor": 0
            },
            "text/plain": [
              "Batches:   0%|          | 0/3020 [00:00<?, ?it/s]"
            ]
          },
          "metadata": {},
          "output_type": "display_data"
        },
        {
          "name": "stderr",
          "output_type": "stream",
          "text": [
            "/usr/local/lib/python3.10/dist-packages/scipy/stats/_stats_py.py:4781: ConstantInputWarning: An input array is constant; the correlation coefficient is not defined.\n",
            "  warnings.warn(stats.ConstantInputWarning(msg))\n",
            "/usr/local/lib/python3.10/dist-packages/scipy/stats/_stats_py.py:5445: ConstantInputWarning: An input array is constant; the correlation coefficient is not defined.\n",
            "  warnings.warn(stats.ConstantInputWarning(warn_msg))\n"
          ]
        },
        {
          "data": {
            "application/vnd.jupyter.widget-view+json": {
              "model_id": "53139e1412be4e448fe1b52f8470f818",
              "version_major": 2,
              "version_minor": 0
            },
            "text/plain": [
              "Iteration:   0%|          | 0/2400 [00:00<?, ?it/s]"
            ]
          },
          "metadata": {},
          "output_type": "display_data"
        },
        {
          "data": {
            "application/vnd.jupyter.widget-view+json": {
              "model_id": "42cdc7acce8b4d2e9558497b2c3f75ca",
              "version_major": 2,
              "version_minor": 0
            },
            "text/plain": [
              "Batches:   0%|          | 0/3020 [00:00<?, ?it/s]"
            ]
          },
          "metadata": {},
          "output_type": "display_data"
        },
        {
          "data": {
            "application/vnd.jupyter.widget-view+json": {
              "model_id": "c2e37e75a4554c4fae94bf5d197222bc",
              "version_major": 2,
              "version_minor": 0
            },
            "text/plain": [
              "Batches:   0%|          | 0/3020 [00:00<?, ?it/s]"
            ]
          },
          "metadata": {},
          "output_type": "display_data"
        },
        {
          "name": "stderr",
          "output_type": "stream",
          "text": [
            "/usr/local/lib/python3.10/dist-packages/scipy/stats/_stats_py.py:4781: ConstantInputWarning: An input array is constant; the correlation coefficient is not defined.\n",
            "  warnings.warn(stats.ConstantInputWarning(msg))\n",
            "/usr/local/lib/python3.10/dist-packages/scipy/stats/_stats_py.py:5445: ConstantInputWarning: An input array is constant; the correlation coefficient is not defined.\n",
            "  warnings.warn(stats.ConstantInputWarning(warn_msg))\n"
          ]
        },
        {
          "data": {
            "application/vnd.jupyter.widget-view+json": {
              "model_id": "e8c9c26ff5a04b26be14227083dbfc64",
              "version_major": 2,
              "version_minor": 0
            },
            "text/plain": [
              "Batches:   0%|          | 0/3020 [00:00<?, ?it/s]"
            ]
          },
          "metadata": {},
          "output_type": "display_data"
        },
        {
          "data": {
            "application/vnd.jupyter.widget-view+json": {
              "model_id": "794d1ffbdc3343ee92dd30e1248fba40",
              "version_major": 2,
              "version_minor": 0
            },
            "text/plain": [
              "Batches:   0%|          | 0/3020 [00:00<?, ?it/s]"
            ]
          },
          "metadata": {},
          "output_type": "display_data"
        },
        {
          "name": "stderr",
          "output_type": "stream",
          "text": [
            "/usr/local/lib/python3.10/dist-packages/scipy/stats/_stats_py.py:4781: ConstantInputWarning: An input array is constant; the correlation coefficient is not defined.\n",
            "  warnings.warn(stats.ConstantInputWarning(msg))\n",
            "/usr/local/lib/python3.10/dist-packages/scipy/stats/_stats_py.py:5445: ConstantInputWarning: An input array is constant; the correlation coefficient is not defined.\n",
            "  warnings.warn(stats.ConstantInputWarning(warn_msg))\n"
          ]
        },
        {
          "data": {
            "application/vnd.jupyter.widget-view+json": {
              "model_id": "b278dd5bdf0a42fe8f9cd435e2f4e2ec",
              "version_major": 2,
              "version_minor": 0
            },
            "text/plain": [
              "Batches:   0%|          | 0/3020 [00:00<?, ?it/s]"
            ]
          },
          "metadata": {},
          "output_type": "display_data"
        },
        {
          "data": {
            "application/vnd.jupyter.widget-view+json": {
              "model_id": "0a878be0ebbd4396bc43d69bc0b3111b",
              "version_major": 2,
              "version_minor": 0
            },
            "text/plain": [
              "Batches:   0%|          | 0/3020 [00:00<?, ?it/s]"
            ]
          },
          "metadata": {},
          "output_type": "display_data"
        },
        {
          "name": "stderr",
          "output_type": "stream",
          "text": [
            "/usr/local/lib/python3.10/dist-packages/scipy/stats/_stats_py.py:4781: ConstantInputWarning: An input array is constant; the correlation coefficient is not defined.\n",
            "  warnings.warn(stats.ConstantInputWarning(msg))\n",
            "/usr/local/lib/python3.10/dist-packages/scipy/stats/_stats_py.py:5445: ConstantInputWarning: An input array is constant; the correlation coefficient is not defined.\n",
            "  warnings.warn(stats.ConstantInputWarning(warn_msg))\n"
          ]
        },
        {
          "data": {
            "application/vnd.jupyter.widget-view+json": {
              "model_id": "f6fc2e2f26f040809eab21dea30d6147",
              "version_major": 2,
              "version_minor": 0
            },
            "text/plain": [
              "Iteration:   0%|          | 0/2400 [00:00<?, ?it/s]"
            ]
          },
          "metadata": {},
          "output_type": "display_data"
        },
        {
          "data": {
            "application/vnd.jupyter.widget-view+json": {
              "model_id": "ce7f3e0dddfc483096cb7c0dced0d182",
              "version_major": 2,
              "version_minor": 0
            },
            "text/plain": [
              "Batches:   0%|          | 0/3020 [00:00<?, ?it/s]"
            ]
          },
          "metadata": {},
          "output_type": "display_data"
        },
        {
          "data": {
            "application/vnd.jupyter.widget-view+json": {
              "model_id": "f139214fe18e4926ae4ede36c7fabd54",
              "version_major": 2,
              "version_minor": 0
            },
            "text/plain": [
              "Batches:   0%|          | 0/3020 [00:00<?, ?it/s]"
            ]
          },
          "metadata": {},
          "output_type": "display_data"
        },
        {
          "name": "stderr",
          "output_type": "stream",
          "text": [
            "/usr/local/lib/python3.10/dist-packages/scipy/stats/_stats_py.py:4781: ConstantInputWarning: An input array is constant; the correlation coefficient is not defined.\n",
            "  warnings.warn(stats.ConstantInputWarning(msg))\n",
            "/usr/local/lib/python3.10/dist-packages/scipy/stats/_stats_py.py:5445: ConstantInputWarning: An input array is constant; the correlation coefficient is not defined.\n",
            "  warnings.warn(stats.ConstantInputWarning(warn_msg))\n"
          ]
        },
        {
          "data": {
            "application/vnd.jupyter.widget-view+json": {
              "model_id": "7191664afde14a059f57bd650331fac6",
              "version_major": 2,
              "version_minor": 0
            },
            "text/plain": [
              "Batches:   0%|          | 0/3020 [00:00<?, ?it/s]"
            ]
          },
          "metadata": {},
          "output_type": "display_data"
        },
        {
          "data": {
            "application/vnd.jupyter.widget-view+json": {
              "model_id": "ace903062ad54be2ae1226017bc70723",
              "version_major": 2,
              "version_minor": 0
            },
            "text/plain": [
              "Batches:   0%|          | 0/3020 [00:00<?, ?it/s]"
            ]
          },
          "metadata": {},
          "output_type": "display_data"
        },
        {
          "name": "stderr",
          "output_type": "stream",
          "text": [
            "/usr/local/lib/python3.10/dist-packages/scipy/stats/_stats_py.py:4781: ConstantInputWarning: An input array is constant; the correlation coefficient is not defined.\n",
            "  warnings.warn(stats.ConstantInputWarning(msg))\n",
            "/usr/local/lib/python3.10/dist-packages/scipy/stats/_stats_py.py:5445: ConstantInputWarning: An input array is constant; the correlation coefficient is not defined.\n",
            "  warnings.warn(stats.ConstantInputWarning(warn_msg))\n"
          ]
        },
        {
          "data": {
            "application/vnd.jupyter.widget-view+json": {
              "model_id": "bea656009c1b429cbe7054924dd30389",
              "version_major": 2,
              "version_minor": 0
            },
            "text/plain": [
              "Batches:   0%|          | 0/3020 [00:00<?, ?it/s]"
            ]
          },
          "metadata": {},
          "output_type": "display_data"
        },
        {
          "data": {
            "application/vnd.jupyter.widget-view+json": {
              "model_id": "627c33c2672949d99827f262eeb2210a",
              "version_major": 2,
              "version_minor": 0
            },
            "text/plain": [
              "Batches:   0%|          | 0/3020 [00:00<?, ?it/s]"
            ]
          },
          "metadata": {},
          "output_type": "display_data"
        },
        {
          "name": "stderr",
          "output_type": "stream",
          "text": [
            "/usr/local/lib/python3.10/dist-packages/scipy/stats/_stats_py.py:4781: ConstantInputWarning: An input array is constant; the correlation coefficient is not defined.\n",
            "  warnings.warn(stats.ConstantInputWarning(msg))\n",
            "/usr/local/lib/python3.10/dist-packages/scipy/stats/_stats_py.py:5445: ConstantInputWarning: An input array is constant; the correlation coefficient is not defined.\n",
            "  warnings.warn(stats.ConstantInputWarning(warn_msg))\n"
          ]
        },
        {
          "data": {
            "application/vnd.jupyter.widget-view+json": {
              "model_id": "3c2b8f314d8e41e6aae14c78cb2db579",
              "version_major": 2,
              "version_minor": 0
            },
            "text/plain": [
              "Iteration:   0%|          | 0/2400 [00:00<?, ?it/s]"
            ]
          },
          "metadata": {},
          "output_type": "display_data"
        },
        {
          "data": {
            "application/vnd.jupyter.widget-view+json": {
              "model_id": "1a2b04f795c44766856401f0b72234d3",
              "version_major": 2,
              "version_minor": 0
            },
            "text/plain": [
              "Batches:   0%|          | 0/3020 [00:00<?, ?it/s]"
            ]
          },
          "metadata": {},
          "output_type": "display_data"
        },
        {
          "data": {
            "application/vnd.jupyter.widget-view+json": {
              "model_id": "a019d0754b6c4ffbacd255c579cd8d45",
              "version_major": 2,
              "version_minor": 0
            },
            "text/plain": [
              "Batches:   0%|          | 0/3020 [00:00<?, ?it/s]"
            ]
          },
          "metadata": {},
          "output_type": "display_data"
        },
        {
          "name": "stderr",
          "output_type": "stream",
          "text": [
            "/usr/local/lib/python3.10/dist-packages/scipy/stats/_stats_py.py:4781: ConstantInputWarning: An input array is constant; the correlation coefficient is not defined.\n",
            "  warnings.warn(stats.ConstantInputWarning(msg))\n",
            "/usr/local/lib/python3.10/dist-packages/scipy/stats/_stats_py.py:5445: ConstantInputWarning: An input array is constant; the correlation coefficient is not defined.\n",
            "  warnings.warn(stats.ConstantInputWarning(warn_msg))\n"
          ]
        },
        {
          "data": {
            "application/vnd.jupyter.widget-view+json": {
              "model_id": "7af233f3688a4abb94bfb4aa97ac6b03",
              "version_major": 2,
              "version_minor": 0
            },
            "text/plain": [
              "Batches:   0%|          | 0/3020 [00:00<?, ?it/s]"
            ]
          },
          "metadata": {},
          "output_type": "display_data"
        },
        {
          "data": {
            "application/vnd.jupyter.widget-view+json": {
              "model_id": "2ac073c23d0546ee914a6134e08f9518",
              "version_major": 2,
              "version_minor": 0
            },
            "text/plain": [
              "Batches:   0%|          | 0/3020 [00:00<?, ?it/s]"
            ]
          },
          "metadata": {},
          "output_type": "display_data"
        },
        {
          "name": "stderr",
          "output_type": "stream",
          "text": [
            "/usr/local/lib/python3.10/dist-packages/scipy/stats/_stats_py.py:4781: ConstantInputWarning: An input array is constant; the correlation coefficient is not defined.\n",
            "  warnings.warn(stats.ConstantInputWarning(msg))\n",
            "/usr/local/lib/python3.10/dist-packages/scipy/stats/_stats_py.py:5445: ConstantInputWarning: An input array is constant; the correlation coefficient is not defined.\n",
            "  warnings.warn(stats.ConstantInputWarning(warn_msg))\n"
          ]
        },
        {
          "data": {
            "application/vnd.jupyter.widget-view+json": {
              "model_id": "cfccc050630d4624bbb66257293aa229",
              "version_major": 2,
              "version_minor": 0
            },
            "text/plain": [
              "Batches:   0%|          | 0/3020 [00:00<?, ?it/s]"
            ]
          },
          "metadata": {},
          "output_type": "display_data"
        },
        {
          "data": {
            "application/vnd.jupyter.widget-view+json": {
              "model_id": "c9677ca469c94cea9c8c6486a9a4641b",
              "version_major": 2,
              "version_minor": 0
            },
            "text/plain": [
              "Batches:   0%|          | 0/3020 [00:00<?, ?it/s]"
            ]
          },
          "metadata": {},
          "output_type": "display_data"
        },
        {
          "name": "stderr",
          "output_type": "stream",
          "text": [
            "/usr/local/lib/python3.10/dist-packages/scipy/stats/_stats_py.py:4781: ConstantInputWarning: An input array is constant; the correlation coefficient is not defined.\n",
            "  warnings.warn(stats.ConstantInputWarning(msg))\n",
            "/usr/local/lib/python3.10/dist-packages/scipy/stats/_stats_py.py:5445: ConstantInputWarning: An input array is constant; the correlation coefficient is not defined.\n",
            "  warnings.warn(stats.ConstantInputWarning(warn_msg))\n"
          ]
        },
        {
          "data": {
            "application/vnd.jupyter.widget-view+json": {
              "model_id": "4164e365021b409bb1c9f95b080df93f",
              "version_major": 2,
              "version_minor": 0
            },
            "text/plain": [
              "Iteration:   0%|          | 0/2400 [00:00<?, ?it/s]"
            ]
          },
          "metadata": {},
          "output_type": "display_data"
        },
        {
          "data": {
            "application/vnd.jupyter.widget-view+json": {
              "model_id": "5023e58f48a04067ade9ea893ef92bfd",
              "version_major": 2,
              "version_minor": 0
            },
            "text/plain": [
              "Batches:   0%|          | 0/3020 [00:00<?, ?it/s]"
            ]
          },
          "metadata": {},
          "output_type": "display_data"
        },
        {
          "data": {
            "application/vnd.jupyter.widget-view+json": {
              "model_id": "e110dcfc4da14a0b9b5314e7ff09a05d",
              "version_major": 2,
              "version_minor": 0
            },
            "text/plain": [
              "Batches:   0%|          | 0/3020 [00:00<?, ?it/s]"
            ]
          },
          "metadata": {},
          "output_type": "display_data"
        },
        {
          "name": "stderr",
          "output_type": "stream",
          "text": [
            "/usr/local/lib/python3.10/dist-packages/scipy/stats/_stats_py.py:4781: ConstantInputWarning: An input array is constant; the correlation coefficient is not defined.\n",
            "  warnings.warn(stats.ConstantInputWarning(msg))\n",
            "/usr/local/lib/python3.10/dist-packages/scipy/stats/_stats_py.py:5445: ConstantInputWarning: An input array is constant; the correlation coefficient is not defined.\n",
            "  warnings.warn(stats.ConstantInputWarning(warn_msg))\n"
          ]
        },
        {
          "data": {
            "application/vnd.jupyter.widget-view+json": {
              "model_id": "1b8f29050bf043d3bbff51bddb4c4c9a",
              "version_major": 2,
              "version_minor": 0
            },
            "text/plain": [
              "Batches:   0%|          | 0/3020 [00:00<?, ?it/s]"
            ]
          },
          "metadata": {},
          "output_type": "display_data"
        },
        {
          "data": {
            "application/vnd.jupyter.widget-view+json": {
              "model_id": "9607c7674cf347a0b8f2014039bce0a1",
              "version_major": 2,
              "version_minor": 0
            },
            "text/plain": [
              "Batches:   0%|          | 0/3020 [00:00<?, ?it/s]"
            ]
          },
          "metadata": {},
          "output_type": "display_data"
        },
        {
          "name": "stderr",
          "output_type": "stream",
          "text": [
            "/usr/local/lib/python3.10/dist-packages/scipy/stats/_stats_py.py:4781: ConstantInputWarning: An input array is constant; the correlation coefficient is not defined.\n",
            "  warnings.warn(stats.ConstantInputWarning(msg))\n",
            "/usr/local/lib/python3.10/dist-packages/scipy/stats/_stats_py.py:5445: ConstantInputWarning: An input array is constant; the correlation coefficient is not defined.\n",
            "  warnings.warn(stats.ConstantInputWarning(warn_msg))\n"
          ]
        },
        {
          "data": {
            "application/vnd.jupyter.widget-view+json": {
              "model_id": "6944dd6e0a314649808dad03b8aa5d90",
              "version_major": 2,
              "version_minor": 0
            },
            "text/plain": [
              "Batches:   0%|          | 0/3020 [00:00<?, ?it/s]"
            ]
          },
          "metadata": {},
          "output_type": "display_data"
        },
        {
          "data": {
            "application/vnd.jupyter.widget-view+json": {
              "model_id": "18362ffb0bc34762952334a94f1b70ce",
              "version_major": 2,
              "version_minor": 0
            },
            "text/plain": [
              "Batches:   0%|          | 0/3020 [00:00<?, ?it/s]"
            ]
          },
          "metadata": {},
          "output_type": "display_data"
        },
        {
          "name": "stderr",
          "output_type": "stream",
          "text": [
            "/usr/local/lib/python3.10/dist-packages/scipy/stats/_stats_py.py:4781: ConstantInputWarning: An input array is constant; the correlation coefficient is not defined.\n",
            "  warnings.warn(stats.ConstantInputWarning(msg))\n",
            "/usr/local/lib/python3.10/dist-packages/scipy/stats/_stats_py.py:5445: ConstantInputWarning: An input array is constant; the correlation coefficient is not defined.\n",
            "  warnings.warn(stats.ConstantInputWarning(warn_msg))\n"
          ]
        },
        {
          "data": {
            "application/vnd.jupyter.widget-view+json": {
              "model_id": "3447dd35b4304ea3930d6980494af1dd",
              "version_major": 2,
              "version_minor": 0
            },
            "text/plain": [
              "Iteration:   0%|          | 0/2400 [00:00<?, ?it/s]"
            ]
          },
          "metadata": {},
          "output_type": "display_data"
        },
        {
          "data": {
            "application/vnd.jupyter.widget-view+json": {
              "model_id": "c4ac157710714ab38b8d8977e6648d20",
              "version_major": 2,
              "version_minor": 0
            },
            "text/plain": [
              "Batches:   0%|          | 0/3020 [00:00<?, ?it/s]"
            ]
          },
          "metadata": {},
          "output_type": "display_data"
        },
        {
          "data": {
            "application/vnd.jupyter.widget-view+json": {
              "model_id": "39597d7bbaa24ccab733270a3def3a05",
              "version_major": 2,
              "version_minor": 0
            },
            "text/plain": [
              "Batches:   0%|          | 0/3020 [00:00<?, ?it/s]"
            ]
          },
          "metadata": {},
          "output_type": "display_data"
        },
        {
          "name": "stderr",
          "output_type": "stream",
          "text": [
            "/usr/local/lib/python3.10/dist-packages/scipy/stats/_stats_py.py:4781: ConstantInputWarning: An input array is constant; the correlation coefficient is not defined.\n",
            "  warnings.warn(stats.ConstantInputWarning(msg))\n",
            "/usr/local/lib/python3.10/dist-packages/scipy/stats/_stats_py.py:5445: ConstantInputWarning: An input array is constant; the correlation coefficient is not defined.\n",
            "  warnings.warn(stats.ConstantInputWarning(warn_msg))\n"
          ]
        },
        {
          "data": {
            "application/vnd.jupyter.widget-view+json": {
              "model_id": "da96300b57714a40a8e280e11da4f34c",
              "version_major": 2,
              "version_minor": 0
            },
            "text/plain": [
              "Batches:   0%|          | 0/3020 [00:00<?, ?it/s]"
            ]
          },
          "metadata": {},
          "output_type": "display_data"
        },
        {
          "data": {
            "application/vnd.jupyter.widget-view+json": {
              "model_id": "9267dd0482db4128a5084bd8f95d9396",
              "version_major": 2,
              "version_minor": 0
            },
            "text/plain": [
              "Batches:   0%|          | 0/3020 [00:00<?, ?it/s]"
            ]
          },
          "metadata": {},
          "output_type": "display_data"
        },
        {
          "name": "stderr",
          "output_type": "stream",
          "text": [
            "/usr/local/lib/python3.10/dist-packages/scipy/stats/_stats_py.py:4781: ConstantInputWarning: An input array is constant; the correlation coefficient is not defined.\n",
            "  warnings.warn(stats.ConstantInputWarning(msg))\n",
            "/usr/local/lib/python3.10/dist-packages/scipy/stats/_stats_py.py:5445: ConstantInputWarning: An input array is constant; the correlation coefficient is not defined.\n",
            "  warnings.warn(stats.ConstantInputWarning(warn_msg))\n"
          ]
        },
        {
          "data": {
            "application/vnd.jupyter.widget-view+json": {
              "model_id": "9f2981d8fb1f4399b74f4a8a73ead389",
              "version_major": 2,
              "version_minor": 0
            },
            "text/plain": [
              "Batches:   0%|          | 0/3020 [00:00<?, ?it/s]"
            ]
          },
          "metadata": {},
          "output_type": "display_data"
        },
        {
          "data": {
            "application/vnd.jupyter.widget-view+json": {
              "model_id": "39bf9eef1eeb4f1ab31ec56ea8cfb87b",
              "version_major": 2,
              "version_minor": 0
            },
            "text/plain": [
              "Batches:   0%|          | 0/3020 [00:00<?, ?it/s]"
            ]
          },
          "metadata": {},
          "output_type": "display_data"
        },
        {
          "name": "stderr",
          "output_type": "stream",
          "text": [
            "/usr/local/lib/python3.10/dist-packages/scipy/stats/_stats_py.py:4781: ConstantInputWarning: An input array is constant; the correlation coefficient is not defined.\n",
            "  warnings.warn(stats.ConstantInputWarning(msg))\n",
            "/usr/local/lib/python3.10/dist-packages/scipy/stats/_stats_py.py:5445: ConstantInputWarning: An input array is constant; the correlation coefficient is not defined.\n",
            "  warnings.warn(stats.ConstantInputWarning(warn_msg))\n"
          ]
        },
        {
          "data": {
            "application/vnd.jupyter.widget-view+json": {
              "model_id": "65975bd62ef84924bdea213b5309b361",
              "version_major": 2,
              "version_minor": 0
            },
            "text/plain": [
              "VBox(children=(Label(value='0.002 MB of 0.002 MB uploaded\\r'), FloatProgress(value=1.0, max=1.0)))"
            ]
          },
          "metadata": {},
          "output_type": "display_data"
        },
        {
          "data": {
            "text/html": [
              "<style>\n",
              "    table.wandb td:nth-child(1) { padding: 0 10px; text-align: left ; width: auto;} td:nth-child(2) {text-align: left ; width: 100%}\n",
              "    .wandb-row { display: flex; flex-direction: row; flex-wrap: wrap; justify-content: flex-start; width: 100% }\n",
              "    .wandb-col { display: flex; flex-direction: column; flex-basis: 100%; flex: 1; padding: 10px; }\n",
              "    </style>\n",
              "<div class=\"wandb-row\"><div class=\"wandb-col\"><h3>Run history:</h3><br/><table class=\"wandb\"><tr><td>calinsky_score</td><td>▁▂▃▃▃▃▄▄▄▅▅▅▅▅▆▆▆▆▆▇▇▇▇▇▇▇▇█████████████</td></tr><tr><td>pearson_cosine</td><td> ▁ ▂ ▄ ▄ ▆ ▇ ▆ █ ▇ ██ █ █ ▇ ▇ ▇ █ █ █ ██</td></tr><tr><td>silhouette_full</td><td>▁▃▃▄▅▅▅▅▆▆▇▇▅▆▇▇▇▇▇▇███▇██▇█████████████</td></tr><tr><td>silhouette_test</td><td>▁▁▅▅▆▇▅▅▆█▄▆▅▆▅▆▇▆▃▅▃▅▅▃▅▃▃▃▄▃▃▂▄▃▃▃▂▂▃▃</td></tr><tr><td>silhouette_val</td><td>▁▃▄▄▆▅▆▅▆▆▇▇▅▆▆▇▇▇▇▇█████▇██████████████</td></tr></table><br/></div><div class=\"wandb-col\"><h3>Run summary:</h3><br/><table class=\"wandb\"><tr><td>calinsky_score</td><td>311.21182</td></tr><tr><td>pearson_cosine</td><td>0.56545</td></tr><tr><td>silhouette_full</td><td>0.20155</td></tr><tr><td>silhouette_test</td><td>0.20665</td></tr><tr><td>silhouette_val</td><td>0.21495</td></tr></table><br/></div></div>"
            ],
            "text/plain": [
              "<IPython.core.display.HTML object>"
            ]
          },
          "metadata": {},
          "output_type": "display_data"
        },
        {
          "data": {
            "text/html": [
              " View run <strong style=\"color:#cdcd00\">loco_fixed_pairs_NRP_seed_3407_2023-12-25_23:38:34</strong> at: <a href='https://wandb.ai/squirrel-writes-her-phd/task1-pair_domains_v2/runs/p4f3lgzi' target=\"_blank\">https://wandb.ai/squirrel-writes-her-phd/task1-pair_domains_v2/runs/p4f3lgzi</a><br/>Synced 5 W&B file(s), 0 media file(s), 0 artifact file(s) and 0 other file(s)"
            ],
            "text/plain": [
              "<IPython.core.display.HTML object>"
            ]
          },
          "metadata": {},
          "output_type": "display_data"
        },
        {
          "data": {
            "text/html": [
              "Find logs at: <code>./wandb/run-20231225_233932-p4f3lgzi/logs</code>"
            ],
            "text/plain": [
              "<IPython.core.display.HTML object>"
            ]
          },
          "metadata": {},
          "output_type": "display_data"
        }
      ],
      "source": [
        "BATCH_SIZE = 16\n",
        "NEPOCHS = 20\n",
        "current_df = domains_df # domains_tiny_df\n",
        "ntrain_samples = NTRAIN_SAMPLES\n",
        "ntest_samples = NTEST_SAMPLES\n",
        "TEST_BIOSYN_CLASS_NAME = \"NRP\"  # \"Terpene\":  # \"Saccharide\":  # \"Alkaloid\":  # \"RiPP\":  # \"NRP\": # \"Polyketide\"\n",
        "\n",
        "for ifold, bgc_class in enumerate(all_bgc_class_names):\n",
        "  if bgc_class != TEST_BIOSYN_CLASS_NAME:\n",
        "      continue\n",
        "  wandb.init(\n",
        "    project=\"task1-pair_domains_v2\",\n",
        "    # We pass a run name (otherwise it’ll be randomly assigned, like sunshine-lollypop-10)\n",
        "    name=f\"loco_fixed_pairs_{bgc_class}_seed_{RANDOM_SEED}_\" + current_timestamp,\n",
        "    # Track hyperparameters and run metadata\n",
        "    config={\n",
        "      \"architecture\": \"esm2_8m\",\n",
        "      \"epochs\": NEPOCHS,\n",
        "      \"batch_size\": BATCH_SIZE,\n",
        "      \"ntrain_samples\": ntrain_samples,\n",
        "      \"ntest_samples\": ntest_samples,\n",
        "      'random_seed': RANDOM_SEED,\n",
        "      'biosyn_class': bgc_class\n",
        "    }\n",
        "  )\n",
        "  # train_dataset, val_dataset, test_sequences = prepare_fold_data(fasta_df, ifold=ifold)\n",
        "  train_dataset, val_dataset, test_sequences, train_index, val_index, test_index = prepare_fold_data(\n",
        "      current_df, ifold=ifold, pair_columns=pair_columns, ntrain_samples=ntrain_samples,\n",
        "      ntest_samples=ntest_samples\n",
        "  )\n",
        "  assert np.isin(current_df.loc[test_index, \"bgc_class\"].unique(), [bgc_class]).all(), \"Biosynthetic class in test is unexpected\"\n",
        "  # break\n",
        "  val_ids = current_df.index.isin(val_index)\n",
        "  val_sequences = [current_df.loc[val_ids, col].values for col in pair_columns]\n",
        "  val_targets = current_df.loc[val_ids, \"biosyn_class_index\"].values\n",
        "  val_bgcid_list = current_df.loc[val_ids, \"bgcid\"].values\n",
        "\n",
        "  all_index = current_df.index[current_df.index.isin(train_index) | current_df.index.isin(val_index) | current_df.index.isin(test_index)]\n",
        "  # all_sequences = [current_df.loc[all_ids, col].values for col in pair_columns]\n",
        "  # all_targets = current_df.loc[all_ids, \"biosyn_class_index\"].values\n",
        "\n",
        "  train_dataloader = DataLoader(train_dataset, shuffle=True, batch_size=BATCH_SIZE)\n",
        "  # test_dataloader = DataLoader(test_dataset, shuffle=False, batch_size=BATCH_SIZE)\n",
        "  # break\n",
        "  NSTEPS = len(train_dataset) // BATCH_SIZE\n",
        "  print(\"nsteps=\", NSTEPS)\n",
        "\n",
        "  # model = SentenceTransformer(PROTEIN_MODEL)\n",
        "  model = prepare_st_model(freeze=True)\n",
        "  # break\n",
        "  train_loss = PairCosineSimilarityLoss(model)\n",
        "  val_data = list(zip(*val_dataset))\n",
        "  sentences = val_data[:4]\n",
        "  scores = val_data[4]\n",
        "\n",
        "  name = PROTEIN_MODEL.replace(\"/\", \"_\")\n",
        "  name = f\"{name}_{ifold}_{bgc_class}\"\n",
        "  SAVEDIR = BASEDIR / name # PROTEIN_MODEL.replace(\"/\", \"_\")\n",
        "  SAVEDIR.mkdir(exist_ok=True, parents=True)\n",
        "  BESTDIR = BASEDIR / (name + \"_best\")\n",
        "  IMGDIR = SAVEDIR / \"images\"\n",
        "  IMGDIR.mkdir(exist_ok=True)\n",
        "\n",
        "  # evaluator = PairEmbeddingSimilarityEvaluator(sentences, scores, write_csv=True)\n",
        "  val_evaluator = PairEmbeddingSilhouetteEvaluator(\n",
        "      val_sequences, val_targets, all_bgc_class_names, write_csv=True, bgcid_list=val_bgcid_list,\n",
        "      savedir=IMGDIR\n",
        "  )\n",
        "  test_evaluator = TestSilhouetteEvaluator(\n",
        "      current_df, all_index, test_index, all_bgc_class_names, columns=pair_columns, test_fold=ifold, write_csv=True,\n",
        "      savedir=IMGDIR\n",
        "  )\n",
        "  evaluator = SequentialEvaluator([test_evaluator, val_evaluator])\n",
        "  # evaluator = evaluation.BinaryClassificationEvaluator(sentences1, sentences2, scores, write_csv=True)\n",
        "  model.fit(\n",
        "      train_objectives=[(train_dataloader, train_loss)],\n",
        "      epochs=NEPOCHS, warmup_steps=100,\n",
        "      output_path=BESTDIR.as_posix(),\n",
        "      use_amp=True,\n",
        "      checkpoint_path=SAVEDIR.as_posix(),\n",
        "      checkpoint_save_total_limit=10,\n",
        "      checkpoint_save_steps=NSTEPS//2,\n",
        "      steps_per_epoch=NSTEPS//2,\n",
        "      evaluator=evaluator,\n",
        "      evaluation_steps= min(1000, NSTEPS//2)\n",
        "  )\n",
        "  # sentences = domains_df.loc[:, 7].values\n",
        "\n",
        "  # embeddings = model.encode(sentences)\n",
        "\n",
        "  # filename = SAVEDIR / \"latest_embeddings.npz\"\n",
        "  # np.savez_compressed(filename.as_posix(), embeddings)\n",
        "\n",
        "  del model\n",
        "  train_dataloader = None\n",
        "  test_dataloader = None\n",
        "  # import gc\n",
        "  torch.cuda.empty_cache()\n",
        "  gc.collect()\n",
        "  wandb.finish()\n"
      ]
    },
    {
      "cell_type": "code",
      "execution_count": null,
      "metadata": {
        "colab": {
          "background_save": true
        },
        "id": "4bUjJsUs8hQB"
      },
      "outputs": [],
      "source": []
    },
    {
      "cell_type": "code",
      "execution_count": null,
      "metadata": {
        "colab": {
          "background_save": true
        },
        "id": "T-dT0cqH1uzF"
      },
      "outputs": [],
      "source": [
        "# del model\n",
        "# data_loader=None\n",
        "# # del model\n",
        "# import gc\n",
        "# torch.cuda.empty_cache()\n",
        "# gc.collect()\n"
      ]
    },
    {
      "cell_type": "code",
      "execution_count": null,
      "metadata": {
        "colab": {
          "background_save": true
        },
        "id": "pJgGrlzZ27dD"
      },
      "outputs": [],
      "source": []
    },
    {
      "cell_type": "code",
      "execution_count": null,
      "metadata": {
        "colab": {
          "background_save": true
        },
        "id": "_6VgVzvY66LQ"
      },
      "outputs": [],
      "source": []
    }
  ],
  "metadata": {
    "accelerator": "GPU",
    "colab": {
      "machine_shape": "hm",
      "provenance": [],
      "toc_visible": true
    },
    "kernelspec": {
      "display_name": "Python 3",
      "name": "python3"
    },
    "language_info": {
      "name": "python"
    },
    "widgets": {
      "application/vnd.jupyter.widget-state+json": {
        "0020fe372291458282c5d9399d9d8234": {
          "model_module": "@jupyter-widgets/controls",
          "model_module_version": "1.5.0",
          "model_name": "DescriptionStyleModel",
          "state": {
            "_model_module": "@jupyter-widgets/controls",
            "_model_module_version": "1.5.0",
            "_model_name": "DescriptionStyleModel",
            "_view_count": null,
            "_view_module": "@jupyter-widgets/base",
            "_view_module_version": "1.2.0",
            "_view_name": "StyleView",
            "description_width": ""
          }
        },
        "006fed2cf94f4092aac621cf3142a9da": {
          "model_module": "@jupyter-widgets/controls",
          "model_module_version": "1.5.0",
          "model_name": "ProgressStyleModel",
          "state": {
            "_model_module": "@jupyter-widgets/controls",
            "_model_module_version": "1.5.0",
            "_model_name": "ProgressStyleModel",
            "_view_count": null,
            "_view_module": "@jupyter-widgets/base",
            "_view_module_version": "1.2.0",
            "_view_name": "StyleView",
            "bar_color": null,
            "description_width": ""
          }
        },
        "01073d442f454489a0ee865b9202a5d2": {
          "model_module": "@jupyter-widgets/controls",
          "model_module_version": "1.5.0",
          "model_name": "HTMLModel",
          "state": {
            "_dom_classes": [],
            "_model_module": "@jupyter-widgets/controls",
            "_model_module_version": "1.5.0",
            "_model_name": "HTMLModel",
            "_view_count": null,
            "_view_module": "@jupyter-widgets/controls",
            "_view_module_version": "1.5.0",
            "_view_name": "HTMLView",
            "description": "",
            "description_tooltip": null,
            "layout": "IPY_MODEL_c1b56715cff94c3183b67728f633185a",
            "placeholder": "​",
            "style": "IPY_MODEL_92737cc4e32d4ff2b7d10e2228b4ded8",
            "value": " 93.0/93.0 [00:00&lt;00:00, 8.22kB/s]"
          }
        },
        "042f085bc8a344dd9b6100d4dd35d531": {
          "model_module": "@jupyter-widgets/controls",
          "model_module_version": "1.5.0",
          "model_name": "DescriptionStyleModel",
          "state": {
            "_model_module": "@jupyter-widgets/controls",
            "_model_module_version": "1.5.0",
            "_model_name": "DescriptionStyleModel",
            "_view_count": null,
            "_view_module": "@jupyter-widgets/base",
            "_view_module_version": "1.2.0",
            "_view_name": "StyleView",
            "description_width": ""
          }
        },
        "05c77ff052344c149623eb84a6d921c9": {
          "model_module": "@jupyter-widgets/controls",
          "model_module_version": "1.5.0",
          "model_name": "ProgressStyleModel",
          "state": {
            "_model_module": "@jupyter-widgets/controls",
            "_model_module_version": "1.5.0",
            "_model_name": "ProgressStyleModel",
            "_view_count": null,
            "_view_module": "@jupyter-widgets/base",
            "_view_module_version": "1.2.0",
            "_view_name": "StyleView",
            "bar_color": null,
            "description_width": ""
          }
        },
        "06175d5ff9414a369ac39ae522f1a41f": {
          "model_module": "@jupyter-widgets/base",
          "model_module_version": "1.2.0",
          "model_name": "LayoutModel",
          "state": {
            "_model_module": "@jupyter-widgets/base",
            "_model_module_version": "1.2.0",
            "_model_name": "LayoutModel",
            "_view_count": null,
            "_view_module": "@jupyter-widgets/base",
            "_view_module_version": "1.2.0",
            "_view_name": "LayoutView",
            "align_content": null,
            "align_items": null,
            "align_self": null,
            "border": null,
            "bottom": null,
            "display": null,
            "flex": null,
            "flex_flow": null,
            "grid_area": null,
            "grid_auto_columns": null,
            "grid_auto_flow": null,
            "grid_auto_rows": null,
            "grid_column": null,
            "grid_gap": null,
            "grid_row": null,
            "grid_template_areas": null,
            "grid_template_columns": null,
            "grid_template_rows": null,
            "height": null,
            "justify_content": null,
            "justify_items": null,
            "left": null,
            "margin": null,
            "max_height": null,
            "max_width": null,
            "min_height": null,
            "min_width": null,
            "object_fit": null,
            "object_position": null,
            "order": null,
            "overflow": null,
            "overflow_x": null,
            "overflow_y": null,
            "padding": null,
            "right": null,
            "top": null,
            "visibility": null,
            "width": null
          }
        },
        "074d742b5cfd494bb1f1fa48c8bd2011": {
          "model_module": "@jupyter-widgets/base",
          "model_module_version": "1.2.0",
          "model_name": "LayoutModel",
          "state": {
            "_model_module": "@jupyter-widgets/base",
            "_model_module_version": "1.2.0",
            "_model_name": "LayoutModel",
            "_view_count": null,
            "_view_module": "@jupyter-widgets/base",
            "_view_module_version": "1.2.0",
            "_view_name": "LayoutView",
            "align_content": null,
            "align_items": null,
            "align_self": null,
            "border": null,
            "bottom": null,
            "display": null,
            "flex": null,
            "flex_flow": null,
            "grid_area": null,
            "grid_auto_columns": null,
            "grid_auto_flow": null,
            "grid_auto_rows": null,
            "grid_column": null,
            "grid_gap": null,
            "grid_row": null,
            "grid_template_areas": null,
            "grid_template_columns": null,
            "grid_template_rows": null,
            "height": null,
            "justify_content": null,
            "justify_items": null,
            "left": null,
            "margin": null,
            "max_height": null,
            "max_width": null,
            "min_height": null,
            "min_width": null,
            "object_fit": null,
            "object_position": null,
            "order": null,
            "overflow": null,
            "overflow_x": null,
            "overflow_y": null,
            "padding": null,
            "right": null,
            "top": null,
            "visibility": null,
            "width": null
          }
        },
        "0902111de02b4cbebba72f6430cb0bad": {
          "model_module": "@jupyter-widgets/base",
          "model_module_version": "1.2.0",
          "model_name": "LayoutModel",
          "state": {
            "_model_module": "@jupyter-widgets/base",
            "_model_module_version": "1.2.0",
            "_model_name": "LayoutModel",
            "_view_count": null,
            "_view_module": "@jupyter-widgets/base",
            "_view_module_version": "1.2.0",
            "_view_name": "LayoutView",
            "align_content": null,
            "align_items": null,
            "align_self": null,
            "border": null,
            "bottom": null,
            "display": null,
            "flex": null,
            "flex_flow": null,
            "grid_area": null,
            "grid_auto_columns": null,
            "grid_auto_flow": null,
            "grid_auto_rows": null,
            "grid_column": null,
            "grid_gap": null,
            "grid_row": null,
            "grid_template_areas": null,
            "grid_template_columns": null,
            "grid_template_rows": null,
            "height": null,
            "justify_content": null,
            "justify_items": null,
            "left": null,
            "margin": null,
            "max_height": null,
            "max_width": null,
            "min_height": null,
            "min_width": null,
            "object_fit": null,
            "object_position": null,
            "order": null,
            "overflow": null,
            "overflow_x": null,
            "overflow_y": null,
            "padding": null,
            "right": null,
            "top": null,
            "visibility": null,
            "width": null
          }
        },
        "0a8f56cc00534179b6b9b5a402577ac0": {
          "model_module": "@jupyter-widgets/controls",
          "model_module_version": "1.5.0",
          "model_name": "DescriptionStyleModel",
          "state": {
            "_model_module": "@jupyter-widgets/controls",
            "_model_module_version": "1.5.0",
            "_model_name": "DescriptionStyleModel",
            "_view_count": null,
            "_view_module": "@jupyter-widgets/base",
            "_view_module_version": "1.2.0",
            "_view_name": "StyleView",
            "description_width": ""
          }
        },
        "0cfe8452a2604ee8819432f3c6607c9f": {
          "model_module": "@jupyter-widgets/controls",
          "model_module_version": "1.5.0",
          "model_name": "HTMLModel",
          "state": {
            "_dom_classes": [],
            "_model_module": "@jupyter-widgets/controls",
            "_model_module_version": "1.5.0",
            "_model_name": "HTMLModel",
            "_view_count": null,
            "_view_module": "@jupyter-widgets/controls",
            "_view_module_version": "1.5.0",
            "_view_name": "HTMLView",
            "description": "",
            "description_tooltip": null,
            "layout": "IPY_MODEL_4d0802aa34db4868966535f1f080d045",
            "placeholder": "​",
            "style": "IPY_MODEL_fbbe49ec887c4b178f57c319667b8976",
            "value": "config.json: 100%"
          }
        },
        "0d329fa0d3434599b1c893b9baea4454": {
          "model_module": "@jupyter-widgets/controls",
          "model_module_version": "1.5.0",
          "model_name": "DescriptionStyleModel",
          "state": {
            "_model_module": "@jupyter-widgets/controls",
            "_model_module_version": "1.5.0",
            "_model_name": "DescriptionStyleModel",
            "_view_count": null,
            "_view_module": "@jupyter-widgets/base",
            "_view_module_version": "1.2.0",
            "_view_name": "StyleView",
            "description_width": ""
          }
        },
        "1046b8a2c876460c9ca12e1e135daab8": {
          "model_module": "@jupyter-widgets/base",
          "model_module_version": "1.2.0",
          "model_name": "LayoutModel",
          "state": {
            "_model_module": "@jupyter-widgets/base",
            "_model_module_version": "1.2.0",
            "_model_name": "LayoutModel",
            "_view_count": null,
            "_view_module": "@jupyter-widgets/base",
            "_view_module_version": "1.2.0",
            "_view_name": "LayoutView",
            "align_content": null,
            "align_items": null,
            "align_self": null,
            "border": null,
            "bottom": null,
            "display": null,
            "flex": null,
            "flex_flow": null,
            "grid_area": null,
            "grid_auto_columns": null,
            "grid_auto_flow": null,
            "grid_auto_rows": null,
            "grid_column": null,
            "grid_gap": null,
            "grid_row": null,
            "grid_template_areas": null,
            "grid_template_columns": null,
            "grid_template_rows": null,
            "height": null,
            "justify_content": null,
            "justify_items": null,
            "left": null,
            "margin": null,
            "max_height": null,
            "max_width": null,
            "min_height": null,
            "min_width": null,
            "object_fit": null,
            "object_position": null,
            "order": null,
            "overflow": null,
            "overflow_x": null,
            "overflow_y": null,
            "padding": null,
            "right": null,
            "top": null,
            "visibility": null,
            "width": null
          }
        },
        "119094b7d3264e26b47e8b2cf7cdd7b9": {
          "model_module": "@jupyter-widgets/controls",
          "model_module_version": "1.5.0",
          "model_name": "HBoxModel",
          "state": {
            "_dom_classes": [],
            "_model_module": "@jupyter-widgets/controls",
            "_model_module_version": "1.5.0",
            "_model_name": "HBoxModel",
            "_view_count": null,
            "_view_module": "@jupyter-widgets/controls",
            "_view_module_version": "1.5.0",
            "_view_name": "HBoxView",
            "box_style": "",
            "children": [
              "IPY_MODEL_fcad4d74ce344c1a991d36cb9a318c12",
              "IPY_MODEL_5aebf3b1c5a24bb19a7e1c7a46c3dc72",
              "IPY_MODEL_36dc18ed3d2140c08b4e1486076f6ea0"
            ],
            "layout": "IPY_MODEL_48711945b1a84c16acd45e2a2e73980c"
          }
        },
        "16b2018599fe47d0a07e637832ca2962": {
          "model_module": "@jupyter-widgets/controls",
          "model_module_version": "1.5.0",
          "model_name": "DescriptionStyleModel",
          "state": {
            "_model_module": "@jupyter-widgets/controls",
            "_model_module_version": "1.5.0",
            "_model_name": "DescriptionStyleModel",
            "_view_count": null,
            "_view_module": "@jupyter-widgets/base",
            "_view_module_version": "1.2.0",
            "_view_name": "StyleView",
            "description_width": ""
          }
        },
        "1960666d6720458b913e5ce0e13c9970": {
          "model_module": "@jupyter-widgets/base",
          "model_module_version": "1.2.0",
          "model_name": "LayoutModel",
          "state": {
            "_model_module": "@jupyter-widgets/base",
            "_model_module_version": "1.2.0",
            "_model_name": "LayoutModel",
            "_view_count": null,
            "_view_module": "@jupyter-widgets/base",
            "_view_module_version": "1.2.0",
            "_view_name": "LayoutView",
            "align_content": null,
            "align_items": null,
            "align_self": null,
            "border": null,
            "bottom": null,
            "display": null,
            "flex": null,
            "flex_flow": null,
            "grid_area": null,
            "grid_auto_columns": null,
            "grid_auto_flow": null,
            "grid_auto_rows": null,
            "grid_column": null,
            "grid_gap": null,
            "grid_row": null,
            "grid_template_areas": null,
            "grid_template_columns": null,
            "grid_template_rows": null,
            "height": null,
            "justify_content": null,
            "justify_items": null,
            "left": null,
            "margin": null,
            "max_height": null,
            "max_width": null,
            "min_height": null,
            "min_width": null,
            "object_fit": null,
            "object_position": null,
            "order": null,
            "overflow": null,
            "overflow_x": null,
            "overflow_y": null,
            "padding": null,
            "right": null,
            "top": null,
            "visibility": null,
            "width": null
          }
        },
        "1ac830f19cfb42fc9da0e1e52bd4da8b": {
          "model_module": "@jupyter-widgets/controls",
          "model_module_version": "1.5.0",
          "model_name": "ProgressStyleModel",
          "state": {
            "_model_module": "@jupyter-widgets/controls",
            "_model_module_version": "1.5.0",
            "_model_name": "ProgressStyleModel",
            "_view_count": null,
            "_view_module": "@jupyter-widgets/base",
            "_view_module_version": "1.2.0",
            "_view_name": "StyleView",
            "bar_color": null,
            "description_width": ""
          }
        },
        "1cff491527f44dc6b71a7bad7f15be35": {
          "model_module": "@jupyter-widgets/base",
          "model_module_version": "1.2.0",
          "model_name": "LayoutModel",
          "state": {
            "_model_module": "@jupyter-widgets/base",
            "_model_module_version": "1.2.0",
            "_model_name": "LayoutModel",
            "_view_count": null,
            "_view_module": "@jupyter-widgets/base",
            "_view_module_version": "1.2.0",
            "_view_name": "LayoutView",
            "align_content": null,
            "align_items": null,
            "align_self": null,
            "border": null,
            "bottom": null,
            "display": null,
            "flex": null,
            "flex_flow": null,
            "grid_area": null,
            "grid_auto_columns": null,
            "grid_auto_flow": null,
            "grid_auto_rows": null,
            "grid_column": null,
            "grid_gap": null,
            "grid_row": null,
            "grid_template_areas": null,
            "grid_template_columns": null,
            "grid_template_rows": null,
            "height": null,
            "justify_content": null,
            "justify_items": null,
            "left": null,
            "margin": null,
            "max_height": null,
            "max_width": null,
            "min_height": null,
            "min_width": null,
            "object_fit": null,
            "object_position": null,
            "order": null,
            "overflow": null,
            "overflow_x": null,
            "overflow_y": null,
            "padding": null,
            "right": null,
            "top": null,
            "visibility": null,
            "width": null
          }
        },
        "219c61936daf457f9c406822df6d581c": {
          "model_module": "@jupyter-widgets/base",
          "model_module_version": "1.2.0",
          "model_name": "LayoutModel",
          "state": {
            "_model_module": "@jupyter-widgets/base",
            "_model_module_version": "1.2.0",
            "_model_name": "LayoutModel",
            "_view_count": null,
            "_view_module": "@jupyter-widgets/base",
            "_view_module_version": "1.2.0",
            "_view_name": "LayoutView",
            "align_content": null,
            "align_items": null,
            "align_self": null,
            "border": null,
            "bottom": null,
            "display": null,
            "flex": null,
            "flex_flow": null,
            "grid_area": null,
            "grid_auto_columns": null,
            "grid_auto_flow": null,
            "grid_auto_rows": null,
            "grid_column": null,
            "grid_gap": null,
            "grid_row": null,
            "grid_template_areas": null,
            "grid_template_columns": null,
            "grid_template_rows": null,
            "height": null,
            "justify_content": null,
            "justify_items": null,
            "left": null,
            "margin": null,
            "max_height": null,
            "max_width": null,
            "min_height": null,
            "min_width": null,
            "object_fit": null,
            "object_position": null,
            "order": null,
            "overflow": null,
            "overflow_x": null,
            "overflow_y": null,
            "padding": null,
            "right": null,
            "top": null,
            "visibility": null,
            "width": null
          }
        },
        "225d9c13325d40ccb9bcd1bfcd37b1e1": {
          "model_module": "@jupyter-widgets/controls",
          "model_module_version": "1.5.0",
          "model_name": "DescriptionStyleModel",
          "state": {
            "_model_module": "@jupyter-widgets/controls",
            "_model_module_version": "1.5.0",
            "_model_name": "DescriptionStyleModel",
            "_view_count": null,
            "_view_module": "@jupyter-widgets/base",
            "_view_module_version": "1.2.0",
            "_view_name": "StyleView",
            "description_width": ""
          }
        },
        "24b119d680d74f74bb5f3247b329b85a": {
          "model_module": "@jupyter-widgets/base",
          "model_module_version": "1.2.0",
          "model_name": "LayoutModel",
          "state": {
            "_model_module": "@jupyter-widgets/base",
            "_model_module_version": "1.2.0",
            "_model_name": "LayoutModel",
            "_view_count": null,
            "_view_module": "@jupyter-widgets/base",
            "_view_module_version": "1.2.0",
            "_view_name": "LayoutView",
            "align_content": null,
            "align_items": null,
            "align_self": null,
            "border": null,
            "bottom": null,
            "display": null,
            "flex": null,
            "flex_flow": null,
            "grid_area": null,
            "grid_auto_columns": null,
            "grid_auto_flow": null,
            "grid_auto_rows": null,
            "grid_column": null,
            "grid_gap": null,
            "grid_row": null,
            "grid_template_areas": null,
            "grid_template_columns": null,
            "grid_template_rows": null,
            "height": null,
            "justify_content": null,
            "justify_items": null,
            "left": null,
            "margin": null,
            "max_height": null,
            "max_width": null,
            "min_height": null,
            "min_width": null,
            "object_fit": null,
            "object_position": null,
            "order": null,
            "overflow": null,
            "overflow_x": null,
            "overflow_y": null,
            "padding": null,
            "right": null,
            "top": null,
            "visibility": null,
            "width": null
          }
        },
        "292980791a8d4b8da1963c48bb14706e": {
          "model_module": "@jupyter-widgets/controls",
          "model_module_version": "1.5.0",
          "model_name": "HTMLModel",
          "state": {
            "_dom_classes": [],
            "_model_module": "@jupyter-widgets/controls",
            "_model_module_version": "1.5.0",
            "_model_name": "HTMLModel",
            "_view_count": null,
            "_view_module": "@jupyter-widgets/controls",
            "_view_module_version": "1.5.0",
            "_view_name": "HTMLView",
            "description": "",
            "description_tooltip": null,
            "layout": "IPY_MODEL_7e86571d9d0a4f2e954ac1cb658672b1",
            "placeholder": "​",
            "style": "IPY_MODEL_4d861e93c11c411d9ea64549962a5cbd",
            "value": " 0/20 [00:00&lt;?, ?it/s]"
          }
        },
        "297fd877549a41669700ad8a307c35eb": {
          "model_module": "@jupyter-widgets/base",
          "model_module_version": "1.2.0",
          "model_name": "LayoutModel",
          "state": {
            "_model_module": "@jupyter-widgets/base",
            "_model_module_version": "1.2.0",
            "_model_name": "LayoutModel",
            "_view_count": null,
            "_view_module": "@jupyter-widgets/base",
            "_view_module_version": "1.2.0",
            "_view_name": "LayoutView",
            "align_content": null,
            "align_items": null,
            "align_self": null,
            "border": null,
            "bottom": null,
            "display": null,
            "flex": null,
            "flex_flow": null,
            "grid_area": null,
            "grid_auto_columns": null,
            "grid_auto_flow": null,
            "grid_auto_rows": null,
            "grid_column": null,
            "grid_gap": null,
            "grid_row": null,
            "grid_template_areas": null,
            "grid_template_columns": null,
            "grid_template_rows": null,
            "height": null,
            "justify_content": null,
            "justify_items": null,
            "left": null,
            "margin": null,
            "max_height": null,
            "max_width": null,
            "min_height": null,
            "min_width": null,
            "object_fit": null,
            "object_position": null,
            "order": null,
            "overflow": null,
            "overflow_x": null,
            "overflow_y": null,
            "padding": null,
            "right": null,
            "top": null,
            "visibility": null,
            "width": null
          }
        },
        "2cbc3f4abe79421b8c13144190f4c8c1": {
          "model_module": "@jupyter-widgets/base",
          "model_module_version": "1.2.0",
          "model_name": "LayoutModel",
          "state": {
            "_model_module": "@jupyter-widgets/base",
            "_model_module_version": "1.2.0",
            "_model_name": "LayoutModel",
            "_view_count": null,
            "_view_module": "@jupyter-widgets/base",
            "_view_module_version": "1.2.0",
            "_view_name": "LayoutView",
            "align_content": null,
            "align_items": null,
            "align_self": null,
            "border": null,
            "bottom": null,
            "display": null,
            "flex": null,
            "flex_flow": null,
            "grid_area": null,
            "grid_auto_columns": null,
            "grid_auto_flow": null,
            "grid_auto_rows": null,
            "grid_column": null,
            "grid_gap": null,
            "grid_row": null,
            "grid_template_areas": null,
            "grid_template_columns": null,
            "grid_template_rows": null,
            "height": null,
            "justify_content": null,
            "justify_items": null,
            "left": null,
            "margin": null,
            "max_height": null,
            "max_width": null,
            "min_height": null,
            "min_width": null,
            "object_fit": null,
            "object_position": null,
            "order": null,
            "overflow": null,
            "overflow_x": null,
            "overflow_y": null,
            "padding": null,
            "right": null,
            "top": null,
            "visibility": null,
            "width": null
          }
        },
        "2ff14bb8c4224b3dbef2cac9926f4ab3": {
          "model_module": "@jupyter-widgets/base",
          "model_module_version": "1.2.0",
          "model_name": "LayoutModel",
          "state": {
            "_model_module": "@jupyter-widgets/base",
            "_model_module_version": "1.2.0",
            "_model_name": "LayoutModel",
            "_view_count": null,
            "_view_module": "@jupyter-widgets/base",
            "_view_module_version": "1.2.0",
            "_view_name": "LayoutView",
            "align_content": null,
            "align_items": null,
            "align_self": null,
            "border": null,
            "bottom": null,
            "display": null,
            "flex": null,
            "flex_flow": null,
            "grid_area": null,
            "grid_auto_columns": null,
            "grid_auto_flow": null,
            "grid_auto_rows": null,
            "grid_column": null,
            "grid_gap": null,
            "grid_row": null,
            "grid_template_areas": null,
            "grid_template_columns": null,
            "grid_template_rows": null,
            "height": null,
            "justify_content": null,
            "justify_items": null,
            "left": null,
            "margin": null,
            "max_height": null,
            "max_width": null,
            "min_height": null,
            "min_width": null,
            "object_fit": null,
            "object_position": null,
            "order": null,
            "overflow": null,
            "overflow_x": null,
            "overflow_y": null,
            "padding": null,
            "right": null,
            "top": null,
            "visibility": null,
            "width": null
          }
        },
        "3026ea7096f941c388c05a59a3048b87": {
          "model_module": "@jupyter-widgets/controls",
          "model_module_version": "1.5.0",
          "model_name": "HTMLModel",
          "state": {
            "_dom_classes": [],
            "_model_module": "@jupyter-widgets/controls",
            "_model_module_version": "1.5.0",
            "_model_name": "HTMLModel",
            "_view_count": null,
            "_view_module": "@jupyter-widgets/controls",
            "_view_module_version": "1.5.0",
            "_view_name": "HTMLView",
            "description": "",
            "description_tooltip": null,
            "layout": "IPY_MODEL_ff6efb03db704fb8a04bf3a50c72a1c8",
            "placeholder": "​",
            "style": "IPY_MODEL_0a8f56cc00534179b6b9b5a402577ac0",
            "value": "tokenizer_config.json: 100%"
          }
        },
        "30362ef005754edca71ce578da625bbd": {
          "model_module": "@jupyter-widgets/controls",
          "model_module_version": "1.5.0",
          "model_name": "FloatProgressModel",
          "state": {
            "_dom_classes": [],
            "_model_module": "@jupyter-widgets/controls",
            "_model_module_version": "1.5.0",
            "_model_name": "FloatProgressModel",
            "_view_count": null,
            "_view_module": "@jupyter-widgets/controls",
            "_view_module_version": "1.5.0",
            "_view_name": "ProgressView",
            "bar_style": "success",
            "description": "",
            "description_tooltip": null,
            "layout": "IPY_MODEL_d2bb419098204dd3a87b9b282ed350ac",
            "max": 775,
            "min": 0,
            "orientation": "horizontal",
            "style": "IPY_MODEL_594863f79bdf462bb1b5a813d8a9ddf5",
            "value": 775
          }
        },
        "31ca5c2c6abd43629dbc68cbcf4905bf": {
          "model_module": "@jupyter-widgets/controls",
          "model_module_version": "1.5.0",
          "model_name": "DescriptionStyleModel",
          "state": {
            "_model_module": "@jupyter-widgets/controls",
            "_model_module_version": "1.5.0",
            "_model_name": "DescriptionStyleModel",
            "_view_count": null,
            "_view_module": "@jupyter-widgets/base",
            "_view_module_version": "1.2.0",
            "_view_name": "StyleView",
            "description_width": ""
          }
        },
        "322d43cd37414401934d05614eeea278": {
          "model_module": "@jupyter-widgets/controls",
          "model_module_version": "1.5.0",
          "model_name": "DescriptionStyleModel",
          "state": {
            "_model_module": "@jupyter-widgets/controls",
            "_model_module_version": "1.5.0",
            "_model_name": "DescriptionStyleModel",
            "_view_count": null,
            "_view_module": "@jupyter-widgets/base",
            "_view_module_version": "1.2.0",
            "_view_name": "StyleView",
            "description_width": ""
          }
        },
        "34bbd18949cf44c78e01a0c163937375": {
          "model_module": "@jupyter-widgets/controls",
          "model_module_version": "1.5.0",
          "model_name": "ProgressStyleModel",
          "state": {
            "_model_module": "@jupyter-widgets/controls",
            "_model_module_version": "1.5.0",
            "_model_name": "ProgressStyleModel",
            "_view_count": null,
            "_view_module": "@jupyter-widgets/base",
            "_view_module_version": "1.2.0",
            "_view_name": "StyleView",
            "bar_color": null,
            "description_width": ""
          }
        },
        "34c6847d39bd4b0dab2a22895dadd2c7": {
          "model_module": "@jupyter-widgets/controls",
          "model_module_version": "1.5.0",
          "model_name": "HBoxModel",
          "state": {
            "_dom_classes": [],
            "_model_module": "@jupyter-widgets/controls",
            "_model_module_version": "1.5.0",
            "_model_name": "HBoxModel",
            "_view_count": null,
            "_view_module": "@jupyter-widgets/controls",
            "_view_module_version": "1.5.0",
            "_view_name": "HBoxView",
            "box_style": "",
            "children": [
              "IPY_MODEL_0cfe8452a2604ee8819432f3c6607c9f",
              "IPY_MODEL_30362ef005754edca71ce578da625bbd",
              "IPY_MODEL_e0a5543fdd394504bc928fea9049dc89"
            ],
            "layout": "IPY_MODEL_06175d5ff9414a369ac39ae522f1a41f"
          }
        },
        "363d292bdb30487daeaf928478435158": {
          "model_module": "@jupyter-widgets/controls",
          "model_module_version": "1.5.0",
          "model_name": "FloatProgressModel",
          "state": {
            "_dom_classes": [],
            "_model_module": "@jupyter-widgets/controls",
            "_model_module_version": "1.5.0",
            "_model_name": "FloatProgressModel",
            "_view_count": null,
            "_view_module": "@jupyter-widgets/controls",
            "_view_module_version": "1.5.0",
            "_view_name": "ProgressView",
            "bar_style": "",
            "description": "",
            "description_tooltip": null,
            "layout": "IPY_MODEL_a7fdff163358441cb0f08a63afbe9ad9",
            "max": 2400,
            "min": 0,
            "orientation": "horizontal",
            "style": "IPY_MODEL_e7775e52ce7c4fa384a826b9104538a6",
            "value": 72
          }
        },
        "367e8492bc4a42f4a5b8cee0662c00c4": {
          "model_module": "@jupyter-widgets/controls",
          "model_module_version": "1.5.0",
          "model_name": "DescriptionStyleModel",
          "state": {
            "_model_module": "@jupyter-widgets/controls",
            "_model_module_version": "1.5.0",
            "_model_name": "DescriptionStyleModel",
            "_view_count": null,
            "_view_module": "@jupyter-widgets/base",
            "_view_module_version": "1.2.0",
            "_view_name": "StyleView",
            "description_width": ""
          }
        },
        "36dc18ed3d2140c08b4e1486076f6ea0": {
          "model_module": "@jupyter-widgets/controls",
          "model_module_version": "1.5.0",
          "model_name": "HTMLModel",
          "state": {
            "_dom_classes": [],
            "_model_module": "@jupyter-widgets/controls",
            "_model_module_version": "1.5.0",
            "_model_name": "HTMLModel",
            "_view_count": null,
            "_view_module": "@jupyter-widgets/controls",
            "_view_module_version": "1.5.0",
            "_view_name": "HTMLView",
            "description": "",
            "description_tooltip": null,
            "layout": "IPY_MODEL_a3ae6374c10442a6a9a84b724425859c",
            "placeholder": "​",
            "style": "IPY_MODEL_367e8492bc4a42f4a5b8cee0662c00c4",
            "value": " 125/125 [00:00&lt;00:00, 11.2kB/s]"
          }
        },
        "39eeaa76b32d46978dc58d3555e4d66c": {
          "model_module": "@jupyter-widgets/controls",
          "model_module_version": "1.5.0",
          "model_name": "HBoxModel",
          "state": {
            "_dom_classes": [],
            "_model_module": "@jupyter-widgets/controls",
            "_model_module_version": "1.5.0",
            "_model_name": "HBoxModel",
            "_view_count": null,
            "_view_module": "@jupyter-widgets/controls",
            "_view_module_version": "1.5.0",
            "_view_name": "HBoxView",
            "box_style": "",
            "children": [
              "IPY_MODEL_ae163e9b385c4d9ead5103bd78ee56ea",
              "IPY_MODEL_9e8f9c6da399459cb99922e9edeec60c",
              "IPY_MODEL_f0d23df038fe44b58eaf034b0d40bac4"
            ],
            "layout": "IPY_MODEL_64eaceeb3c2d47379b53170c97ec6d8a"
          }
        },
        "3c23d1c1082640edab284c1e3f3a176f": {
          "model_module": "@jupyter-widgets/controls",
          "model_module_version": "1.5.0",
          "model_name": "DescriptionStyleModel",
          "state": {
            "_model_module": "@jupyter-widgets/controls",
            "_model_module_version": "1.5.0",
            "_model_name": "DescriptionStyleModel",
            "_view_count": null,
            "_view_module": "@jupyter-widgets/base",
            "_view_module_version": "1.2.0",
            "_view_name": "StyleView",
            "description_width": ""
          }
        },
        "4046342421684e0a9cc985af58e978ec": {
          "model_module": "@jupyter-widgets/controls",
          "model_module_version": "1.5.0",
          "model_name": "HTMLModel",
          "state": {
            "_dom_classes": [],
            "_model_module": "@jupyter-widgets/controls",
            "_model_module_version": "1.5.0",
            "_model_name": "HTMLModel",
            "_view_count": null,
            "_view_module": "@jupyter-widgets/controls",
            "_view_module_version": "1.5.0",
            "_view_name": "HTMLView",
            "description": "",
            "description_tooltip": null,
            "layout": "IPY_MODEL_e107e85aaf764a85a9ec5cc70aa9d753",
            "placeholder": "​",
            "style": "IPY_MODEL_0d329fa0d3434599b1c893b9baea4454",
            "value": "vocab.txt: 100%"
          }
        },
        "47f9ee1095b64742879f9c126d592661": {
          "model_module": "@jupyter-widgets/controls",
          "model_module_version": "1.5.0",
          "model_name": "DescriptionStyleModel",
          "state": {
            "_model_module": "@jupyter-widgets/controls",
            "_model_module_version": "1.5.0",
            "_model_name": "DescriptionStyleModel",
            "_view_count": null,
            "_view_module": "@jupyter-widgets/base",
            "_view_module_version": "1.2.0",
            "_view_name": "StyleView",
            "description_width": ""
          }
        },
        "48711945b1a84c16acd45e2a2e73980c": {
          "model_module": "@jupyter-widgets/base",
          "model_module_version": "1.2.0",
          "model_name": "LayoutModel",
          "state": {
            "_model_module": "@jupyter-widgets/base",
            "_model_module_version": "1.2.0",
            "_model_name": "LayoutModel",
            "_view_count": null,
            "_view_module": "@jupyter-widgets/base",
            "_view_module_version": "1.2.0",
            "_view_name": "LayoutView",
            "align_content": null,
            "align_items": null,
            "align_self": null,
            "border": null,
            "bottom": null,
            "display": null,
            "flex": null,
            "flex_flow": null,
            "grid_area": null,
            "grid_auto_columns": null,
            "grid_auto_flow": null,
            "grid_auto_rows": null,
            "grid_column": null,
            "grid_gap": null,
            "grid_row": null,
            "grid_template_areas": null,
            "grid_template_columns": null,
            "grid_template_rows": null,
            "height": null,
            "justify_content": null,
            "justify_items": null,
            "left": null,
            "margin": null,
            "max_height": null,
            "max_width": null,
            "min_height": null,
            "min_width": null,
            "object_fit": null,
            "object_position": null,
            "order": null,
            "overflow": null,
            "overflow_x": null,
            "overflow_y": null,
            "padding": null,
            "right": null,
            "top": null,
            "visibility": null,
            "width": null
          }
        },
        "4a6a845a07b5451f95c1c653f3083729": {
          "model_module": "@jupyter-widgets/controls",
          "model_module_version": "1.5.0",
          "model_name": "FloatProgressModel",
          "state": {
            "_dom_classes": [],
            "_model_module": "@jupyter-widgets/controls",
            "_model_module_version": "1.5.0",
            "_model_name": "FloatProgressModel",
            "_view_count": null,
            "_view_module": "@jupyter-widgets/controls",
            "_view_module_version": "1.5.0",
            "_view_name": "ProgressView",
            "bar_style": "success",
            "description": "",
            "description_tooltip": null,
            "layout": "IPY_MODEL_1960666d6720458b913e5ce0e13c9970",
            "max": 38400,
            "min": 0,
            "orientation": "horizontal",
            "style": "IPY_MODEL_c84e6922981948f795d6f46acda01f83",
            "value": 38400
          }
        },
        "4d0802aa34db4868966535f1f080d045": {
          "model_module": "@jupyter-widgets/base",
          "model_module_version": "1.2.0",
          "model_name": "LayoutModel",
          "state": {
            "_model_module": "@jupyter-widgets/base",
            "_model_module_version": "1.2.0",
            "_model_name": "LayoutModel",
            "_view_count": null,
            "_view_module": "@jupyter-widgets/base",
            "_view_module_version": "1.2.0",
            "_view_name": "LayoutView",
            "align_content": null,
            "align_items": null,
            "align_self": null,
            "border": null,
            "bottom": null,
            "display": null,
            "flex": null,
            "flex_flow": null,
            "grid_area": null,
            "grid_auto_columns": null,
            "grid_auto_flow": null,
            "grid_auto_rows": null,
            "grid_column": null,
            "grid_gap": null,
            "grid_row": null,
            "grid_template_areas": null,
            "grid_template_columns": null,
            "grid_template_rows": null,
            "height": null,
            "justify_content": null,
            "justify_items": null,
            "left": null,
            "margin": null,
            "max_height": null,
            "max_width": null,
            "min_height": null,
            "min_width": null,
            "object_fit": null,
            "object_position": null,
            "order": null,
            "overflow": null,
            "overflow_x": null,
            "overflow_y": null,
            "padding": null,
            "right": null,
            "top": null,
            "visibility": null,
            "width": null
          }
        },
        "4d3b2bed0bed49be9c85dc6db4507e64": {
          "model_module": "@jupyter-widgets/controls",
          "model_module_version": "1.5.0",
          "model_name": "HTMLModel",
          "state": {
            "_dom_classes": [],
            "_model_module": "@jupyter-widgets/controls",
            "_model_module_version": "1.5.0",
            "_model_name": "HTMLModel",
            "_view_count": null,
            "_view_module": "@jupyter-widgets/controls",
            "_view_module_version": "1.5.0",
            "_view_name": "HTMLView",
            "description": "",
            "description_tooltip": null,
            "layout": "IPY_MODEL_0902111de02b4cbebba72f6430cb0bad",
            "placeholder": "​",
            "style": "IPY_MODEL_d68cf413a2084edbb6f9a809c992e200",
            "value": " 6000/6000 [00:00&lt;00:00, 25372.95it/s]"
          }
        },
        "4d861e93c11c411d9ea64549962a5cbd": {
          "model_module": "@jupyter-widgets/controls",
          "model_module_version": "1.5.0",
          "model_name": "DescriptionStyleModel",
          "state": {
            "_model_module": "@jupyter-widgets/controls",
            "_model_module_version": "1.5.0",
            "_model_name": "DescriptionStyleModel",
            "_view_count": null,
            "_view_module": "@jupyter-widgets/base",
            "_view_module_version": "1.2.0",
            "_view_name": "StyleView",
            "description_width": ""
          }
        },
        "515d259417504d50992a6fb491509e0e": {
          "model_module": "@jupyter-widgets/controls",
          "model_module_version": "1.5.0",
          "model_name": "ProgressStyleModel",
          "state": {
            "_model_module": "@jupyter-widgets/controls",
            "_model_module_version": "1.5.0",
            "_model_name": "ProgressStyleModel",
            "_view_count": null,
            "_view_module": "@jupyter-widgets/base",
            "_view_module_version": "1.2.0",
            "_view_name": "StyleView",
            "bar_color": null,
            "description_width": ""
          }
        },
        "532b8841611b4cd7847680d45acec0ef": {
          "model_module": "@jupyter-widgets/base",
          "model_module_version": "1.2.0",
          "model_name": "LayoutModel",
          "state": {
            "_model_module": "@jupyter-widgets/base",
            "_model_module_version": "1.2.0",
            "_model_name": "LayoutModel",
            "_view_count": null,
            "_view_module": "@jupyter-widgets/base",
            "_view_module_version": "1.2.0",
            "_view_name": "LayoutView",
            "align_content": null,
            "align_items": null,
            "align_self": null,
            "border": null,
            "bottom": null,
            "display": null,
            "flex": null,
            "flex_flow": null,
            "grid_area": null,
            "grid_auto_columns": null,
            "grid_auto_flow": null,
            "grid_auto_rows": null,
            "grid_column": null,
            "grid_gap": null,
            "grid_row": null,
            "grid_template_areas": null,
            "grid_template_columns": null,
            "grid_template_rows": null,
            "height": null,
            "justify_content": null,
            "justify_items": null,
            "left": null,
            "margin": null,
            "max_height": null,
            "max_width": null,
            "min_height": null,
            "min_width": null,
            "object_fit": null,
            "object_position": null,
            "order": null,
            "overflow": null,
            "overflow_x": null,
            "overflow_y": null,
            "padding": null,
            "right": null,
            "top": null,
            "visibility": null,
            "width": null
          }
        },
        "53b7657569c24ac68974469ecf27823b": {
          "model_module": "@jupyter-widgets/controls",
          "model_module_version": "1.5.0",
          "model_name": "HBoxModel",
          "state": {
            "_dom_classes": [],
            "_model_module": "@jupyter-widgets/controls",
            "_model_module_version": "1.5.0",
            "_model_name": "HBoxModel",
            "_view_count": null,
            "_view_module": "@jupyter-widgets/controls",
            "_view_module_version": "1.5.0",
            "_view_name": "HBoxView",
            "box_style": "",
            "children": [
              "IPY_MODEL_ff5d37901cfe481b8752f4fe7fe3a5a7",
              "IPY_MODEL_986a4eff776145ed91fbbd38722dd809",
              "IPY_MODEL_292980791a8d4b8da1963c48bb14706e"
            ],
            "layout": "IPY_MODEL_d283ab48e13c4238a2b938a70ed590f4"
          }
        },
        "53d8db00841244df980dbdab604f368c": {
          "model_module": "@jupyter-widgets/base",
          "model_module_version": "1.2.0",
          "model_name": "LayoutModel",
          "state": {
            "_model_module": "@jupyter-widgets/base",
            "_model_module_version": "1.2.0",
            "_model_name": "LayoutModel",
            "_view_count": null,
            "_view_module": "@jupyter-widgets/base",
            "_view_module_version": "1.2.0",
            "_view_name": "LayoutView",
            "align_content": null,
            "align_items": null,
            "align_self": null,
            "border": null,
            "bottom": null,
            "display": null,
            "flex": null,
            "flex_flow": null,
            "grid_area": null,
            "grid_auto_columns": null,
            "grid_auto_flow": null,
            "grid_auto_rows": null,
            "grid_column": null,
            "grid_gap": null,
            "grid_row": null,
            "grid_template_areas": null,
            "grid_template_columns": null,
            "grid_template_rows": null,
            "height": null,
            "justify_content": null,
            "justify_items": null,
            "left": null,
            "margin": null,
            "max_height": null,
            "max_width": null,
            "min_height": null,
            "min_width": null,
            "object_fit": null,
            "object_position": null,
            "order": null,
            "overflow": null,
            "overflow_x": null,
            "overflow_y": null,
            "padding": null,
            "right": null,
            "top": null,
            "visibility": null,
            "width": null
          }
        },
        "594863f79bdf462bb1b5a813d8a9ddf5": {
          "model_module": "@jupyter-widgets/controls",
          "model_module_version": "1.5.0",
          "model_name": "ProgressStyleModel",
          "state": {
            "_model_module": "@jupyter-widgets/controls",
            "_model_module_version": "1.5.0",
            "_model_name": "ProgressStyleModel",
            "_view_count": null,
            "_view_module": "@jupyter-widgets/base",
            "_view_module_version": "1.2.0",
            "_view_name": "StyleView",
            "bar_color": null,
            "description_width": ""
          }
        },
        "5aebf3b1c5a24bb19a7e1c7a46c3dc72": {
          "model_module": "@jupyter-widgets/controls",
          "model_module_version": "1.5.0",
          "model_name": "FloatProgressModel",
          "state": {
            "_dom_classes": [],
            "_model_module": "@jupyter-widgets/controls",
            "_model_module_version": "1.5.0",
            "_model_name": "FloatProgressModel",
            "_view_count": null,
            "_view_module": "@jupyter-widgets/controls",
            "_view_module_version": "1.5.0",
            "_view_name": "ProgressView",
            "bar_style": "success",
            "description": "",
            "description_tooltip": null,
            "layout": "IPY_MODEL_a67f99126b924f078df495bcadbdc6d9",
            "max": 125,
            "min": 0,
            "orientation": "horizontal",
            "style": "IPY_MODEL_9d021bf7829347909aa61c7462c92dd6",
            "value": 125
          }
        },
        "5b5462e000dd4bb4a417cd6157190bb0": {
          "model_module": "@jupyter-widgets/base",
          "model_module_version": "1.2.0",
          "model_name": "LayoutModel",
          "state": {
            "_model_module": "@jupyter-widgets/base",
            "_model_module_version": "1.2.0",
            "_model_name": "LayoutModel",
            "_view_count": null,
            "_view_module": "@jupyter-widgets/base",
            "_view_module_version": "1.2.0",
            "_view_name": "LayoutView",
            "align_content": null,
            "align_items": null,
            "align_self": null,
            "border": null,
            "bottom": null,
            "display": null,
            "flex": null,
            "flex_flow": null,
            "grid_area": null,
            "grid_auto_columns": null,
            "grid_auto_flow": null,
            "grid_auto_rows": null,
            "grid_column": null,
            "grid_gap": null,
            "grid_row": null,
            "grid_template_areas": null,
            "grid_template_columns": null,
            "grid_template_rows": null,
            "height": null,
            "justify_content": null,
            "justify_items": null,
            "left": null,
            "margin": null,
            "max_height": null,
            "max_width": null,
            "min_height": null,
            "min_width": null,
            "object_fit": null,
            "object_position": null,
            "order": null,
            "overflow": null,
            "overflow_x": null,
            "overflow_y": null,
            "padding": null,
            "right": null,
            "top": null,
            "visibility": null,
            "width": null
          }
        },
        "5caa5b1aae26497192db2dac32c7b4ba": {
          "model_module": "@jupyter-widgets/base",
          "model_module_version": "1.2.0",
          "model_name": "LayoutModel",
          "state": {
            "_model_module": "@jupyter-widgets/base",
            "_model_module_version": "1.2.0",
            "_model_name": "LayoutModel",
            "_view_count": null,
            "_view_module": "@jupyter-widgets/base",
            "_view_module_version": "1.2.0",
            "_view_name": "LayoutView",
            "align_content": null,
            "align_items": null,
            "align_self": null,
            "border": null,
            "bottom": null,
            "display": null,
            "flex": null,
            "flex_flow": null,
            "grid_area": null,
            "grid_auto_columns": null,
            "grid_auto_flow": null,
            "grid_auto_rows": null,
            "grid_column": null,
            "grid_gap": null,
            "grid_row": null,
            "grid_template_areas": null,
            "grid_template_columns": null,
            "grid_template_rows": null,
            "height": null,
            "justify_content": null,
            "justify_items": null,
            "left": null,
            "margin": null,
            "max_height": null,
            "max_width": null,
            "min_height": null,
            "min_width": null,
            "object_fit": null,
            "object_position": null,
            "order": null,
            "overflow": null,
            "overflow_x": null,
            "overflow_y": null,
            "padding": null,
            "right": null,
            "top": null,
            "visibility": null,
            "width": null
          }
        },
        "608a8b8e709248308069d5dbfd24b442": {
          "model_module": "@jupyter-widgets/controls",
          "model_module_version": "1.5.0",
          "model_name": "DescriptionStyleModel",
          "state": {
            "_model_module": "@jupyter-widgets/controls",
            "_model_module_version": "1.5.0",
            "_model_name": "DescriptionStyleModel",
            "_view_count": null,
            "_view_module": "@jupyter-widgets/base",
            "_view_module_version": "1.2.0",
            "_view_name": "StyleView",
            "description_width": ""
          }
        },
        "61d225636ae4414688511ad639e2136e": {
          "model_module": "@jupyter-widgets/base",
          "model_module_version": "1.2.0",
          "model_name": "LayoutModel",
          "state": {
            "_model_module": "@jupyter-widgets/base",
            "_model_module_version": "1.2.0",
            "_model_name": "LayoutModel",
            "_view_count": null,
            "_view_module": "@jupyter-widgets/base",
            "_view_module_version": "1.2.0",
            "_view_name": "LayoutView",
            "align_content": null,
            "align_items": null,
            "align_self": null,
            "border": null,
            "bottom": null,
            "display": null,
            "flex": null,
            "flex_flow": null,
            "grid_area": null,
            "grid_auto_columns": null,
            "grid_auto_flow": null,
            "grid_auto_rows": null,
            "grid_column": null,
            "grid_gap": null,
            "grid_row": null,
            "grid_template_areas": null,
            "grid_template_columns": null,
            "grid_template_rows": null,
            "height": null,
            "justify_content": null,
            "justify_items": null,
            "left": null,
            "margin": null,
            "max_height": null,
            "max_width": null,
            "min_height": null,
            "min_width": null,
            "object_fit": null,
            "object_position": null,
            "order": null,
            "overflow": null,
            "overflow_x": null,
            "overflow_y": null,
            "padding": null,
            "right": null,
            "top": null,
            "visibility": null,
            "width": null
          }
        },
        "63299d79a60c41738e256beff1bb36ec": {
          "model_module": "@jupyter-widgets/controls",
          "model_module_version": "1.5.0",
          "model_name": "HTMLModel",
          "state": {
            "_dom_classes": [],
            "_model_module": "@jupyter-widgets/controls",
            "_model_module_version": "1.5.0",
            "_model_name": "HTMLModel",
            "_view_count": null,
            "_view_module": "@jupyter-widgets/controls",
            "_view_module_version": "1.5.0",
            "_view_name": "HTMLView",
            "description": "",
            "description_tooltip": null,
            "layout": "IPY_MODEL_24b119d680d74f74bb5f3247b329b85a",
            "placeholder": "​",
            "style": "IPY_MODEL_c98ac5c7b0934885b7d356bf032740d8",
            "value": " 31.4M/31.4M [00:00&lt;00:00, 261MB/s]"
          }
        },
        "63b9ce99a19846a7bde1d459fb633e9a": {
          "model_module": "@jupyter-widgets/controls",
          "model_module_version": "1.5.0",
          "model_name": "HTMLModel",
          "state": {
            "_dom_classes": [],
            "_model_module": "@jupyter-widgets/controls",
            "_model_module_version": "1.5.0",
            "_model_name": "HTMLModel",
            "_view_count": null,
            "_view_module": "@jupyter-widgets/controls",
            "_view_module_version": "1.5.0",
            "_view_name": "HTMLView",
            "description": "",
            "description_tooltip": null,
            "layout": "IPY_MODEL_074d742b5cfd494bb1f1fa48c8bd2011",
            "placeholder": "​",
            "style": "IPY_MODEL_a46cb95f17ba47e6b251e7b06423b7f4",
            "value": " 72/2400 [00:26&lt;13:29,  2.88it/s]"
          }
        },
        "64eaceeb3c2d47379b53170c97ec6d8a": {
          "model_module": "@jupyter-widgets/base",
          "model_module_version": "1.2.0",
          "model_name": "LayoutModel",
          "state": {
            "_model_module": "@jupyter-widgets/base",
            "_model_module_version": "1.2.0",
            "_model_name": "LayoutModel",
            "_view_count": null,
            "_view_module": "@jupyter-widgets/base",
            "_view_module_version": "1.2.0",
            "_view_name": "LayoutView",
            "align_content": null,
            "align_items": null,
            "align_self": null,
            "border": null,
            "bottom": null,
            "display": null,
            "flex": null,
            "flex_flow": null,
            "grid_area": null,
            "grid_auto_columns": null,
            "grid_auto_flow": null,
            "grid_auto_rows": null,
            "grid_column": null,
            "grid_gap": null,
            "grid_row": null,
            "grid_template_areas": null,
            "grid_template_columns": null,
            "grid_template_rows": null,
            "height": null,
            "justify_content": null,
            "justify_items": null,
            "left": null,
            "margin": null,
            "max_height": null,
            "max_width": null,
            "min_height": null,
            "min_width": null,
            "object_fit": null,
            "object_position": null,
            "order": null,
            "overflow": null,
            "overflow_x": null,
            "overflow_y": null,
            "padding": null,
            "right": null,
            "top": null,
            "visibility": null,
            "width": null
          }
        },
        "6cb176286d1245198b0bd05ecf28fd07": {
          "model_module": "@jupyter-widgets/base",
          "model_module_version": "1.2.0",
          "model_name": "LayoutModel",
          "state": {
            "_model_module": "@jupyter-widgets/base",
            "_model_module_version": "1.2.0",
            "_model_name": "LayoutModel",
            "_view_count": null,
            "_view_module": "@jupyter-widgets/base",
            "_view_module_version": "1.2.0",
            "_view_name": "LayoutView",
            "align_content": null,
            "align_items": null,
            "align_self": null,
            "border": null,
            "bottom": null,
            "display": null,
            "flex": null,
            "flex_flow": null,
            "grid_area": null,
            "grid_auto_columns": null,
            "grid_auto_flow": null,
            "grid_auto_rows": null,
            "grid_column": null,
            "grid_gap": null,
            "grid_row": null,
            "grid_template_areas": null,
            "grid_template_columns": null,
            "grid_template_rows": null,
            "height": null,
            "justify_content": null,
            "justify_items": null,
            "left": null,
            "margin": null,
            "max_height": null,
            "max_width": null,
            "min_height": null,
            "min_width": null,
            "object_fit": null,
            "object_position": null,
            "order": null,
            "overflow": null,
            "overflow_x": null,
            "overflow_y": null,
            "padding": null,
            "right": null,
            "top": null,
            "visibility": null,
            "width": null
          }
        },
        "6cc779401fe4419aa4e5ef0346683623": {
          "model_module": "@jupyter-widgets/controls",
          "model_module_version": "1.5.0",
          "model_name": "DescriptionStyleModel",
          "state": {
            "_model_module": "@jupyter-widgets/controls",
            "_model_module_version": "1.5.0",
            "_model_name": "DescriptionStyleModel",
            "_view_count": null,
            "_view_module": "@jupyter-widgets/base",
            "_view_module_version": "1.2.0",
            "_view_name": "StyleView",
            "description_width": ""
          }
        },
        "6d946fa0cd0c46d293dd298b6dbc5d5e": {
          "model_module": "@jupyter-widgets/controls",
          "model_module_version": "1.5.0",
          "model_name": "HBoxModel",
          "state": {
            "_dom_classes": [],
            "_model_module": "@jupyter-widgets/controls",
            "_model_module_version": "1.5.0",
            "_model_name": "HBoxModel",
            "_view_count": null,
            "_view_module": "@jupyter-widgets/controls",
            "_view_module_version": "1.5.0",
            "_view_name": "HBoxView",
            "box_style": "",
            "children": [
              "IPY_MODEL_4046342421684e0a9cc985af58e978ec",
              "IPY_MODEL_c0e52b15d1aa4535b7f04392efca27a3",
              "IPY_MODEL_01073d442f454489a0ee865b9202a5d2"
            ],
            "layout": "IPY_MODEL_219c61936daf457f9c406822df6d581c"
          }
        },
        "6e3c8fa459d24dc9a4415b90c017ab02": {
          "model_module": "@jupyter-widgets/base",
          "model_module_version": "1.2.0",
          "model_name": "LayoutModel",
          "state": {
            "_model_module": "@jupyter-widgets/base",
            "_model_module_version": "1.2.0",
            "_model_name": "LayoutModel",
            "_view_count": null,
            "_view_module": "@jupyter-widgets/base",
            "_view_module_version": "1.2.0",
            "_view_name": "LayoutView",
            "align_content": null,
            "align_items": null,
            "align_self": null,
            "border": null,
            "bottom": null,
            "display": null,
            "flex": null,
            "flex_flow": null,
            "grid_area": null,
            "grid_auto_columns": null,
            "grid_auto_flow": null,
            "grid_auto_rows": null,
            "grid_column": null,
            "grid_gap": null,
            "grid_row": null,
            "grid_template_areas": null,
            "grid_template_columns": null,
            "grid_template_rows": null,
            "height": null,
            "justify_content": null,
            "justify_items": null,
            "left": null,
            "margin": null,
            "max_height": null,
            "max_width": null,
            "min_height": null,
            "min_width": null,
            "object_fit": null,
            "object_position": null,
            "order": null,
            "overflow": null,
            "overflow_x": null,
            "overflow_y": null,
            "padding": null,
            "right": null,
            "top": null,
            "visibility": null,
            "width": null
          }
        },
        "70cd7f446a28444eb2308b500f96df6c": {
          "model_module": "@jupyter-widgets/controls",
          "model_module_version": "1.5.0",
          "model_name": "HTMLModel",
          "state": {
            "_dom_classes": [],
            "_model_module": "@jupyter-widgets/controls",
            "_model_module_version": "1.5.0",
            "_model_name": "HTMLModel",
            "_view_count": null,
            "_view_module": "@jupyter-widgets/controls",
            "_view_module_version": "1.5.0",
            "_view_name": "HTMLView",
            "description": "",
            "description_tooltip": null,
            "layout": "IPY_MODEL_2cbc3f4abe79421b8c13144190f4c8c1",
            "placeholder": "​",
            "style": "IPY_MODEL_47f9ee1095b64742879f9c126d592661",
            "value": "model.safetensors: 100%"
          }
        },
        "76029621497445b3a7201c14f01be0bf": {
          "model_module": "@jupyter-widgets/controls",
          "model_module_version": "1.5.0",
          "model_name": "FloatProgressModel",
          "state": {
            "_dom_classes": [],
            "_model_module": "@jupyter-widgets/controls",
            "_model_module_version": "1.5.0",
            "_model_name": "FloatProgressModel",
            "_view_count": null,
            "_view_module": "@jupyter-widgets/controls",
            "_view_module_version": "1.5.0",
            "_view_name": "ProgressView",
            "bar_style": "success",
            "description": "",
            "description_tooltip": null,
            "layout": "IPY_MODEL_1046b8a2c876460c9ca12e1e135daab8",
            "max": 6000,
            "min": 0,
            "orientation": "horizontal",
            "style": "IPY_MODEL_05c77ff052344c149623eb84a6d921c9",
            "value": 6000
          }
        },
        "792d2fc70dec4e43848d1632a10807cb": {
          "model_module": "@jupyter-widgets/base",
          "model_module_version": "1.2.0",
          "model_name": "LayoutModel",
          "state": {
            "_model_module": "@jupyter-widgets/base",
            "_model_module_version": "1.2.0",
            "_model_name": "LayoutModel",
            "_view_count": null,
            "_view_module": "@jupyter-widgets/base",
            "_view_module_version": "1.2.0",
            "_view_name": "LayoutView",
            "align_content": null,
            "align_items": null,
            "align_self": null,
            "border": null,
            "bottom": null,
            "display": null,
            "flex": null,
            "flex_flow": null,
            "grid_area": null,
            "grid_auto_columns": null,
            "grid_auto_flow": null,
            "grid_auto_rows": null,
            "grid_column": null,
            "grid_gap": null,
            "grid_row": null,
            "grid_template_areas": null,
            "grid_template_columns": null,
            "grid_template_rows": null,
            "height": null,
            "justify_content": null,
            "justify_items": null,
            "left": null,
            "margin": null,
            "max_height": null,
            "max_width": null,
            "min_height": null,
            "min_width": null,
            "object_fit": null,
            "object_position": null,
            "order": null,
            "overflow": null,
            "overflow_x": null,
            "overflow_y": null,
            "padding": null,
            "right": null,
            "top": null,
            "visibility": null,
            "width": null
          }
        },
        "7d97609ed06840dcb0363d15a4284623": {
          "model_module": "@jupyter-widgets/base",
          "model_module_version": "1.2.0",
          "model_name": "LayoutModel",
          "state": {
            "_model_module": "@jupyter-widgets/base",
            "_model_module_version": "1.2.0",
            "_model_name": "LayoutModel",
            "_view_count": null,
            "_view_module": "@jupyter-widgets/base",
            "_view_module_version": "1.2.0",
            "_view_name": "LayoutView",
            "align_content": null,
            "align_items": null,
            "align_self": null,
            "border": null,
            "bottom": null,
            "display": null,
            "flex": null,
            "flex_flow": null,
            "grid_area": null,
            "grid_auto_columns": null,
            "grid_auto_flow": null,
            "grid_auto_rows": null,
            "grid_column": null,
            "grid_gap": null,
            "grid_row": null,
            "grid_template_areas": null,
            "grid_template_columns": null,
            "grid_template_rows": null,
            "height": null,
            "justify_content": null,
            "justify_items": null,
            "left": null,
            "margin": null,
            "max_height": null,
            "max_width": null,
            "min_height": null,
            "min_width": null,
            "object_fit": null,
            "object_position": null,
            "order": null,
            "overflow": null,
            "overflow_x": null,
            "overflow_y": null,
            "padding": null,
            "right": null,
            "top": null,
            "visibility": null,
            "width": null
          }
        },
        "7df55faaabc14e02969edf28bcc0e6dc": {
          "model_module": "@jupyter-widgets/controls",
          "model_module_version": "1.5.0",
          "model_name": "DescriptionStyleModel",
          "state": {
            "_model_module": "@jupyter-widgets/controls",
            "_model_module_version": "1.5.0",
            "_model_name": "DescriptionStyleModel",
            "_view_count": null,
            "_view_module": "@jupyter-widgets/base",
            "_view_module_version": "1.2.0",
            "_view_name": "StyleView",
            "description_width": ""
          }
        },
        "7e86571d9d0a4f2e954ac1cb658672b1": {
          "model_module": "@jupyter-widgets/base",
          "model_module_version": "1.2.0",
          "model_name": "LayoutModel",
          "state": {
            "_model_module": "@jupyter-widgets/base",
            "_model_module_version": "1.2.0",
            "_model_name": "LayoutModel",
            "_view_count": null,
            "_view_module": "@jupyter-widgets/base",
            "_view_module_version": "1.2.0",
            "_view_name": "LayoutView",
            "align_content": null,
            "align_items": null,
            "align_self": null,
            "border": null,
            "bottom": null,
            "display": null,
            "flex": null,
            "flex_flow": null,
            "grid_area": null,
            "grid_auto_columns": null,
            "grid_auto_flow": null,
            "grid_auto_rows": null,
            "grid_column": null,
            "grid_gap": null,
            "grid_row": null,
            "grid_template_areas": null,
            "grid_template_columns": null,
            "grid_template_rows": null,
            "height": null,
            "justify_content": null,
            "justify_items": null,
            "left": null,
            "margin": null,
            "max_height": null,
            "max_width": null,
            "min_height": null,
            "min_width": null,
            "object_fit": null,
            "object_position": null,
            "order": null,
            "overflow": null,
            "overflow_x": null,
            "overflow_y": null,
            "padding": null,
            "right": null,
            "top": null,
            "visibility": null,
            "width": null
          }
        },
        "7f57f2e53a5645a88d364ed114dfb6d3": {
          "model_module": "@jupyter-widgets/controls",
          "model_module_version": "1.5.0",
          "model_name": "HTMLModel",
          "state": {
            "_dom_classes": [],
            "_model_module": "@jupyter-widgets/controls",
            "_model_module_version": "1.5.0",
            "_model_name": "HTMLModel",
            "_view_count": null,
            "_view_module": "@jupyter-widgets/controls",
            "_view_module_version": "1.5.0",
            "_view_name": "HTMLView",
            "description": "",
            "description_tooltip": null,
            "layout": "IPY_MODEL_6e3c8fa459d24dc9a4415b90c017ab02",
            "placeholder": "​",
            "style": "IPY_MODEL_0020fe372291458282c5d9399d9d8234",
            "value": "100%"
          }
        },
        "809a082f24d547c69eec8c11480ff2f2": {
          "model_module": "@jupyter-widgets/base",
          "model_module_version": "1.2.0",
          "model_name": "LayoutModel",
          "state": {
            "_model_module": "@jupyter-widgets/base",
            "_model_module_version": "1.2.0",
            "_model_name": "LayoutModel",
            "_view_count": null,
            "_view_module": "@jupyter-widgets/base",
            "_view_module_version": "1.2.0",
            "_view_name": "LayoutView",
            "align_content": null,
            "align_items": null,
            "align_self": null,
            "border": null,
            "bottom": null,
            "display": null,
            "flex": null,
            "flex_flow": null,
            "grid_area": null,
            "grid_auto_columns": null,
            "grid_auto_flow": null,
            "grid_auto_rows": null,
            "grid_column": null,
            "grid_gap": null,
            "grid_row": null,
            "grid_template_areas": null,
            "grid_template_columns": null,
            "grid_template_rows": null,
            "height": null,
            "justify_content": null,
            "justify_items": null,
            "left": null,
            "margin": null,
            "max_height": null,
            "max_width": null,
            "min_height": null,
            "min_width": null,
            "object_fit": null,
            "object_position": null,
            "order": null,
            "overflow": null,
            "overflow_x": null,
            "overflow_y": null,
            "padding": null,
            "right": null,
            "top": null,
            "visibility": null,
            "width": null
          }
        },
        "85139511499840aaaa0291aa9b259029": {
          "model_module": "@jupyter-widgets/controls",
          "model_module_version": "1.5.0",
          "model_name": "HBoxModel",
          "state": {
            "_dom_classes": [],
            "_model_module": "@jupyter-widgets/controls",
            "_model_module_version": "1.5.0",
            "_model_name": "HBoxModel",
            "_view_count": null,
            "_view_module": "@jupyter-widgets/controls",
            "_view_module_version": "1.5.0",
            "_view_name": "HBoxView",
            "box_style": "",
            "children": [
              "IPY_MODEL_70cd7f446a28444eb2308b500f96df6c",
              "IPY_MODEL_9838c753e0c54c9589dad4178704c11a",
              "IPY_MODEL_63299d79a60c41738e256beff1bb36ec"
            ],
            "layout": "IPY_MODEL_532b8841611b4cd7847680d45acec0ef"
          }
        },
        "86366972542641d7959902a2e5093205": {
          "model_module": "@jupyter-widgets/controls",
          "model_module_version": "1.5.0",
          "model_name": "HTMLModel",
          "state": {
            "_dom_classes": [],
            "_model_module": "@jupyter-widgets/controls",
            "_model_module_version": "1.5.0",
            "_model_name": "HTMLModel",
            "_view_count": null,
            "_view_module": "@jupyter-widgets/controls",
            "_view_module_version": "1.5.0",
            "_view_name": "HTMLView",
            "description": "",
            "description_tooltip": null,
            "layout": "IPY_MODEL_792d2fc70dec4e43848d1632a10807cb",
            "placeholder": "​",
            "style": "IPY_MODEL_ba20f37a859e42898544656095a3baaf",
            "value": " 38400/38400 [00:01&lt;00:00, 17342.12it/s]"
          }
        },
        "8a0e5ddc736b4434955bef4ef0116281": {
          "model_module": "@jupyter-widgets/controls",
          "model_module_version": "1.5.0",
          "model_name": "FloatProgressModel",
          "state": {
            "_dom_classes": [],
            "_model_module": "@jupyter-widgets/controls",
            "_model_module_version": "1.5.0",
            "_model_name": "FloatProgressModel",
            "_view_count": null,
            "_view_module": "@jupyter-widgets/controls",
            "_view_module_version": "1.5.0",
            "_view_name": "ProgressView",
            "bar_style": "success",
            "description": "",
            "description_tooltip": null,
            "layout": "IPY_MODEL_ab88b5625fff4af2a2a4810a9d859aa0",
            "max": 38400,
            "min": 0,
            "orientation": "horizontal",
            "style": "IPY_MODEL_006fed2cf94f4092aac621cf3142a9da",
            "value": 38400
          }
        },
        "8cac7a919ab44c46b3f962f50420a2fa": {
          "model_module": "@jupyter-widgets/controls",
          "model_module_version": "1.5.0",
          "model_name": "HBoxModel",
          "state": {
            "_dom_classes": [],
            "_model_module": "@jupyter-widgets/controls",
            "_model_module_version": "1.5.0",
            "_model_name": "HBoxModel",
            "_view_count": null,
            "_view_module": "@jupyter-widgets/controls",
            "_view_module_version": "1.5.0",
            "_view_name": "HBoxView",
            "box_style": "",
            "children": [
              "IPY_MODEL_3026ea7096f941c388c05a59a3048b87",
              "IPY_MODEL_b89b7dd339de4eaaaead316f923a80bd",
              "IPY_MODEL_c0d4e44de7d74de0bde31bc5876ab5b6"
            ],
            "layout": "IPY_MODEL_53d8db00841244df980dbdab604f368c"
          }
        },
        "92737cc4e32d4ff2b7d10e2228b4ded8": {
          "model_module": "@jupyter-widgets/controls",
          "model_module_version": "1.5.0",
          "model_name": "DescriptionStyleModel",
          "state": {
            "_model_module": "@jupyter-widgets/controls",
            "_model_module_version": "1.5.0",
            "_model_name": "DescriptionStyleModel",
            "_view_count": null,
            "_view_module": "@jupyter-widgets/base",
            "_view_module_version": "1.2.0",
            "_view_name": "StyleView",
            "description_width": ""
          }
        },
        "93213f728404408287171abecb5687cc": {
          "model_module": "@jupyter-widgets/base",
          "model_module_version": "1.2.0",
          "model_name": "LayoutModel",
          "state": {
            "_model_module": "@jupyter-widgets/base",
            "_model_module_version": "1.2.0",
            "_model_name": "LayoutModel",
            "_view_count": null,
            "_view_module": "@jupyter-widgets/base",
            "_view_module_version": "1.2.0",
            "_view_name": "LayoutView",
            "align_content": null,
            "align_items": null,
            "align_self": null,
            "border": null,
            "bottom": null,
            "display": null,
            "flex": null,
            "flex_flow": null,
            "grid_area": null,
            "grid_auto_columns": null,
            "grid_auto_flow": null,
            "grid_auto_rows": null,
            "grid_column": null,
            "grid_gap": null,
            "grid_row": null,
            "grid_template_areas": null,
            "grid_template_columns": null,
            "grid_template_rows": null,
            "height": null,
            "justify_content": null,
            "justify_items": null,
            "left": null,
            "margin": null,
            "max_height": null,
            "max_width": null,
            "min_height": null,
            "min_width": null,
            "object_fit": null,
            "object_position": null,
            "order": null,
            "overflow": null,
            "overflow_x": null,
            "overflow_y": null,
            "padding": null,
            "right": null,
            "top": null,
            "visibility": null,
            "width": null
          }
        },
        "9838c753e0c54c9589dad4178704c11a": {
          "model_module": "@jupyter-widgets/controls",
          "model_module_version": "1.5.0",
          "model_name": "FloatProgressModel",
          "state": {
            "_dom_classes": [],
            "_model_module": "@jupyter-widgets/controls",
            "_model_module_version": "1.5.0",
            "_model_name": "FloatProgressModel",
            "_view_count": null,
            "_view_module": "@jupyter-widgets/controls",
            "_view_module_version": "1.5.0",
            "_view_name": "ProgressView",
            "bar_style": "success",
            "description": "",
            "description_tooltip": null,
            "layout": "IPY_MODEL_debbd748b1e74c53a7a34434b63adb6e",
            "max": 31384292,
            "min": 0,
            "orientation": "horizontal",
            "style": "IPY_MODEL_b8e1060091004da2a44892d22c0fb8c2",
            "value": 31384292
          }
        },
        "986a4eff776145ed91fbbd38722dd809": {
          "model_module": "@jupyter-widgets/controls",
          "model_module_version": "1.5.0",
          "model_name": "FloatProgressModel",
          "state": {
            "_dom_classes": [],
            "_model_module": "@jupyter-widgets/controls",
            "_model_module_version": "1.5.0",
            "_model_name": "FloatProgressModel",
            "_view_count": null,
            "_view_module": "@jupyter-widgets/controls",
            "_view_module_version": "1.5.0",
            "_view_name": "ProgressView",
            "bar_style": "",
            "description": "",
            "description_tooltip": null,
            "layout": "IPY_MODEL_b475b6f6c0dc45b8bc9052ddcb4f620a",
            "max": 20,
            "min": 0,
            "orientation": "horizontal",
            "style": "IPY_MODEL_515d259417504d50992a6fb491509e0e",
            "value": 0
          }
        },
        "986cff2ca6dc4ba2b9f13fb4ccd8789a": {
          "model_module": "@jupyter-widgets/controls",
          "model_module_version": "1.5.0",
          "model_name": "DescriptionStyleModel",
          "state": {
            "_model_module": "@jupyter-widgets/controls",
            "_model_module_version": "1.5.0",
            "_model_name": "DescriptionStyleModel",
            "_view_count": null,
            "_view_module": "@jupyter-widgets/base",
            "_view_module_version": "1.2.0",
            "_view_name": "StyleView",
            "description_width": ""
          }
        },
        "9905bc4a67984d409080e8324fb56e5b": {
          "model_module": "@jupyter-widgets/controls",
          "model_module_version": "1.5.0",
          "model_name": "HTMLModel",
          "state": {
            "_dom_classes": [],
            "_model_module": "@jupyter-widgets/controls",
            "_model_module_version": "1.5.0",
            "_model_name": "HTMLModel",
            "_view_count": null,
            "_view_module": "@jupyter-widgets/controls",
            "_view_module_version": "1.5.0",
            "_view_name": "HTMLView",
            "description": "",
            "description_tooltip": null,
            "layout": "IPY_MODEL_5caa5b1aae26497192db2dac32c7b4ba",
            "placeholder": "​",
            "style": "IPY_MODEL_322d43cd37414401934d05614eeea278",
            "value": "Iteration:   3%"
          }
        },
        "991bbe69a70f465ab76fd175fe57a1c9": {
          "model_module": "@jupyter-widgets/controls",
          "model_module_version": "1.5.0",
          "model_name": "HTMLModel",
          "state": {
            "_dom_classes": [],
            "_model_module": "@jupyter-widgets/controls",
            "_model_module_version": "1.5.0",
            "_model_name": "HTMLModel",
            "_view_count": null,
            "_view_module": "@jupyter-widgets/controls",
            "_view_module_version": "1.5.0",
            "_view_name": "HTMLView",
            "description": "",
            "description_tooltip": null,
            "layout": "IPY_MODEL_a2add141b0aa47e59cc7b7fc65b26aa3",
            "placeholder": "​",
            "style": "IPY_MODEL_6cc779401fe4419aa4e5ef0346683623",
            "value": " 38400/38400 [00:01&lt;00:00, 19995.38it/s]"
          }
        },
        "9d021bf7829347909aa61c7462c92dd6": {
          "model_module": "@jupyter-widgets/controls",
          "model_module_version": "1.5.0",
          "model_name": "ProgressStyleModel",
          "state": {
            "_model_module": "@jupyter-widgets/controls",
            "_model_module_version": "1.5.0",
            "_model_name": "ProgressStyleModel",
            "_view_count": null,
            "_view_module": "@jupyter-widgets/base",
            "_view_module_version": "1.2.0",
            "_view_name": "StyleView",
            "bar_color": null,
            "description_width": ""
          }
        },
        "9e8f9c6da399459cb99922e9edeec60c": {
          "model_module": "@jupyter-widgets/controls",
          "model_module_version": "1.5.0",
          "model_name": "FloatProgressModel",
          "state": {
            "_dom_classes": [],
            "_model_module": "@jupyter-widgets/controls",
            "_model_module_version": "1.5.0",
            "_model_name": "FloatProgressModel",
            "_view_count": null,
            "_view_module": "@jupyter-widgets/controls",
            "_view_module_version": "1.5.0",
            "_view_name": "ProgressView",
            "bar_style": "success",
            "description": "",
            "description_tooltip": null,
            "layout": "IPY_MODEL_b03a6a9708bc4016876e7da2dd1f67a4",
            "max": 6000,
            "min": 0,
            "orientation": "horizontal",
            "style": "IPY_MODEL_1ac830f19cfb42fc9da0e1e52bd4da8b",
            "value": 6000
          }
        },
        "a2add141b0aa47e59cc7b7fc65b26aa3": {
          "model_module": "@jupyter-widgets/base",
          "model_module_version": "1.2.0",
          "model_name": "LayoutModel",
          "state": {
            "_model_module": "@jupyter-widgets/base",
            "_model_module_version": "1.2.0",
            "_model_name": "LayoutModel",
            "_view_count": null,
            "_view_module": "@jupyter-widgets/base",
            "_view_module_version": "1.2.0",
            "_view_name": "LayoutView",
            "align_content": null,
            "align_items": null,
            "align_self": null,
            "border": null,
            "bottom": null,
            "display": null,
            "flex": null,
            "flex_flow": null,
            "grid_area": null,
            "grid_auto_columns": null,
            "grid_auto_flow": null,
            "grid_auto_rows": null,
            "grid_column": null,
            "grid_gap": null,
            "grid_row": null,
            "grid_template_areas": null,
            "grid_template_columns": null,
            "grid_template_rows": null,
            "height": null,
            "justify_content": null,
            "justify_items": null,
            "left": null,
            "margin": null,
            "max_height": null,
            "max_width": null,
            "min_height": null,
            "min_width": null,
            "object_fit": null,
            "object_position": null,
            "order": null,
            "overflow": null,
            "overflow_x": null,
            "overflow_y": null,
            "padding": null,
            "right": null,
            "top": null,
            "visibility": null,
            "width": null
          }
        },
        "a3ae6374c10442a6a9a84b724425859c": {
          "model_module": "@jupyter-widgets/base",
          "model_module_version": "1.2.0",
          "model_name": "LayoutModel",
          "state": {
            "_model_module": "@jupyter-widgets/base",
            "_model_module_version": "1.2.0",
            "_model_name": "LayoutModel",
            "_view_count": null,
            "_view_module": "@jupyter-widgets/base",
            "_view_module_version": "1.2.0",
            "_view_name": "LayoutView",
            "align_content": null,
            "align_items": null,
            "align_self": null,
            "border": null,
            "bottom": null,
            "display": null,
            "flex": null,
            "flex_flow": null,
            "grid_area": null,
            "grid_auto_columns": null,
            "grid_auto_flow": null,
            "grid_auto_rows": null,
            "grid_column": null,
            "grid_gap": null,
            "grid_row": null,
            "grid_template_areas": null,
            "grid_template_columns": null,
            "grid_template_rows": null,
            "height": null,
            "justify_content": null,
            "justify_items": null,
            "left": null,
            "margin": null,
            "max_height": null,
            "max_width": null,
            "min_height": null,
            "min_width": null,
            "object_fit": null,
            "object_position": null,
            "order": null,
            "overflow": null,
            "overflow_x": null,
            "overflow_y": null,
            "padding": null,
            "right": null,
            "top": null,
            "visibility": null,
            "width": null
          }
        },
        "a46cb95f17ba47e6b251e7b06423b7f4": {
          "model_module": "@jupyter-widgets/controls",
          "model_module_version": "1.5.0",
          "model_name": "DescriptionStyleModel",
          "state": {
            "_model_module": "@jupyter-widgets/controls",
            "_model_module_version": "1.5.0",
            "_model_name": "DescriptionStyleModel",
            "_view_count": null,
            "_view_module": "@jupyter-widgets/base",
            "_view_module_version": "1.2.0",
            "_view_name": "StyleView",
            "description_width": ""
          }
        },
        "a67f99126b924f078df495bcadbdc6d9": {
          "model_module": "@jupyter-widgets/base",
          "model_module_version": "1.2.0",
          "model_name": "LayoutModel",
          "state": {
            "_model_module": "@jupyter-widgets/base",
            "_model_module_version": "1.2.0",
            "_model_name": "LayoutModel",
            "_view_count": null,
            "_view_module": "@jupyter-widgets/base",
            "_view_module_version": "1.2.0",
            "_view_name": "LayoutView",
            "align_content": null,
            "align_items": null,
            "align_self": null,
            "border": null,
            "bottom": null,
            "display": null,
            "flex": null,
            "flex_flow": null,
            "grid_area": null,
            "grid_auto_columns": null,
            "grid_auto_flow": null,
            "grid_auto_rows": null,
            "grid_column": null,
            "grid_gap": null,
            "grid_row": null,
            "grid_template_areas": null,
            "grid_template_columns": null,
            "grid_template_rows": null,
            "height": null,
            "justify_content": null,
            "justify_items": null,
            "left": null,
            "margin": null,
            "max_height": null,
            "max_width": null,
            "min_height": null,
            "min_width": null,
            "object_fit": null,
            "object_position": null,
            "order": null,
            "overflow": null,
            "overflow_x": null,
            "overflow_y": null,
            "padding": null,
            "right": null,
            "top": null,
            "visibility": null,
            "width": null
          }
        },
        "a7fdff163358441cb0f08a63afbe9ad9": {
          "model_module": "@jupyter-widgets/base",
          "model_module_version": "1.2.0",
          "model_name": "LayoutModel",
          "state": {
            "_model_module": "@jupyter-widgets/base",
            "_model_module_version": "1.2.0",
            "_model_name": "LayoutModel",
            "_view_count": null,
            "_view_module": "@jupyter-widgets/base",
            "_view_module_version": "1.2.0",
            "_view_name": "LayoutView",
            "align_content": null,
            "align_items": null,
            "align_self": null,
            "border": null,
            "bottom": null,
            "display": null,
            "flex": null,
            "flex_flow": null,
            "grid_area": null,
            "grid_auto_columns": null,
            "grid_auto_flow": null,
            "grid_auto_rows": null,
            "grid_column": null,
            "grid_gap": null,
            "grid_row": null,
            "grid_template_areas": null,
            "grid_template_columns": null,
            "grid_template_rows": null,
            "height": null,
            "justify_content": null,
            "justify_items": null,
            "left": null,
            "margin": null,
            "max_height": null,
            "max_width": null,
            "min_height": null,
            "min_width": null,
            "object_fit": null,
            "object_position": null,
            "order": null,
            "overflow": null,
            "overflow_x": null,
            "overflow_y": null,
            "padding": null,
            "right": null,
            "top": null,
            "visibility": null,
            "width": null
          }
        },
        "a8201103035e40d5927f2a78eeef0dfa": {
          "model_module": "@jupyter-widgets/base",
          "model_module_version": "1.2.0",
          "model_name": "LayoutModel",
          "state": {
            "_model_module": "@jupyter-widgets/base",
            "_model_module_version": "1.2.0",
            "_model_name": "LayoutModel",
            "_view_count": null,
            "_view_module": "@jupyter-widgets/base",
            "_view_module_version": "1.2.0",
            "_view_name": "LayoutView",
            "align_content": null,
            "align_items": null,
            "align_self": null,
            "border": null,
            "bottom": null,
            "display": null,
            "flex": null,
            "flex_flow": null,
            "grid_area": null,
            "grid_auto_columns": null,
            "grid_auto_flow": null,
            "grid_auto_rows": null,
            "grid_column": null,
            "grid_gap": null,
            "grid_row": null,
            "grid_template_areas": null,
            "grid_template_columns": null,
            "grid_template_rows": null,
            "height": null,
            "justify_content": null,
            "justify_items": null,
            "left": null,
            "margin": null,
            "max_height": null,
            "max_width": null,
            "min_height": null,
            "min_width": null,
            "object_fit": null,
            "object_position": null,
            "order": null,
            "overflow": null,
            "overflow_x": null,
            "overflow_y": null,
            "padding": null,
            "right": null,
            "top": null,
            "visibility": null,
            "width": null
          }
        },
        "ab88b5625fff4af2a2a4810a9d859aa0": {
          "model_module": "@jupyter-widgets/base",
          "model_module_version": "1.2.0",
          "model_name": "LayoutModel",
          "state": {
            "_model_module": "@jupyter-widgets/base",
            "_model_module_version": "1.2.0",
            "_model_name": "LayoutModel",
            "_view_count": null,
            "_view_module": "@jupyter-widgets/base",
            "_view_module_version": "1.2.0",
            "_view_name": "LayoutView",
            "align_content": null,
            "align_items": null,
            "align_self": null,
            "border": null,
            "bottom": null,
            "display": null,
            "flex": null,
            "flex_flow": null,
            "grid_area": null,
            "grid_auto_columns": null,
            "grid_auto_flow": null,
            "grid_auto_rows": null,
            "grid_column": null,
            "grid_gap": null,
            "grid_row": null,
            "grid_template_areas": null,
            "grid_template_columns": null,
            "grid_template_rows": null,
            "height": null,
            "justify_content": null,
            "justify_items": null,
            "left": null,
            "margin": null,
            "max_height": null,
            "max_width": null,
            "min_height": null,
            "min_width": null,
            "object_fit": null,
            "object_position": null,
            "order": null,
            "overflow": null,
            "overflow_x": null,
            "overflow_y": null,
            "padding": null,
            "right": null,
            "top": null,
            "visibility": null,
            "width": null
          }
        },
        "ae163e9b385c4d9ead5103bd78ee56ea": {
          "model_module": "@jupyter-widgets/controls",
          "model_module_version": "1.5.0",
          "model_name": "HTMLModel",
          "state": {
            "_dom_classes": [],
            "_model_module": "@jupyter-widgets/controls",
            "_model_module_version": "1.5.0",
            "_model_name": "HTMLModel",
            "_view_count": null,
            "_view_module": "@jupyter-widgets/controls",
            "_view_module_version": "1.5.0",
            "_view_name": "HTMLView",
            "description": "",
            "description_tooltip": null,
            "layout": "IPY_MODEL_5b5462e000dd4bb4a417cd6157190bb0",
            "placeholder": "​",
            "style": "IPY_MODEL_608a8b8e709248308069d5dbfd24b442",
            "value": "100%"
          }
        },
        "b03a6a9708bc4016876e7da2dd1f67a4": {
          "model_module": "@jupyter-widgets/base",
          "model_module_version": "1.2.0",
          "model_name": "LayoutModel",
          "state": {
            "_model_module": "@jupyter-widgets/base",
            "_model_module_version": "1.2.0",
            "_model_name": "LayoutModel",
            "_view_count": null,
            "_view_module": "@jupyter-widgets/base",
            "_view_module_version": "1.2.0",
            "_view_name": "LayoutView",
            "align_content": null,
            "align_items": null,
            "align_self": null,
            "border": null,
            "bottom": null,
            "display": null,
            "flex": null,
            "flex_flow": null,
            "grid_area": null,
            "grid_auto_columns": null,
            "grid_auto_flow": null,
            "grid_auto_rows": null,
            "grid_column": null,
            "grid_gap": null,
            "grid_row": null,
            "grid_template_areas": null,
            "grid_template_columns": null,
            "grid_template_rows": null,
            "height": null,
            "justify_content": null,
            "justify_items": null,
            "left": null,
            "margin": null,
            "max_height": null,
            "max_width": null,
            "min_height": null,
            "min_width": null,
            "object_fit": null,
            "object_position": null,
            "order": null,
            "overflow": null,
            "overflow_x": null,
            "overflow_y": null,
            "padding": null,
            "right": null,
            "top": null,
            "visibility": null,
            "width": null
          }
        },
        "b475b6f6c0dc45b8bc9052ddcb4f620a": {
          "model_module": "@jupyter-widgets/base",
          "model_module_version": "1.2.0",
          "model_name": "LayoutModel",
          "state": {
            "_model_module": "@jupyter-widgets/base",
            "_model_module_version": "1.2.0",
            "_model_name": "LayoutModel",
            "_view_count": null,
            "_view_module": "@jupyter-widgets/base",
            "_view_module_version": "1.2.0",
            "_view_name": "LayoutView",
            "align_content": null,
            "align_items": null,
            "align_self": null,
            "border": null,
            "bottom": null,
            "display": null,
            "flex": null,
            "flex_flow": null,
            "grid_area": null,
            "grid_auto_columns": null,
            "grid_auto_flow": null,
            "grid_auto_rows": null,
            "grid_column": null,
            "grid_gap": null,
            "grid_row": null,
            "grid_template_areas": null,
            "grid_template_columns": null,
            "grid_template_rows": null,
            "height": null,
            "justify_content": null,
            "justify_items": null,
            "left": null,
            "margin": null,
            "max_height": null,
            "max_width": null,
            "min_height": null,
            "min_width": null,
            "object_fit": null,
            "object_position": null,
            "order": null,
            "overflow": null,
            "overflow_x": null,
            "overflow_y": null,
            "padding": null,
            "right": null,
            "top": null,
            "visibility": null,
            "width": null
          }
        },
        "b76de5f1611a4c3aba959bfe5b34e807": {
          "model_module": "@jupyter-widgets/controls",
          "model_module_version": "1.5.0",
          "model_name": "HTMLModel",
          "state": {
            "_dom_classes": [],
            "_model_module": "@jupyter-widgets/controls",
            "_model_module_version": "1.5.0",
            "_model_name": "HTMLModel",
            "_view_count": null,
            "_view_module": "@jupyter-widgets/controls",
            "_view_module_version": "1.5.0",
            "_view_name": "HTMLView",
            "description": "",
            "description_tooltip": null,
            "layout": "IPY_MODEL_a8201103035e40d5927f2a78eeef0dfa",
            "placeholder": "​",
            "style": "IPY_MODEL_042f085bc8a344dd9b6100d4dd35d531",
            "value": "100%"
          }
        },
        "b89b7dd339de4eaaaead316f923a80bd": {
          "model_module": "@jupyter-widgets/controls",
          "model_module_version": "1.5.0",
          "model_name": "FloatProgressModel",
          "state": {
            "_dom_classes": [],
            "_model_module": "@jupyter-widgets/controls",
            "_model_module_version": "1.5.0",
            "_model_name": "FloatProgressModel",
            "_view_count": null,
            "_view_module": "@jupyter-widgets/controls",
            "_view_module_version": "1.5.0",
            "_view_name": "ProgressView",
            "bar_style": "success",
            "description": "",
            "description_tooltip": null,
            "layout": "IPY_MODEL_1cff491527f44dc6b71a7bad7f15be35",
            "max": 95,
            "min": 0,
            "orientation": "horizontal",
            "style": "IPY_MODEL_34bbd18949cf44c78e01a0c163937375",
            "value": 95
          }
        },
        "b8e1060091004da2a44892d22c0fb8c2": {
          "model_module": "@jupyter-widgets/controls",
          "model_module_version": "1.5.0",
          "model_name": "ProgressStyleModel",
          "state": {
            "_model_module": "@jupyter-widgets/controls",
            "_model_module_version": "1.5.0",
            "_model_name": "ProgressStyleModel",
            "_view_count": null,
            "_view_module": "@jupyter-widgets/base",
            "_view_module_version": "1.2.0",
            "_view_name": "StyleView",
            "bar_color": null,
            "description_width": ""
          }
        },
        "ba20f37a859e42898544656095a3baaf": {
          "model_module": "@jupyter-widgets/controls",
          "model_module_version": "1.5.0",
          "model_name": "DescriptionStyleModel",
          "state": {
            "_model_module": "@jupyter-widgets/controls",
            "_model_module_version": "1.5.0",
            "_model_name": "DescriptionStyleModel",
            "_view_count": null,
            "_view_module": "@jupyter-widgets/base",
            "_view_module_version": "1.2.0",
            "_view_name": "StyleView",
            "description_width": ""
          }
        },
        "bd84dd5e1e48406fa2f42bef0dee7265": {
          "model_module": "@jupyter-widgets/base",
          "model_module_version": "1.2.0",
          "model_name": "LayoutModel",
          "state": {
            "_model_module": "@jupyter-widgets/base",
            "_model_module_version": "1.2.0",
            "_model_name": "LayoutModel",
            "_view_count": null,
            "_view_module": "@jupyter-widgets/base",
            "_view_module_version": "1.2.0",
            "_view_name": "LayoutView",
            "align_content": null,
            "align_items": null,
            "align_self": null,
            "border": null,
            "bottom": null,
            "display": null,
            "flex": null,
            "flex_flow": null,
            "grid_area": null,
            "grid_auto_columns": null,
            "grid_auto_flow": null,
            "grid_auto_rows": null,
            "grid_column": null,
            "grid_gap": null,
            "grid_row": null,
            "grid_template_areas": null,
            "grid_template_columns": null,
            "grid_template_rows": null,
            "height": null,
            "justify_content": null,
            "justify_items": null,
            "left": null,
            "margin": null,
            "max_height": null,
            "max_width": null,
            "min_height": null,
            "min_width": null,
            "object_fit": null,
            "object_position": null,
            "order": null,
            "overflow": null,
            "overflow_x": null,
            "overflow_y": null,
            "padding": null,
            "right": null,
            "top": null,
            "visibility": null,
            "width": null
          }
        },
        "c0d4e44de7d74de0bde31bc5876ab5b6": {
          "model_module": "@jupyter-widgets/controls",
          "model_module_version": "1.5.0",
          "model_name": "HTMLModel",
          "state": {
            "_dom_classes": [],
            "_model_module": "@jupyter-widgets/controls",
            "_model_module_version": "1.5.0",
            "_model_name": "HTMLModel",
            "_view_count": null,
            "_view_module": "@jupyter-widgets/controls",
            "_view_module_version": "1.5.0",
            "_view_name": "HTMLView",
            "description": "",
            "description_tooltip": null,
            "layout": "IPY_MODEL_2ff14bb8c4224b3dbef2cac9926f4ab3",
            "placeholder": "​",
            "style": "IPY_MODEL_3c23d1c1082640edab284c1e3f3a176f",
            "value": " 95.0/95.0 [00:00&lt;00:00, 8.78kB/s]"
          }
        },
        "c0e52b15d1aa4535b7f04392efca27a3": {
          "model_module": "@jupyter-widgets/controls",
          "model_module_version": "1.5.0",
          "model_name": "FloatProgressModel",
          "state": {
            "_dom_classes": [],
            "_model_module": "@jupyter-widgets/controls",
            "_model_module_version": "1.5.0",
            "_model_name": "FloatProgressModel",
            "_view_count": null,
            "_view_module": "@jupyter-widgets/controls",
            "_view_module_version": "1.5.0",
            "_view_name": "ProgressView",
            "bar_style": "success",
            "description": "",
            "description_tooltip": null,
            "layout": "IPY_MODEL_bd84dd5e1e48406fa2f42bef0dee7265",
            "max": 93,
            "min": 0,
            "orientation": "horizontal",
            "style": "IPY_MODEL_c89aa59dbaca49afbd728bb7a92b9514",
            "value": 93
          }
        },
        "c1b56715cff94c3183b67728f633185a": {
          "model_module": "@jupyter-widgets/base",
          "model_module_version": "1.2.0",
          "model_name": "LayoutModel",
          "state": {
            "_model_module": "@jupyter-widgets/base",
            "_model_module_version": "1.2.0",
            "_model_name": "LayoutModel",
            "_view_count": null,
            "_view_module": "@jupyter-widgets/base",
            "_view_module_version": "1.2.0",
            "_view_name": "LayoutView",
            "align_content": null,
            "align_items": null,
            "align_self": null,
            "border": null,
            "bottom": null,
            "display": null,
            "flex": null,
            "flex_flow": null,
            "grid_area": null,
            "grid_auto_columns": null,
            "grid_auto_flow": null,
            "grid_auto_rows": null,
            "grid_column": null,
            "grid_gap": null,
            "grid_row": null,
            "grid_template_areas": null,
            "grid_template_columns": null,
            "grid_template_rows": null,
            "height": null,
            "justify_content": null,
            "justify_items": null,
            "left": null,
            "margin": null,
            "max_height": null,
            "max_width": null,
            "min_height": null,
            "min_width": null,
            "object_fit": null,
            "object_position": null,
            "order": null,
            "overflow": null,
            "overflow_x": null,
            "overflow_y": null,
            "padding": null,
            "right": null,
            "top": null,
            "visibility": null,
            "width": null
          }
        },
        "c84e6922981948f795d6f46acda01f83": {
          "model_module": "@jupyter-widgets/controls",
          "model_module_version": "1.5.0",
          "model_name": "ProgressStyleModel",
          "state": {
            "_model_module": "@jupyter-widgets/controls",
            "_model_module_version": "1.5.0",
            "_model_name": "ProgressStyleModel",
            "_view_count": null,
            "_view_module": "@jupyter-widgets/base",
            "_view_module_version": "1.2.0",
            "_view_name": "StyleView",
            "bar_color": null,
            "description_width": ""
          }
        },
        "c89aa59dbaca49afbd728bb7a92b9514": {
          "model_module": "@jupyter-widgets/controls",
          "model_module_version": "1.5.0",
          "model_name": "ProgressStyleModel",
          "state": {
            "_model_module": "@jupyter-widgets/controls",
            "_model_module_version": "1.5.0",
            "_model_name": "ProgressStyleModel",
            "_view_count": null,
            "_view_module": "@jupyter-widgets/base",
            "_view_module_version": "1.2.0",
            "_view_name": "StyleView",
            "bar_color": null,
            "description_width": ""
          }
        },
        "c98ac5c7b0934885b7d356bf032740d8": {
          "model_module": "@jupyter-widgets/controls",
          "model_module_version": "1.5.0",
          "model_name": "DescriptionStyleModel",
          "state": {
            "_model_module": "@jupyter-widgets/controls",
            "_model_module_version": "1.5.0",
            "_model_name": "DescriptionStyleModel",
            "_view_count": null,
            "_view_module": "@jupyter-widgets/base",
            "_view_module_version": "1.2.0",
            "_view_name": "StyleView",
            "description_width": ""
          }
        },
        "cd64c9e6b32a483d91aee82203b51533": {
          "model_module": "@jupyter-widgets/controls",
          "model_module_version": "1.5.0",
          "model_name": "HBoxModel",
          "state": {
            "_dom_classes": [],
            "_model_module": "@jupyter-widgets/controls",
            "_model_module_version": "1.5.0",
            "_model_name": "HBoxModel",
            "_view_count": null,
            "_view_module": "@jupyter-widgets/controls",
            "_view_module_version": "1.5.0",
            "_view_name": "HBoxView",
            "box_style": "",
            "children": [
              "IPY_MODEL_7f57f2e53a5645a88d364ed114dfb6d3",
              "IPY_MODEL_8a0e5ddc736b4434955bef4ef0116281",
              "IPY_MODEL_86366972542641d7959902a2e5093205"
            ],
            "layout": "IPY_MODEL_e96c8eed792248b6877ef5f7a3c40051"
          }
        },
        "d1d162f25f054608981117886fbbb030": {
          "model_module": "@jupyter-widgets/controls",
          "model_module_version": "1.5.0",
          "model_name": "HBoxModel",
          "state": {
            "_dom_classes": [],
            "_model_module": "@jupyter-widgets/controls",
            "_model_module_version": "1.5.0",
            "_model_name": "HBoxModel",
            "_view_count": null,
            "_view_module": "@jupyter-widgets/controls",
            "_view_module_version": "1.5.0",
            "_view_name": "HBoxView",
            "box_style": "",
            "children": [
              "IPY_MODEL_b76de5f1611a4c3aba959bfe5b34e807",
              "IPY_MODEL_76029621497445b3a7201c14f01be0bf",
              "IPY_MODEL_4d3b2bed0bed49be9c85dc6db4507e64"
            ],
            "layout": "IPY_MODEL_6cb176286d1245198b0bd05ecf28fd07"
          }
        },
        "d283ab48e13c4238a2b938a70ed590f4": {
          "model_module": "@jupyter-widgets/base",
          "model_module_version": "1.2.0",
          "model_name": "LayoutModel",
          "state": {
            "_model_module": "@jupyter-widgets/base",
            "_model_module_version": "1.2.0",
            "_model_name": "LayoutModel",
            "_view_count": null,
            "_view_module": "@jupyter-widgets/base",
            "_view_module_version": "1.2.0",
            "_view_name": "LayoutView",
            "align_content": null,
            "align_items": null,
            "align_self": null,
            "border": null,
            "bottom": null,
            "display": null,
            "flex": null,
            "flex_flow": null,
            "grid_area": null,
            "grid_auto_columns": null,
            "grid_auto_flow": null,
            "grid_auto_rows": null,
            "grid_column": null,
            "grid_gap": null,
            "grid_row": null,
            "grid_template_areas": null,
            "grid_template_columns": null,
            "grid_template_rows": null,
            "height": null,
            "justify_content": null,
            "justify_items": null,
            "left": null,
            "margin": null,
            "max_height": null,
            "max_width": null,
            "min_height": null,
            "min_width": null,
            "object_fit": null,
            "object_position": null,
            "order": null,
            "overflow": null,
            "overflow_x": null,
            "overflow_y": null,
            "padding": null,
            "right": null,
            "top": null,
            "visibility": null,
            "width": null
          }
        },
        "d2bb419098204dd3a87b9b282ed350ac": {
          "model_module": "@jupyter-widgets/base",
          "model_module_version": "1.2.0",
          "model_name": "LayoutModel",
          "state": {
            "_model_module": "@jupyter-widgets/base",
            "_model_module_version": "1.2.0",
            "_model_name": "LayoutModel",
            "_view_count": null,
            "_view_module": "@jupyter-widgets/base",
            "_view_module_version": "1.2.0",
            "_view_name": "LayoutView",
            "align_content": null,
            "align_items": null,
            "align_self": null,
            "border": null,
            "bottom": null,
            "display": null,
            "flex": null,
            "flex_flow": null,
            "grid_area": null,
            "grid_auto_columns": null,
            "grid_auto_flow": null,
            "grid_auto_rows": null,
            "grid_column": null,
            "grid_gap": null,
            "grid_row": null,
            "grid_template_areas": null,
            "grid_template_columns": null,
            "grid_template_rows": null,
            "height": null,
            "justify_content": null,
            "justify_items": null,
            "left": null,
            "margin": null,
            "max_height": null,
            "max_width": null,
            "min_height": null,
            "min_width": null,
            "object_fit": null,
            "object_position": null,
            "order": null,
            "overflow": null,
            "overflow_x": null,
            "overflow_y": null,
            "padding": null,
            "right": null,
            "top": null,
            "visibility": null,
            "width": null
          }
        },
        "d596cbc688cd4bd4a51afbf4916af60d": {
          "model_module": "@jupyter-widgets/controls",
          "model_module_version": "1.5.0",
          "model_name": "HBoxModel",
          "state": {
            "_dom_classes": [],
            "_model_module": "@jupyter-widgets/controls",
            "_model_module_version": "1.5.0",
            "_model_name": "HBoxModel",
            "_view_count": null,
            "_view_module": "@jupyter-widgets/controls",
            "_view_module_version": "1.5.0",
            "_view_name": "HBoxView",
            "box_style": "",
            "children": [
              "IPY_MODEL_9905bc4a67984d409080e8324fb56e5b",
              "IPY_MODEL_363d292bdb30487daeaf928478435158",
              "IPY_MODEL_63b9ce99a19846a7bde1d459fb633e9a"
            ],
            "layout": "IPY_MODEL_e0d9d0b9485d4d74971a740f8fe0c78a"
          }
        },
        "d68cf413a2084edbb6f9a809c992e200": {
          "model_module": "@jupyter-widgets/controls",
          "model_module_version": "1.5.0",
          "model_name": "DescriptionStyleModel",
          "state": {
            "_model_module": "@jupyter-widgets/controls",
            "_model_module_version": "1.5.0",
            "_model_name": "DescriptionStyleModel",
            "_view_count": null,
            "_view_module": "@jupyter-widgets/base",
            "_view_module_version": "1.2.0",
            "_view_name": "StyleView",
            "description_width": ""
          }
        },
        "debbd748b1e74c53a7a34434b63adb6e": {
          "model_module": "@jupyter-widgets/base",
          "model_module_version": "1.2.0",
          "model_name": "LayoutModel",
          "state": {
            "_model_module": "@jupyter-widgets/base",
            "_model_module_version": "1.2.0",
            "_model_name": "LayoutModel",
            "_view_count": null,
            "_view_module": "@jupyter-widgets/base",
            "_view_module_version": "1.2.0",
            "_view_name": "LayoutView",
            "align_content": null,
            "align_items": null,
            "align_self": null,
            "border": null,
            "bottom": null,
            "display": null,
            "flex": null,
            "flex_flow": null,
            "grid_area": null,
            "grid_auto_columns": null,
            "grid_auto_flow": null,
            "grid_auto_rows": null,
            "grid_column": null,
            "grid_gap": null,
            "grid_row": null,
            "grid_template_areas": null,
            "grid_template_columns": null,
            "grid_template_rows": null,
            "height": null,
            "justify_content": null,
            "justify_items": null,
            "left": null,
            "margin": null,
            "max_height": null,
            "max_width": null,
            "min_height": null,
            "min_width": null,
            "object_fit": null,
            "object_position": null,
            "order": null,
            "overflow": null,
            "overflow_x": null,
            "overflow_y": null,
            "padding": null,
            "right": null,
            "top": null,
            "visibility": null,
            "width": null
          }
        },
        "e0a5543fdd394504bc928fea9049dc89": {
          "model_module": "@jupyter-widgets/controls",
          "model_module_version": "1.5.0",
          "model_name": "HTMLModel",
          "state": {
            "_dom_classes": [],
            "_model_module": "@jupyter-widgets/controls",
            "_model_module_version": "1.5.0",
            "_model_name": "HTMLModel",
            "_view_count": null,
            "_view_module": "@jupyter-widgets/controls",
            "_view_module_version": "1.5.0",
            "_view_name": "HTMLView",
            "description": "",
            "description_tooltip": null,
            "layout": "IPY_MODEL_7d97609ed06840dcb0363d15a4284623",
            "placeholder": "​",
            "style": "IPY_MODEL_986cff2ca6dc4ba2b9f13fb4ccd8789a",
            "value": " 775/775 [00:00&lt;00:00, 73.3kB/s]"
          }
        },
        "e0d9d0b9485d4d74971a740f8fe0c78a": {
          "model_module": "@jupyter-widgets/base",
          "model_module_version": "1.2.0",
          "model_name": "LayoutModel",
          "state": {
            "_model_module": "@jupyter-widgets/base",
            "_model_module_version": "1.2.0",
            "_model_name": "LayoutModel",
            "_view_count": null,
            "_view_module": "@jupyter-widgets/base",
            "_view_module_version": "1.2.0",
            "_view_name": "LayoutView",
            "align_content": null,
            "align_items": null,
            "align_self": null,
            "border": null,
            "bottom": null,
            "display": null,
            "flex": null,
            "flex_flow": null,
            "grid_area": null,
            "grid_auto_columns": null,
            "grid_auto_flow": null,
            "grid_auto_rows": null,
            "grid_column": null,
            "grid_gap": null,
            "grid_row": null,
            "grid_template_areas": null,
            "grid_template_columns": null,
            "grid_template_rows": null,
            "height": null,
            "justify_content": null,
            "justify_items": null,
            "left": null,
            "margin": null,
            "max_height": null,
            "max_width": null,
            "min_height": null,
            "min_width": null,
            "object_fit": null,
            "object_position": null,
            "order": null,
            "overflow": null,
            "overflow_x": null,
            "overflow_y": null,
            "padding": null,
            "right": null,
            "top": null,
            "visibility": null,
            "width": null
          }
        },
        "e107e85aaf764a85a9ec5cc70aa9d753": {
          "model_module": "@jupyter-widgets/base",
          "model_module_version": "1.2.0",
          "model_name": "LayoutModel",
          "state": {
            "_model_module": "@jupyter-widgets/base",
            "_model_module_version": "1.2.0",
            "_model_name": "LayoutModel",
            "_view_count": null,
            "_view_module": "@jupyter-widgets/base",
            "_view_module_version": "1.2.0",
            "_view_name": "LayoutView",
            "align_content": null,
            "align_items": null,
            "align_self": null,
            "border": null,
            "bottom": null,
            "display": null,
            "flex": null,
            "flex_flow": null,
            "grid_area": null,
            "grid_auto_columns": null,
            "grid_auto_flow": null,
            "grid_auto_rows": null,
            "grid_column": null,
            "grid_gap": null,
            "grid_row": null,
            "grid_template_areas": null,
            "grid_template_columns": null,
            "grid_template_rows": null,
            "height": null,
            "justify_content": null,
            "justify_items": null,
            "left": null,
            "margin": null,
            "max_height": null,
            "max_width": null,
            "min_height": null,
            "min_width": null,
            "object_fit": null,
            "object_position": null,
            "order": null,
            "overflow": null,
            "overflow_x": null,
            "overflow_y": null,
            "padding": null,
            "right": null,
            "top": null,
            "visibility": null,
            "width": null
          }
        },
        "e1c5be623b89422e8a3b2964cfd00b26": {
          "model_module": "@jupyter-widgets/controls",
          "model_module_version": "1.5.0",
          "model_name": "HBoxModel",
          "state": {
            "_dom_classes": [],
            "_model_module": "@jupyter-widgets/controls",
            "_model_module_version": "1.5.0",
            "_model_name": "HBoxModel",
            "_view_count": null,
            "_view_module": "@jupyter-widgets/controls",
            "_view_module_version": "1.5.0",
            "_view_name": "HBoxView",
            "box_style": "",
            "children": [
              "IPY_MODEL_fde4985e631c43d4b785b7fb84b38d1a",
              "IPY_MODEL_4a6a845a07b5451f95c1c653f3083729",
              "IPY_MODEL_991bbe69a70f465ab76fd175fe57a1c9"
            ],
            "layout": "IPY_MODEL_297fd877549a41669700ad8a307c35eb"
          }
        },
        "e7775e52ce7c4fa384a826b9104538a6": {
          "model_module": "@jupyter-widgets/controls",
          "model_module_version": "1.5.0",
          "model_name": "ProgressStyleModel",
          "state": {
            "_model_module": "@jupyter-widgets/controls",
            "_model_module_version": "1.5.0",
            "_model_name": "ProgressStyleModel",
            "_view_count": null,
            "_view_module": "@jupyter-widgets/base",
            "_view_module_version": "1.2.0",
            "_view_name": "StyleView",
            "bar_color": null,
            "description_width": ""
          }
        },
        "e96c8eed792248b6877ef5f7a3c40051": {
          "model_module": "@jupyter-widgets/base",
          "model_module_version": "1.2.0",
          "model_name": "LayoutModel",
          "state": {
            "_model_module": "@jupyter-widgets/base",
            "_model_module_version": "1.2.0",
            "_model_name": "LayoutModel",
            "_view_count": null,
            "_view_module": "@jupyter-widgets/base",
            "_view_module_version": "1.2.0",
            "_view_name": "LayoutView",
            "align_content": null,
            "align_items": null,
            "align_self": null,
            "border": null,
            "bottom": null,
            "display": null,
            "flex": null,
            "flex_flow": null,
            "grid_area": null,
            "grid_auto_columns": null,
            "grid_auto_flow": null,
            "grid_auto_rows": null,
            "grid_column": null,
            "grid_gap": null,
            "grid_row": null,
            "grid_template_areas": null,
            "grid_template_columns": null,
            "grid_template_rows": null,
            "height": null,
            "justify_content": null,
            "justify_items": null,
            "left": null,
            "margin": null,
            "max_height": null,
            "max_width": null,
            "min_height": null,
            "min_width": null,
            "object_fit": null,
            "object_position": null,
            "order": null,
            "overflow": null,
            "overflow_x": null,
            "overflow_y": null,
            "padding": null,
            "right": null,
            "top": null,
            "visibility": null,
            "width": null
          }
        },
        "eb6d1e4545bd400586ad84b4f11c53fe": {
          "model_module": "@jupyter-widgets/base",
          "model_module_version": "1.2.0",
          "model_name": "LayoutModel",
          "state": {
            "_model_module": "@jupyter-widgets/base",
            "_model_module_version": "1.2.0",
            "_model_name": "LayoutModel",
            "_view_count": null,
            "_view_module": "@jupyter-widgets/base",
            "_view_module_version": "1.2.0",
            "_view_name": "LayoutView",
            "align_content": null,
            "align_items": null,
            "align_self": null,
            "border": null,
            "bottom": null,
            "display": null,
            "flex": null,
            "flex_flow": null,
            "grid_area": null,
            "grid_auto_columns": null,
            "grid_auto_flow": null,
            "grid_auto_rows": null,
            "grid_column": null,
            "grid_gap": null,
            "grid_row": null,
            "grid_template_areas": null,
            "grid_template_columns": null,
            "grid_template_rows": null,
            "height": null,
            "justify_content": null,
            "justify_items": null,
            "left": null,
            "margin": null,
            "max_height": null,
            "max_width": null,
            "min_height": null,
            "min_width": null,
            "object_fit": null,
            "object_position": null,
            "order": null,
            "overflow": null,
            "overflow_x": null,
            "overflow_y": null,
            "padding": null,
            "right": null,
            "top": null,
            "visibility": null,
            "width": null
          }
        },
        "f0d23df038fe44b58eaf034b0d40bac4": {
          "model_module": "@jupyter-widgets/controls",
          "model_module_version": "1.5.0",
          "model_name": "HTMLModel",
          "state": {
            "_dom_classes": [],
            "_model_module": "@jupyter-widgets/controls",
            "_model_module_version": "1.5.0",
            "_model_name": "HTMLModel",
            "_view_count": null,
            "_view_module": "@jupyter-widgets/controls",
            "_view_module_version": "1.5.0",
            "_view_name": "HTMLView",
            "description": "",
            "description_tooltip": null,
            "layout": "IPY_MODEL_809a082f24d547c69eec8c11480ff2f2",
            "placeholder": "​",
            "style": "IPY_MODEL_7df55faaabc14e02969edf28bcc0e6dc",
            "value": " 6000/6000 [00:00&lt;00:00, 25882.03it/s]"
          }
        },
        "fbbe49ec887c4b178f57c319667b8976": {
          "model_module": "@jupyter-widgets/controls",
          "model_module_version": "1.5.0",
          "model_name": "DescriptionStyleModel",
          "state": {
            "_model_module": "@jupyter-widgets/controls",
            "_model_module_version": "1.5.0",
            "_model_name": "DescriptionStyleModel",
            "_view_count": null,
            "_view_module": "@jupyter-widgets/base",
            "_view_module_version": "1.2.0",
            "_view_name": "StyleView",
            "description_width": ""
          }
        },
        "fcad4d74ce344c1a991d36cb9a318c12": {
          "model_module": "@jupyter-widgets/controls",
          "model_module_version": "1.5.0",
          "model_name": "HTMLModel",
          "state": {
            "_dom_classes": [],
            "_model_module": "@jupyter-widgets/controls",
            "_model_module_version": "1.5.0",
            "_model_name": "HTMLModel",
            "_view_count": null,
            "_view_module": "@jupyter-widgets/controls",
            "_view_module_version": "1.5.0",
            "_view_name": "HTMLView",
            "description": "",
            "description_tooltip": null,
            "layout": "IPY_MODEL_61d225636ae4414688511ad639e2136e",
            "placeholder": "​",
            "style": "IPY_MODEL_225d9c13325d40ccb9bcd1bfcd37b1e1",
            "value": "special_tokens_map.json: 100%"
          }
        },
        "fde4985e631c43d4b785b7fb84b38d1a": {
          "model_module": "@jupyter-widgets/controls",
          "model_module_version": "1.5.0",
          "model_name": "HTMLModel",
          "state": {
            "_dom_classes": [],
            "_model_module": "@jupyter-widgets/controls",
            "_model_module_version": "1.5.0",
            "_model_name": "HTMLModel",
            "_view_count": null,
            "_view_module": "@jupyter-widgets/controls",
            "_view_module_version": "1.5.0",
            "_view_name": "HTMLView",
            "description": "",
            "description_tooltip": null,
            "layout": "IPY_MODEL_93213f728404408287171abecb5687cc",
            "placeholder": "​",
            "style": "IPY_MODEL_31ca5c2c6abd43629dbc68cbcf4905bf",
            "value": "100%"
          }
        },
        "ff5d37901cfe481b8752f4fe7fe3a5a7": {
          "model_module": "@jupyter-widgets/controls",
          "model_module_version": "1.5.0",
          "model_name": "HTMLModel",
          "state": {
            "_dom_classes": [],
            "_model_module": "@jupyter-widgets/controls",
            "_model_module_version": "1.5.0",
            "_model_name": "HTMLModel",
            "_view_count": null,
            "_view_module": "@jupyter-widgets/controls",
            "_view_module_version": "1.5.0",
            "_view_name": "HTMLView",
            "description": "",
            "description_tooltip": null,
            "layout": "IPY_MODEL_eb6d1e4545bd400586ad84b4f11c53fe",
            "placeholder": "​",
            "style": "IPY_MODEL_16b2018599fe47d0a07e637832ca2962",
            "value": "Epoch:   0%"
          }
        },
        "ff6efb03db704fb8a04bf3a50c72a1c8": {
          "model_module": "@jupyter-widgets/base",
          "model_module_version": "1.2.0",
          "model_name": "LayoutModel",
          "state": {
            "_model_module": "@jupyter-widgets/base",
            "_model_module_version": "1.2.0",
            "_model_name": "LayoutModel",
            "_view_count": null,
            "_view_module": "@jupyter-widgets/base",
            "_view_module_version": "1.2.0",
            "_view_name": "LayoutView",
            "align_content": null,
            "align_items": null,
            "align_self": null,
            "border": null,
            "bottom": null,
            "display": null,
            "flex": null,
            "flex_flow": null,
            "grid_area": null,
            "grid_auto_columns": null,
            "grid_auto_flow": null,
            "grid_auto_rows": null,
            "grid_column": null,
            "grid_gap": null,
            "grid_row": null,
            "grid_template_areas": null,
            "grid_template_columns": null,
            "grid_template_rows": null,
            "height": null,
            "justify_content": null,
            "justify_items": null,
            "left": null,
            "margin": null,
            "max_height": null,
            "max_width": null,
            "min_height": null,
            "min_width": null,
            "object_fit": null,
            "object_position": null,
            "order": null,
            "overflow": null,
            "overflow_x": null,
            "overflow_y": null,
            "padding": null,
            "right": null,
            "top": null,
            "visibility": null,
            "width": null
          }
        }
      }
    }
  },
  "nbformat": 4,
  "nbformat_minor": 0
}